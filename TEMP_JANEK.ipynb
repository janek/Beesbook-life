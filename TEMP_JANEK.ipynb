{
 "cells": [
  {
   "cell_type": "code",
   "execution_count": 1,
   "metadata": {},
   "outputs": [
    {
     "name": "stderr",
     "output_type": "stream",
     "text": [
      "/usr/local/lib/python3.5/dist-packages/psycopg2/__init__.py:144: UserWarning: The psycopg2 wheel package will be renamed from release 2.8; in order to keep installing from binary please use \"pip install psycopg2-binary\" instead. For details see: <http://initd.org/psycopg/docs/install.html#binary-install-from-pypi>.\n",
      "  \"\"\")\n"
     ]
    }
   ],
   "source": [
    "%matplotlib inline\n",
    "\n",
    "import matplotlib.pyplot as plt\n",
    "import matplotlib\n",
    "import math\n",
    "import seaborn as sns\n",
    "import numpy as np\n",
    "import pandas as pd\n",
    "import psycopg2\n",
    "import psycopg2.extras\n",
    "from datetime import timedelta, datetime\n",
    "from bee_helpers import detections_to_presence, calc_trip_lengths, get_forager_bee_ids, get_rand_bee_ids\n",
    "import time\n",
    "\n",
    "import bb_utils\n",
    "import bb_utils.meta\n",
    "import bb_utils.ids\n",
    "import bb_backend\n",
    "from bb_backend.api import FramePlotter, VideoPlotter\n",
    "from bb_backend.api import get_plot_coordinates, transform_axis_coordinates, get_image_origin\n",
    "\n",
    "bb_backend.api.server_adress = 'localhost:8000'\n",
    "connect_str = \"\"\"dbname='beesbook' user='reader' host='tonic.imp.fu-berlin.de' \n",
    "                 password='' application_name='mehmed'\"\"\"\n",
    "\n",
    "meta = bb_utils.meta.BeeMetaInfo()\n",
    "meta1 = bb_utils.meta"
   ]
  },
  {
   "cell_type": "code",
   "execution_count": 2,
   "metadata": {},
   "outputs": [],
   "source": [
    "#Getting a known forager group from manual labeling experiments\n",
    "(bee_ids_as_ferwar_format, bee_ids_as_beesbookid_format) = get_forager_bee_ids()"
   ]
  },
  {
   "cell_type": "code",
   "execution_count": 18,
   "metadata": {},
   "outputs": [],
   "source": [
    "#Calculate the ages for each bee of the forager group\n",
    "bee_bdays = [] \n",
    "\n",
    "min_bday = None\n",
    "max_bday = None \n",
    "\n",
    "for id in bee_ids_as_beesbookid_format:\n",
    "    curr_bday = meta.get_hatchdate(id)\n",
    "    if min_bday == None or curr_bday < min_bday:\n",
    "        min_bday = curr_bday\n",
    "    if max_bday == None or curr_bday > max_bday:\n",
    "        max_bday = curr_bday\n",
    "\n",
    "bee_bdays.append(curr_bday)\n",
    "\n",
    "#The period-of-interest is from the birthday of the first bee to the birth of the last one + 50 days \n",
    "#(a period in which any of the listed bees could have had flights)\n",
    "enddate = max_bday + timedelta(days=50)"
   ]
  },
  {
   "cell_type": "code",
   "execution_count": null,
   "metadata": {},
   "outputs": [],
   "source": [
    "#Iterate over each day\n",
    "#On that day, count up the nr of flights\n",
    "#Doesn't matter what age they were on that day, we have their bdays stored\n",
    "\n",
    "\n"
   ]
  }
 ],
 "metadata": {
  "kernelspec": {
   "display_name": "Python 3",
   "language": "python",
   "name": "python3"
  },
  "language_info": {
   "codemirror_mode": {
    "name": "ipython",
    "version": 3
   },
   "file_extension": ".py",
   "mimetype": "text/x-python",
   "name": "python",
   "nbconvert_exporter": "python",
   "pygments_lexer": "ipython3",
   "version": "3.5.2"
  }
 },
 "nbformat": 4,
 "nbformat_minor": 2
}
