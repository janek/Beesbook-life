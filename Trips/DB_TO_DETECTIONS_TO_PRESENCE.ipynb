{
 "cells": [
  {
   "cell_type": "code",
   "execution_count": 1,
   "metadata": {},
   "outputs": [
    {
     "name": "stderr",
     "output_type": "stream",
     "text": [
      "/usr/local/lib/python3.5/dist-packages/psycopg2/__init__.py:144: UserWarning: The psycopg2 wheel package will be renamed from release 2.8; in order to keep installing from binary please use \"pip install psycopg2-binary\" instead. For details see: <http://initd.org/psycopg/docs/install.html#binary-install-from-pypi>.\n",
      "  \"\"\")\n"
     ]
    }
   ],
   "source": [
    "from bee_helpers import calc_trip_lengths, get_forager_bee_ids, get_random_bee_ids, get_all_bee_ids\n",
    "from file_helpers import delete_detection_caches_for_date, detections_to_presence, detections_to_presence_locations, create_presence_cache_filename, create_presence_cache_filename, cache_location_prefix, cache_detections_from_database, detections_to_presence_locations_front, detections_to_presence_locations_back, cache_death_dates, last_days_caches, calculate_bee_lifespan\n",
    "from datetime import timedelta, datetime\n",
    "from pathlib import Path"
   ]
  },
  {
   "cell_type": "code",
   "execution_count": 2,
   "metadata": {},
   "outputs": [],
   "source": [
    "experiment_start_day = datetime(2016, 7, 20) # TODO: those are dates of first and last detections\n",
    "experiment_end_day = datetime(2016, 9, 19)   # consider making the period smaller\n",
    "\n",
    "datetime_start = datetime(2016, 9, 19)\n",
    "num_days_to_process = 1\n",
    "number_last_days = 2"
   ]
  },
  {
   "cell_type": "code",
   "execution_count": 3,
   "metadata": {},
   "outputs": [],
   "source": [
    "observ_period = timedelta(hours=1)\n",
    "num_observ_periods = 24 #hours in day\n",
    "detection_confidence_requirement = 0.99 #note: 0.99 is pretty high\n",
    "num_intervals_per_hour = 60\n",
    "\n",
    "#obsolete?\n",
    "location_prefix = '/mnt/storage/janek/caches/Detections/'"
   ]
  },
  {
   "cell_type": "code",
   "execution_count": 4,
   "metadata": {},
   "outputs": [],
   "source": [
    "# Choose a subset of bees to analyze (e.g. all of them)\n",
    "(bee_ids_as_ferwar_format, bee_ids_as_beesbookid_format) = get_all_bee_ids()"
   ]
  },
  {
   "cell_type": "code",
   "execution_count": 5,
   "metadata": {},
   "outputs": [],
   "source": [
    "force_refresh = True\n",
    "\n",
    "for i in range(num_days_to_process):\n",
    "    start_day = datetime_start+timedelta(days=i)\n",
    "   \n",
    "    if (start_day < experiment_start_day):\n",
    "        print(start_day, \" is before expertiment start day (\", experiment_start_day, \"), skipping!\")\n",
    "        continue\n",
    "\n",
    "    if (start_day > experiment_end_day):\n",
    "        print(start_day, \" is after expertiment end day (\", experiment_end_day, \"), quitting!\")\n",
    "        break\n",
    "\n",
    "    \n",
    "    (csv_name, csv_path) = create_presence_cache_filename(num_observ_periods, start_day, num_intervals_per_hour)\n",
    "    file = Path(csv_path)\n",
    "    \n",
    "    if (file.exists() and force_refresh==False):\n",
    "        print(\"File \"+ csv_name + \" already exists, moving on\")\n",
    "        continue\n",
    "    \n",
    "    \n",
    "    #cache_detections_from_database(start_day, observ_period, num_observ_periods, detection_confidence_requirement)\n",
    "    #detections_to_presence(num_observ_periods, start_day, num_intervals_per_hour, bee_ids_as_ferwar_format)\n",
    "    #detections_to_presence_locations(num_observ_periods, start_day, num_intervals_per_hour, bee_ids_as_ferwar_format)\n",
    "    #detections_to_presence_locations_front(num_observ_periods, start_day, num_intervals_per_hour, bee_ids_as_ferwar_format)\n",
    "    #detections_to_presence_locations_back(num_observ_periods, start_day, num_intervals_per_hour, bee_ids_as_ferwar_format)\n",
    "    #delete_detection_caches_for_date(start_day.strftime(\"%Y-%m-%d\")) "
   ]
  },
  {
   "cell_type": "markdown",
   "metadata": {},
   "source": [
    "### Creating a table with the death dates for the bees (by saving the last day alive for each one)"
   ]
  },
  {
   "cell_type": "code",
   "execution_count": 6,
   "metadata": {},
   "outputs": [
    {
     "name": "stdout",
     "output_type": "stream",
     "text": [
      "Loading bee alive states\n",
      "Saved last day alive for all bees\n"
     ]
    }
   ],
   "source": [
    "# Creating the last_day_alive file for the bees. Should not be required to run again unless the file got lost.\n",
    "cache_death_dates()"
   ]
  },
  {
   "cell_type": "markdown",
   "metadata": {},
   "source": [
    "### Creating \"2 days before death\" tables for all cached files"
   ]
  },
  {
   "cell_type": "code",
   "execution_count": null,
   "metadata": {},
   "outputs": [],
   "source": [
    "last_days_caches(num_observ_periods, num_intervals_per_hour, number_last_days)"
   ]
  },
  {
   "cell_type": "code",
   "execution_count": 2,
   "metadata": {},
   "outputs": [
    {
     "name": "stdout",
     "output_type": "stream",
     "text": [
      "      id  life_span\n",
      "0      2       54.0\n",
      "0      4       57.0\n",
      "0      5        NaN\n",
      "0      8       49.0\n",
      "0      9       39.0\n",
      "0     10       50.0\n",
      "0     16       35.0\n",
      "0     17       47.0\n",
      "0     20        NaN\n",
      "0     21       56.0\n",
      "0     22       40.0\n",
      "0     24       34.0\n",
      "0     29       40.0\n",
      "0     30        NaN\n",
      "0     33       50.0\n",
      "0     34       34.0\n",
      "0     37       36.0\n",
      "0     38       37.0\n",
      "0     39       58.0\n",
      "0     40       35.0\n",
      "0     43       39.0\n",
      "0     44       42.0\n",
      "0     46       48.0\n",
      "0     49       43.0\n",
      "0     52       35.0\n",
      "0     53       40.0\n",
      "0     54        NaN\n",
      "0     55        NaN\n",
      "0     56       45.0\n",
      "0     57       42.0\n",
      "..   ...        ...\n",
      "0   4006        NaN\n",
      "0   4010        NaN\n",
      "0   4012        NaN\n",
      "0   4015        NaN\n",
      "0   4017        NaN\n",
      "0   4018        NaN\n",
      "0   4020        NaN\n",
      "0   4021        NaN\n",
      "0   4022        NaN\n",
      "0   4026        NaN\n",
      "0   4033        NaN\n",
      "0   4034        NaN\n",
      "0   4036        NaN\n",
      "0   4037        NaN\n",
      "0   4042        NaN\n",
      "0   4046        NaN\n",
      "0   4048        NaN\n",
      "0   4050        NaN\n",
      "0   4052        NaN\n",
      "0   4055        NaN\n",
      "0   4056        NaN\n",
      "0   4058        NaN\n",
      "0   4061        NaN\n",
      "0   4062        NaN\n",
      "0   4063        NaN\n",
      "0   4064        NaN\n",
      "0   4068        NaN\n",
      "0   4073        NaN\n",
      "0   4078        NaN\n",
      "0   4092        NaN\n",
      "\n",
      "[2985 rows x 2 columns]\n"
     ]
    }
   ],
   "source": [
    "calculate_bee_lifespan()"
   ]
  },
  {
   "cell_type": "code",
   "execution_count": null,
   "metadata": {},
   "outputs": [],
   "source": []
  }
 ],
 "metadata": {
  "kernelspec": {
   "display_name": "Python 3",
   "language": "python",
   "name": "python3"
  },
  "language_info": {
   "codemirror_mode": {
    "name": "ipython",
    "version": 3
   },
   "file_extension": ".py",
   "mimetype": "text/x-python",
   "name": "python",
   "nbconvert_exporter": "python",
   "pygments_lexer": "ipython3",
   "version": "3.5.2"
  }
 },
 "nbformat": 4,
 "nbformat_minor": 2
}
