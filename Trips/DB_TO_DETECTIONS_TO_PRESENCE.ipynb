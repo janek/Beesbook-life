{
 "cells": [
  {
   "cell_type": "code",
   "execution_count": 10,
   "metadata": {},
   "outputs": [],
   "source": [
    "import sys \n",
    "sys.path.append('../Python-modules/') #For bee_helpers and file_helpers \n",
    "from bee_helpers import calc_trip_lengths, get_forager_bee_ids, get_random_bee_ids, get_all_bee_ids\n",
    "from file_helpers import delete_detection_caches_for_date, detections_to_presence, detections_to_presence_locations, create_presence_cache_filename, create_presence_cache_filename, cache_location_prefix, cache_detections_from_database, detections_to_presence_locations_front, detections_to_presence_locations_back, cache_death_dates, last_days_caches\n",
    "from datetime import timedelta, datetime\n",
    "from pathlib import Path\n"
   ]
  },
  {
   "cell_type": "code",
   "execution_count": 11,
   "metadata": {},
   "outputs": [],
   "source": [
    "experiment_start_day = datetime(2016, 7, 20) # TODO: those are dates of first and last detections\n",
    "experiment_end_day = datetime(2016, 9, 19)   # consider making the period smaller\n",
    "\n",
    "datetime_start = datetime(2016, 7, 25)\n",
    "num_days_to_process = 2\n",
    "number_last_days = 2"
   ]
  },
  {
   "cell_type": "code",
   "execution_count": 7,
   "metadata": {},
   "outputs": [],
   "source": [
    "observ_period = timedelta(hours=1)\n",
    "num_observ_periods = 24 #hours in day\n",
    "detection_confidence_requirement = 0.7 #note: 0.99 is pretty high\n",
    "num_intervals_per_hour = 30"
   ]
  },
  {
   "cell_type": "code",
   "execution_count": 8,
   "metadata": {},
   "outputs": [],
   "source": [
    "# Choose a subset of bees to analyze (e.g. all of them)\n",
    "(bee_ids_as_ferwar_format, bee_ids_as_beesbookid_format) = get_all_bee_ids()\n",
    "start_day = datetime_start"
   ]
  },
  {
   "cell_type": "code",
   "execution_count": null,
   "metadata": {},
   "outputs": [
    {
     "name": "stderr",
     "output_type": "stream",
     "text": [
      "  0%|          | 0/24 [00:00<?, ?it/s]"
     ]
    },
    {
     "name": "stdout",
     "output_type": "stream",
     "text": [
      "Beginning at 2016-07-25 00:00:00\n",
      "Saving to /home/mi/rrszynka/mnt/janek/caches/Detections/\n"
     ]
    },
    {
     "name": "stderr",
     "output_type": "stream",
     "text": [
      " 67%|██████▋   | 16/24 [35:54<17:57, 134.63s/it]"
     ]
    }
   ],
   "source": [
    "cache_detections_from_database(start_day, observ_period, num_observ_periods, detection_confidence_requirement)    "
   ]
  },
  {
   "cell_type": "code",
   "execution_count": null,
   "metadata": {},
   "outputs": [
    {
     "name": "stderr",
     "output_type": "stream",
     "text": [
      "100%|██████████| 24/24 [00:00<00:00, 8520.68it/s]\n",
      "  0%|          | 0/24 [00:00<?, ?it/s]"
     ]
    },
    {
     "name": "stdout",
     "output_type": "stream",
     "text": [
      "Beginning at 2016-07-25 00:00:00\n",
      "Saving to /home/mi/rrszynka/mnt/janek/caches/Detections/\n",
      "File DETECTIONS-2016-07-25_00:00:00_conf_0.csv already exists, dropping\n",
      "File DETECTIONS-2016-07-25_01:00:00_conf_0.csv already exists, dropping\n",
      "File DETECTIONS-2016-07-25_02:00:00_conf_0.csv already exists, dropping\n",
      "File DETECTIONS-2016-07-25_03:00:00_conf_0.csv already exists, dropping\n",
      "File DETECTIONS-2016-07-25_04:00:00_conf_0.csv already exists, dropping\n",
      "File DETECTIONS-2016-07-25_05:00:00_conf_0.csv already exists, dropping\n",
      "File DETECTIONS-2016-07-25_06:00:00_conf_0.csv already exists, dropping\n",
      "File DETECTIONS-2016-07-25_07:00:00_conf_0.csv already exists, dropping\n",
      "File DETECTIONS-2016-07-25_08:00:00_conf_0.csv already exists, dropping\n",
      "File DETECTIONS-2016-07-25_09:00:00_conf_0.csv already exists, dropping\n",
      "File DETECTIONS-2016-07-25_10:00:00_conf_0.csv already exists, dropping\n",
      "File DETECTIONS-2016-07-25_11:00:00_conf_0.csv already exists, dropping\n",
      "File DETECTIONS-2016-07-25_12:00:00_conf_0.csv already exists, dropping\n",
      "File DETECTIONS-2016-07-25_13:00:00_conf_0.csv already exists, dropping\n",
      "File DETECTIONS-2016-07-25_14:00:00_conf_0.csv already exists, dropping\n",
      "File DETECTIONS-2016-07-25_15:00:00_conf_0.csv already exists, dropping\n",
      "File DETECTIONS-2016-07-25_16:00:00_conf_0.csv already exists, dropping\n",
      "File DETECTIONS-2016-07-25_17:00:00_conf_0.csv already exists, dropping\n",
      "File DETECTIONS-2016-07-25_18:00:00_conf_0.csv already exists, dropping\n",
      "File DETECTIONS-2016-07-25_19:00:00_conf_0.csv already exists, dropping\n",
      "File DETECTIONS-2016-07-25_20:00:00_conf_0.csv already exists, dropping\n",
      "File DETECTIONS-2016-07-25_21:00:00_conf_0.csv already exists, dropping\n",
      "File DETECTIONS-2016-07-25_22:00:00_conf_0.csv already exists, dropping\n",
      "File DETECTIONS-2016-07-25_23:00:00_conf_0.csv already exists, dropping\n",
      "Processing DETECTIONS-2016-07-25_00:00:00_conf_0.csv\n"
     ]
    },
    {
     "name": "stderr",
     "output_type": "stream",
     "text": [
      "  4%|▍         | 1/24 [00:35<13:45, 35.87s/it]"
     ]
    },
    {
     "name": "stdout",
     "output_type": "stream",
     "text": [
      "Processing DETECTIONS-2016-07-25_01:00:00_conf_0.csv\n"
     ]
    },
    {
     "name": "stderr",
     "output_type": "stream",
     "text": [
      "  8%|▊         | 2/24 [01:20<14:41, 40.05s/it]"
     ]
    },
    {
     "name": "stdout",
     "output_type": "stream",
     "text": [
      "Processing DETECTIONS-2016-07-25_02:00:00_conf_0.csv\n"
     ]
    }
   ],
   "source": [
    "force_refresh = True\n",
    "\n",
    "for i in range(num_days_to_process):\n",
    "    start_day = datetime_start+timedelta(days=i)\n",
    "   \n",
    "    if (start_day < experiment_start_day):\n",
    "        print(start_day, \" is before expertiment start day (\", experiment_start_day, \"), skipping!\")\n",
    "        continue\n",
    "\n",
    "    if (start_day > experiment_end_day):\n",
    "        print(start_day, \" is after expertiment end day (\", experiment_end_day, \"), quitting!\")\n",
    "        break\n",
    "\n",
    "    \n",
    "    (csv_name, csv_path) = create_presence_cache_filename(num_observ_periods, start_day, num_intervals_per_hour)\n",
    "    presence_file = Path(csv_path)\n",
    "    \n",
    "    \n",
    "#     if (presence_file.exists() and force_refresh==False):\n",
    "#         print(\"File \"+ csv_name + \" already exists, moving on\")\n",
    "#         continue\n",
    "    \n",
    "    \n",
    "    cache_detections_from_database(start_day, observ_period, num_observ_periods, detection_confidence_requirement)    \n",
    "    detections_to_presence(num_observ_periods, start_day, num_intervals_per_hour, bee_ids_as_ferwar_format)"
   ]
  },
  {
   "cell_type": "code",
   "execution_count": null,
   "metadata": {},
   "outputs": [],
   "source": [
    "for i in range(num_days_to_process):\n",
    "    cache_detections_from_database(start_day, observ_period, num_observ_periods, detection_confidence_requirement)    \n",
    "    detections_to_presence(num_observ_periods, start_day, num_intervals_per_hour, bee_ids_as_ferwar_format)\n",
    "    detections_to_presence_locations(num_observ_periods, start_day, num_intervals_per_hour, bee_ids_as_ferwar_format)\n",
    "    detections_to_presence_locations_front(num_observ_periods, start_day, num_intervals_per_hour, bee_ids_as_ferwar_format)\n",
    "    detections_to_presence_locations_back(num_observ_periods, start_day, num_intervals_per_hour, bee_ids_as_ferwar_format)\n",
    "    delete_detection_caches_for_date(start_day.strftime(\"%Y-%m-%d\")) "
   ]
  },
  {
   "cell_type": "code",
   "execution_count": null,
   "metadata": {},
   "outputs": [],
   "source": [
    "force_refresh = False\n",
    "\n",
    "for i in range(num_days_to_process):\n",
    "    start_day = datetime_start+timedelta(days=i)\n",
    "   \n",
    "    if (start_day < experiment_start_day):\n",
    "        print(start_day, \" is before expertiment start day (\", experiment_start_day, \"), skipping!\")\n",
    "        continue\n",
    "\n",
    "    if (start_day > experiment_end_day):\n",
    "        print(start_day, \" is after expertiment end day (\", experiment_end_day, \"), quitting!\")\n",
    "        break\n",
    "\n",
    "    \n",
    "    (csv_name, csv_path) = create_presence_cache_filename(num_observ_periods, start_day, num_intervals_per_hour)\n",
    "    presence_file = Path(csv_path)\n",
    "    \n",
    "    #TODO: do the same for Detections \n",
    "    \n",
    "    if (presence_file.exists() and force_refresh==False):\n",
    "        print(\"File \"+ csv_name + \" already exists, moving on\")\n",
    "        continue\n",
    "    \n",
    "    \n",
    "    cache_detections_from_database(start_day, observ_period, num_observ_periods, detection_confidence_requirement)    \n",
    "    detections_to_presence(num_observ_periods, start_day, num_intervals_per_hour, bee_ids_as_ferwar_format)\n",
    "    detections_to_presence_locations(num_observ_periods, start_day, num_intervals_per_hour, bee_ids_as_ferwar_format)\n",
    "    detections_to_presence_locations_front(num_observ_periods, start_day, num_intervals_per_hour, bee_ids_as_ferwar_format)\n",
    "    detections_to_presence_locations_back(num_observ_periods, start_day, num_intervals_per_hour, bee_ids_as_ferwar_format)\n",
    "    delete_detection_caches_for_date(start_day.strftime(\"%Y-%m-%d\")) "
   ]
  },
  {
   "cell_type": "markdown",
   "metadata": {},
   "source": [
    "### Creating a table with the death dates for the bees (by saving the last day alive for each one)"
   ]
  },
  {
   "cell_type": "code",
   "execution_count": null,
   "metadata": {},
   "outputs": [],
   "source": [
    "# Creating the last_day_alive file for the bees. Should not be required to run again unless the file got lost.\n",
    "cache_death_dates()"
   ]
  },
  {
   "cell_type": "markdown",
   "metadata": {},
   "source": [
    "### Creating \"2 days before death\" tables for all cached files"
   ]
  },
  {
   "cell_type": "code",
   "execution_count": null,
   "metadata": {},
   "outputs": [],
   "source": [
    "last_days_caches(num_observ_periods, num_intervals_per_hour, number_last_days)"
   ]
  },
  {
   "cell_type": "code",
   "execution_count": null,
   "metadata": {},
   "outputs": [],
   "source": [
    "# calculate_bee_lifespan()"
   ]
  },
  {
   "cell_type": "code",
   "execution_count": null,
   "metadata": {},
   "outputs": [],
   "source": []
  }
 ],
 "metadata": {
  "kernelspec": {
   "display_name": "Python 3",
   "language": "python",
   "name": "python3"
  },
  "language_info": {
   "codemirror_mode": {
    "name": "ipython",
    "version": 3
   },
   "file_extension": ".py",
   "mimetype": "text/x-python",
   "name": "python",
   "nbconvert_exporter": "python",
   "pygments_lexer": "ipython3",
   "version": "3.5.2"
  }
 },
 "nbformat": 4,
 "nbformat_minor": 2
}
