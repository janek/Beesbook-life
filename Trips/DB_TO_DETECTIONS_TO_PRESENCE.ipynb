{
 "cells": [
  {
   "cell_type": "code",
   "execution_count": 1,
   "metadata": {},
   "outputs": [
    {
     "name": "stdout",
     "output_type": "stream",
     "text": [
      "/home/mi/rrszynka/mnt/janek/Beesbook-life/Trips\n"
     ]
    },
    {
     "name": "stderr",
     "output_type": "stream",
     "text": [
      "/usr/local/lib/python3.5/dist-packages/psycopg2/__init__.py:144: UserWarning: The psycopg2 wheel package will be renamed from release 2.8; in order to keep installing from binary please use \"pip install psycopg2-binary\" instead. For details see: <http://initd.org/psycopg/docs/install.html#binary-install-from-pypi>.\n",
      "  \"\"\")\n"
     ]
    }
   ],
   "source": [
    "import sys \n",
    "sys.path.append('../Python-modules/') #For bee_helpers and file_helpers \n",
    "from bee_helpers import calc_trip_lengths, get_forager_bee_ids, get_random_bee_ids, get_all_bee_ids\n",
    "from file_helpers import delete_detection_caches_for_date, detections_to_presence, detections_to_presence_locations, create_presence_cache_filename, create_presence_cache_filename, cache_location_prefix, cache_detections_from_database, detections_to_presence_locations_front, detections_to_presence_locations_back, cache_death_dates, last_days_caches\n",
    "from datetime import timedelta, datetime\n",
    "from pathlib import Path"
   ]
  },
  {
   "cell_type": "code",
   "execution_count": 2,
   "metadata": {},
   "outputs": [],
   "source": [
    "experiment_start_day = datetime(2016, 7, 20) # TODO: those are dates of first and last detections\n",
    "experiment_end_day = datetime(2016, 9, 19)   # consider making the period smaller\n",
    "\n",
    "datetime_start = datetime(2016, 7, 24)\n",
    "num_days_to_process = 2\n",
    "number_last_days = 2"
   ]
  },
  {
   "cell_type": "code",
   "execution_count": 3,
   "metadata": {},
   "outputs": [],
   "source": [
    "observ_period = timedelta(hours=1)\n",
    "num_observ_periods = 24 #hours in day\n",
    "detection_confidence_requirement = 0.99 #note: 0.99 is pretty high\n",
    "num_intervals_per_hour = 60"
   ]
  },
  {
   "cell_type": "code",
   "execution_count": 4,
   "metadata": {},
   "outputs": [],
   "source": [
    "# Choose a subset of bees to analyze (e.g. all of them)\n",
    "(bee_ids_as_ferwar_format, bee_ids_as_beesbookid_format) = get_all_bee_ids()"
   ]
  },
  {
   "cell_type": "code",
   "execution_count": null,
   "metadata": {},
   "outputs": [
    {
     "name": "stderr",
     "output_type": "stream",
     "text": [
      "  0%|          | 0/24 [00:00<?, ?it/s]"
     ]
    },
    {
     "name": "stdout",
     "output_type": "stream",
     "text": [
      "Beginning at 2016-07-24 00:00:00\n",
      "File 2016-07-24_00:00:00.csv already exists, dropping\n",
      "File 2016-07-24_01:00:00.csv already exists, dropping\n",
      "Getting hour #2, beginning at 2016-07-24_02:00:00\n",
      "Getting the data took: 0:00:57\n"
     ]
    },
    {
     "name": "stderr",
     "output_type": "stream",
     "text": [
      " 12%|█▎        | 3/24 [01:40<11:46, 33.65s/it]"
     ]
    },
    {
     "name": "stdout",
     "output_type": "stream",
     "text": [
      "Saving the csv took: 0:00:43\n",
      "Getting hour #3, beginning at 2016-07-24_03:00:00\n",
      "Getting the data took: 0:01:00\n"
     ]
    },
    {
     "name": "stderr",
     "output_type": "stream",
     "text": [
      " 17%|█▋        | 4/24 [03:28<17:24, 52.24s/it]"
     ]
    },
    {
     "name": "stdout",
     "output_type": "stream",
     "text": [
      "Saving the csv took: 0:00:46\n",
      "Getting hour #4, beginning at 2016-07-24_04:00:00\n",
      "Getting the data took: 0:00:55\n"
     ]
    },
    {
     "name": "stderr",
     "output_type": "stream",
     "text": [
      " 21%|██        | 5/24 [05:17<20:08, 63.59s/it]"
     ]
    },
    {
     "name": "stdout",
     "output_type": "stream",
     "text": [
      "Saving the csv took: 0:00:50\n",
      "Getting hour #5, beginning at 2016-07-24_05:00:00\n",
      "Getting the data took: 0:00:57\n"
     ]
    },
    {
     "name": "stderr",
     "output_type": "stream",
     "text": [
      " 25%|██▌       | 6/24 [07:00<21:00, 70.04s/it]"
     ]
    },
    {
     "name": "stdout",
     "output_type": "stream",
     "text": [
      "Saving the csv took: 0:00:41\n",
      "Getting hour #6, beginning at 2016-07-24_06:00:00\n",
      "Getting the data took: 0:00:58\n"
     ]
    },
    {
     "name": "stderr",
     "output_type": "stream",
     "text": [
      " 29%|██▉       | 7/24 [08:56<21:42, 76.64s/it]"
     ]
    },
    {
     "name": "stdout",
     "output_type": "stream",
     "text": [
      "Saving the csv took: 0:00:54\n",
      "Getting hour #7, beginning at 2016-07-24_07:00:00\n",
      "Getting the data took: 0:00:58\n"
     ]
    },
    {
     "name": "stderr",
     "output_type": "stream",
     "text": [
      " 33%|███▎      | 8/24 [10:41<21:23, 80.22s/it]"
     ]
    },
    {
     "name": "stdout",
     "output_type": "stream",
     "text": [
      "Saving the csv took: 0:00:42\n",
      "Getting hour #8, beginning at 2016-07-24_08:00:00\n",
      "Getting the data took: 0:00:57\n"
     ]
    },
    {
     "name": "stderr",
     "output_type": "stream",
     "text": [
      " 38%|███▊      | 9/24 [12:37<21:02, 84.17s/it]"
     ]
    },
    {
     "name": "stdout",
     "output_type": "stream",
     "text": [
      "Saving the csv took: 0:00:54\n",
      "Getting hour #9, beginning at 2016-07-24_09:00:00\n",
      "Getting the data took: 0:01:04\n"
     ]
    },
    {
     "name": "stderr",
     "output_type": "stream",
     "text": [
      " 42%|████▏     | 10/24 [14:39<20:31, 87.95s/it]"
     ]
    },
    {
     "name": "stdout",
     "output_type": "stream",
     "text": [
      "Saving the csv took: 0:00:54\n",
      "Getting hour #10, beginning at 2016-07-24_10:00:00\n",
      "Getting the data took: 0:01:00\n"
     ]
    },
    {
     "name": "stderr",
     "output_type": "stream",
     "text": [
      " 46%|████▌     | 11/24 [16:38<19:39, 90.74s/it]"
     ]
    },
    {
     "name": "stdout",
     "output_type": "stream",
     "text": [
      "Saving the csv took: 0:00:54\n",
      "Getting hour #11, beginning at 2016-07-24_11:00:00\n",
      "Getting the data took: 0:00:58\n"
     ]
    },
    {
     "name": "stderr",
     "output_type": "stream",
     "text": [
      " 50%|█████     | 12/24 [18:33<18:33, 92.76s/it]"
     ]
    },
    {
     "name": "stdout",
     "output_type": "stream",
     "text": [
      "Saving the csv took: 0:00:53\n",
      "Getting hour #12, beginning at 2016-07-24_12:00:00\n",
      "Getting the data took: 0:00:53\n"
     ]
    },
    {
     "name": "stderr",
     "output_type": "stream",
     "text": [
      " 54%|█████▍    | 13/24 [20:19<17:11, 93.78s/it]"
     ]
    },
    {
     "name": "stdout",
     "output_type": "stream",
     "text": [
      "Saving the csv took: 0:00:49\n",
      "Getting hour #13, beginning at 2016-07-24_13:00:00\n",
      "Getting the data took: 0:00:58\n"
     ]
    },
    {
     "name": "stderr",
     "output_type": "stream",
     "text": [
      " 58%|█████▊    | 14/24 [22:16<15:54, 95.43s/it]"
     ]
    },
    {
     "name": "stdout",
     "output_type": "stream",
     "text": [
      "Saving the csv took: 0:00:56\n",
      "Getting hour #14, beginning at 2016-07-24_14:00:00\n",
      "Getting the data took: 0:00:55\n"
     ]
    },
    {
     "name": "stderr",
     "output_type": "stream",
     "text": [
      " 62%|██████▎   | 15/24 [24:07<14:28, 96.49s/it]"
     ]
    },
    {
     "name": "stdout",
     "output_type": "stream",
     "text": [
      "Saving the csv took: 0:00:50\n",
      "Getting hour #15, beginning at 2016-07-24_15:00:00\n",
      "Getting the data took: 0:00:54\n"
     ]
    },
    {
     "name": "stderr",
     "output_type": "stream",
     "text": [
      " 67%|██████▋   | 16/24 [25:56<12:58, 97.27s/it]"
     ]
    },
    {
     "name": "stdout",
     "output_type": "stream",
     "text": [
      "Saving the csv took: 0:00:50\n",
      "Getting hour #16, beginning at 2016-07-24_16:00:00\n",
      "Getting the data took: 0:00:53\n"
     ]
    },
    {
     "name": "stderr",
     "output_type": "stream",
     "text": [
      " 71%|███████   | 17/24 [27:42<11:24, 97.79s/it]"
     ]
    },
    {
     "name": "stdout",
     "output_type": "stream",
     "text": [
      "Saving the csv took: 0:00:49\n",
      "Getting hour #17, beginning at 2016-07-24_17:00:00\n",
      "Getting the data took: 0:00:51\n"
     ]
    },
    {
     "name": "stderr",
     "output_type": "stream",
     "text": [
      " 75%|███████▌  | 18/24 [29:15<09:45, 97.51s/it]"
     ]
    },
    {
     "name": "stdout",
     "output_type": "stream",
     "text": [
      "Saving the csv took: 0:00:38\n",
      "Getting hour #18, beginning at 2016-07-24_18:00:00\n",
      "Getting the data took: 0:00:50\n"
     ]
    },
    {
     "name": "stderr",
     "output_type": "stream",
     "text": [
      " 79%|███████▉  | 19/24 [31:00<08:09, 97.90s/it]"
     ]
    },
    {
     "name": "stdout",
     "output_type": "stream",
     "text": [
      "Saving the csv took: 0:00:49\n",
      "Getting hour #19, beginning at 2016-07-24_19:00:00\n",
      "Getting the data took: 0:00:49\n"
     ]
    },
    {
     "name": "stderr",
     "output_type": "stream",
     "text": [
      " 83%|████████▎ | 20/24 [32:38<06:31, 97.94s/it]"
     ]
    },
    {
     "name": "stdout",
     "output_type": "stream",
     "text": [
      "Saving the csv took: 0:00:48\n",
      "Getting hour #20, beginning at 2016-07-24_20:00:00\n",
      "Getting the data took: 0:00:51\n"
     ]
    },
    {
     "name": "stderr",
     "output_type": "stream",
     "text": [
      " 88%|████████▊ | 21/24 [34:12<04:53, 97.72s/it]"
     ]
    },
    {
     "name": "stdout",
     "output_type": "stream",
     "text": [
      "Saving the csv took: 0:00:39\n",
      "Getting hour #21, beginning at 2016-07-24_21:00:00\n",
      "Getting the data took: 0:00:49\n"
     ]
    },
    {
     "name": "stderr",
     "output_type": "stream",
     "text": [
      " 92%|█████████▏| 22/24 [35:55<03:15, 97.99s/it]"
     ]
    },
    {
     "name": "stdout",
     "output_type": "stream",
     "text": [
      "Saving the csv took: 0:00:47\n",
      "Getting hour #22, beginning at 2016-07-24_22:00:00\n",
      "Getting the data took: 0:00:48\n"
     ]
    },
    {
     "name": "stderr",
     "output_type": "stream",
     "text": [
      " 96%|█████████▌| 23/24 [37:34<01:38, 98.01s/it]"
     ]
    },
    {
     "name": "stdout",
     "output_type": "stream",
     "text": [
      "Saving the csv took: 0:00:47\n",
      "Getting hour #23, beginning at 2016-07-24_23:00:00\n",
      "Getting the data took: 0:00:49\n"
     ]
    },
    {
     "name": "stderr",
     "output_type": "stream",
     "text": [
      "100%|██████████| 24/24 [39:03<00:00, 97.64s/it]"
     ]
    },
    {
     "name": "stdout",
     "output_type": "stream",
     "text": [
      "Saving the csv took: 0:00:37\n",
      "Processing /home/mi/rrszynka/mnt/janek/caches/Detections/DETECTIONS-2016-07-24_00:00:00.csv before the loop\n"
     ]
    },
    {
     "name": "stderr",
     "output_type": "stream",
     "text": [
      "\n",
      "  0%|          | 0/23 [00:00<?, ?it/s]"
     ]
    },
    {
     "name": "stdout",
     "output_type": "stream",
     "text": [
      "Processing DETECTIONS-2016-07-24_01:00:00.csv\n"
     ]
    }
   ],
   "source": [
    "force_refresh = True\n",
    "\n",
    "for i in range(num_days_to_process):\n",
    "    start_day = datetime_start+timedelta(days=i)\n",
    "   \n",
    "    if (start_day < experiment_start_day):\n",
    "        print(start_day, \" is before expertiment start day (\", experiment_start_day, \"), skipping!\")\n",
    "        continue\n",
    "\n",
    "    if (start_day > experiment_end_day):\n",
    "        print(start_day, \" is after expertiment end day (\", experiment_end_day, \"), quitting!\")\n",
    "        break\n",
    "\n",
    "    \n",
    "    (csv_name, csv_path) = create_presence_cache_filename(num_observ_periods, start_day, num_intervals_per_hour)\n",
    "    presence_file = Path(csv_path)\n",
    "    \n",
    "    \n",
    "    if (presence_file.exists() and force_refresh==False):\n",
    "        print(\"File \"+ csv_name + \" already exists, moving on\")\n",
    "        continue\n",
    "    \n",
    "    \n",
    "    cache_detections_from_database(start_day, observ_period, num_observ_periods, detection_confidence_requirement)    \n",
    "    detections_to_presence(num_observ_periods, start_day, num_intervals_per_hour, bee_ids_as_ferwar_format)"
   ]
  },
  {
   "cell_type": "code",
   "execution_count": null,
   "metadata": {},
   "outputs": [],
   "source": [
    "for i in range(num_days_to_process):\n",
    "    cache_detections_from_database(start_day, observ_period, num_observ_periods, detection_confidence_requirement)    \n",
    "    detections_to_presence(num_observ_periods, start_day, num_intervals_per_hour, bee_ids_as_ferwar_format)\n",
    "    detections_to_presence_locations(num_observ_periods, start_day, num_intervals_per_hour, bee_ids_as_ferwar_format)\n",
    "    detections_to_presence_locations_front(num_observ_periods, start_day, num_intervals_per_hour, bee_ids_as_ferwar_format)\n",
    "    detections_to_presence_locations_back(num_observ_periods, start_day, num_intervals_per_hour, bee_ids_as_ferwar_format)\n",
    "    delete_detection_caches_for_date(start_day.strftime(\"%Y-%m-%d\")) "
   ]
  },
  {
   "cell_type": "code",
   "execution_count": null,
   "metadata": {},
   "outputs": [],
   "source": [
    "force_refresh = False\n",
    "\n",
    "for i in range(num_days_to_process):\n",
    "    start_day = datetime_start+timedelta(days=i)\n",
    "   \n",
    "    if (start_day < experiment_start_day):\n",
    "        print(start_day, \" is before expertiment start day (\", experiment_start_day, \"), skipping!\")\n",
    "        continue\n",
    "\n",
    "    if (start_day > experiment_end_day):\n",
    "        print(start_day, \" is after expertiment end day (\", experiment_end_day, \"), quitting!\")\n",
    "        break\n",
    "\n",
    "    \n",
    "    (csv_name, csv_path) = create_presence_cache_filename(num_observ_periods, start_day, num_intervals_per_hour)\n",
    "    presence_file = Path(csv_path)\n",
    "    \n",
    "    #TODO: do the same for Detections \n",
    "    \n",
    "    if (presence_file.exists() and force_refresh==False):\n",
    "        print(\"File \"+ csv_name + \" already exists, moving on\")\n",
    "        continue\n",
    "    \n",
    "    \n",
    "    cache_detections_from_database(start_day, observ_period, num_observ_periods, detection_confidence_requirement)    \n",
    "    detections_to_presence(num_observ_periods, start_day, num_intervals_per_hour, bee_ids_as_ferwar_format)\n",
    "    detections_to_presence_locations(num_observ_periods, start_day, num_intervals_per_hour, bee_ids_as_ferwar_format)\n",
    "    detections_to_presence_locations_front(num_observ_periods, start_day, num_intervals_per_hour, bee_ids_as_ferwar_format)\n",
    "    detections_to_presence_locations_back(num_observ_periods, start_day, num_intervals_per_hour, bee_ids_as_ferwar_format)\n",
    "    delete_detection_caches_for_date(start_day.strftime(\"%Y-%m-%d\")) "
   ]
  },
  {
   "cell_type": "markdown",
   "metadata": {},
   "source": [
    "### Creating a table with the death dates for the bees (by saving the last day alive for each one)"
   ]
  },
  {
   "cell_type": "code",
   "execution_count": null,
   "metadata": {},
   "outputs": [],
   "source": [
    "# Creating the last_day_alive file for the bees. Should not be required to run again unless the file got lost.\n",
    "cache_death_dates()"
   ]
  },
  {
   "cell_type": "markdown",
   "metadata": {},
   "source": [
    "### Creating \"2 days before death\" tables for all cached files"
   ]
  },
  {
   "cell_type": "code",
   "execution_count": null,
   "metadata": {},
   "outputs": [],
   "source": [
    "last_days_caches(num_observ_periods, num_intervals_per_hour, number_last_days)"
   ]
  },
  {
   "cell_type": "code",
   "execution_count": null,
   "metadata": {},
   "outputs": [],
   "source": [
    "# calculate_bee_lifespan()"
   ]
  },
  {
   "cell_type": "code",
   "execution_count": null,
   "metadata": {},
   "outputs": [],
   "source": []
  },
  {
   "cell_type": "code",
   "execution_count": null,
   "metadata": {},
   "outputs": [],
   "source": []
  }
 ],
 "metadata": {
  "kernelspec": {
   "display_name": "Python 3",
   "language": "python",
   "name": "python3"
  },
  "language_info": {
   "codemirror_mode": {
    "name": "ipython",
    "version": 3
   },
   "file_extension": ".py",
   "mimetype": "text/x-python",
   "name": "python",
   "nbconvert_exporter": "python",
   "pygments_lexer": "ipython3",
   "version": "3.5.2"
  }
 },
 "nbformat": 4,
 "nbformat_minor": 2
}
