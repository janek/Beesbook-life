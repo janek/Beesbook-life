{
 "cells": [
  {
   "cell_type": "code",
   "execution_count": null,
   "metadata": {},
   "outputs": [],
   "source": [
    "#TODO: make this a parametrized version of the previous \n",
    "presence_with_locations_df = []\n",
    "#NOTE: the presence cache does not yet know what bees it contains! \n",
    "(csv_name, csv_path) = create_presence_locations_cache_filename(num_hours, datetime_start, num_intervals_per_hour)\n",
    "print('Starting with '+csv_path)\n",
    "presence_locations_df = pd.read_csv(csv_path, dtype=object).iloc[:,1:]\n",
    "#NOTE: save and read csv adds a duplicate index column, which has to be removed with iloc\n",
    "#TODO: find a cleaner way to to solve that\n",
    "\n",
    "#Load more Presence.csv days, in addition to the one we already loaded \n",
    "for i in tqdm(range(1, num_days_to_process)):\n",
    "    \n",
    "    start_day = datetime_start+timedelta(days=i)\n",
    "    \n",
    "    (csv_name, csv_path) = create_presence_locations_cache_filename(num_hours, start_day, num_intervals_per_hour)\n",
    "    file = Path(csv_path)\n",
    "    if file.exists() == False:\n",
    "        print(\"File \"+ csv_name + \"Doesn't exist, stopping entire operation\")\n",
    "        break\n",
    "    new_presence_locations_df = pd.read_csv(csv_path, dtype=object).iloc[:,1:]\n",
    "    presence_locations_df = pd.concat([presence_locations_df, new_presence_locations_df])\n",
    "print(\"Done, final shape: \" + str(presence_locations_df.shape))"
   ]
  }
 ],
 "metadata": {
  "kernelspec": {
   "display_name": "Python 3",
   "language": "python",
   "name": "python3"
  },
  "language_info": {
   "codemirror_mode": {
    "name": "ipython",
    "version": 3
   },
   "file_extension": ".py",
   "mimetype": "text/x-python",
   "name": "python",
   "nbconvert_exporter": "python",
   "pygments_lexer": "ipython3",
   "version": "3.5.2"
  }
 },
 "nbformat": 4,
 "nbformat_minor": 2
}
