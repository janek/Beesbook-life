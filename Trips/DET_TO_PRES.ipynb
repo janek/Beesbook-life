{
 "cells": [
  {
   "cell_type": "code",
   "execution_count": 1,
   "metadata": {},
   "outputs": [
    {
     "name": "stderr",
     "output_type": "stream",
     "text": [
      "/usr/local/lib/python3.5/dist-packages/psycopg2/__init__.py:144: UserWarning: The psycopg2 wheel package will be renamed from release 2.8; in order to keep installing from binary please use \"pip install psycopg2-binary\" instead. For details see: <http://initd.org/psycopg/docs/install.html#binary-install-from-pypi>.\n",
      "  \"\"\")\n"
     ]
    }
   ],
   "source": [
    "import sys\n",
    "sys.path.append('../Python-modules/') #For bee_helpers and file_helpers \\n\n",
    "from bee_helpers import calc_trip_lengths, get_forager_bee_ids, get_random_bee_ids, get_all_bee_ids, get_alive_bees_for_day\n",
    "from file_helpers import delete_detection_caches_for_date, detections_to_presence, create_presence_cache_filename, cache_location_prefix, cache_detections_from_database\n",
    "import datetime\n",
    "from pathlib import Path\n",
    "import datetime"
   ]
  },
  {
   "cell_type": "code",
   "execution_count": 2,
   "metadata": {},
   "outputs": [],
   "source": [
    "start_day = datetime.datetime(2016, 7, 20)"
   ]
  },
  {
   "cell_type": "code",
   "execution_count": 3,
   "metadata": {},
   "outputs": [
    {
     "name": "stdout",
     "output_type": "stream",
     "text": [
      "2016-07-20 00:00:00\n",
      "File PRESENCE-counts-2016-07-20_00_num_hours_24_int_size_120_conf_099_cams_0123.csv already exists, exiting with no effect.\n",
      "2016-07-21 00:00:00\n",
      "File PRESENCE-counts-2016-07-21_00_num_hours_24_int_size_120_conf_099_cams_0123.csv already exists, exiting with no effect.\n",
      "2016-07-22 00:00:00\n",
      "File PRESENCE-counts-2016-07-22_00_num_hours_24_int_size_120_conf_099_cams_0123.csv already exists, exiting with no effect.\n",
      "2016-07-23 00:00:00\n",
      "File PRESENCE-counts-2016-07-23_00_num_hours_24_int_size_120_conf_099_cams_0123.csv already exists, exiting with no effect.\n",
      "2016-07-24 00:00:00\n",
      "File PRESENCE-counts-2016-07-24_00_num_hours_24_int_size_120_conf_099_cams_0123.csv already exists, exiting with no effect.\n",
      "2016-07-25 00:00:00\n",
      "File PRESENCE-counts-2016-07-25_00_num_hours_24_int_size_120_conf_099_cams_0123.csv already exists, exiting with no effect.\n",
      "2016-07-26 00:00:00\n",
      "File PRESENCE-counts-2016-07-26_00_num_hours_24_int_size_120_conf_099_cams_0123.csv already exists, exiting with no effect.\n",
      "2016-07-27 00:00:00\n",
      "File PRESENCE-counts-2016-07-27_00_num_hours_24_int_size_120_conf_099_cams_0123.csv already exists, exiting with no effect.\n",
      "2016-07-28 00:00:00\n"
     ]
    },
    {
     "ename": "ValueError",
     "evalue": "too many values to unpack (expected 2)",
     "output_type": "error",
     "traceback": [
      "\u001b[0;31m----------------------------\u001b[0m",
      "\u001b[0;31mValueError\u001b[0mTraceback (most recent call last)",
      "\u001b[0;32m<ipython-input-3-2f152ad3b058>\u001b[0m in \u001b[0;36m<module>\u001b[0;34m()\u001b[0m\n\u001b[1;32m      3\u001b[0m     \u001b[0mbees\u001b[0m \u001b[0;34m=\u001b[0m \u001b[0mget_alive_bees_for_day\u001b[0m\u001b[0;34m(\u001b[0m\u001b[0mday\u001b[0m\u001b[0;34m)\u001b[0m\u001b[0;34m\u001b[0m\u001b[0m\n\u001b[1;32m      4\u001b[0m     \u001b[0mprint\u001b[0m\u001b[0;34m(\u001b[0m\u001b[0mday\u001b[0m\u001b[0;34m)\u001b[0m\u001b[0;34m\u001b[0m\u001b[0m\n\u001b[0;32m----> 5\u001b[0;31m     \u001b[0mdetections_to_presence\u001b[0m\u001b[0;34m(\u001b[0m\u001b[0;36m24\u001b[0m\u001b[0;34m,\u001b[0m \u001b[0mday\u001b[0m\u001b[0;34m,\u001b[0m \u001b[0;36m120\u001b[0m\u001b[0;34m,\u001b[0m \u001b[0mbees\u001b[0m\u001b[0;34m,\u001b[0m \u001b[0mmethod\u001b[0m\u001b[0;34m=\u001b[0m\u001b[0;34m'counts'\u001b[0m\u001b[0;34m,\u001b[0m \u001b[0mdetection_confidence_requirement\u001b[0m\u001b[0;34m=\u001b[0m\u001b[0;36m0.99\u001b[0m\u001b[0;34m)\u001b[0m\u001b[0;34m\u001b[0m\u001b[0m\n\u001b[0m",
      "\u001b[0;32m~/mnt/janek/Beesbook-janek/Python-modules/file_helpers.py\u001b[0m in \u001b[0;36mdetections_to_presence\u001b[0;34m(num_hours, datetime_start, num_intervals_per_hour, bee_ids, cams, method, detection_confidence_requirement, return_mode)\u001b[0m\n\u001b[1;32m    148\u001b[0m     \u001b[0;31m# First check if all files exist\u001b[0m\u001b[0;34m\u001b[0m\u001b[0;34m\u001b[0m\u001b[0m\n\u001b[1;32m    149\u001b[0m     \u001b[0;32mfor\u001b[0m \u001b[0mi\u001b[0m \u001b[0;32min\u001b[0m \u001b[0mrange\u001b[0m\u001b[0;34m(\u001b[0m\u001b[0;36m0\u001b[0m\u001b[0;34m,\u001b[0m \u001b[0mnum_hours\u001b[0m\u001b[0;34m)\u001b[0m\u001b[0;34m:\u001b[0m\u001b[0;34m\u001b[0m\u001b[0m\n\u001b[0;32m--> 150\u001b[0;31m         \u001b[0;34m(\u001b[0m\u001b[0mcsv_name\u001b[0m\u001b[0;34m,\u001b[0m \u001b[0mcsv_pathname\u001b[0m\u001b[0;34m)\u001b[0m \u001b[0;34m=\u001b[0m \u001b[0mcreate_detections_cache_filename\u001b[0m\u001b[0;34m(\u001b[0m\u001b[0mdatetime_start\u001b[0m \u001b[0;34m+\u001b[0m \u001b[0mdatetime\u001b[0m\u001b[0;34m.\u001b[0m\u001b[0mtimedelta\u001b[0m\u001b[0;34m(\u001b[0m\u001b[0mhours\u001b[0m\u001b[0;34m=\u001b[0m\u001b[0mi\u001b[0m\u001b[0;34m)\u001b[0m\u001b[0;34m)\u001b[0m\u001b[0;34m[\u001b[0m\u001b[0;36m0\u001b[0m\u001b[0;34m]\u001b[0m\u001b[0;34m\u001b[0m\u001b[0m\n\u001b[0m\u001b[1;32m    151\u001b[0m         \u001b[0;32mif\u001b[0m \u001b[0mos\u001b[0m\u001b[0;34m.\u001b[0m\u001b[0mpath\u001b[0m\u001b[0;34m.\u001b[0m\u001b[0misfile\u001b[0m\u001b[0;34m(\u001b[0m\u001b[0mcsv_pathname\u001b[0m \u001b[0;34m==\u001b[0m \u001b[0;32mFalse\u001b[0m\u001b[0;34m)\u001b[0m\u001b[0;34m:\u001b[0m\u001b[0;34m\u001b[0m\u001b[0m\n\u001b[1;32m    152\u001b[0m             \u001b[0;32mraise\u001b[0m \u001b[0mValueError\u001b[0m\u001b[0;34m(\u001b[0m\u001b[0;34m'File missing: '\u001b[0m \u001b[0;34m+\u001b[0m \u001b[0mcsv_pathname\u001b[0m \u001b[0;34m+\u001b[0m \u001b[0;34m' (and potentially more)'\u001b[0m\u001b[0;34m)\u001b[0m\u001b[0;34m\u001b[0m\u001b[0m\n",
      "\u001b[0;31mValueError\u001b[0m: too many values to unpack (expected 2)"
     ]
    }
   ],
   "source": [
    "for i in range(0, 10):\n",
    "    day = start_day + datetime.timedelta(days=i)\n",
    "    bees = get_alive_bees_for_day(day)\n",
    "    print(day)\n",
    "    detections_to_presence(24, day, 120, bees, method='counts', detection_confidence_requirement=0.99)"
   ]
  },
  {
   "cell_type": "code",
   "execution_count": null,
   "metadata": {},
   "outputs": [],
   "source": []
  },
  {
   "cell_type": "code",
   "execution_count": null,
   "metadata": {},
   "outputs": [],
   "source": []
  }
 ],
 "metadata": {
  "kernelspec": {
   "display_name": "Python 3",
   "language": "python",
   "name": "python3"
  },
  "language_info": {
   "codemirror_mode": {
    "name": "ipython",
    "version": 3
   },
   "file_extension": ".py",
   "mimetype": "text/x-python",
   "name": "python",
   "nbconvert_exporter": "python",
   "pygments_lexer": "ipython3",
   "version": "3.5.2"
  }
 },
 "nbformat": 4,
 "nbformat_minor": 2
}
