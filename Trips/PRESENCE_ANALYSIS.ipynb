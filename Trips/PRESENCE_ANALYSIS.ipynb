{
 "cells": [
  {
   "cell_type": "code",
   "execution_count": 47,
   "metadata": {},
   "outputs": [
    {
     "name": "stdout",
     "output_type": "stream",
     "text": [
      "/home/mi/rrszynka/mnt/janek/Beesbook-life/Trips\n"
     ]
    }
   ],
   "source": [
    "import os\n",
    "print(os.getcwd())\n",
    "\n",
    "import numpy as np\n",
    "import pandas as pd\n",
    "import matplotlib.pyplot as plt\n",
    "import seaborn as sns\n",
    "sns.set()\n",
    "from datetime import timedelta, datetime\n",
    "import sys\n",
    "\n",
    "sys.path.append('/home/mi/rrszynka/mnt/janek/Beesbook-life/Python-modules/')\n",
    "from bee_helpers import calc_trip_lengths, calc_trip_starts, get_forager_bee_ids, get_random_bee_ids, get_all_bee_ids\n",
    "from file_helpers import cache_location_prefix, detections_to_presence, detections_to_presence_locations, create_presence_cache_filename, create_presence_locations_cache_filename, create_presence_cache_filename, cache_location_prefix, create_presence_locations_cam_cache_filename\n",
    "\n",
    "from pathlib import Path\n",
    "from tqdm import tqdm"
   ]
  },
  {
   "cell_type": "code",
   "execution_count": 48,
   "metadata": {},
   "outputs": [],
   "source": [
    "datetime_start = datetime(2016, 7, 19) #TODO: set beginning date as default param in file helpers\n",
    "num_days_to_process = 60\n",
    "num_intervals_per_hour = 60 #TODO: if considered \n",
    "num_hours = 24 #TODO: set as default param in file helpers"
   ]
  },
  {
   "cell_type": "code",
   "execution_count": 49,
   "metadata": {},
   "outputs": [
    {
     "name": "stdout",
     "output_type": "stream",
     "text": [
      "/home/mi/rrszynka/mnt/janek/caches//Presence/PRESENCE-2016-07-19_00_num_hours_24_int_size_60.csv doesn't exist\n",
      "Adding df #1, PRESENCE-2016-07-20_00_num_hours_24_int_size_60.csv\n",
      "Adding df #2, PRESENCE-2016-07-21_00_num_hours_24_int_size_60.csv\n",
      "Adding df #3, PRESENCE-2016-07-22_00_num_hours_24_int_size_60.csv\n",
      "Adding df #4, PRESENCE-2016-07-23_00_num_hours_24_int_size_60.csv\n",
      "Adding df #5, PRESENCE-2016-07-24_00_num_hours_24_int_size_60.csv\n",
      "Adding df #6, PRESENCE-2016-07-25_00_num_hours_24_int_size_60.csv\n",
      "Adding df #7, PRESENCE-2016-07-26_00_num_hours_24_int_size_60.csv\n",
      "Adding df #8, PRESENCE-2016-07-27_00_num_hours_24_int_size_60.csv\n",
      "Adding df #9, PRESENCE-2016-07-28_00_num_hours_24_int_size_60.csv\n",
      "Adding df #10, PRESENCE-2016-07-29_00_num_hours_24_int_size_60.csv\n",
      "Adding df #11, PRESENCE-2016-07-30_00_num_hours_24_int_size_60.csv\n",
      "Adding df #12, PRESENCE-2016-07-31_00_num_hours_24_int_size_60.csv\n",
      "Adding df #13, PRESENCE-2016-08-01_00_num_hours_24_int_size_60.csv\n",
      "Adding df #14, PRESENCE-2016-08-02_00_num_hours_24_int_size_60.csv\n",
      "Adding df #15, PRESENCE-2016-08-03_00_num_hours_24_int_size_60.csv\n",
      "Adding df #16, PRESENCE-2016-08-04_00_num_hours_24_int_size_60.csv\n",
      "Adding df #17, PRESENCE-2016-08-05_00_num_hours_24_int_size_60.csv\n",
      "Adding df #18, PRESENCE-2016-08-06_00_num_hours_24_int_size_60.csv\n",
      "Adding df #19, PRESENCE-2016-08-07_00_num_hours_24_int_size_60.csv\n",
      "Adding df #20, PRESENCE-2016-08-08_00_num_hours_24_int_size_60.csv\n",
      "Adding df #21, PRESENCE-2016-08-09_00_num_hours_24_int_size_60.csv\n",
      "Adding df #22, PRESENCE-2016-08-10_00_num_hours_24_int_size_60.csv\n",
      "Adding df #23, PRESENCE-2016-08-11_00_num_hours_24_int_size_60.csv\n",
      "Adding df #24, PRESENCE-2016-08-12_00_num_hours_24_int_size_60.csv\n",
      "Adding df #25, PRESENCE-2016-08-13_00_num_hours_24_int_size_60.csv\n",
      "Adding df #26, PRESENCE-2016-08-14_00_num_hours_24_int_size_60.csv\n",
      "Adding df #27, PRESENCE-2016-08-15_00_num_hours_24_int_size_60.csv\n",
      "Adding df #28, PRESENCE-2016-08-16_00_num_hours_24_int_size_60.csv\n",
      "Adding df #29, PRESENCE-2016-08-17_00_num_hours_24_int_size_60.csv\n",
      "Adding df #30, PRESENCE-2016-08-18_00_num_hours_24_int_size_60.csv\n",
      "Adding df #31, PRESENCE-2016-08-19_00_num_hours_24_int_size_60.csv\n",
      "Adding df #32, PRESENCE-2016-08-20_00_num_hours_24_int_size_60.csv\n",
      "Adding df #33, PRESENCE-2016-08-21_00_num_hours_24_int_size_60.csv\n",
      "Adding df #34, PRESENCE-2016-08-22_00_num_hours_24_int_size_60.csv\n",
      "Adding df #35, PRESENCE-2016-08-23_00_num_hours_24_int_size_60.csv\n",
      "Adding df #36, PRESENCE-2016-08-24_00_num_hours_24_int_size_60.csv\n",
      "Adding df #37, PRESENCE-2016-08-25_00_num_hours_24_int_size_60.csv\n",
      "Adding df #38, PRESENCE-2016-08-26_00_num_hours_24_int_size_60.csv\n",
      "Adding df #39, PRESENCE-2016-08-27_00_num_hours_24_int_size_60.csv\n",
      "Adding df #40, PRESENCE-2016-08-28_00_num_hours_24_int_size_60.csv\n",
      "Adding df #41, PRESENCE-2016-08-29_00_num_hours_24_int_size_60.csv\n",
      "Adding df #42, PRESENCE-2016-08-30_00_num_hours_24_int_size_60.csv\n",
      "Adding df #43, PRESENCE-2016-08-31_00_num_hours_24_int_size_60.csv\n",
      "Adding df #44, PRESENCE-2016-09-01_00_num_hours_24_int_size_60.csv\n",
      "Adding df #45, PRESENCE-2016-09-02_00_num_hours_24_int_size_60.csv\n",
      "Adding df #46, PRESENCE-2016-09-03_00_num_hours_24_int_size_60.csv\n",
      "Adding df #47, PRESENCE-2016-09-04_00_num_hours_24_int_size_60.csv\n",
      "Adding df #48, PRESENCE-2016-09-05_00_num_hours_24_int_size_60.csv\n",
      "Adding df #49, PRESENCE-2016-09-06_00_num_hours_24_int_size_60.csv\n",
      "Adding df #50, PRESENCE-2016-09-07_00_num_hours_24_int_size_60.csv\n",
      "Adding df #51, PRESENCE-2016-09-08_00_num_hours_24_int_size_60.csv\n",
      "Adding df #52, PRESENCE-2016-09-09_00_num_hours_24_int_size_60.csv\n",
      "Adding df #53, PRESENCE-2016-09-10_00_num_hours_24_int_size_60.csv\n",
      "Adding df #54, PRESENCE-2016-09-11_00_num_hours_24_int_size_60.csv\n",
      "Adding df #55, PRESENCE-2016-09-12_00_num_hours_24_int_size_60.csv\n",
      "Adding df #56, PRESENCE-2016-09-13_00_num_hours_24_int_size_60.csv\n",
      "Adding df #57, PRESENCE-2016-09-14_00_num_hours_24_int_size_60.csv\n",
      "Adding df #58, PRESENCE-2016-09-15_00_num_hours_24_int_size_60.csv\n",
      "Adding df #59, PRESENCE-2016-09-16_00_num_hours_24_int_size_60.csv\n"
     ]
    }
   ],
   "source": [
    "presence_dfs = []\n",
    "\n",
    "for i in range(0, num_days_to_process):\n",
    "    start_day = datetime_start+timedelta(days=i)\n",
    "    (csv_name, csv_path) = create_presence_cache_filename(num_hours, start_day, num_intervals_per_hour)\n",
    "    file = Path(csv_path)\n",
    "    if file.exists() == False:\n",
    "        print(csv_path+ \" doesn't exist\")\n",
    "    else: \n",
    "        new_presence_df = pd.read_csv(csv_path).iloc[:,1:]\n",
    "        new_presence_df = new_presence_df.drop(columns='id')\n",
    "        presence_dfs.append(new_presence_df)\n",
    "        print(\"Adding df #\"+str(i)+\", \"+csv_name)"
   ]
  },
  {
   "cell_type": "code",
   "execution_count": null,
   "metadata": {},
   "outputs": [],
   "source": [
    "# Save or load - takes very long, try switching from csv to hdf \n",
    "# presence_df.to_csv('../../caches/Presence/COMBINED_PRESENCE_59d_24h_from_07-19.csv')\n",
    "# presence_df = pd.read_csv('../../caches/Presence/COMBINED_PRESENCE_59d_24h_from_07-19.csv', index_col='bee_id')"
   ]
  },
  {
   "cell_type": "code",
   "execution_count": 35,
   "metadata": {},
   "outputs": [],
   "source": [
    "presence_df = pd.concat(presence_dfs, axis=1)\n",
    "presence_df.index.rename('bee_id', inplace=True)"
   ]
  },
  {
   "cell_type": "code",
   "execution_count": 716,
   "metadata": {},
   "outputs": [
    {
     "data": {
      "text/html": [
       "<div>\n",
       "<style scoped>\n",
       "    .dataframe tbody tr th:only-of-type {\n",
       "        vertical-align: middle;\n",
       "    }\n",
       "\n",
       "    .dataframe tbody tr th {\n",
       "        vertical-align: top;\n",
       "    }\n",
       "\n",
       "    .dataframe thead th {\n",
       "        text-align: right;\n",
       "    }\n",
       "</style>\n",
       "<table border=\"1\" class=\"dataframe\">\n",
       "  <thead>\n",
       "    <tr style=\"text-align: right;\">\n",
       "      <th></th>\n",
       "      <th>0</th>\n",
       "      <th>1</th>\n",
       "      <th>2</th>\n",
       "      <th>3</th>\n",
       "      <th>4</th>\n",
       "      <th>5</th>\n",
       "      <th>6</th>\n",
       "      <th>7</th>\n",
       "      <th>8</th>\n",
       "      <th>9</th>\n",
       "      <th>...</th>\n",
       "      <th>1430</th>\n",
       "      <th>1431</th>\n",
       "      <th>1432</th>\n",
       "      <th>1433</th>\n",
       "      <th>1434</th>\n",
       "      <th>1435</th>\n",
       "      <th>1436</th>\n",
       "      <th>1437</th>\n",
       "      <th>1438</th>\n",
       "      <th>1439</th>\n",
       "    </tr>\n",
       "    <tr>\n",
       "      <th>bee_id</th>\n",
       "      <th></th>\n",
       "      <th></th>\n",
       "      <th></th>\n",
       "      <th></th>\n",
       "      <th></th>\n",
       "      <th></th>\n",
       "      <th></th>\n",
       "      <th></th>\n",
       "      <th></th>\n",
       "      <th></th>\n",
       "      <th></th>\n",
       "      <th></th>\n",
       "      <th></th>\n",
       "      <th></th>\n",
       "      <th></th>\n",
       "      <th></th>\n",
       "      <th></th>\n",
       "      <th></th>\n",
       "      <th></th>\n",
       "      <th></th>\n",
       "      <th></th>\n",
       "    </tr>\n",
       "  </thead>\n",
       "  <tbody>\n",
       "    <tr>\n",
       "      <th>0</th>\n",
       "      <td>0.0</td>\n",
       "      <td>0.0</td>\n",
       "      <td>0.0</td>\n",
       "      <td>0.0</td>\n",
       "      <td>0.0</td>\n",
       "      <td>0.0</td>\n",
       "      <td>0.0</td>\n",
       "      <td>0.0</td>\n",
       "      <td>0.0</td>\n",
       "      <td>0.0</td>\n",
       "      <td>...</td>\n",
       "      <td>0.0</td>\n",
       "      <td>0.0</td>\n",
       "      <td>0.0</td>\n",
       "      <td>0.0</td>\n",
       "      <td>0.0</td>\n",
       "      <td>0.0</td>\n",
       "      <td>0.0</td>\n",
       "      <td>0.0</td>\n",
       "      <td>0.0</td>\n",
       "      <td>0.0</td>\n",
       "    </tr>\n",
       "    <tr>\n",
       "      <th>1</th>\n",
       "      <td>0.0</td>\n",
       "      <td>0.0</td>\n",
       "      <td>0.0</td>\n",
       "      <td>0.0</td>\n",
       "      <td>0.0</td>\n",
       "      <td>0.0</td>\n",
       "      <td>0.0</td>\n",
       "      <td>0.0</td>\n",
       "      <td>0.0</td>\n",
       "      <td>0.0</td>\n",
       "      <td>...</td>\n",
       "      <td>0.0</td>\n",
       "      <td>0.0</td>\n",
       "      <td>0.0</td>\n",
       "      <td>0.0</td>\n",
       "      <td>0.0</td>\n",
       "      <td>0.0</td>\n",
       "      <td>0.0</td>\n",
       "      <td>0.0</td>\n",
       "      <td>0.0</td>\n",
       "      <td>0.0</td>\n",
       "    </tr>\n",
       "    <tr>\n",
       "      <th>2</th>\n",
       "      <td>0.0</td>\n",
       "      <td>0.0</td>\n",
       "      <td>0.0</td>\n",
       "      <td>0.0</td>\n",
       "      <td>0.0</td>\n",
       "      <td>0.0</td>\n",
       "      <td>0.0</td>\n",
       "      <td>0.0</td>\n",
       "      <td>0.0</td>\n",
       "      <td>0.0</td>\n",
       "      <td>...</td>\n",
       "      <td>0.0</td>\n",
       "      <td>0.0</td>\n",
       "      <td>0.0</td>\n",
       "      <td>0.0</td>\n",
       "      <td>0.0</td>\n",
       "      <td>0.0</td>\n",
       "      <td>0.0</td>\n",
       "      <td>0.0</td>\n",
       "      <td>0.0</td>\n",
       "      <td>0.0</td>\n",
       "    </tr>\n",
       "    <tr>\n",
       "      <th>3</th>\n",
       "      <td>0.0</td>\n",
       "      <td>0.0</td>\n",
       "      <td>0.0</td>\n",
       "      <td>0.0</td>\n",
       "      <td>0.0</td>\n",
       "      <td>0.0</td>\n",
       "      <td>0.0</td>\n",
       "      <td>0.0</td>\n",
       "      <td>0.0</td>\n",
       "      <td>0.0</td>\n",
       "      <td>...</td>\n",
       "      <td>0.0</td>\n",
       "      <td>0.0</td>\n",
       "      <td>0.0</td>\n",
       "      <td>0.0</td>\n",
       "      <td>0.0</td>\n",
       "      <td>0.0</td>\n",
       "      <td>0.0</td>\n",
       "      <td>0.0</td>\n",
       "      <td>0.0</td>\n",
       "      <td>0.0</td>\n",
       "    </tr>\n",
       "    <tr>\n",
       "      <th>4</th>\n",
       "      <td>0.0</td>\n",
       "      <td>0.0</td>\n",
       "      <td>0.0</td>\n",
       "      <td>0.0</td>\n",
       "      <td>0.0</td>\n",
       "      <td>0.0</td>\n",
       "      <td>0.0</td>\n",
       "      <td>0.0</td>\n",
       "      <td>0.0</td>\n",
       "      <td>0.0</td>\n",
       "      <td>...</td>\n",
       "      <td>0.0</td>\n",
       "      <td>0.0</td>\n",
       "      <td>0.0</td>\n",
       "      <td>0.0</td>\n",
       "      <td>0.0</td>\n",
       "      <td>0.0</td>\n",
       "      <td>0.0</td>\n",
       "      <td>0.0</td>\n",
       "      <td>0.0</td>\n",
       "      <td>0.0</td>\n",
       "    </tr>\n",
       "  </tbody>\n",
       "</table>\n",
       "<p>5 rows × 84960 columns</p>\n",
       "</div>"
      ],
      "text/plain": [
       "          0    1    2    3    4    5    6    7    8    9  ...   1430  1431  \\\n",
       "bee_id                                                    ...                \n",
       "0       0.0  0.0  0.0  0.0  0.0  0.0  0.0  0.0  0.0  0.0  ...    0.0   0.0   \n",
       "1       0.0  0.0  0.0  0.0  0.0  0.0  0.0  0.0  0.0  0.0  ...    0.0   0.0   \n",
       "2       0.0  0.0  0.0  0.0  0.0  0.0  0.0  0.0  0.0  0.0  ...    0.0   0.0   \n",
       "3       0.0  0.0  0.0  0.0  0.0  0.0  0.0  0.0  0.0  0.0  ...    0.0   0.0   \n",
       "4       0.0  0.0  0.0  0.0  0.0  0.0  0.0  0.0  0.0  0.0  ...    0.0   0.0   \n",
       "\n",
       "        1432  1433  1434  1435  1436  1437  1438  1439  \n",
       "bee_id                                                  \n",
       "0        0.0   0.0   0.0   0.0   0.0   0.0   0.0   0.0  \n",
       "1        0.0   0.0   0.0   0.0   0.0   0.0   0.0   0.0  \n",
       "2        0.0   0.0   0.0   0.0   0.0   0.0   0.0   0.0  \n",
       "3        0.0   0.0   0.0   0.0   0.0   0.0   0.0   0.0  \n",
       "4        0.0   0.0   0.0   0.0   0.0   0.0   0.0   0.0  \n",
       "\n",
       "[5 rows x 84960 columns]"
      ]
     },
     "execution_count": 716,
     "metadata": {},
     "output_type": "execute_result"
    }
   ],
   "source": [
    "presence_df.head()"
   ]
  },
  {
   "cell_type": "code",
   "execution_count": 43,
   "metadata": {},
   "outputs": [],
   "source": [
    "sum_pres_by_bee = presence_df.sum(axis=1)\n",
    "sum_pres_by_bee = sum_pres_by_bee.to_frame()\n",
    "sum_pres_by_bee.columns = ['presence_score_total']"
   ]
  },
  {
   "cell_type": "code",
   "execution_count": 718,
   "metadata": {},
   "outputs": [],
   "source": [
    "lives_from_detections_df = pd.read_csv('../../caches/Other/lives_from_detections_df.csv', \n",
    "                                       index_col='bee_id', \n",
    "                                       parse_dates=['min', 'max'])"
   ]
  },
  {
   "cell_type": "code",
   "execution_count": 719,
   "metadata": {},
   "outputs": [
    {
     "data": {
      "text/html": [
       "<div>\n",
       "<style scoped>\n",
       "    .dataframe tbody tr th:only-of-type {\n",
       "        vertical-align: middle;\n",
       "    }\n",
       "\n",
       "    .dataframe tbody tr th {\n",
       "        vertical-align: top;\n",
       "    }\n",
       "\n",
       "    .dataframe thead th {\n",
       "        text-align: right;\n",
       "    }\n",
       "</style>\n",
       "<table border=\"1\" class=\"dataframe\">\n",
       "  <thead>\n",
       "    <tr style=\"text-align: right;\">\n",
       "      <th></th>\n",
       "      <th>presence_score_total</th>\n",
       "      <th>min</th>\n",
       "      <th>max</th>\n",
       "      <th>lifespan</th>\n",
       "      <th>presence_coefficient</th>\n",
       "    </tr>\n",
       "    <tr>\n",
       "      <th>bee_id</th>\n",
       "      <th></th>\n",
       "      <th></th>\n",
       "      <th></th>\n",
       "      <th></th>\n",
       "      <th></th>\n",
       "    </tr>\n",
       "  </thead>\n",
       "  <tbody>\n",
       "    <tr>\n",
       "      <th>2</th>\n",
       "      <td>8.0</td>\n",
       "      <td>2016-08-03</td>\n",
       "      <td>2016-08-21</td>\n",
       "      <td>54.0</td>\n",
       "      <td>0.000103</td>\n",
       "    </tr>\n",
       "    <tr>\n",
       "      <th>4</th>\n",
       "      <td>71.0</td>\n",
       "      <td>2016-07-30</td>\n",
       "      <td>2016-08-24</td>\n",
       "      <td>57.0</td>\n",
       "      <td>0.000865</td>\n",
       "    </tr>\n",
       "    <tr>\n",
       "      <th>8</th>\n",
       "      <td>104.0</td>\n",
       "      <td>2016-07-30</td>\n",
       "      <td>2016-08-16</td>\n",
       "      <td>49.0</td>\n",
       "      <td>0.001474</td>\n",
       "    </tr>\n",
       "    <tr>\n",
       "      <th>9</th>\n",
       "      <td>3953.0</td>\n",
       "      <td>2016-07-19</td>\n",
       "      <td>2016-08-06</td>\n",
       "      <td>39.0</td>\n",
       "      <td>0.070388</td>\n",
       "    </tr>\n",
       "    <tr>\n",
       "      <th>10</th>\n",
       "      <td>5714.0</td>\n",
       "      <td>2016-07-19</td>\n",
       "      <td>2016-08-17</td>\n",
       "      <td>50.0</td>\n",
       "      <td>0.079361</td>\n",
       "    </tr>\n",
       "  </tbody>\n",
       "</table>\n",
       "</div>"
      ],
      "text/plain": [
       "        presence_score_total        min        max  lifespan  \\\n",
       "bee_id                                                         \n",
       "2                        8.0 2016-08-03 2016-08-21      54.0   \n",
       "4                       71.0 2016-07-30 2016-08-24      57.0   \n",
       "8                      104.0 2016-07-30 2016-08-16      49.0   \n",
       "9                     3953.0 2016-07-19 2016-08-06      39.0   \n",
       "10                    5714.0 2016-07-19 2016-08-17      50.0   \n",
       "\n",
       "        presence_coefficient  \n",
       "bee_id                        \n",
       "2                   0.000103  \n",
       "4                   0.000865  \n",
       "8                   0.001474  \n",
       "9                   0.070388  \n",
       "10                  0.079361  "
      ]
     },
     "execution_count": 719,
     "metadata": {},
     "output_type": "execute_result"
    }
   ],
   "source": [
    "presence_with_lifespan_work.head()"
   ]
  },
  {
   "cell_type": "code",
   "execution_count": 717,
   "metadata": {},
   "outputs": [],
   "source": [
    "presence_with_lifespan = sum_pres_by_bee.join(lives_from_detections_df, how='outer')\n",
    "presence_with_lifespan['presence_coefficient'] = presence_with_lifespan.presence_score_total/(presence_with_lifespan.lifespan*1440) # normalization step\n",
    "presence_with_lifespan_work = presence_with_lifespan[presence_with_lifespan.lifespan > 0]"
   ]
  },
  {
   "cell_type": "code",
   "execution_count": 114,
   "metadata": {},
   "outputs": [
    {
     "data": {
      "text/plain": [
       "[Text(0.5,1,'Distribution of presence_coefficient values among 2233 bees. \\n(a value of 1.0 would mean 100% presence in the hive)')]"
      ]
     },
     "execution_count": 114,
     "metadata": {},
     "output_type": "execute_result"
    },
    {
     "data": {
      "image/png": "[encoded data removed]",
      "text/plain": [
       "<Figure size 1440x576 with 1 Axes>"
      ]
     },
     "metadata": {},
     "output_type": "display_data"
    }
   ],
   "source": [
    "pres_hist = (presence_with_lifespan_work[presence_with_lifespan_work.presence_score_total > 1440]).presence_coefficient\n",
    "title = 'Distribution of presence_coefficient values among ' + str(len(pres_hist)) + ' bees. \\n(a value of 1.0 would mean 100% presence in the hive)'\n",
    "plt.subplots(figsize=(20,8))\n",
    "ax = sns.distplot(pres_hist, bins=100, kde=False)\n",
    "ax.set(title=title)"
   ]
  },
  {
   "cell_type": "code",
   "execution_count": 18,
   "metadata": {},
   "outputs": [
    {
     "data": {
      "text/html": [
       "<div>\n",
       "<style scoped>\n",
       "    .dataframe tbody tr th:only-of-type {\n",
       "        vertical-align: middle;\n",
       "    }\n",
       "\n",
       "    .dataframe tbody tr th {\n",
       "        vertical-align: top;\n",
       "    }\n",
       "\n",
       "    .dataframe thead th {\n",
       "        text-align: right;\n",
       "    }\n",
       "</style>\n",
       "<table border=\"1\" class=\"dataframe\">\n",
       "  <thead>\n",
       "    <tr style=\"text-align: right;\">\n",
       "      <th></th>\n",
       "      <th>presence_score_total</th>\n",
       "      <th>min</th>\n",
       "      <th>max</th>\n",
       "      <th>lifespan</th>\n",
       "      <th>presence_coefficient</th>\n",
       "    </tr>\n",
       "    <tr>\n",
       "      <th>bee_id</th>\n",
       "      <th></th>\n",
       "      <th></th>\n",
       "      <th></th>\n",
       "      <th></th>\n",
       "      <th></th>\n",
       "    </tr>\n",
       "  </thead>\n",
       "  <tbody>\n",
       "    <tr>\n",
       "      <th>2</th>\n",
       "      <td>8.0</td>\n",
       "      <td>2016-08-03</td>\n",
       "      <td>2016-08-21</td>\n",
       "      <td>18.0</td>\n",
       "      <td>0.000309</td>\n",
       "    </tr>\n",
       "    <tr>\n",
       "      <th>4</th>\n",
       "      <td>71.0</td>\n",
       "      <td>2016-07-30</td>\n",
       "      <td>2016-08-24</td>\n",
       "      <td>25.0</td>\n",
       "      <td>0.001972</td>\n",
       "    </tr>\n",
       "    <tr>\n",
       "      <th>5</th>\n",
       "      <td>4.0</td>\n",
       "      <td>2016-07-30</td>\n",
       "      <td>2016-08-25</td>\n",
       "      <td>26.0</td>\n",
       "      <td>0.000107</td>\n",
       "    </tr>\n",
       "    <tr>\n",
       "      <th>8</th>\n",
       "      <td>104.0</td>\n",
       "      <td>2016-07-30</td>\n",
       "      <td>2016-08-16</td>\n",
       "      <td>17.0</td>\n",
       "      <td>0.004248</td>\n",
       "    </tr>\n",
       "    <tr>\n",
       "      <th>9</th>\n",
       "      <td>3953.0</td>\n",
       "      <td>2016-07-19</td>\n",
       "      <td>2016-08-06</td>\n",
       "      <td>18.0</td>\n",
       "      <td>0.152508</td>\n",
       "    </tr>\n",
       "  </tbody>\n",
       "</table>\n",
       "</div>"
      ],
      "text/plain": [
       "        presence_score_total        min        max  lifespan  \\\n",
       "bee_id                                                         \n",
       "2                        8.0 2016-08-03 2016-08-21      18.0   \n",
       "4                       71.0 2016-07-30 2016-08-24      25.0   \n",
       "5                        4.0 2016-07-30 2016-08-25      26.0   \n",
       "8                      104.0 2016-07-30 2016-08-16      17.0   \n",
       "9                     3953.0 2016-07-19 2016-08-06      18.0   \n",
       "\n",
       "        presence_coefficient  \n",
       "bee_id                        \n",
       "2                   0.000309  \n",
       "4                   0.001972  \n",
       "5                   0.000107  \n",
       "8                   0.004248  \n",
       "9                   0.152508  "
      ]
     },
     "execution_count": 18,
     "metadata": {},
     "output_type": "execute_result"
    }
   ],
   "source": [
    "presence_with_lifespan_work.head()"
   ]
  },
  {
   "cell_type": "code",
   "execution_count": 115,
   "metadata": {},
   "outputs": [],
   "source": [
    "aggregate_pres_by_minute = presence_df.sum(axis='rows')"
   ]
  },
  {
   "cell_type": "code",
   "execution_count": 119,
   "metadata": {},
   "outputs": [
    {
     "data": {
      "text/plain": [
       "(84960,)"
      ]
     },
     "execution_count": 119,
     "metadata": {},
     "output_type": "execute_result"
    }
   ],
   "source": [
    "aggregate_pres_by_minute.shape"
   ]
  },
  {
   "cell_type": "code",
   "execution_count": 121,
   "metadata": {},
   "outputs": [
    {
     "data": {
      "text/plain": [
       "84960"
      ]
     },
     "execution_count": 121,
     "metadata": {},
     "output_type": "execute_result"
    }
   ],
   "source": [
    "24*59*60"
   ]
  },
  {
   "cell_type": "code",
   "execution_count": 116,
   "metadata": {},
   "outputs": [],
   "source": [
    "pres_by_hour = []\n",
    "for i in np.arange(0, 1416): #24hours * 59 days \n",
    "    newHour = aggregate_pres_by_minute[i*60:(i+1)*60].sum()\n",
    "    pres_by_hour.append(newHour)"
   ]
  },
  {
   "cell_type": "code",
   "execution_count": 117,
   "metadata": {},
   "outputs": [],
   "source": [
    "pres_by_hour = pd.DataFrame(pres_by_hour, columns=['presence'])"
   ]
  },
  {
   "cell_type": "code",
   "execution_count": 204,
   "metadata": {},
   "outputs": [],
   "source": [
    "begin = 0 \n",
    "days = 3"
   ]
  },
  {
   "cell_type": "code",
   "execution_count": 205,
   "metadata": {},
   "outputs": [
    {
     "data": {
      "image/png": "[encoded data removed]",
      "text/plain": [
       "<Figure size 2880x720 with 1 Axes>"
      ]
     },
     "metadata": {},
     "output_type": "display_data"
    }
   ],
   "source": [
    "fig, ax = plt.subplots()\n",
    "fig.set_size_inches(40,10)\n",
    "pres_by_hour.index.name = 'hour'\n",
    "pres_by_hour['hour'] = pres_by_hour.index\n",
    "sns.barplot(x='hour', y='presence', data=pres_by_hour[begin:begin+days*24], ax=ax)\n",
    "begin += days*24"
   ]
  },
  {
   "cell_type": "code",
   "execution_count": 168,
   "metadata": {},
   "outputs": [],
   "source": [
    "# sns.distplot(pres_by_hour)"
   ]
  },
  {
   "cell_type": "code",
   "execution_count": 228,
   "metadata": {},
   "outputs": [],
   "source": [
    "daily_presences = []\n",
    "presence_from_morning = presence_df.iloc[:,7*60:]\n",
    "\n",
    "for i in np.arange(0, 59): #59 days\n",
    "    begin = i*60*24\n",
    "    end = begin+60*12\n",
    "    day = presence_from_morning.iloc[:,begin:end]\n",
    "    daily_presences.append(day.sum(axis=1))"
   ]
  },
  {
   "cell_type": "code",
   "execution_count": 229,
   "metadata": {},
   "outputs": [],
   "source": [
    "presence_with_lifespan_long_lives = presence_with_lifespan_work[presence_with_lifespan_work['lifespan'] > 15]\n",
    "presence_with_lifespan_long_lives.shape\n",
    "\n",
    "daily_presences = pd.concat(daily_presences, axis=1)\n",
    "daily_presences = daily_presences/(12*60)\n",
    "daily_presences = daily_presences.loc[presence_with_lifespan_long_lives.index]"
   ]
  },
  {
   "cell_type": "code",
   "execution_count": 469,
   "metadata": {},
   "outputs": [
    {
     "name": "stderr",
     "output_type": "stream",
     "text": [
      "100%|██████████| 59/59 [00:48<00:00,  1.21it/s]\n"
     ]
    }
   ],
   "source": [
    "pres_by_ages = daily_presences*0 #create a DataFrame with the same shape and labels, but empty\n",
    "pres_by_ages.shape\n",
    "day_0 = datetime(2016, 7, 19)\n",
    "\n",
    "daily_presences\n",
    "\n",
    "for day in tqdm(pres_by_ages.columns):\n",
    "    for bee in pres_by_ages.index: #of a bee\n",
    "        bee_birth_date = presence_with_lifespan_work.loc[bee]['min']\n",
    "        if presence_with_lifespan_work.loc[bee]['lifespan'] < day:\n",
    "            pres_by_ages.loc[bee, day] = np.nan\n",
    "        else:\n",
    "            bee_life_day = bee_birth_date+timedelta(day)\n",
    "            experiment_day = (bee_life_day - day_0).days\n",
    "            if experiment_day > 58:\n",
    "                continue\n",
    "            pres_by_ages.loc[bee, day] = daily_presences.loc[bee, experiment_day]"
   ]
  },
  {
   "cell_type": "code",
   "execution_count": 471,
   "metadata": {},
   "outputs": [],
   "source": [
    "pres_by_ages = pres_by_ages[(pres_by_ages.sum(axis=1) > 1)] # filter bees with low presence again "
   ]
  },
  {
   "cell_type": "code",
   "execution_count": 472,
   "metadata": {},
   "outputs": [
    {
     "data": {
      "text/plain": [
       "(1516, 59)"
      ]
     },
     "execution_count": 472,
     "metadata": {},
     "output_type": "execute_result"
    }
   ],
   "source": [
    "pres_by_ages.shape"
   ]
  },
  {
   "cell_type": "code",
   "execution_count": 547,
   "metadata": {},
   "outputs": [
    {
     "data": {
      "text/plain": [
       "Text(0,0.5,'Avg. presence coefficient')"
      ]
     },
     "execution_count": 547,
     "metadata": {},
     "output_type": "execute_result"
    },
    {
     "data": {
      "image/png": "[encoded data removed]",
      "text/plain": [
       "<Figure size 432x288 with 1 Axes>"
      ]
     },
     "metadata": {},
     "output_type": "display_data"
    }
   ],
   "source": [
    "pres_by_ages_per_bee = pres_by_ages.sum()/(pres_by_ages.isnull() == False).sum()\n",
    "ax = sns.lineplot(data=pres_by_ages_per_bee)\n",
    "ax.set_title('Avg. presence coefficient of all bees by day of life')\n",
    "ax.set_xlabel('Day of life')\n",
    "ax.set_ylabel('Avg. presence coefficient')"
   ]
  },
  {
   "cell_type": "code",
   "execution_count": 474,
   "metadata": {},
   "outputs": [
    {
     "data": {
      "text/html": [
       "<div>\n",
       "<style scoped>\n",
       "    .dataframe tbody tr th:only-of-type {\n",
       "        vertical-align: middle;\n",
       "    }\n",
       "\n",
       "    .dataframe tbody tr th {\n",
       "        vertical-align: top;\n",
       "    }\n",
       "\n",
       "    .dataframe thead th {\n",
       "        text-align: right;\n",
       "    }\n",
       "</style>\n",
       "<table border=\"1\" class=\"dataframe\">\n",
       "  <thead>\n",
       "    <tr style=\"text-align: right;\">\n",
       "      <th></th>\n",
       "      <th>0</th>\n",
       "      <th>1</th>\n",
       "      <th>2</th>\n",
       "      <th>3</th>\n",
       "      <th>4</th>\n",
       "      <th>5</th>\n",
       "      <th>6</th>\n",
       "      <th>7</th>\n",
       "      <th>8</th>\n",
       "      <th>9</th>\n",
       "      <th>...</th>\n",
       "      <th>49</th>\n",
       "      <th>50</th>\n",
       "      <th>51</th>\n",
       "      <th>52</th>\n",
       "      <th>53</th>\n",
       "      <th>54</th>\n",
       "      <th>55</th>\n",
       "      <th>56</th>\n",
       "      <th>57</th>\n",
       "      <th>58</th>\n",
       "    </tr>\n",
       "    <tr>\n",
       "      <th>bee_id</th>\n",
       "      <th></th>\n",
       "      <th></th>\n",
       "      <th></th>\n",
       "      <th></th>\n",
       "      <th></th>\n",
       "      <th></th>\n",
       "      <th></th>\n",
       "      <th></th>\n",
       "      <th></th>\n",
       "      <th></th>\n",
       "      <th></th>\n",
       "      <th></th>\n",
       "      <th></th>\n",
       "      <th></th>\n",
       "      <th></th>\n",
       "      <th></th>\n",
       "      <th></th>\n",
       "      <th></th>\n",
       "      <th></th>\n",
       "      <th></th>\n",
       "      <th></th>\n",
       "    </tr>\n",
       "  </thead>\n",
       "  <tbody>\n",
       "    <tr>\n",
       "      <th>9</th>\n",
       "      <td>0.662500</td>\n",
       "      <td>0.661111</td>\n",
       "      <td>0.641667</td>\n",
       "      <td>0.620833</td>\n",
       "      <td>0.137500</td>\n",
       "      <td>0.000000</td>\n",
       "      <td>0.000000</td>\n",
       "      <td>0.000000</td>\n",
       "      <td>0.000000</td>\n",
       "      <td>0.000000</td>\n",
       "      <td>...</td>\n",
       "      <td>NaN</td>\n",
       "      <td>NaN</td>\n",
       "      <td>NaN</td>\n",
       "      <td>NaN</td>\n",
       "      <td>NaN</td>\n",
       "      <td>NaN</td>\n",
       "      <td>NaN</td>\n",
       "      <td>NaN</td>\n",
       "      <td>NaN</td>\n",
       "      <td>NaN</td>\n",
       "    </tr>\n",
       "    <tr>\n",
       "      <th>10</th>\n",
       "      <td>0.462500</td>\n",
       "      <td>0.544444</td>\n",
       "      <td>0.295833</td>\n",
       "      <td>0.334722</td>\n",
       "      <td>0.250000</td>\n",
       "      <td>0.223611</td>\n",
       "      <td>0.358333</td>\n",
       "      <td>0.168056</td>\n",
       "      <td>0.283333</td>\n",
       "      <td>0.162500</td>\n",
       "      <td>...</td>\n",
       "      <td>0.0</td>\n",
       "      <td>0.0</td>\n",
       "      <td>NaN</td>\n",
       "      <td>NaN</td>\n",
       "      <td>NaN</td>\n",
       "      <td>NaN</td>\n",
       "      <td>NaN</td>\n",
       "      <td>NaN</td>\n",
       "      <td>NaN</td>\n",
       "      <td>NaN</td>\n",
       "    </tr>\n",
       "    <tr>\n",
       "      <th>17</th>\n",
       "      <td>0.519444</td>\n",
       "      <td>0.380556</td>\n",
       "      <td>0.197222</td>\n",
       "      <td>0.031944</td>\n",
       "      <td>0.000000</td>\n",
       "      <td>0.000000</td>\n",
       "      <td>0.000000</td>\n",
       "      <td>0.000000</td>\n",
       "      <td>0.000000</td>\n",
       "      <td>0.000000</td>\n",
       "      <td>...</td>\n",
       "      <td>NaN</td>\n",
       "      <td>NaN</td>\n",
       "      <td>NaN</td>\n",
       "      <td>NaN</td>\n",
       "      <td>NaN</td>\n",
       "      <td>NaN</td>\n",
       "      <td>NaN</td>\n",
       "      <td>NaN</td>\n",
       "      <td>NaN</td>\n",
       "      <td>NaN</td>\n",
       "    </tr>\n",
       "    <tr>\n",
       "      <th>21</th>\n",
       "      <td>0.572222</td>\n",
       "      <td>0.631944</td>\n",
       "      <td>0.734722</td>\n",
       "      <td>0.579167</td>\n",
       "      <td>0.540278</td>\n",
       "      <td>0.463889</td>\n",
       "      <td>0.447222</td>\n",
       "      <td>0.529167</td>\n",
       "      <td>0.440278</td>\n",
       "      <td>0.376389</td>\n",
       "      <td>...</td>\n",
       "      <td>0.0</td>\n",
       "      <td>0.0</td>\n",
       "      <td>0.0</td>\n",
       "      <td>0.0</td>\n",
       "      <td>0.0</td>\n",
       "      <td>0.0</td>\n",
       "      <td>0.0</td>\n",
       "      <td>0.0</td>\n",
       "      <td>NaN</td>\n",
       "      <td>NaN</td>\n",
       "    </tr>\n",
       "    <tr>\n",
       "      <th>22</th>\n",
       "      <td>0.406944</td>\n",
       "      <td>0.430556</td>\n",
       "      <td>0.468056</td>\n",
       "      <td>0.468056</td>\n",
       "      <td>0.166667</td>\n",
       "      <td>0.316667</td>\n",
       "      <td>0.291667</td>\n",
       "      <td>0.261111</td>\n",
       "      <td>0.481944</td>\n",
       "      <td>0.136111</td>\n",
       "      <td>...</td>\n",
       "      <td>NaN</td>\n",
       "      <td>NaN</td>\n",
       "      <td>NaN</td>\n",
       "      <td>NaN</td>\n",
       "      <td>NaN</td>\n",
       "      <td>NaN</td>\n",
       "      <td>NaN</td>\n",
       "      <td>NaN</td>\n",
       "      <td>NaN</td>\n",
       "      <td>NaN</td>\n",
       "    </tr>\n",
       "  </tbody>\n",
       "</table>\n",
       "<p>5 rows × 59 columns</p>\n",
       "</div>"
      ],
      "text/plain": [
       "              0         1         2         3         4         5         6   \\\n",
       "bee_id                                                                         \n",
       "9       0.662500  0.661111  0.641667  0.620833  0.137500  0.000000  0.000000   \n",
       "10      0.462500  0.544444  0.295833  0.334722  0.250000  0.223611  0.358333   \n",
       "17      0.519444  0.380556  0.197222  0.031944  0.000000  0.000000  0.000000   \n",
       "21      0.572222  0.631944  0.734722  0.579167  0.540278  0.463889  0.447222   \n",
       "22      0.406944  0.430556  0.468056  0.468056  0.166667  0.316667  0.291667   \n",
       "\n",
       "              7         8         9  ...   49   50   51   52   53   54   55  \\\n",
       "bee_id                               ...                                      \n",
       "9       0.000000  0.000000  0.000000 ...  NaN  NaN  NaN  NaN  NaN  NaN  NaN   \n",
       "10      0.168056  0.283333  0.162500 ...  0.0  0.0  NaN  NaN  NaN  NaN  NaN   \n",
       "17      0.000000  0.000000  0.000000 ...  NaN  NaN  NaN  NaN  NaN  NaN  NaN   \n",
       "21      0.529167  0.440278  0.376389 ...  0.0  0.0  0.0  0.0  0.0  0.0  0.0   \n",
       "22      0.261111  0.481944  0.136111 ...  NaN  NaN  NaN  NaN  NaN  NaN  NaN   \n",
       "\n",
       "         56  57  58  \n",
       "bee_id               \n",
       "9       NaN NaN NaN  \n",
       "10      NaN NaN NaN  \n",
       "17      NaN NaN NaN  \n",
       "21      0.0 NaN NaN  \n",
       "22      NaN NaN NaN  \n",
       "\n",
       "[5 rows x 59 columns]"
      ]
     },
     "execution_count": 474,
     "metadata": {},
     "output_type": "execute_result"
    }
   ],
   "source": [
    "pres_by_ages.head()"
   ]
  },
  {
   "cell_type": "code",
   "execution_count": 542,
   "metadata": {},
   "outputs": [],
   "source": [
    "import random"
   ]
  },
  {
   "cell_type": "code",
   "execution_count": 543,
   "metadata": {},
   "outputs": [],
   "source": []
  },
  {
   "cell_type": "code",
   "execution_count": 728,
   "metadata": {},
   "outputs": [
    {
     "data": {
      "text/plain": [
       "Text(0.5,1,'Presence coefficient by day, for bee #709')"
      ]
     },
     "execution_count": 728,
     "metadata": {},
     "output_type": "execute_result"
    },
    {
     "data": {
      "image/png": "[encoded data removed]",
      "text/plain": [
       "<Figure size 432x288 with 1 Axes>"
      ]
     },
     "metadata": {},
     "output_type": "display_data"
    }
   ],
   "source": [
    "i = random.randint(0, pres_by_ages.shape[0])\n",
    "ax = sns.lineplot(data=pres_by_ages.iloc[i])\n",
    "ax.set(ylim=[-0.05,0.9], xlim=[0,40])\n",
    "ax.set_xlabel('Day of life')\n",
    "ax.set_ylabel('Presence coefficient')\n",
    "ax.set_title('Presence coefficient by day, for bee #'+str(i))"
   ]
  },
  {
   "cell_type": "code",
   "execution_count": null,
   "metadata": {},
   "outputs": [],
   "source": []
  },
  {
   "cell_type": "code",
   "execution_count": 564,
   "metadata": {},
   "outputs": [
    {
     "data": {
      "text/html": [
       "<div>\n",
       "<style scoped>\n",
       "    .dataframe tbody tr th:only-of-type {\n",
       "        vertical-align: middle;\n",
       "    }\n",
       "\n",
       "    .dataframe tbody tr th {\n",
       "        vertical-align: top;\n",
       "    }\n",
       "\n",
       "    .dataframe thead th {\n",
       "        text-align: right;\n",
       "    }\n",
       "</style>\n",
       "<table border=\"1\" class=\"dataframe\">\n",
       "  <thead>\n",
       "    <tr style=\"text-align: right;\">\n",
       "      <th></th>\n",
       "      <th>born</th>\n",
       "      <th>died</th>\n",
       "      <th>lifespan</th>\n",
       "      <th>foraging_min_date</th>\n",
       "      <th>foraging_max_date</th>\n",
       "      <th>foraging_min_age</th>\n",
       "      <th>foraging_max_age</th>\n",
       "    </tr>\n",
       "    <tr>\n",
       "      <th>bee_id</th>\n",
       "      <th></th>\n",
       "      <th></th>\n",
       "      <th></th>\n",
       "      <th></th>\n",
       "      <th></th>\n",
       "      <th></th>\n",
       "      <th></th>\n",
       "    </tr>\n",
       "  </thead>\n",
       "  <tbody>\n",
       "    <tr>\n",
       "      <th>135</th>\n",
       "      <td>2016-07-19</td>\n",
       "      <td>2016-08-24</td>\n",
       "      <td>56.0</td>\n",
       "      <td>2016-08-01</td>\n",
       "      <td>2016-08-05</td>\n",
       "      <td>13 days</td>\n",
       "      <td>17 days</td>\n",
       "    </tr>\n",
       "    <tr>\n",
       "      <th>199</th>\n",
       "      <td>2016-07-19</td>\n",
       "      <td>2016-08-20</td>\n",
       "      <td>52.0</td>\n",
       "      <td>2016-07-31</td>\n",
       "      <td>2016-08-18</td>\n",
       "      <td>12 days</td>\n",
       "      <td>30 days</td>\n",
       "    </tr>\n",
       "    <tr>\n",
       "      <th>217</th>\n",
       "      <td>2016-07-19</td>\n",
       "      <td>2016-08-03</td>\n",
       "      <td>35.0</td>\n",
       "      <td>2016-07-28</td>\n",
       "      <td>2016-08-02</td>\n",
       "      <td>9 days</td>\n",
       "      <td>14 days</td>\n",
       "    </tr>\n",
       "    <tr>\n",
       "      <th>220</th>\n",
       "      <td>2016-07-19</td>\n",
       "      <td>2016-08-06</td>\n",
       "      <td>38.0</td>\n",
       "      <td>2016-08-01</td>\n",
       "      <td>2016-08-05</td>\n",
       "      <td>13 days</td>\n",
       "      <td>17 days</td>\n",
       "    </tr>\n",
       "    <tr>\n",
       "      <th>228</th>\n",
       "      <td>2016-07-19</td>\n",
       "      <td>2016-08-10</td>\n",
       "      <td>41.0</td>\n",
       "      <td>2016-07-31</td>\n",
       "      <td>2016-08-05</td>\n",
       "      <td>12 days</td>\n",
       "      <td>17 days</td>\n",
       "    </tr>\n",
       "  </tbody>\n",
       "</table>\n",
       "</div>"
      ],
      "text/plain": [
       "             born       died  lifespan foraging_min_date foraging_max_date  \\\n",
       "bee_id                                                                       \n",
       "135    2016-07-19 2016-08-24      56.0        2016-08-01        2016-08-05   \n",
       "199    2016-07-19 2016-08-20      52.0        2016-07-31        2016-08-18   \n",
       "217    2016-07-19 2016-08-03      35.0        2016-07-28        2016-08-02   \n",
       "220    2016-07-19 2016-08-06      38.0        2016-08-01        2016-08-05   \n",
       "228    2016-07-19 2016-08-10      41.0        2016-07-31        2016-08-05   \n",
       "\n",
       "       foraging_min_age foraging_max_age  \n",
       "bee_id                                    \n",
       "135             13 days          17 days  \n",
       "199             12 days          30 days  \n",
       "217              9 days          14 days  \n",
       "220             13 days          17 days  \n",
       "228             12 days          17 days  "
      ]
     },
     "execution_count": 564,
     "metadata": {},
     "output_type": "execute_result"
    }
   ],
   "source": [
    "foragers_from_groups = pd.read_pickle('/home/mi/rrszynka/mnt/janek/caches/Other/foragers_from_groups.pkl').drop(columns=['bee_id'])\n",
    "\n",
    "forager_lives = pd.merge(lives_from_detections_df, foragers_from_groups, how='inner', on='bee_id')\n",
    "\n",
    "\n",
    "forager_lives.rename(columns={'min':'born', 'max':'died', 'date': 'foraging_min_date'}, inplace=True)\n",
    "forager_lives_short = forager_lives[~forager_lives.index.duplicated()]\n",
    "\n",
    "\n",
    "foraging_max_date = forager_lives[~forager_lives.index.duplicated(keep='last')].foraging_min_date.rename('foraging_max_date')\n",
    "forager_lives_short = pd.merge(forager_lives_short, pd.DataFrame(foraging_max_date), how='inner', on='bee_id')\n",
    "forager_lives_short = forager_lives_short.drop(columns=[\"group_id\", \"location\"])\n",
    "\n",
    "forager_lives_short['foraging_min_age'] = (forager_lives_short.foraging_min_date - forager_lives_short.born)\n",
    "forager_lives_short['foraging_max_age'] = (forager_lives_short.foraging_max_date - forager_lives_short.born)\n",
    "\n",
    "forager_lives_short.head()"
   ]
  },
  {
   "cell_type": "code",
   "execution_count": 566,
   "metadata": {},
   "outputs": [
    {
     "data": {
      "text/plain": [
       "Int64Index([ 135,  199,  217,  220,  228,  233,  253,  319,  337,  392,  400,\n",
       "             539,  555,  644,  648,  675,  710,  727,  769,  785,  818,  845,\n",
       "             860,  885,  912,  931, 1110, 1122, 1180, 1197, 1232, 1362, 1471,\n",
       "            1507, 1518, 1593, 1662, 1689, 1714, 1793, 1799, 1817, 2031, 2106,\n",
       "            2412, 2475, 2570, 2776, 2984, 3037],\n",
       "           dtype='int64', name='bee_id')"
      ]
     },
     "execution_count": 566,
     "metadata": {},
     "output_type": "execute_result"
    }
   ],
   "source": [
    "foragers = forager_lives_short.index "
   ]
  },
  {
   "cell_type": "code",
   "execution_count": 712,
   "metadata": {},
   "outputs": [
    {
     "data": {
      "text/plain": [
       "Text(0.5,1,'Presence coefficient by day, for bee #253\\n with first and last known forage marked')"
      ]
     },
     "execution_count": 712,
     "metadata": {},
     "output_type": "execute_result"
    },
    {
     "data": {
      "image/png": "[encoded data removed]",
      "text/plain": [
       "<Figure size 432x288 with 1 Axes>"
      ]
     },
     "metadata": {},
     "output_type": "display_data"
    }
   ],
   "source": [
    "j = random.randint(0, forager_lives_short.shape[0])\n",
    "foragers = forager_lives_short.index \n",
    "bee = foragers[j]\n",
    "ax = sns.lineplot(data=pres_by_ages.loc[bee])\n",
    "ax.set(ylim=[-0.05,0.9], xlim=[0,40])\n",
    "plt.axvline(x=forager_lives_short.loc[bee].foraging_min_age.days, color='k', linestyle='--', linewidth=1)\n",
    "plt.axvline(x=forager_lives_short.loc[bee].foraging_max_age.days, color='k', linestyle='--', linewidth=1)\n",
    "ax.set_xlabel('Day of life')\n",
    "ax.set_ylabel('Presence coefficient')\n",
    "ax.set_title('Presence coefficient by day, for bee #'+str(foragers[j])+\"\\n with first and last known forage marked\")"
   ]
  },
  {
   "cell_type": "code",
   "execution_count": null,
   "metadata": {},
   "outputs": [],
   "source": []
  },
  {
   "cell_type": "code",
   "execution_count": null,
   "metadata": {},
   "outputs": [],
   "source": []
  },
  {
   "cell_type": "code",
   "execution_count": null,
   "metadata": {},
   "outputs": [],
   "source": []
  },
  {
   "cell_type": "code",
   "execution_count": null,
   "metadata": {},
   "outputs": [],
   "source": []
  },
  {
   "cell_type": "code",
   "execution_count": null,
   "metadata": {},
   "outputs": [],
   "source": []
  },
  {
   "cell_type": "code",
   "execution_count": null,
   "metadata": {},
   "outputs": [],
   "source": []
  },
  {
   "cell_type": "code",
   "execution_count": null,
   "metadata": {},
   "outputs": [],
   "source": []
  },
  {
   "cell_type": "code",
   "execution_count": null,
   "metadata": {},
   "outputs": [],
   "source": []
  },
  {
   "cell_type": "code",
   "execution_count": null,
   "metadata": {},
   "outputs": [],
   "source": []
  }
 ],
 "metadata": {
  "kernelspec": {
   "display_name": "Python 3",
   "language": "python",
   "name": "python3"
  },
  "language_info": {
   "codemirror_mode": {
    "name": "ipython",
    "version": 3
   },
   "file_extension": ".py",
   "mimetype": "text/x-python",
   "name": "python",
   "nbconvert_exporter": "python",
   "pygments_lexer": "ipython3",
   "version": "3.5.2"
  }
 },
 "nbformat": 4,
 "nbformat_minor": 2
}
