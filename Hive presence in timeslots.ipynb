{
 "cells": [
  {
   "cell_type": "markdown",
   "metadata": {},
   "source": [
    "## For each bee id, be able to provide the number of detections in the hive in the given timeslot."
   ]
  },
  {
   "cell_type": "code",
   "execution_count": 101,
   "metadata": {},
   "outputs": [],
   "source": [
    "%matplotlib inline\n",
    "\n",
    "import matplotlib.pyplot as plt\n",
    "import matplotlib\n",
    "import seaborn as sns\n",
    "import numpy as np\n",
    "import pandas as pd\n",
    "import psycopg2\n",
    "import psycopg2.extras\n",
    "from datetime import timedelta, datetime\n",
    "import time\n",
    "\n",
    "import bb_utils\n",
    "import bb_utils.meta\n",
    "import bb_utils.ids\n",
    "import bb_backend\n",
    "from bb_backend.api import FramePlotter, VideoPlotter\n",
    "from bb_backend.api import get_plot_coordinates, transform_axis_coordinates, get_image_origin\n",
    "\n",
    "bb_backend.api.server_adress = 'localhost:8000'\n",
    "connect_str = \"\"\"dbname='beesbook' user='reader' host='tonic.imp.fu-berlin.de' \n",
    "                 password='' application_name='mehmed'\"\"\""
   ]
  },
  {
   "cell_type": "code",
   "execution_count": 113,
   "metadata": {},
   "outputs": [
    {
     "name": "stdout",
     "output_type": "stream",
     "text": [
      "2016-08-23 00:00:00\n"
     ]
    }
   ],
   "source": [
    "num_hours = 12\n",
    "num_intervals_per_hour = 60\n",
    "datetime_start = datetime(2016, 8, 23)\n",
    "print(datetime_start)\n",
    "#(First detections are on 20.07.2016, last are 19.09.2016 (3 months duration))"
   ]
  },
  {
   "cell_type": "code",
   "execution_count": 114,
   "metadata": {},
   "outputs": [
    {
     "name": "stdout",
     "output_type": "stream",
     "text": [
      "2016-08-23 00:00:00\n"
     ]
    }
   ],
   "source": [
    "#Define bee IDs by getting a known forager group\n",
    "meta = bb_utils.meta.BeeMetaInfo()\n",
    "\n",
    "group_id = 20\n",
    "bee_ids_from_group = map(lambda i: i.as_ferwar(), \n",
    "                list(map(bb_utils.ids.BeesbookID.from_dec_12, meta.get_foragergroup(group_id).dec12)))\n",
    "\n",
    "bee_ids_from_group = list(bee_ids_from_group)\n",
    "group = meta.get_foragergroup(group_id)\n",
    "print(group.date)"
   ]
  },
  {
   "cell_type": "markdown",
   "metadata": {},
   "source": [
    "### Reading from saved CSV files"
   ]
  },
  {
   "cell_type": "code",
   "execution_count": 104,
   "metadata": {},
   "outputs": [
    {
     "name": "stdout",
     "output_type": "stream",
     "text": [
      "Processing /mnt/storage/janek/2016-08-23_00:00:00.csv before the loop\n",
      "Processing 2016-08-23_01:00:00.csv\n",
      "Num. rows after appending: 6795262\n",
      "Processing 2016-08-23_02:00:00.csv\n",
      "Num. rows after appending: 10195578\n",
      "Processing 2016-08-23_03:00:00.csv\n",
      "Num. rows after appending: 13643441\n",
      "Processing 2016-08-23_04:00:00.csv\n",
      "Num. rows after appending: 17171049\n",
      "Processing 2016-08-23_05:00:00.csv\n",
      "Num. rows after appending: 20520678\n",
      "Processing 2016-08-23_06:00:00.csv\n",
      "Num. rows after appending: 22617753\n",
      "Processing 2016-08-23_07:00:00.csv\n",
      "Num. rows after appending: 25885315\n",
      "Processing 2016-08-23_08:00:00.csv\n",
      "Num. rows after appending: 29422176\n",
      "Processing 2016-08-23_09:00:00.csv\n",
      "Num. rows after appending: 32896095\n",
      "Processing 2016-08-23_10:00:00.csv\n",
      "Num. rows after appending: 36475063\n",
      "Processing 2016-08-23_11:00:00.csv\n",
      "Num. rows after appending: 40180078\n"
     ]
    }
   ],
   "source": [
    "#for testing: a single csv with hardcoded name\n",
    "#sample_df = pd.read_csv('2016-08-23_00:00:00.csv', parse_dates=['timestamp'])\n",
    "\n",
    "location_prefix = \"/mnt/storage/janek/\" # or \"\"\n",
    "\n",
    "#Loading first element before the loop, \n",
    "start_csv_name = (datetime_start).strftime(\"%Y-%m-%d_%H:%M:%S\")+\".csv\"\n",
    "print('Processing '+location_prefix+start_csv_name+' before the loop')\n",
    "detections_df = pd.read_csv(location_prefix+start_csv_name, parse_dates=['timestamp'])\n",
    "\n",
    "\n",
    "#TODO: Don't rerun CSV table with every interval length change\n",
    "#read and concat a number of hour-long csvs (note: thekla memory crashes if >16)\n",
    "for i in range(1, num_hours):\n",
    "    csv_name = (datetime_start + timedelta(hours=i)).strftime(\"%Y-%m-%d_%H:%M:%S\")+\".csv\"\n",
    "    print('Processing '+csv_name)\n",
    "    new_data = pd.read_csv(location_prefix+csv_name, parse_dates=['timestamp'])\n",
    "    detections_df = pd.concat([detections_df, new_data])\n",
    "    print('Num. rows after appending: '+str(detections_df.shape[0]))"
   ]
  },
  {
   "cell_type": "code",
   "execution_count": 105,
   "metadata": {},
   "outputs": [
    {
     "name": "stdout",
     "output_type": "stream",
     "text": [
      "(40180078, 14)\n"
     ]
    }
   ],
   "source": [
    "print(detections_df.shape)"
   ]
  },
  {
   "cell_type": "code",
   "execution_count": 115,
   "metadata": {},
   "outputs": [],
   "source": [
    "\n",
    "#interval length is the total observation period divided by total number of intervals\n",
    "total_num_intervals = (num_intervals_per_hour*num_hours)\n",
    "interval_length = timedelta(hours=num_hours) // (num_intervals_per_hour*num_hours)\n",
    "\n",
    "# prepare dataframe with zeros in the shape [bees x total_num_intervals]\n",
    "# append bee_ids from the left\n",
    "intervals = pd.DataFrame(data=np.zeros([len(bee_ids_from_group),total_num_intervals])) \n",
    "bee_ids = pd.DataFrame(data={'id': bee_ids_from_group})\n",
    "presence_df = pd.concat([bee_ids, intervals], axis=1)"
   ]
  },
  {
   "cell_type": "code",
   "execution_count": 116,
   "metadata": {},
   "outputs": [
    {
     "name": "stderr",
     "output_type": "stream",
     "text": [
      "/usr/local/lib/python3.5/dist-packages/ipykernel_launcher.py:14: FutureWarning: set_value is deprecated and will be removed in a future release. Please use .at[] or .iat[] accessors instead\n",
      "  \n"
     ]
    }
   ],
   "source": [
    "#Iterate over intervals and over detections\n",
    "#If a bee is detected within a given interval, mark the cell for that bee and interval with a 1\n",
    "\n",
    "interval_starttime = datetime_start\n",
    "for interval in range(total_num_intervals): \n",
    "    #choose detections for interval\n",
    "    interval_endtime = interval_starttime + interval_length\n",
    "    before = detections_df['timestamp'] >= interval_starttime \n",
    "    after = detections_df['timestamp'] < interval_endtime\n",
    "    interval_detections = detections_df[before & after]\n",
    "    bee_row_number = 0\n",
    "    for b in presence_df['id']:\n",
    "        if b in interval_detections['bee_id'].unique():\n",
    "            presence_df.set_value(bee_row_number, interval, 1)\n",
    "        bee_row_number += 1 \n",
    "    interval_starttime = interval_endtime"
   ]
  },
  {
   "cell_type": "code",
   "execution_count": 117,
   "metadata": {},
   "outputs": [
    {
     "name": "stdout",
     "output_type": "stream",
     "text": [
      "2016-08-23 00:00:00\n"
     ]
    },
    {
     "data": {
      "text/html": [
       "<div>\n",
       "<style scoped>\n",
       "    .dataframe tbody tr th:only-of-type {\n",
       "        vertical-align: middle;\n",
       "    }\n",
       "\n",
       "    .dataframe tbody tr th {\n",
       "        vertical-align: top;\n",
       "    }\n",
       "\n",
       "    .dataframe thead th {\n",
       "        text-align: right;\n",
       "    }\n",
       "</style>\n",
       "<table border=\"1\" class=\"dataframe\">\n",
       "  <thead>\n",
       "    <tr style=\"text-align: right;\">\n",
       "      <th></th>\n",
       "      <th>id</th>\n",
       "      <th>0</th>\n",
       "    </tr>\n",
       "  </thead>\n",
       "  <tbody>\n",
       "    <tr>\n",
       "      <th>0</th>\n",
       "      <td>1799</td>\n",
       "      <td>17.5</td>\n",
       "    </tr>\n",
       "    <tr>\n",
       "      <th>1</th>\n",
       "      <td>1593</td>\n",
       "      <td>21.5</td>\n",
       "    </tr>\n",
       "    <tr>\n",
       "      <th>2</th>\n",
       "      <td>2106</td>\n",
       "      <td>22.0</td>\n",
       "    </tr>\n",
       "    <tr>\n",
       "      <th>3</th>\n",
       "      <td>1662</td>\n",
       "      <td>22.0</td>\n",
       "    </tr>\n",
       "    <tr>\n",
       "      <th>4</th>\n",
       "      <td>1180</td>\n",
       "      <td>29.0</td>\n",
       "    </tr>\n",
       "    <tr>\n",
       "      <th>5</th>\n",
       "      <td>2984</td>\n",
       "      <td>11.0</td>\n",
       "    </tr>\n",
       "    <tr>\n",
       "      <th>6</th>\n",
       "      <td>1197</td>\n",
       "      <td>10.5</td>\n",
       "    </tr>\n",
       "    <tr>\n",
       "      <th>7</th>\n",
       "      <td>1714</td>\n",
       "      <td>11.0</td>\n",
       "    </tr>\n",
       "    <tr>\n",
       "      <th>8</th>\n",
       "      <td>1471</td>\n",
       "      <td>24.5</td>\n",
       "    </tr>\n",
       "    <tr>\n",
       "      <th>9</th>\n",
       "      <td>1232</td>\n",
       "      <td>15.5</td>\n",
       "    </tr>\n",
       "    <tr>\n",
       "      <th>10</th>\n",
       "      <td>2031</td>\n",
       "      <td>23.0</td>\n",
       "    </tr>\n",
       "  </tbody>\n",
       "</table>\n",
       "</div>"
      ],
      "text/plain": [
       "      id     0\n",
       "0   1799  17.5\n",
       "1   1593  21.5\n",
       "2   2106  22.0\n",
       "3   1662  22.0\n",
       "4   1180  29.0\n",
       "5   2984  11.0\n",
       "6   1197  10.5\n",
       "7   1714  11.0\n",
       "8   1471  24.5\n",
       "9   1232  15.5\n",
       "10  2031  23.0"
      ]
     },
     "execution_count": 117,
     "metadata": {},
     "output_type": "execute_result"
    }
   ],
   "source": [
    "#Apply rolling median to filter noise\n",
    "#use diff to identify entries (with 1) and exits (with -1)\n",
    "#(sum_of_abs / 2) gives us the presumed number of trips a bee takes \n",
    "\n",
    "rolled = presence_df.iloc[:, 1:].rolling(window=3,center=True,axis=1).median()\n",
    "diffed = rolled.diff(axis=1)\n",
    "summed = diffed.abs().sum(axis=1) /2\n",
    "\n",
    "\n",
    "pres_copy = presence_df\n",
    "pres_copy.iloc[:, 1:] = rolled \n",
    "sumtab = pd.concat([pres_copy['id'],summed],axis=1)\n",
    "print(datetime_start)\n",
    "sumtab\n",
    "\n",
    "# sumtab"
   ]
  },
  {
   "cell_type": "code",
   "execution_count": null,
   "metadata": {},
   "outputs": [],
   "source": []
  },
  {
   "cell_type": "code",
   "execution_count": null,
   "metadata": {},
   "outputs": [],
   "source": []
  }
 ],
 "metadata": {
  "kernelspec": {
   "display_name": "Python 3",
   "language": "python",
   "name": "python3"
  },
  "language_info": {
   "codemirror_mode": {
    "name": "ipython",
    "version": 3
   },
   "file_extension": ".py",
   "mimetype": "text/x-python",
   "name": "python",
   "nbconvert_exporter": "python",
   "pygments_lexer": "ipython3",
   "version": "3.5.2"
  }
 },
 "nbformat": 4,
 "nbformat_minor": 2
}
