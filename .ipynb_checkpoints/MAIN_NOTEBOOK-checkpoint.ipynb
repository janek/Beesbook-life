{
 "cells": [
  {
   "cell_type": "markdown",
   "metadata": {},
   "source": [
    "## For each bee id, be able to provide the number of detections in the hive in the given timeslot."
   ]
  },
  {
   "cell_type": "code",
   "execution_count": 1,
   "metadata": {},
   "outputs": [
    {
     "name": "stderr",
     "output_type": "stream",
     "text": [
      "/usr/local/lib/python3.5/dist-packages/psycopg2/__init__.py:144: UserWarning: The psycopg2 wheel package will be renamed from release 2.8; in order to keep installing from binary please use \"pip install psycopg2-binary\" instead. For details see: <http://initd.org/psycopg/docs/install.html#binary-install-from-pypi>.\n",
      "  \"\"\")\n"
     ]
    }
   ],
   "source": [
    "%matplotlib inline\n",
    "\n",
    "import matplotlib.pyplot as plt\n",
    "import matplotlib\n",
    "import math\n",
    "import seaborn as sns\n",
    "import numpy as np\n",
    "import pandas as pd\n",
    "import psycopg2\n",
    "import psycopg2.extras\n",
    "from datetime import timedelta, datetime\n",
    "from bee_helpers import detections_to_presence\n",
    "import time\n",
    "\n",
    "import bb_utils\n",
    "import bb_utils.meta\n",
    "import bb_utils.ids\n",
    "import bb_backend\n",
    "from bb_backend.api import FramePlotter, VideoPlotter\n",
    "from bb_backend.api import get_plot_coordinates, transform_axis_coordinates, get_image_origin\n",
    "\n",
    "bb_backend.api.server_adress = 'localhost:8000'\n",
    "connect_str = \"\"\"dbname='beesbook' user='reader' host='tonic.imp.fu-berlin.de' \n",
    "                 password='' application_name='mehmed'\"\"\"\n",
    "\n",
    "meta = bb_utils.meta.BeeMetaInfo()"
   ]
  },
  {
   "cell_type": "markdown",
   "metadata": {},
   "source": [
    "### Define constant parameters "
   ]
  },
  {
   "cell_type": "code",
   "execution_count": 2,
   "metadata": {},
   "outputs": [
    {
     "name": "stdout",
     "output_type": "stream",
     "text": [
      "Starting from 2016-08-23 00:00:00 with number of hours: 1\n",
      "\n",
      "Bin size for the trip lengths plot: 24 \n",
      "Number of intervals per hour: 60 \n",
      "Rolling win size: 5\n"
     ]
    }
   ],
   "source": [
    "#Parameters for loading data, currently using known date of 23th, august 2016)\n",
    "num_hours = 1\n",
    "datetime_start = datetime(2016, 8, 23)\n",
    "\n",
    "\n",
    "#Parameters for presenting data\n",
    "bin_size_in_hours = 24\n",
    "\n",
    "#Hyperparameters for the data wrangling process\n",
    "num_intervals_per_hour = 60\n",
    "rolling_window_size = 5\n",
    "\n",
    "print(\"Starting from\", datetime_start, \"with number of hours:\", num_hours)\n",
    "print(\"\\nBin size for the trip lengths plot:\", bin_size_in_hours, \"\\nNumber of intervals per hour:\", num_intervals_per_hour, \"\\nRolling win size:\", rolling_window_size)\n",
    "\n",
    "#(NOTE: First detections are on 20.07.2016, last are 19.09.2016 (3 months duration))"
   ]
  },
  {
   "cell_type": "markdown",
   "metadata": {},
   "source": [
    "### Get a group of bees to work on and calculate their ages"
   ]
  },
  {
   "cell_type": "code",
   "execution_count": 3,
   "metadata": {},
   "outputs": [],
   "source": [
    "#Getting a known forager group from manual labeling experiments\n",
    "meta = bb_utils.meta.BeeMetaInfo()\n",
    "\n",
    "group_id = 20\n",
    "\n",
    "bee_ids_as_beesbookid_format = list(map(bb_utils.ids.BeesbookID.from_dec_12, meta.get_foragergroup(group_id).dec12))\n",
    "bee_ids_from_group = map(lambda i: i.as_ferwar(), bee_ids_as_beesbookid_format) #as ferwar\n",
    "\n",
    "bee_ids_from_group = list(bee_ids_from_group)"
   ]
  },
  {
   "cell_type": "code",
   "execution_count": 4,
   "metadata": {},
   "outputs": [],
   "source": [
    "#Calculate the ages for each bee of the forager group\n",
    "bee_days_since_birth = [] \n",
    "\n",
    "for id in bee_ids_as_beesbookid_format:\n",
    "    bee_days_since_birth.append((datetime_start - meta.get_hatchdate(id)).days)"
   ]
  },
  {
   "cell_type": "markdown",
   "metadata": {},
   "source": [
    "### Process and save detections to presence form"
   ]
  },
  {
   "cell_type": "code",
   "execution_count": 6,
   "metadata": {},
   "outputs": [
    {
     "name": "stdout",
     "output_type": "stream",
     "text": [
      "Processing /mnt/storage/janek/2016-08-23_00:00:00.csv before the loop\n"
     ]
    },
    {
     "name": "stderr",
     "output_type": "stream",
     "text": [
      "/mnt/storage/janek/Beesbook-life/bee_helpers.py:54: FutureWarning: set_value is deprecated and will be removed in a future release. Please use .at[] or .iat[] accessors instead\n",
      "  presence_df.set_value(bee_row_number, interval, 1)\n"
     ]
    },
    {
     "name": "stdout",
     "output_type": "stream",
     "text": [
      "0 , SAVED /mnt/storage/janek/PRESENCE-2016-08-23_00_num_hours_1_int_size_60.csv\n"
     ]
    }
   ],
   "source": [
    "csv_name = detections_to_presence(num_hours, datetime_start, num_intervals_per_hour, bee_ids_from_group)\n",
    "#NOTE: consider removing from this file altogether\n",
    "#TODO: tqdm"
   ]
  },
  {
   "cell_type": "code",
   "execution_count": 7,
   "metadata": {},
   "outputs": [
    {
     "ename": "TypeError",
     "evalue": "Can't convert 'NoneType' object to str implicitly",
     "output_type": "error",
     "traceback": [
      "\u001b[0;31m---------------------------------------------------------------------------\u001b[0m",
      "\u001b[0;31mTypeError\u001b[0m                                 Traceback (most recent call last)",
      "\u001b[0;32m<ipython-input-7-ee3a3136e45b>\u001b[0m in \u001b[0;36m<module>\u001b[0;34m()\u001b[0m\n\u001b[1;32m      1\u001b[0m \u001b[0;31m#Loading the intermediate result (saved from prevoius cell)\u001b[0m\u001b[0;34m\u001b[0m\u001b[0;34m\u001b[0m\u001b[0m\n\u001b[0;32m----> 2\u001b[0;31m \u001b[0mprint\u001b[0m\u001b[0;34m(\u001b[0m\u001b[0;34m'Loading '\u001b[0m\u001b[0;34m+\u001b[0m\u001b[0mcsv_name\u001b[0m\u001b[0;34m)\u001b[0m\u001b[0;34m\u001b[0m\u001b[0m\n\u001b[0m\u001b[1;32m      3\u001b[0m \u001b[0mpresence_df\u001b[0m \u001b[0;34m=\u001b[0m \u001b[0mpd\u001b[0m\u001b[0;34m.\u001b[0m\u001b[0mread_csv\u001b[0m\u001b[0;34m(\u001b[0m\u001b[0mlocation_prefix\u001b[0m\u001b[0;34m+\u001b[0m\u001b[0mcsv_name\u001b[0m\u001b[0;34m)\u001b[0m\u001b[0;34m\u001b[0m\u001b[0m\n\u001b[1;32m      4\u001b[0m \u001b[0mprint\u001b[0m\u001b[0;34m(\u001b[0m\u001b[0;34m'Num. rows after appending: '\u001b[0m\u001b[0;34m+\u001b[0m\u001b[0mstr\u001b[0m\u001b[0;34m(\u001b[0m\u001b[0mpresence_df\u001b[0m\u001b[0;34m.\u001b[0m\u001b[0mshape\u001b[0m\u001b[0;34m)\u001b[0m\u001b[0;34m)\u001b[0m\u001b[0;34m\u001b[0m\u001b[0m\n\u001b[1;32m      5\u001b[0m \u001b[0;31m#Note that this adds an unwanted column in pres_df that causes trouble later - remove it here\u001b[0m\u001b[0;34m\u001b[0m\u001b[0;34m\u001b[0m\u001b[0m\n",
      "\u001b[0;31mTypeError\u001b[0m: Can't convert 'NoneType' object to str implicitly"
     ]
    }
   ],
   "source": [
    "#Loading the intermediate result (saved from prevoius cell)\n",
    "print('Loading '+csv_name)\n",
    "presence_df = pd.read_csv(location_prefix+csv_name)\n",
    "print('Num. rows after appending: '+str(presence_df.shape))\n",
    "#Note that this adds an unwanted column in pres_df that causes trouble later - remove it here\n",
    "#presence_df"
   ]
  },
  {
   "cell_type": "markdown",
   "metadata": {},
   "source": [
    "### Computing presence table"
   ]
  },
  {
   "cell_type": "code",
   "execution_count": null,
   "metadata": {},
   "outputs": [],
   "source": [
    "#Get lengths of bee trip intervals \n",
    "presence_temp2 = presence_df.iloc[:, 1:]\n",
    "presence_temp2"
   ]
  },
  {
   "cell_type": "code",
   "execution_count": null,
   "metadata": {},
   "outputs": [],
   "source": [
    "# presence_temp2=presence_temp2.iloc[:, :-1]\n",
    "presence_temp2"
   ]
  },
  {
   "cell_type": "code",
   "execution_count": null,
   "metadata": {},
   "outputs": [],
   "source": [
    "# presence_temp2.get_value(1799, 10)\n",
    "# pd.concat([presence_df[]\n",
    "# presence_temp2.iat[0, 10]\n",
    "\n",
    "presence_temp2.iloc[:,1]"
   ]
  },
  {
   "cell_type": "code",
   "execution_count": null,
   "metadata": {},
   "outputs": [],
   "source": [
    "trip_lengths = []\n",
    "\n",
    "for bee in range(0, presence_temp2.shape[0]):\n",
    "    curr_trip_length = 0\n",
    "    curr_bee_trip_lenghts = []\n",
    "    #fill with trip lengths\n",
    "    for interval in range(total_num_intervals): #t: 2880\n",
    "        #get the 0/1 value from presence_df at the given (bee, interval)\n",
    "        bool_is_present = presence_temp2.iat[bee, interval]\n",
    "        if bool_is_present == 0.0: #bee not present in this interval\n",
    "            if curr_trip_length != 0: #if we had a value for a trip length -> means trip ends here -> add it to trips and reset the counter\n",
    "                curr_bee_trip_lenghts.append(curr_trip_length)\n",
    "                curr_trip_length = 0\n",
    "        if bool_is_present == 1.0: #bee present in this interval, means trip is underway -> increment the length counter \n",
    "            curr_trip_length += 1\n",
    "    trip_lengths.append(curr_bee_trip_lenghts)\n"
   ]
  },
  {
   "cell_type": "code",
   "execution_count": null,
   "metadata": {},
   "outputs": [],
   "source": [
    "pd.DataFrame(trip_lengths)"
   ]
  },
  {
   "cell_type": "code",
   "execution_count": null,
   "metadata": {},
   "outputs": [],
   "source": [
    "# np.save('trip_lenghts_23_08.npy', trip_lengths)    # .npy extension is added if not given\n",
    "# test = np.load('trip_lenghts_23_08.npy')\n",
    "\n",
    "trip_lengths\n",
    "\n",
    "\n",
    "flat_list = [item for sublist in trip_lengths for item in sublist]\n",
    "flat_series = pd.Series(flat_list)\n",
    "\n",
    "\n",
    "plt.figure(figsize=(30,10))\n",
    "\n",
    "\n",
    "flat_series_filtered = flat_series[flat_series<20]\n",
    "# flat_series.hist(bins=680)\n",
    "plt.title('Histogram of trip lengths, num_intvs = '+str(num_intervals_per_hour)+', unrolled')\n",
    "flat_series"
   ]
  },
  {
   "cell_type": "code",
   "execution_count": null,
   "metadata": {},
   "outputs": [],
   "source": [
    "#Preparing for rolling median\n",
    "num_nans_to_clean = math.floor(rolling_window_size/2)\n",
    "\n",
    "#apply copies of the first and last column as offset for the rolling window\n",
    "first_col = presence_df.iloc[:, 1:2]\n",
    "last_col = presence_df.iloc[:, -1:]\n",
    "\n",
    "presence_temp = presence_df.iloc[:, 1:]\n",
    "\n",
    "presence = presence_df.iloc[:, 1:]\n",
    "for i in range(0,num_nans_to_clean):\n",
    "    presence_temp = pd.concat([first_col, presence_temp, last_col] ,axis=1)\n",
    "    \n",
    "presence_df"
   ]
  },
  {
   "cell_type": "code",
   "execution_count": null,
   "metadata": {},
   "outputs": [],
   "source": [
    "# Applying rolling median window, to filter out noise in the dataframe\n",
    "rolled = presence_temp.rolling(window=rolling_window_size,center=True,axis=1).median()\n",
    "\n",
    "#clean up to get rid of the NaNs\n",
    "rolled = rolled.iloc[:, num_nans_to_clean:-num_nans_to_clean]"
   ]
  },
  {
   "cell_type": "code",
   "execution_count": null,
   "metadata": {},
   "outputs": [],
   "source": [
    "#trip lengths again\n",
    "rolled_trip_lenghs = []\n",
    "\n",
    "for bee in range(0, rolled.shape[0]):\n",
    "    curr_trip_length = 0\n",
    "    curr_bee_trip_lenghts = []\n",
    "    #fill with trip lengths\n",
    "    for interval in range(total_num_intervals):\n",
    "        \n",
    "        #get the 0/1 value from presence_df at the given (bee, interval)\n",
    "        bool_is_present = rolled.iat[bee, interval]\n",
    "\n",
    "        if bool_is_present == 0.0: #bee not present in this interval\n",
    "            if curr_trip_length != 0: #if we had a value for a trip length, add it to trips and reset the counter\n",
    "                curr_bee_trip_lenghts.append(curr_trip_length)\n",
    "                curr_trip_length = 0\n",
    "        if bool_is_present == 1.0: #bee present in this interval, make the trip longer\n",
    "            curr_trip_length += 1\n",
    "    rolled_trip_lenghs.append(curr_bee_trip_lenghts)\n",
    "\n",
    " \n",
    "rolled.head()"
   ]
  },
  {
   "cell_type": "code",
   "execution_count": null,
   "metadata": {},
   "outputs": [],
   "source": [
    "flat_list = [item for sublist in rolled_trip_lenghs for item in sublist]\n",
    "flat_series = pd.Series(flat_list)\n",
    "\n",
    "plt.figure(figsize=(30,10))\n",
    "\n",
    "\n",
    "flat_series_filtered = flat_series[flat_series<20]\n",
    "flat_series.hist(bins=340)\n",
    "plt.title('Histogram of trip lengths, num_intvs = '+str(num_intervals_per_hour)+', roll_winsize = '+str(rolling_window_size)+'')"
   ]
  },
  {
   "cell_type": "code",
   "execution_count": null,
   "metadata": {},
   "outputs": [],
   "source": [
    "#use diff to identify entries (with 1) and exits (with -1)\n",
    "#(sum_of_abs / 2) gives us the presumed number of trips a bee takes \n",
    "diffed = rolled.diff(axis=1)\n",
    "diffed.iloc[:,0] = np.zeros([11,1]) #clean out a column of NaNs \n",
    "diffed.head()\n",
    "\n",
    "#a copy to be used to preview rolled + diffed presence \n",
    "#not actually used in further calculations (they are just based on 'diffed')\n",
    "presence_df_copy = presence_df\n",
    "presence_df_copy.iloc[:, 1:] = diffed \n",
    "\n",
    "trips_df = presence_df['id'] #for combining results in one table"
   ]
  },
  {
   "cell_type": "code",
   "execution_count": null,
   "metadata": {},
   "outputs": [],
   "source": [
    "presence_df_copy2 = presence_df_copy\n",
    "presence_df_copy2.iloc[:,0] = bee_days_since_birth\n",
    "presence_df_copy2.head()"
   ]
  },
  {
   "cell_type": "code",
   "execution_count": null,
   "metadata": {},
   "outputs": [],
   "source": [
    "#for loop config\n",
    "bin_starttime = datetime_start\n",
    "num_intervals_per_bin = num_intervals_per_hour*bin_size_in_hours\n",
    "total_num_bins = int(num_hours / bin_size_in_hours)\n",
    "\n",
    "print(\"num_intervals_per_bin: \", num_intervals_per_bin, \"total_num_bins: \", total_num_bins)\n",
    "for bin_nr in range(total_num_bins): \n",
    "    \n",
    "    start_index = bin_nr*num_intervals_per_bin\n",
    "    end_index = start_index + num_intervals_per_bin\n",
    "    \n",
    "    new_bin = diffed.iloc[:, start_index:end_index]\n",
    "    \n",
    "    #limit down to the right bin:\n",
    "    #read num_intervals_per_hour*bin_size_per_hour columns (as each column represents one interval)\n",
    "    \n",
    "    summed = new_bin.abs().sum(axis=1) / 2\n",
    "    summed.name = bin_nr\n",
    "    trips_df = pd.concat([trips_df,summed],axis=1) #add this interval to the trips table\n",
    "    #update loop index\n",
    "    \n",
    "\n",
    "# TODO:use a new variable instead of reusing it\n",
    "# Change values to amount per hour instead of per interval\n",
    "trips_df = trips_df * 3600 / num_intervals_per_hour"
   ]
  },
  {
   "cell_type": "code",
   "execution_count": null,
   "metadata": {},
   "outputs": [],
   "source": [
    "trips_ser = pd.Series(np.array(trips_df.mean(axis=0))[1:])\n",
    "trips_ser.plot(kind='bar')\n",
    "# trips_df"
   ]
  },
  {
   "cell_type": "code",
   "execution_count": null,
   "metadata": {},
   "outputs": [],
   "source": [
    "#saving (name still incomplete)\n",
    "date_string = (datetime_start).strftime(\"%Y-%m-%d_%H:%M:%S\")+\".csv\"\n",
    "trips_df.to_csv('/mnt/storage/janek/'+'TRIPS-'+date_string+'-'+'h'+'.csv')"
   ]
  },
  {
   "cell_type": "code",
   "execution_count": null,
   "metadata": {},
   "outputs": [],
   "source": [
    "#Create dataframe with age and amount of trips\n",
    "summed_age=pd.concat([pd.Series(bee_days_since_birth),summed],axis=1)\n",
    "summed_age.columns=['age','amount']\n",
    "summed_age"
   ]
  },
  {
   "cell_type": "code",
   "execution_count": null,
   "metadata": {},
   "outputs": [],
   "source": [
    "#Plot amount of trips relative to age of bee\n",
    "summed_age.plot(x='age',y='amount',style='o')"
   ]
  },
  {
   "cell_type": "code",
   "execution_count": null,
   "metadata": {},
   "outputs": [],
   "source": []
  }
 ],
 "metadata": {
  "kernelspec": {
   "display_name": "Python 3",
   "language": "python",
   "name": "python3"
  },
  "language_info": {
   "codemirror_mode": {
    "name": "ipython",
    "version": 3
   },
   "file_extension": ".py",
   "mimetype": "text/x-python",
   "name": "python",
   "nbconvert_exporter": "python",
   "pygments_lexer": "ipython3",
   "version": "3.5.2"
  }
 },
 "nbformat": 4,
 "nbformat_minor": 2
}
