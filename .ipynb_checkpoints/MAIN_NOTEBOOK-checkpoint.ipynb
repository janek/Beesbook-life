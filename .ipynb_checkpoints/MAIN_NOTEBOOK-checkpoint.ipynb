{
 "cells": [
  {
   "cell_type": "code",
   "execution_count": 1,
   "metadata": {},
   "outputs": [
    {
     "name": "stderr",
     "output_type": "stream",
     "text": [
      "/usr/local/lib/python3.5/dist-packages/psycopg2/__init__.py:144: UserWarning: The psycopg2 wheel package will be renamed from release 2.8; in order to keep installing from binary please use \"pip install psycopg2-binary\" instead. For details see: <http://initd.org/psycopg/docs/install.html#binary-install-from-pypi>.\n",
      "  \"\"\")\n"
     ]
    }
   ],
   "source": [
    "%matplotlib inline\n",
    "#TODO: cleanup imports\n",
    "import matplotlib.pyplot as plt\n",
    "import matplotlib\n",
    "import math\n",
    "import seaborn as sns\n",
    "import numpy as np\n",
    "import pandas as pd\n",
    "import psycopg2\n",
    "import psycopg2.extras\n",
    "from datetime import timedelta, datetime\n",
    "import bee_helpers as bh\n",
    "from bee_helpers import cache_location_prefix, detections_to_presence, calc_trip_lengths, get_forager_bee_ids, get_random_bee_ids, get_all_bee_ids, create_presence_cache_filename\n",
    "import time\n",
    "\n",
    "from tqdm import tqdm_notebook\n",
    "from tqdm import tqdm\n",
    "from pathlib import Path\n",
    "\n",
    "import bb_utils\n",
    "import bb_utils.meta\n",
    "import bb_utils.ids\n",
    "import bb_backend\n",
    "from bb_backend.api import FramePlotter, VideoPlotter\n",
    "from bb_backend.api import get_plot_coordinates, transform_axis_coordinates, get_image_origin\n",
    "\n",
    "\n",
    "from collections import Counter\n",
    "\n",
    "bb_backend.api.server_adress = 'localhost:8000'\n",
    "connect_str = \"\"\"dbname='beesbook' user='reader' host='tonic.imp.fu-berlin.de' \n",
    "                 password='' application_name='mehmed'\"\"\"\n",
    "\n",
    "meta = bb_utils.meta.BeeMetaInfo()\n",
    "\n",
    "meta1 = bb_utils.meta\n",
    "BeesbookID = bb_utils.ids.BeesbookID"
   ]
  },
  {
   "cell_type": "markdown",
   "metadata": {},
   "source": [
    "### Define constant parameters "
   ]
  },
  {
   "cell_type": "code",
   "execution_count": 2,
   "metadata": {},
   "outputs": [
    {
     "name": "stdout",
     "output_type": "stream",
     "text": [
      "Starting from 2016-08-27 00:00:00 with number of hours: 24\n",
      "Bin size for the trip lengths plot: 24\n",
      "Number of intervals per hour: 60\n",
      "Rolling win size: 5\n"
     ]
    }
   ],
   "source": [
    "#TODO: Constants cannot be defined twice! (here and DB_TO_DETECTIONS)\n",
    "#TODO: Remove unused consts\n",
    "#potential solution: google jupyter magic/jupyter constant definition \n",
    "\n",
    "\n",
    "#Parameters for loading data, currently using known date of 23th, august 2016)\n",
    "num_hours = 24\n",
    "num_days_to_process = 12\n",
    "\n",
    "datetime_start = datetime(2016, 8, 27)\n",
    "\n",
    "#Parameters for presenting data\n",
    "bin_size_in_hours = 24\n",
    "\n",
    "#Hyperparameters for the data wrangling process\n",
    "num_intervals_per_hour = 60\n",
    "num_intervals_per_minute = num_intervals_per_hour/60\n",
    "rolling_window_size = 5\n",
    "\n",
    "total_num_intervals = (num_intervals_per_hour*num_hours)\n",
    "\n",
    "print(\"Starting from\", datetime_start, \"with number of hours:\", num_hours)\n",
    "print(\"Bin size for the trip lengths plot:\", bin_size_in_hours)\n",
    "print(\"Number of intervals per hour:\", num_intervals_per_hour)\n",
    "print(\"Rolling win size:\", rolling_window_size)\n",
    "#(NOTE: First detections are on 20.07.2016, last are 19.09.2016 (3 months duration))"
   ]
  },
  {
   "cell_type": "markdown",
   "metadata": {},
   "source": [
    "### Get a group of bees to work on and calculate their ages"
   ]
  },
  {
   "cell_type": "code",
   "execution_count": 3,
   "metadata": {},
   "outputs": [],
   "source": [
    "#TODO: Filter out dead bees\n",
    "#TODO: Move this out to a function \n",
    "\n",
    "#Get all bees/n random bees/forager group 20\n",
    "(bee_ids_as_ferwar_format, bee_ids_as_beesbookid_format) = get_all_bee_ids()\n",
    "\n",
    "#Calculate the ages for each bee\n",
    "bee_days_since_birth = [] \n",
    "\n",
    "#TODO: calculate ages from the dataframe later (after filtering)\n",
    "for id in bee_ids_as_beesbookid_format:\n",
    "    bee_days_since_birth.append((datetime_start - meta.get_hatchdate(id)).days)"
   ]
  },
  {
   "cell_type": "markdown",
   "metadata": {},
   "source": [
    "### Load a PRESENCE.csv cache (saved from the DB_TO_DETECTIONS notebook)"
   ]
  },
  {
   "cell_type": "code",
   "execution_count": 4,
   "metadata": {},
   "outputs": [
    {
     "name": "stdout",
     "output_type": "stream",
     "text": [
      "Starting with /mnt/storage/janek/caches/Presence/PRESENCE-2016-08-27_00_num_hours_24_int_size_60.csv\n"
     ]
    },
    {
     "name": "stderr",
     "output_type": "stream",
     "text": [
      "100%|██████████| 11/11 [00:07<00:00,  1.44it/s]"
     ]
    },
    {
     "name": "stdout",
     "output_type": "stream",
     "text": [
      "Done, final shape: (49152, 1441)\n"
     ]
    },
    {
     "name": "stderr",
     "output_type": "stream",
     "text": [
      "\n"
     ]
    }
   ],
   "source": [
    "#Loading the csv of intermediate result (saved from prevoius cell)\n",
    "#example value: \"/mnt/storage/janek/caches/Presence/PRESENCE-2016-08-23_00_num_hours_24_int_size_120.csv\"\n",
    "\n",
    "#NOTE: the presence cache does not yet know what bees it contains! \n",
    "(csv_name, csv_path) = create_presence_cache_filename(num_hours, datetime_start, num_intervals_per_hour)\n",
    "print('Starting with '+csv_path)\n",
    "presence_df = pd.read_csv(csv_path).iloc[:,1:]\n",
    "#NOTE: save and read csv adds a duplicate index column, which has to be removed with iloc\n",
    "#TODO: find a cleaner way to to solve that\n",
    "\n",
    "#Load more Presence.csv days, in addition to the one we already loaded \n",
    "for i in tqdm(range(1, num_days_to_process)):\n",
    "    \n",
    "    start_day = datetime_start+timedelta(days=i)\n",
    "    \n",
    "    (csv_name, csv_path) = create_presence_cache_filename(num_hours, start_day, num_intervals_per_hour)\n",
    "    file = Path(csv_path)\n",
    "    if file.exists() == False:\n",
    "        print(\"File \"+ csv_name + \"Doesn't exist, stopping entire operation\")\n",
    "        break\n",
    "    new_presence_df = pd.read_csv(csv_path).iloc[:,1:]\n",
    "    presence_df = pd.concat([presence_df, new_presence_df])\n",
    "print(\"Done, final shape: \" + str(presence_df.shape))"
   ]
  },
  {
   "cell_type": "markdown",
   "metadata": {},
   "source": [
    "### Applying rolling median to filter presence table"
   ]
  },
  {
   "cell_type": "code",
   "execution_count": 5,
   "metadata": {},
   "outputs": [],
   "source": [
    "#Preparing for rolling median\n",
    "num_nans_to_clean = math.floor(rolling_window_size/2)\n",
    "\n",
    "#apply copies of the first and last column as offset to prepare for the rolling window\n",
    "first_col = presence_df.iloc[:, 1:2]\n",
    "last_col = presence_df.iloc[:, -1:]\n",
    "\n",
    "presence_df_with_offset = presence_df.iloc[:, 1:]\n",
    "\n",
    "for i in range(0,num_nans_to_clean):\n",
    "    presence_df_with_offset = pd.concat([first_col, presence_df_with_offset, last_col] ,axis=1)\n",
    "    \n",
    "\n",
    "# Applying rolling median window, to filter out noise in the dataframe\n",
    "rolled = presence_df_with_offset.rolling(window=rolling_window_size,center=True,axis=1).median()\n",
    "\n",
    "#clean up to get rid of the NaNs\n",
    "rolled = rolled.iloc[:, num_nans_to_clean:-num_nans_to_clean]"
   ]
  },
  {
   "cell_type": "markdown",
   "metadata": {},
   "source": [
    "### Getting trip lenghts for each bee"
   ]
  },
  {
   "cell_type": "code",
   "execution_count": null,
   "metadata": {},
   "outputs": [
    {
     "name": "stderr",
     "output_type": "stream",
     "text": [
      " 95%|█████████▌| 46931/49152 [04:47<00:13, 163.15it/s]"
     ]
    }
   ],
   "source": [
    "#TODO: do we really need a variable for total_num_intervals? (test rolled_shape, it might have the same information)\n",
    "rolled_trip_lengths = calc_trip_lengths(rolled, total_num_intervals)"
   ]
  },
  {
   "cell_type": "code",
   "execution_count": null,
   "metadata": {},
   "outputs": [],
   "source": [
    "#use diff to identify beeentries (with 1) and beeexits (with -1)\n",
    "#(sum_of_abs / 2) gives us the presumed number of trips a bee takes \n",
    "\n",
    "diffed = rolled.diff(axis=1)\n",
    "diffed.iloc[:,0] = np.zeros([len(rolled_trip_lengths),1]) #clean out a column of NaNs \n",
    "summed = diffed.abs().sum(axis=1) / 2\n",
    "trips_df = presence_df['id'] #for combining results in one table"
   ]
  },
  {
   "cell_type": "code",
   "execution_count": null,
   "metadata": {},
   "outputs": [],
   "source": [
    "#TODO: add comments explaining purpose\n",
    "\n",
    "#for loop config\n",
    "bin_starttime = datetime_start\n",
    "num_intervals_per_bin = num_intervals_per_hour*bin_size_in_hours\n",
    "total_num_bins = int(num_hours / bin_size_in_hours)\n",
    "\n",
    "print(\"num_intervals_per_bin: \", num_intervals_per_bin, \"total_num_bins: \", total_num_bins)\n",
    "for bin_nr in range(total_num_bins): \n",
    "    \n",
    "    start_index = bin_nr*num_intervals_per_bin\n",
    "    end_index = start_index + num_intervals_per_bin\n",
    "    \n",
    "    new_bin = diffed.iloc[:, start_index:end_index]\n",
    "    \n",
    "    #limit down to the right bin:\n",
    "    #read num_intervals_per_hour*bin_size_per_hour columns (as each column represents one interval)\n",
    "    \n",
    "    summed = new_bin.abs().sum(axis=1) / 2\n",
    "    summed.name = bin_nr\n",
    "    trips_df = pd.concat([trips_df,summed],axis=1) #add this interval to the trips table\n",
    "    #update loop index\n",
    "    \n",
    "\n",
    "# TODO:use a new variable instead of reusing it\n",
    "# Change values to amount per hour instead of per interval\n",
    "trips_df = trips_df * 3600 / num_intervals_per_hour"
   ]
  },
  {
   "cell_type": "code",
   "execution_count": null,
   "metadata": {},
   "outputs": [],
   "source": [
    "#TODO: is this the state we want to save?\n",
    "#saving (name still incomplete)\n",
    "date_string = (datetime_start).strftime(\"%Y-%m-%d_%H:%M:%S\")+\".csv\"\n",
    "trips_df.to_csv('/mnt/storage/janek/'+'TRIPS-'+date_string+'-'+'h'+'.csv')"
   ]
  },
  {
   "cell_type": "markdown",
   "metadata": {},
   "source": [
    "#### Plot 1: Histogram of the distribution of trip lenghts"
   ]
  },
  {
   "cell_type": "code",
   "execution_count": null,
   "metadata": {},
   "outputs": [],
   "source": [
    "flat_list = [item for sublist in rolled_trip_lengths for item in sublist]\n",
    "flat_series = pd.Series(flat_list)\n",
    "\n",
    "plt.figure(figsize=(30,10))\n",
    "plt.title('Histogram of trip lengths, num_intvs = '+str(num_intervals_per_hour)+', unrolled')\n",
    "(flat_series[flat_series<50]/num_intervals_per_minute).hist(log=False, bins=50)"
   ]
  },
  {
   "cell_type": "markdown",
   "metadata": {},
   "source": [
    "#### Plot 1a: Histogram of the distribution of trip lenghts, cut off at >50"
   ]
  },
  {
   "cell_type": "code",
   "execution_count": null,
   "metadata": {},
   "outputs": [],
   "source": [
    "plt.figure(figsize=(30,10))\n",
    "plt.title('Histogram of trip lengths, num_intvs = '+str(num_intervals_per_hour)+', roll_winsize = '+str(rolling_window_size)+'')\n",
    "flat_series_filtered = flat_series[flat_series<100]\n",
    "(flat_series_filtered/num_intervals_per_minute).hist(bins=100, log=False)"
   ]
  },
  {
   "cell_type": "markdown",
   "metadata": {},
   "source": [
    "#### Plot 2: bee age vs amount of trips"
   ]
  },
  {
   "cell_type": "code",
   "execution_count": null,
   "metadata": {},
   "outputs": [],
   "source": [
    "#TODO: calculate ages from the dataframe later (after filtering)\n",
    "bee_days_since_birth = [] \n",
    "bee_bdays = [] \n",
    "\n",
    "for i in tqdm(range(num_days_to_process)):\n",
    "    start_day = datetime_start+timedelta(days=i)\n",
    "    for id in bee_ids_as_beesbookid_format:\n",
    "        bee_bdays.append(meta.get_hatchdate(id))\n",
    "        bee_days_since_birth.append((start_day - meta.get_hatchdate(id)).days)"
   ]
  },
  {
   "cell_type": "code",
   "execution_count": null,
   "metadata": {},
   "outputs": [],
   "source": [
    "#Create dataframe with age and amount of trips\n",
    "summed_age=pd.concat([pd.Series(bee_days_since_birth),summed],axis=1)\n",
    "summed_age.columns=['age','amount']\n",
    "\n",
    "summed_age = summed_age[summed_age['age'] > 0]\n",
    "summed_age = summed_age[summed_age['amount'] > 0]"
   ]
  },
  {
   "cell_type": "code",
   "execution_count": null,
   "metadata": {},
   "outputs": [],
   "source": [
    "summed_age = summed_age.groupby('age')['amount'].mean()\n",
    "\n",
    "# Plot amount of trips relative to age of bee\n",
    "summed_age.plot(x='age',y='amount',style='x')"
   ]
  },
  {
   "cell_type": "markdown",
   "metadata": {},
   "source": [
    "#### Plot 2a: bee age vs average trip lenght"
   ]
  },
  {
   "cell_type": "code",
   "execution_count": null,
   "metadata": {},
   "outputs": [],
   "source": [
    "avg_trip_lengths = []\n",
    "for lenghts in rolled_trip_lengths:\n",
    "    if len(lenghts) == 0:\n",
    "        avg_trip_lengths += [0]\n",
    "    else:\n",
    "        avg = np.average(lenghts)\n",
    "        avg_trip_lengths += [avg]\n",
    "\n",
    "avg_trip_lengths_with_age = pd.concat([pd.Series(bee_days_since_birth),pd.Series(avg_trip_lengths)],axis=1)\n",
    "\n",
    "\n",
    "avg_trip_lengths_with_age.columns=['bee age','average trip length']\n",
    "avg_trip_lengths_with_age = avg_trip_lengths_with_age.groupby('bee age')['average trip length'].mean()\n",
    "\n",
    "# Convert triplength from intervals to minutes\n",
    "avg_trip_lengths_with_age[1] = avg_trip_lengths_with_age[1]/num_intervals_per_minute\n",
    "\n",
    "avg_trip_lengths_with_age.plot(x='bee age',y='average trip length',style='o')"
   ]
  },
  {
   "cell_type": "markdown",
   "metadata": {},
   "source": [
    "#### Plot 3: heatmap (histogram) of amount of trip lengths by age "
   ]
  },
  {
   "cell_type": "code",
   "execution_count": null,
   "metadata": {},
   "outputs": [],
   "source": [
    "#Creating empty dataframe for the amount of triplengths occuring for each age of the bees\n",
    "triplength_age_df=pd.DataFrame(0, index=sorted(list(set(bee_days_since_birth))), columns=sorted(list(set(flat_list))))\n",
    "\n",
    "#Creating a Counter which holds the amount of triplengths for each bee\n",
    "counts = Counter()\n",
    "for bee in range (len(bee_days_since_birth)):\n",
    "    counts[bee] = Counter(rolled_trip_lengths[bee])\n",
    "    \n",
    "    \n",
    "for counter_index in range(len(bee_days_since_birth)):\n",
    "    for counter_triplength, counter_amount in counts[counter_index].items():\n",
    "        triplength_age_df.loc[bee_days_since_birth[counter_index], counter_triplength] += counter_amount\n",
    "\n"
   ]
  },
  {
   "cell_type": "code",
   "execution_count": null,
   "metadata": {},
   "outputs": [],
   "source": [
    "triplength_age_df = triplength_age_df.drop(pd.np.nan)\n",
    "#converting intervalls to minutes\n",
    "triplength_age_df.columns = triplength_age_df.columns/num_intervals_per_minute\n",
    "triplength_age_df.head(100)"
   ]
  },
  {
   "cell_type": "code",
   "execution_count": null,
   "metadata": {},
   "outputs": [],
   "source": [
    "a = np.log1p(triplength_age_df)\n",
    "plt.figure(figsize=(30,10))\n",
    "sns.heatmap(a, annot=False, fmt=\".1f\")\n",
    "#TODO: create also a normalized version of the heatmap (divide values by amount of bees with that age)"
   ]
  },
  {
   "cell_type": "code",
   "execution_count": null,
   "metadata": {},
   "outputs": [],
   "source": [
    "#Normalized by number of bees with that specific age \n",
    "triplength_age_normalized_df = triplength_age_df\n",
    "\n",
    "ages = []\n",
    "for age in triplength_age_normalized_df.index:\n",
    "    ages.append(1/bee_days_since_birth.count(age))\n",
    "\n",
    "triplength_age_normalized_df = triplength_age_normalized_df.mul(ages, axis=0)\n",
    "\n",
    "plt.figure(figsize=(30,10))\n",
    "\n",
    "sns.heatmap(np.log1p(triplength_age_normalized_df), annot=False, fmt=\".1f\")"
   ]
  },
  {
   "cell_type": "markdown",
   "metadata": {},
   "source": [
    "#### Plot 4: boxplot of amount of trip lengths by age "
   ]
  },
  {
   "cell_type": "code",
   "execution_count": null,
   "metadata": {},
   "outputs": [],
   "source": [
    "# dependency of counts, might be needed to be moved up to work with multiple dataframes\n",
    "boxplot_df = pd.DataFrame()\n",
    "for age in counts:\n",
    "    if len(sorted(counts[age].elements()))>0:\n",
    "        temp = pd.DataFrame({\n",
    "            bee_days_since_birth[age]:sorted(counts[age].elements())})\n",
    "        if bee_days_since_birth[age] in boxplot_df.columns:\n",
    "            boxplot_df = boxplot_df.append(temp, ignore_index=True)\n",
    "        else:\n",
    "            boxplot_df = pd.concat([boxplot_df, temp], axis=1)\n",
    "boxplot_df = boxplot_df.reindex(sorted(boxplot_df.columns), axis=1)\n",
    "\n",
    "#rearranging the NaNs to the bottom\n",
    "arr = boxplot_df.values\n",
    "arr.sort(axis=0)\n",
    "#converting intervals to minutes\n",
    "boxplot_df = boxplot_df/num_intervals_per_minute\n",
    "boxplot_df = pd.DataFrame(arr, index=boxplot_df.index, columns=boxplot_df.columns).dropna(axis=0, how=\"all\")\n",
    "boxplot_df"
   ]
  },
  {
   "cell_type": "code",
   "execution_count": null,
   "metadata": {},
   "outputs": [],
   "source": [
    "boxplot_df.plot.box(xticks=[10,20,30,40,50,60,70,80,90,100,125,150,175,200,225,250,300,350,400,450], figsize=(30,15),vert=False)"
   ]
  },
  {
   "cell_type": "code",
   "execution_count": null,
   "metadata": {},
   "outputs": [],
   "source": [
    "boxplot_df.plot.box(sym=\"\", figsize=(30,15),vert=False)"
   ]
  },
  {
   "cell_type": "markdown",
   "metadata": {},
   "source": [
    "## List of Variables\n",
    "\n",
    "### Import Variables\n",
    "\n",
    "connect_str : String data for accessing the database\n",
    "\n",
    "meta        : contains meta data from bb_utils about bees that is used to get the data about forager bees\n",
    "\n",
    "### Parameters\n",
    "\n",
    "num_hours                    : Number of hours loaded from the database (int)\n",
    "\n",
    "datetime_start               : Starting point in the database (Datetime(y,m,d,h))\n",
    "\n",
    "bin_size_in_hours            : TBD\n",
    "\n",
    "num_intervals_per_hour       : How many intervals for a single hour the dataframes will have (int)\n",
    "\n",
    "rolling_window_size          : How big is the window for the rolling median function to filter noise (int)\n",
    "\n",
    "total_num_intervals          : How many intervals are there in total - calculated with the product of num_hours and num_intervals_per_hour\n",
    "\n",
    "group_id                     : ID of the forager group of bees that gets loaded \n",
    "\n",
    "bee_ids_as_beesbookid_format : Bee IDs from the chosen forager group in beesbookid format\n",
    "\n",
    "bee_ids_from_group           : Bee IDs from the chosen forager group in ferwa format (which is also used in the database)\n",
    "\n",
    "bee_days_since_birth         : Age of every chosen bee (Array of Int)\n",
    "\n",
    "csv_path        : Filepath to csv file with the presence dataframe, containing the bee ids and their detections within given intervalls for a given timeframe (Str)\n",
    "\n",
    "date_string                  : Filename for saving trips_df into a csv file\n",
    "\n",
    "\n",
    "### Dataframes\n",
    "\n",
    "presence_df             : contains the Bee IDs and and their detections (0 or 1) within given intervalls for a given amount of hours, starting from datetime_start\n",
    "\n",
    "presence_df_with_offset : presence_df with rolling_window_offset times copied first and last column, so the rolling median operation doesn't calculate NaN values. Used copies of the first and last column as neutral elements, since all 0s or 1s could have caused false information about trip starts or endings\n",
    "\n",
    "rolled                  : presence_df table after the filtering of noise with a rolling median window\n",
    "\n",
    "diffed                  : dataframe that only contains 1 and -1 for each bee when a trip starts or ends - calculated by the diff function applied to the rolled dataframe\n",
    "\n",
    "diffed_with_id          : diffed dataframe with an additional column containing the bee ids\n",
    "\n",
    "diffed_with_age         : diffed dataframe with an additional column containing the bee ages\n",
    "\n",
    "trips_df                : dataframe containing the amount of trips for each bee for each hour\n",
    "\n",
    "triplength_age_df       : dataframe containing the amount of each occuring triplength in relation to the age of the bees\n",
    "\n",
    "### to be named\n",
    "\n",
    "trip_lengths            : List of trip lengths for each bee (List of Lists of Int)\n",
    "\n",
    "curr_bee_trip_lenghts   : List of trip lengths for current bee (List of Int)\n",
    "\n",
    "curr_trip_length        : amount of trips for the current bee within the loop; used to prevent appending empty lists to trip_lengths (Int)\n",
    "\n",
    "bool_is_present         : 0 or 1 depending wether the bee has a detection within an interval or not (boolean)\n",
    "\n",
    "flat_list               : Conversion of trip_lengths into a normal list containing all the triplengths (List of Int)\n",
    "\n",
    "flat_series             : Conversion of flat_list into pd.Series (Series of Int)\n",
    "\n",
    "rolling_window_offset   : Size of the offset required for the rolling window to each side of the center - calculated by the floor of the windowsize devided by 2 (Int)\n",
    "\n",
    "first_col               : first column of presence_df, is used to duplicate it for the rolling_window_offset (Series of Int)\n",
    "\n",
    "last_col                : last column of presence_df, is used to duplicate it for the rolling_window_offset (Series of Int)\n",
    "\n",
    "counts                  : Array of Counters which contain the triplength and the amount. Each Position in the array represents one element of bee_days_since_birth (meaning one                                 certain age)"
   ]
  },
  {
   "cell_type": "code",
   "execution_count": null,
   "metadata": {},
   "outputs": [],
   "source": []
  }
 ],
 "metadata": {
  "kernelspec": {
   "display_name": "Python 3",
   "language": "python",
   "name": "python3"
  },
  "language_info": {
   "codemirror_mode": {
    "name": "ipython",
    "version": 3
   },
   "file_extension": ".py",
   "mimetype": "text/x-python",
   "name": "python",
   "nbconvert_exporter": "python",
   "pygments_lexer": "ipython3",
   "version": "3.5.2"
  }
 },
 "nbformat": 4,
 "nbformat_minor": 2
}
