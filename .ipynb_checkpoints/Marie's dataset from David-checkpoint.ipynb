{
 "cells": [
  {
   "cell_type": "code",
   "execution_count": 2,
   "metadata": {},
   "outputs": [],
   "source": [
    "import pandas as pd\n",
    "import numpy as np"
   ]
  },
  {
   "cell_type": "code",
   "execution_count": 3,
   "metadata": {},
   "outputs": [
    {
     "ename": "FileNotFoundError",
     "evalue": "File datasets/full_data_marie23.hdf does not exist",
     "output_type": "error",
     "traceback": [
      "\u001b[0;31m------------------------------------------------------------------------\u001b[0m",
      "\u001b[0;31mFileNotFoundError\u001b[0m                      Traceback (most recent call last)",
      "\u001b[0;32m<ipython-input-3-97e6d2c33c14>\u001b[0m in \u001b[0;36m<module>\u001b[0;34m()\u001b[0m\n\u001b[0;32m----> 1\u001b[0;31m \u001b[0mforagers\u001b[0m \u001b[0;34m=\u001b[0m \u001b[0mpd\u001b[0m\u001b[0;34m.\u001b[0m\u001b[0mread_hdf\u001b[0m\u001b[0;34m(\u001b[0m\u001b[0;34m\"datasets/full_data_marie23.hdf\"\u001b[0m\u001b[0;34m)\u001b[0m \u001b[0;31m#751 x 28\u001b[0m\u001b[0;34m\u001b[0m\u001b[0m\n\u001b[0m\u001b[1;32m      2\u001b[0m \u001b[0mprint\u001b[0m\u001b[0;34m(\u001b[0m\u001b[0mlist\u001b[0m\u001b[0;34m(\u001b[0m\u001b[0mforagers\u001b[0m\u001b[0;34m)\u001b[0m\u001b[0;34m)\u001b[0m\u001b[0;34m\u001b[0m\u001b[0m\n",
      "\u001b[0;32m/usr/local/lib/python3.5/dist-packages/pandas/io/pytables.py\u001b[0m in \u001b[0;36mread_hdf\u001b[0;34m(path_or_buf, key, mode, **kwargs)\u001b[0m\n\u001b[1;32m    345\u001b[0m         \u001b[0;32mif\u001b[0m \u001b[0;32mnot\u001b[0m \u001b[0mexists\u001b[0m\u001b[0;34m:\u001b[0m\u001b[0;34m\u001b[0m\u001b[0m\n\u001b[1;32m    346\u001b[0m             raise compat.FileNotFoundError(\n\u001b[0;32m--> 347\u001b[0;31m                 'File %s does not exist' % path_or_buf)\n\u001b[0m\u001b[1;32m    348\u001b[0m \u001b[0;34m\u001b[0m\u001b[0m\n\u001b[1;32m    349\u001b[0m         \u001b[0mstore\u001b[0m \u001b[0;34m=\u001b[0m \u001b[0mHDFStore\u001b[0m\u001b[0;34m(\u001b[0m\u001b[0mpath_or_buf\u001b[0m\u001b[0;34m,\u001b[0m \u001b[0mmode\u001b[0m\u001b[0;34m=\u001b[0m\u001b[0mmode\u001b[0m\u001b[0;34m,\u001b[0m \u001b[0;34m**\u001b[0m\u001b[0mkwargs\u001b[0m\u001b[0;34m)\u001b[0m\u001b[0;34m\u001b[0m\u001b[0m\n",
      "\u001b[0;31mFileNotFoundError\u001b[0m: File datasets/full_data_marie23.hdf does not exist"
     ]
    }
   ],
   "source": [
    "foragers = pd.read_hdf(\"datasets/full_data_marie23.hdf\") #751 x 28\n",
    "print(list(foragers))"
   ]
  },
  {
   "cell_type": "markdown",
   "metadata": {},
   "source": [
    "### Get the list of values from \"recruit\" and filter out NaNs "
   ]
  },
  {
   "cell_type": "code",
   "execution_count": 1,
   "metadata": {},
   "outputs": [
    {
     "ename": "NameError",
     "evalue": "name 'foragers' is not defined",
     "output_type": "error",
     "traceback": [
      "\u001b[0;31m------------------------------------------------------------------------\u001b[0m",
      "\u001b[0;31mNameError\u001b[0m                              Traceback (most recent call last)",
      "\u001b[0;32m<ipython-input-1-5e6242a1b023>\u001b[0m in \u001b[0;36m<module>\u001b[0;34m()\u001b[0m\n\u001b[0;32m----> 1\u001b[0;31m \u001b[0mrecruits\u001b[0m \u001b[0;34m=\u001b[0m \u001b[0mforagers\u001b[0m\u001b[0;34m[\u001b[0m\u001b[0;34m'recruit'\u001b[0m\u001b[0;34m,\u001b[0m \u001b[0;34m'video_date'\u001b[0m\u001b[0;34m]\u001b[0m\u001b[0;34m\u001b[0m\u001b[0m\n\u001b[0m\u001b[1;32m      2\u001b[0m \u001b[0mrecruits\u001b[0m \u001b[0;34m=\u001b[0m \u001b[0mrecruits\u001b[0m\u001b[0;34m.\u001b[0m\u001b[0mdropna\u001b[0m\u001b[0;34m(\u001b[0m\u001b[0;34m)\u001b[0m\u001b[0;34m\u001b[0m\u001b[0m\n\u001b[1;32m      3\u001b[0m \u001b[0mprint\u001b[0m\u001b[0;34m(\u001b[0m\u001b[0mrecruits\u001b[0m\u001b[0;34m.\u001b[0m\u001b[0mshape\u001b[0m\u001b[0;34m)\u001b[0m\u001b[0;34m\u001b[0m\u001b[0m\n",
      "\u001b[0;31mNameError\u001b[0m: name 'foragers' is not defined"
     ]
    }
   ],
   "source": [
    "recruits = foragers['recruit', 'video_date']\n",
    "recruits = recruits.dropna()\n",
    "print(recruits.shape)"
   ]
  },
  {
   "cell_type": "markdown",
   "metadata": {},
   "source": [
    "### Get the list of values from \"dancer\" and filter out NaNs "
   ]
  },
  {
   "cell_type": "code",
   "execution_count": 4,
   "metadata": {},
   "outputs": [
    {
     "name": "stdout",
     "output_type": "stream",
     "text": [
      "(95,)\n"
     ]
    }
   ],
   "source": [
    "dancers = foragers['dancer']\n",
    "dancers = dancers.dropna()\n",
    "print(dancers.shape)\n",
    "# print(dancers)"
   ]
  },
  {
   "cell_type": "markdown",
   "metadata": {},
   "source": [
    "### Merge dancers and recruits (as suspected foragers), filter out duplicates"
   ]
  },
  {
   "cell_type": "code",
   "execution_count": 5,
   "metadata": {},
   "outputs": [
    {
     "name": "stdout",
     "output_type": "stream",
     "text": [
      "163     936.0\n",
      "348     936.0\n",
      "412    2022.0\n",
      "437    2691.0\n",
      "440    3069.0\n",
      "443     936.0\n",
      "445    2691.0\n",
      "449    2854.0\n",
      "450    2022.0\n",
      "451    2854.0\n",
      "454    2022.0\n",
      "455     119.0\n",
      "456    2854.0\n",
      "457    2691.0\n",
      "458    2691.0\n",
      "461    2691.0\n",
      "466    3069.0\n",
      "468    3069.0\n",
      "474     936.0\n",
      "482     119.0\n",
      "483    2772.0\n",
      "488    2772.0\n",
      "490    2508.0\n",
      "495    3178.0\n",
      "497    2772.0\n",
      "503    2691.0\n",
      "506    2772.0\n",
      "511    3831.0\n",
      "514     119.0\n",
      "515    2772.0\n",
      "        ...  \n",
      "573     918.0\n",
      "587    2508.0\n",
      "589    2854.0\n",
      "591    2854.0\n",
      "593    2854.0\n",
      "594    2854.0\n",
      "595     918.0\n",
      "599    2508.0\n",
      "602    2508.0\n",
      "603    2508.0\n",
      "605    2508.0\n",
      "608    2508.0\n",
      "616     918.0\n",
      "621     936.0\n",
      "627    2854.0\n",
      "628     119.0\n",
      "631     918.0\n",
      "632    2854.0\n",
      "634    2854.0\n",
      "639    3831.0\n",
      "647    3178.0\n",
      "648    2854.0\n",
      "676     936.0\n",
      "682     936.0\n",
      "751     918.0\n",
      "752    2854.0\n",
      "753    2508.0\n",
      "754    2508.0\n",
      "755    2508.0\n",
      "756    2854.0\n",
      "Length: 192, dtype: float64\n"
     ]
    }
   ],
   "source": [
    "foragers = recruits.append(dancers)\n",
    "# foragers = foragers.drop_duplicates()\n",
    "print(foragers)"
   ]
  },
  {
   "cell_type": "code",
   "execution_count": null,
   "metadata": {},
   "outputs": [],
   "source": []
  }
 ],
 "metadata": {
  "kernelspec": {
   "display_name": "Python 3",
   "language": "python",
   "name": "python3"
  },
  "language_info": {
   "codemirror_mode": {
    "name": "ipython",
    "version": 3
   },
   "file_extension": ".py",
   "mimetype": "text/x-python",
   "name": "python",
   "nbconvert_exporter": "python",
   "pygments_lexer": "ipython3",
   "version": "3.5.2"
  }
 },
 "nbformat": 4,
 "nbformat_minor": 2
}
