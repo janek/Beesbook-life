{
 "cells": [
  {
   "cell_type": "code",
   "execution_count": 20,
   "metadata": {},
   "outputs": [],
   "source": [
    "from datetime import timedelta, datetime\n",
    "import time\n",
    "from bee_helpers import t, p"
   ]
  },
  {
   "cell_type": "code",
   "execution_count": 21,
   "metadata": {},
   "outputs": [
    {
     "name": "stdout",
     "output_type": "stream",
     "text": [
      "Starting from 2016-08-23 00:00:00 with number of hours: 24\n",
      "\n",
      "Bin size for the trip lengths plot: 24 \n",
      "Number of intervals per hour: 120 \n",
      "Rolling win size: 11\n"
     ]
    }
   ],
   "source": [
    "#Parameters for loading data, currently using known date of 23th, august 2016)\n",
    "num_hours = 24\n",
    "datetime_start = datetime(2016, 8, 23)\n",
    "\n",
    "\n",
    "#Parameters for presenting data\n",
    "bin_size_in_hours = 24\n",
    "\n",
    "#Hyperparameters for the data wrangling process\n",
    "num_intervals_per_hour = 120\n",
    "rolling_window_size = 11\n",
    "\n",
    "print(\"Starting from\", datetime_start, \"with number of hours:\", num_hours)\n",
    "print(\"\\nBin size for the trip lengths plot:\", bin_size_in_hours, \"\\nNumber of intervals per hour:\", num_intervals_per_hour, \"\\nRolling win size:\", rolling_window_size)\n",
    "\n",
    "#(NOTE: First detections are on 20.07.2016, last are 19.09.2016 (3 months duration))"
   ]
  },
  {
   "cell_type": "code",
   "execution_count": 22,
   "metadata": {},
   "outputs": [
    {
     "ename": "TypeError",
     "evalue": "p() takes 0 positional arguments but 2 were given",
     "output_type": "error",
     "traceback": [
      "\u001b[0;31m---------------------------------------------------------------------------\u001b[0m",
      "\u001b[0;31mTypeError\u001b[0m                                 Traceback (most recent call last)",
      "\u001b[0;32m<ipython-input-22-8d56f21d9fc1>\u001b[0m in \u001b[0;36m<module>\u001b[0;34m()\u001b[0m\n\u001b[0;32m----> 1\u001b[0;31m \u001b[0mp\u001b[0m\u001b[0;34m(\u001b[0m\u001b[0mnum_hours\u001b[0m\u001b[0;34m,\u001b[0m \u001b[0mdatetime_start\u001b[0m\u001b[0;34m)\u001b[0m\u001b[0;34m\u001b[0m\u001b[0m\n\u001b[0m",
      "\u001b[0;31mTypeError\u001b[0m: p() takes 0 positional arguments but 2 were given"
     ]
    }
   ],
   "source": [
    "p(num_hours, datetime_start)"
   ]
  },
  {
   "cell_type": "code",
   "execution_count": null,
   "metadata": {},
   "outputs": [],
   "source": []
  }
 ],
 "metadata": {
  "kernelspec": {
   "display_name": "Python 3",
   "language": "python",
   "name": "python3"
  },
  "language_info": {
   "codemirror_mode": {
    "name": "ipython",
    "version": 3
   },
   "file_extension": ".py",
   "mimetype": "text/x-python",
   "name": "python",
   "nbconvert_exporter": "python",
   "pygments_lexer": "ipython3",
   "version": "3.5.2"
  }
 },
 "nbformat": 4,
 "nbformat_minor": 2
}
