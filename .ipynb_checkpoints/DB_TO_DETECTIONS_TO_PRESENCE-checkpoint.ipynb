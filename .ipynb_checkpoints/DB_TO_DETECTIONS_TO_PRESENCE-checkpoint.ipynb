{
 "cells": [
  {
   "cell_type": "code",
   "execution_count": 1,
   "metadata": {},
   "outputs": [
    {
     "name": "stderr",
     "output_type": "stream",
     "text": [
      "/usr/local/lib/python3.5/dist-packages/psycopg2/__init__.py:144: UserWarning: The psycopg2 wheel package will be renamed from release 2.8; in order to keep installing from binary please use \"pip install psycopg2-binary\" instead. For details see: <http://initd.org/psycopg/docs/install.html#binary-install-from-pypi>.\n",
      "  \"\"\")\n"
     ]
    }
   ],
   "source": [
    "from file_helpers import get_detections_from_database\n",
    "from bee_helpers import detections_to_presence"
   ]
  },
  {
   "cell_type": "markdown",
   "metadata": {},
   "source": [
    "Downloads detections data from the database and saves them in 1-hour bins as CSVs. \n",
    "(e.g. `DETECTIONS-2016-08-24_00:00:00.csv`)"
   ]
  },
  {
   "cell_type": "code",
   "execution_count": 2,
   "metadata": {},
   "outputs": [],
   "source": [
    "datetime_start = datetime(2016, 8, 25)\n",
    "observ_period = timedelta(hours=1)\n",
    "num_observ_periods = 3\n",
    "\n",
    "location_prefix = '/mnt/storage/janek/caches/Detections/'"
   ]
  },
  {
   "cell_type": "code",
   "execution_count": 3,
   "metadata": {},
   "outputs": [
    {
     "name": "stdout",
     "output_type": "stream",
     "text": [
      "Beginning at 2016-08-25 00:00:00\n",
      "Getting hour #0, beginning at 2016-08-25_00:00:00\n",
      "Getting the data took: 0:00:36\n",
      "Saving the csv took: 0:00:48\n",
      "Getting hour #1, beginning at 2016-08-25_01:00:00\n",
      "Getting the data took: 0:00:35\n",
      "Saving the csv took: 0:00:36\n",
      "Getting hour #2, beginning at 2016-08-25_02:00:00\n",
      "Getting the data took: 0:00:37\n",
      "Saving the csv took: 0:00:38\n"
     ]
    }
   ],
   "source": [
    "#(First detections are on 20.07.2016, last are 19.09.2016 (3 months duration))\n",
    "get_detections_from_database(datetime_start, observ_period, num_observ_periods)"
   ]
  },
  {
   "cell_type": "code",
   "execution_count": null,
   "metadata": {},
   "outputs": [],
   "source": []
  },
  {
   "cell_type": "code",
   "execution_count": null,
   "metadata": {},
   "outputs": [],
   "source": []
  }
 ],
 "metadata": {
  "kernelspec": {
   "display_name": "Python 3",
   "language": "python",
   "name": "python3"
  },
  "language_info": {
   "codemirror_mode": {
    "name": "ipython",
    "version": 3
   },
   "file_extension": ".py",
   "mimetype": "text/x-python",
   "name": "python",
   "nbconvert_exporter": "python",
   "pygments_lexer": "ipython3",
   "version": "3.5.2"
  }
 },
 "nbformat": 4,
 "nbformat_minor": 2
}
