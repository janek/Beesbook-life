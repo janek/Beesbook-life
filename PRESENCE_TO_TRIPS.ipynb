{
 "cells": [
  {
   "cell_type": "code",
   "execution_count": 7,
   "metadata": {},
   "outputs": [],
   "source": [
    "%matplotlib inline\n",
    "\n",
    "import matplotlib.pyplot as plt\n",
    "import matplotlib\n",
    "import math\n",
    "import seaborn as sns\n",
    "import numpy as np\n",
    "import pandas as pd\n",
    "import psycopg2\n",
    "import psycopg2.extras\n",
    "from datetime import timedelta, datetime\n",
    "import bee_helpers as bh\n",
    "from bee_helpers import cache_location_prefix, detections_to_presence, calc_trip_lengths, get_forager_bee_ids, get_random_bee_ids, get_all_bee_ids, create_presence_cache_filename\n",
    "import time\n",
    "\n",
    "\n",
    "import bb_utils\n",
    "import bb_utils.meta\n",
    "import bb_utils.ids\n",
    "import bb_backend\n",
    "from bb_backend.api import FramePlotter, VideoPlotter\n",
    "from bb_backend.api import get_plot_coordinates, transform_axis_coordinates, get_image_origin\n",
    "\n",
    "\n",
    "meta = bb_utils.meta.BeeMetaInfo()\n",
    "BeesbookID = bb_utils.ids.BeesbookID\n"
   ]
  },
  {
   "cell_type": "code",
   "execution_count": 8,
   "metadata": {},
   "outputs": [
    {
     "name": "stdout",
     "output_type": "stream",
     "text": [
      "Starting from 2016-08-24 00:00:00 with number of hours: 12\n",
      "Bin size for the trip lengths plot: 24\n",
      "Number of intervals per hour: 60\n",
      "Rolling win size: 5\n"
     ]
    }
   ],
   "source": [
    "#TODO: Constants cannot be defined twice! (here and DB_TO_DETECTIONS)\n",
    "#potential solution: google jupyter magic/jupyter constant definition \n",
    "\n",
    "\n",
    "#Parameters for loading data, currently using known date of 23th, august 2016)\n",
    "num_hours = 12\n",
    "\n",
    "datetime_start = datetime(2016, 8, 24)\n",
    "\n",
    "#Parameters for presenting data\n",
    "bin_size_in_hours = 24\n",
    "\n",
    "#Hyperparameters for the data wrangling process\n",
    "num_intervals_per_hour = 60\n",
    "num_intervals_per_minute = num_intervals_per_hour/60\n",
    "rolling_window_size = 5\n",
    "\n",
    "total_num_intervals = (num_intervals_per_hour*num_hours)\n",
    "\n",
    "print(\"Starting from\", datetime_start, \"with number of hours:\", num_hours)\n",
    "print(\"Bin size for the trip lengths plot:\", bin_size_in_hours)\n",
    "print(\"Number of intervals per hour:\", num_intervals_per_hour)\n",
    "print(\"Rolling win size:\", rolling_window_size)\n",
    "#(NOTE: First detections are on 20.07.2016, last are 19.09.2016 (3 months duration))"
   ]
  },
  {
   "cell_type": "code",
   "execution_count": 9,
   "metadata": {},
   "outputs": [
    {
     "name": "stdout",
     "output_type": "stream",
     "text": [
      "Loading /mnt/storage/janek/caches/Presence/PRESENCE-2016-08-24_00_num_hours_12_int_size_60.csv\n"
     ]
    },
    {
     "data": {
      "text/plain": [
       "(4096, 721)"
      ]
     },
     "execution_count": 9,
     "metadata": {},
     "output_type": "execute_result"
    }
   ],
   "source": [
    "#Loading the csv of intermediate result (saved from prevoius cell)\n",
    "#example value: \"/mnt/storage/janek/caches/Presence/PRESENCE-2016-08-23_00_num_hours_24_int_size_120.csv\"\n",
    "\n",
    "#NOTE: the presence cache does not yet know what bees it contains! \n",
    "(csv_name, csv_path) = create_presence_cache_filename(num_hours, datetime_start, num_intervals_per_hour)\n",
    "\n",
    "\n",
    "print('Loading '+csv_path)\n",
    "\n",
    "presence_df = pd.read_csv(csv_path).iloc[:,1:]\n",
    "#NOTE: save and read csv adds a duplicate index column, which has to be removed with iloc\n",
    "#TODO: find a cleaner way to to solve that\n",
    "presence_df.shape"
   ]
  },
  {
   "cell_type": "code",
   "execution_count": 10,
   "metadata": {},
   "outputs": [
    {
     "name": "stdout",
     "output_type": "stream",
     "text": [
      "Starting from 2016-08-24 00:00:00 with number of hours: 12\n",
      "Bin size for the trip lengths plot: 24\n",
      "Number of intervals per hour: 60\n",
      "Rolling win size: 5\n"
     ]
    }
   ],
   "source": [
    "#TODO: Constants cannot be defined twice! (here and DB_TO_DETECTIONS)\n",
    "#potential solution: google jupyter magic/jupyter constant definition \n",
    "\n",
    "\n",
    "#Parameters for loading data, currently using known date of 23th, august 2016)\n",
    "num_hours = 12\n",
    "\n",
    "datetime_start = datetime(2016, 8, 24)\n",
    "\n",
    "#Parameters for presenting data\n",
    "bin_size_in_hours = 24\n",
    "\n",
    "#Hyperparameters for the data wrangling process\n",
    "num_intervals_per_hour = 60\n",
    "num_intervals_per_minute = num_intervals_per_hour/60\n",
    "rolling_window_size = 5\n",
    "\n",
    "total_num_intervals = (num_intervals_per_hour*num_hours)\n",
    "\n",
    "print(\"Starting from\", datetime_start, \"with number of hours:\", num_hours)\n",
    "print(\"Bin size for the trip lengths plot:\", bin_size_in_hours)\n",
    "print(\"Number of intervals per hour:\", num_intervals_per_hour)\n",
    "print(\"Rolling win size:\", rolling_window_size)\n",
    "#(NOTE: First detections are on 20.07.2016, last are 19.09.2016 (3 months duration))"
   ]
  },
  {
   "cell_type": "code",
   "execution_count": null,
   "metadata": {},
   "outputs": [],
   "source": []
  }
 ],
 "metadata": {
  "kernelspec": {
   "display_name": "Python 3",
   "language": "python",
   "name": "python3"
  },
  "language_info": {
   "codemirror_mode": {
    "name": "ipython",
    "version": 3
   },
   "file_extension": ".py",
   "mimetype": "text/x-python",
   "name": "python",
   "nbconvert_exporter": "python",
   "pygments_lexer": "ipython3",
   "version": "3.5.2"
  }
 },
 "nbformat": 4,
 "nbformat_minor": 2
}
