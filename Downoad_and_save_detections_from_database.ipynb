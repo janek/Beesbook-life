{
 "cells": [
  {
   "cell_type": "code",
   "execution_count": null,
   "metadata": {},
   "outputs": [],
   "source": [
    "%matplotlib inline\n",
    "\n",
    "import matplotlib.pyplot as plt\n",
    "import matplotlib\n",
    "import seaborn as sns\n",
    "import numpy as np\n",
    "import pandas as pd\n",
    "import psycopg2\n",
    "import psycopg2.extras\n",
    "from datetime import timedelta, datetime\n",
    "import time\n",
    "\n",
    "import bb_utils\n",
    "import bb_utils.meta\n",
    "import bb_utils.ids\n",
    "import bb_backend\n",
    "\n",
    "bb_backend.api.server_adress = 'localhost:8000'\n",
    "connect_str = \"\"\"dbname='beesbook' user='reader' host='tonic.imp.fu-berlin.de' \n",
    "                 password='' application_name='mehmed'\"\"\""
   ]
  },
  {
   "cell_type": "code",
   "execution_count": null,
   "metadata": {},
   "outputs": [],
   "source": [
    "observ_period = timedelta(hours=1)\n",
    "datetime_start = datetime(2016, 8, 23)\n",
    "num_observ_periods = 24\n",
    "\n",
    "#(First detections are on 20.07.2016, last are 19.09.2016 (3 months duration))\n",
    "print('Beginning at '+datetime_start.strftime(\"%Y-%m-%d %H:%M:%S\"))"
   ]
  },
  {
   "cell_type": "code",
   "execution_count": null,
   "metadata": {},
   "outputs": [],
   "source": [
    "for i in range(0,num_observ_periods):\n",
    "    datetime_end = datetime_start + observ_period\n",
    "    datetime_str = datetime_start.strftime(\"%Y-%m-%d_%H:%M:%S\")\n",
    "    \n",
    "    print('Getting hour #'+str(i)+', beginning at '+datetime_str)\n",
    "    start = time.time()\n",
    "    with psycopg2.connect(connect_str) as conn:\n",
    "        query = \"\"\"SELECT * FROM bb_detections\n",
    "               WHERE timestamp >= %s AND\n",
    "                     timestamp < %s AND\n",
    "                     bee_id_confidence >= %s\n",
    "               ;\"\"\"\n",
    "    df = pd.read_sql_query(\n",
    "        query, conn, \n",
    "        params=(datetime_start, datetime_end, 0.99), #note: high confidence requirement\n",
    "        coerce_float=False)\n",
    "\n",
    "    end = time.time()\n",
    "    secs_elapsed = end - start\n",
    "\n",
    "    m, s = divmod(secs_elapsed, 60)\n",
    "    h, m = divmod(m, 60)\n",
    "    print('Getting the data took:')\n",
    "    print('%d:%02d:%02d'% (h, m, s))\n",
    "    \n",
    "    start = time.time()\n",
    "    df.to_csv('/mnt/storage/janek/'+datetime_str+'.csv')\n",
    "    datetime_start = datetime_end\n",
    "    \n",
    "    end = time.time()\n",
    "    secs_elapsed = end - start\n",
    "\n",
    "    m, s = divmod(secs_elapsed, 60)\n",
    "    h, m = divmod(m, 60)\n",
    "    print('Saving the csv took:')\n",
    "    print('%d:%02d:%02d'% (h, m, s))"
   ]
  },
  {
   "cell_type": "code",
   "execution_count": null,
   "metadata": {},
   "outputs": [],
   "source": []
  }
 ],
 "metadata": {
  "kernelspec": {
   "display_name": "Python 3",
   "language": "python",
   "name": "python3"
  },
  "language_info": {
   "codemirror_mode": {
    "name": "ipython",
    "version": 3
   },
   "file_extension": ".py",
   "mimetype": "text/x-python",
   "name": "python",
   "nbconvert_exporter": "python",
   "pygments_lexer": "ipython3",
   "version": "3.5.2"
  }
 },
 "nbformat": 4,
 "nbformat_minor": 2
}
