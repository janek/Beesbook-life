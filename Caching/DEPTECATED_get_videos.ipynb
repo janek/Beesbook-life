{
 "cells": [
  {
   "cell_type": "code",
   "execution_count": 7,
   "metadata": {},
   "outputs": [
    {
     "name": "stderr",
     "output_type": "stream",
     "text": [
      "/usr/local/lib/python3.5/dist-packages/psycopg2/__init__.py:144: UserWarning: The psycopg2 wheel package will be renamed from release 2.8; in order to keep installing from binary please use \"pip install psycopg2-binary\" instead. For details see: <http://initd.org/psycopg/docs/install.html#binary-install-from-pypi>.\n",
      "  \"\"\")\n"
     ]
    }
   ],
   "source": [
    "# from bb_behavior import plot\n",
    "from bb_behavior import db as bbdb\n",
    "import bb_behavior\n",
    "import pandas as pd\n",
    "import os\n",
    "import sys\n",
    "sys.path.append('/home/mi/rrszynka/mnt/janek/Beesbook-janek/Python-modules/') #For bee_helpers, file_helpers and cache\n",
    "from bee_cache import Cache, CacheType, CacheFormat; c = Cache()\n",
    "import datetime\n",
    "\n",
    "import numpy as np\n",
    "from tqdm import tqdm"
   ]
  },
  {
   "cell_type": "code",
   "execution_count": null,
   "metadata": {},
   "outputs": [],
   "source": [
    "gaps = c.load('with_coordinates', format = CacheFormat.hdf)"
   ]
  },
  {
   "cell_type": "code",
   "execution_count": null,
   "metadata": {},
   "outputs": [],
   "source": [
    "gaps.head()"
   ]
  },
  {
   "cell_type": "code",
   "execution_count": null,
   "metadata": {},
   "outputs": [],
   "source": [
    "#Add frame to the df \n",
    "gaps_sample = gaps.sample(15)"
   ]
  },
  {
   "cell_type": "code",
   "execution_count": null,
   "metadata": {},
   "outputs": [],
   "source": [
    "gaps.sample(15).timestamp[0].timestamp()"
   ]
  },
  {
   "cell_type": "code",
   "execution_count": null,
   "metadata": {
    "scrolled": true
   },
   "outputs": [],
   "source": [
    "frame_ids = gaps_sample.apply(process_row, axis=1)"
   ]
  },
  {
   "cell_type": "code",
   "execution_count": null,
   "metadata": {},
   "outputs": [],
   "source": [
    "gaps_sample = gaps_sample.assign(frame_id=frame_ids).dropna()"
   ]
  },
  {
   "cell_type": "code",
   "execution_count": null,
   "metadata": {},
   "outputs": [],
   "source": [
    "in_data = [(row.bee_id, row.frame_id, row.timestamp) for _, row in gaps_sample.iterrows()]"
   ]
  },
  {
   "cell_type": "code",
   "execution_count": null,
   "metadata": {
    "scrolled": false
   },
   "outputs": [],
   "source": [
    "for (bee, frame, timestamp) in in_data:\n",
    "    name = str(frame)+'_' + str(bee)\n",
    "    video = plot.plot_bees(bee_ids=[bee], \n",
    "                       frame_id=frame, frame_margin=20,\n",
    "                       path_alpha=None, bt_export=None, # '/home/mi/rrszynka/mnt/janek/caches/Videos/bt_export/'+name+\".json\",\n",
    "                       plot_labels = True, plot_markers=True)\n",
    "\n",
    "    for frame in video._frames:\n",
    "        frame._title = \"\\n exit: \" + str(timestamp)\n",
    "    \n",
    "    video._crop_margin = None\n",
    "    video.get_video(save_to_path='/home/mi/rrszynka/mnt/janek/caches/Videos/' + name + \"t2.mp4\")\n",
    "    \n",
    "#TODO:\n",
    "# - get a fullscreen vid? or are the small ones better? \n",
    "# - what's the size of fullscreen vs small?\n",
    "\n",
    "# - how do you get centered videos?\n",
    "# \"if the passed bee is not in the frame, it will be \"\n",
    "# if bt_export is off?"
   ]
  },
  {
   "cell_type": "code",
   "execution_count": null,
   "metadata": {},
   "outputs": [],
   "source": []
  },
  {
   "cell_type": "code",
   "execution_count": null,
   "metadata": {},
   "outputs": [],
   "source": [
    "bee"
   ]
  },
  {
   "cell_type": "code",
   "execution_count": 8,
   "metadata": {},
   "outputs": [],
   "source": [
    "bee = 3006 \n",
    "frame = 12373576517183002035\n",
    "timestamp = datetime.datetime(2016, 8, 16, 4, 59, 30)"
   ]
  },
  {
   "cell_type": "code",
   "execution_count": 7,
   "metadata": {},
   "outputs": [],
   "source": [
    "name = str(frame)+'_' + str(bee)"
   ]
  },
  {
   "cell_type": "code",
   "execution_count": null,
   "metadata": {},
   "outputs": [],
   "source": [
    "video = plot.plot_bees(bee_ids=[bee], \n",
    "                   frame_id=frame, frame_margin=10,\n",
    "                   path_alpha=None, bt_export=None,\n",
    "                   plot_labels = True, plot_markers=True)"
   ]
  },
  {
   "cell_type": "code",
   "execution_count": null,
   "metadata": {},
   "outputs": [],
   "source": [
    "for frame in video._frames:\n",
    "    frame._title = \"\\ntest\""
   ]
  },
  {
   "cell_type": "code",
   "execution_count": 9,
   "metadata": {},
   "outputs": [
    {
     "data": {
      "text/plain": [
       "Decimal('12373576517183002035')"
      ]
     },
     "execution_count": 9,
     "metadata": {},
     "output_type": "execute_result"
    }
   ],
   "source": [
    "get_frame_id_for_bee_id_and_timestamp(bee, timestamp)"
   ]
  },
  {
   "cell_type": "code",
   "execution_count": 9,
   "metadata": {},
   "outputs": [
    {
     "data": {
      "text/plain": [
       "int"
      ]
     },
     "execution_count": 9,
     "metadata": {},
     "output_type": "execute_result"
    }
   ],
   "source": [
    "type(bee)"
   ]
  },
  {
   "cell_type": "code",
   "execution_count": 10,
   "metadata": {},
   "outputs": [
    {
     "data": {
      "text/plain": [
       "datetime.datetime"
      ]
     },
     "execution_count": 10,
     "metadata": {},
     "output_type": "execute_result"
    }
   ],
   "source": [
    "type(timestamp)"
   ]
  },
  {
   "cell_type": "code",
   "execution_count": null,
   "metadata": {},
   "outputs": [],
   "source": []
  },
  {
   "cell_type": "code",
   "execution_count": null,
   "metadata": {
    "scrolled": true
   },
   "outputs": [],
   "source": [
    "video.get_video(save_to_path='/home/mi/rrszynka/mnt/janek/caches/Videos/' + name + \"-test.mp4\")"
   ]
  },
  {
   "cell_type": "code",
   "execution_count": 5,
   "metadata": {},
   "outputs": [],
   "source": [
    "def process_row(row):\n",
    "    return get_frame_id_for_bee_id_and_timestamp(row['bee_id'], row['timestamp'])\n",
    "\n",
    "#TODO: analyze how this works \n",
    "def get_frame_id_for_bee_id_and_timestamp(bee_id, dt):\n",
    "    for cam_id in range(4): \n",
    "        frames = bbdb.get_frames(cam_id, dt.timestamp(), dt.timestamp() + 5)\n",
    "        if len(frames) == 0:\n",
    "            continue\n",
    "        detections = bbdb.get_bee_detections(bee_id, frames=frames)\n",
    "        for d in detections:\n",
    "            if d is not None:\n",
    "                return d[1]"
   ]
  },
  {
   "cell_type": "code",
   "execution_count": null,
   "metadata": {},
   "outputs": [],
   "source": [
    "det = c.load(\"DETECTIONS-2016-08-13_15:00:00\", type = CacheType.detections, format = CacheFormat.csv)"
   ]
  },
  {
   "cell_type": "code",
   "execution_count": null,
   "metadata": {},
   "outputs": [],
   "source": [
    "det[det.cam_id==0].head(1)"
   ]
  },
  {
   "cell_type": "code",
   "execution_count": null,
   "metadata": {},
   "outputs": [],
   "source": [
    "samples = []\n",
    "\n",
    "for cam in range(4):\n",
    "    samples.append(det[det.cam_id==cam].head(1))"
   ]
  }
 ],
 "metadata": {
  "kernelspec": {
   "display_name": "Python 3",
   "language": "python",
   "name": "python3"
  },
  "language_info": {
   "codemirror_mode": {
    "name": "ipython",
    "version": 3
   },
   "file_extension": ".py",
   "mimetype": "text/x-python",
   "name": "python",
   "nbconvert_exporter": "python",
   "pygments_lexer": "ipython3",
   "version": "3.5.2"
  }
 },
 "nbformat": 4,
 "nbformat_minor": 2
}
