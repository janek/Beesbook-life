{
 "cells": [
  {
   "cell_type": "code",
   "execution_count": 26,
   "metadata": {},
   "outputs": [],
   "source": [
    "import sys \n",
    "sys.path.append('../Python-modules/') #For bee_helpers and file_helpers \n",
    "from bee_helpers import get_alive_bees_for_day\n",
    "from file_helpers import delete_detection_caches_for_date, detections_to_presence, create_presence_cache_filename, create_presence_cache_filename, cache_location_prefix, cache_detections_from_database, cache_death_dates, last_days_caches, create_detections_cache_filename\n",
    "import datetime\n",
    "from pathlib import Path"
   ]
  },
  {
   "cell_type": "code",
   "execution_count": 27,
   "metadata": {},
   "outputs": [],
   "source": [
    "experiment_start_day = datetime.datetime(2016, 7, 20) # TODO: those are dates of first and last detections\n",
    "experiment_end_day = datetime.datetime(2016, 9, 19)   # consider making the period smaller\n",
    "\n",
    "datetime_start = datetime.datetime(2016, 8, 18)\n",
    "num_days_to_process = 20"
   ]
  },
  {
   "cell_type": "code",
   "execution_count": 28,
   "metadata": {},
   "outputs": [],
   "source": [
    "start_day = datetime_start"
   ]
  },
  {
   "cell_type": "code",
   "execution_count": 24,
   "metadata": {},
   "outputs": [],
   "source": [
    "# CACHE DETECTIONS\n",
    "# for i in range(0, 20):\n",
    "#     day = start_day + datetime.timedelta(days=i)\n",
    "#     print(day)\n",
    "#     cache_detections_from_database(day) "
   ]
  },
  {
   "cell_type": "code",
   "execution_count": null,
   "metadata": {
    "scrolled": true
   },
   "outputs": [
    {
     "name": "stderr",
     "output_type": "stream",
     "text": [
      "\n",
      "\n",
      "\n",
      "  0%|          | 0/24 [00:00<?, ?it/s]\u001b[A\u001b[A\u001b[A\n",
      "\n",
      "\n",
      "  4%|▍         | 1/24 [01:35<36:42, 95.76s/it]\u001b[A\u001b[A\u001b[A"
     ]
    }
   ],
   "source": [
    "# TRANSFORM DETECTIONS TO PRESENCE \n",
    "force_refresh = False\n",
    "\n",
    "num_observ_periods = 24\n",
    "num_intervals_per_hour = 120 \n",
    "\n",
    "for i in range(num_days_to_process):\n",
    "    start_day = datetime_start+datetime.timedelta(days=i)\n",
    "   \n",
    "    if (start_day < experiment_start_day):\n",
    "        print(start_day, \" is before expertiment start day (\", experiment_start_day, \"), skipping!\")\n",
    "        continue\n",
    "\n",
    "    if (start_day > experiment_end_day):\n",
    "        print(start_day, \" is after expertiment end day (\", experiment_end_day, \"), quitting!\")\n",
    "        break\n",
    "    \n",
    "    (csv_name, csv_path) = create_presence_cache_filename(start_day)\n",
    "    presence_file = Path(csv_path)\n",
    "    \n",
    "    if (presence_file.exists() and force_refresh==False):\n",
    "        print(\"File \"+ csv_name + \" already exists, moving on\")\n",
    "        continue\n",
    "    \n",
    "    bee_ids = list(get_alive_bees_for_day(start_day).bee_id)\n",
    "\n",
    "    #TODO: check if Detection files are there - if not, better skip to next day \n",
    "    detections_to_presence(num_observ_periods, start_day, num_intervals_per_hour, bee_ids, method='mean-location', detection_confidence_requirement=0.2)       "
   ]
  },
  {
   "cell_type": "markdown",
   "metadata": {},
   "source": [
    "# for 50 bee_ids\n",
    "start: 16:13\n",
    "first tqdm (24/24) was done at 16:29\n",
    "file saved at 16:55\n",
    "\n",
    "40min\n",
    "\n",
    "next one saved 17:53 \n",
    "\n",
    "53min"
   ]
  },
  {
   "cell_type": "markdown",
   "metadata": {},
   "source": [
    "for all ids start: 13:26, first tqdm done 13:41"
   ]
  },
  {
   "cell_type": "code",
   "execution_count": null,
   "metadata": {},
   "outputs": [],
   "source": [
    "# force_refresh = False\n",
    "\n",
    "# for i in range(num_days_to_process):\n",
    "#     start_day = datetime_start+timedelta(days=i)\n",
    "   \n",
    "#     if (start_day < experiment_start_day):\n",
    "#         print(start_day, \" is before expertiment start day (\", experiment_start_day, \"), skipping!\")\n",
    "#         continue\n",
    "\n",
    "#     if (start_day > experiment_end_day):\n",
    "#         print(start_day, \" is after expertiment end day (\", experiment_end_day, \"), quitting!\")\n",
    "#         break\n",
    "\n",
    "    \n",
    "#     (csv_name, csv_path) = create_presence_cache_filename(num_observ_periods, start_day, num_intervals_per_hour)\n",
    "#     presence_file = Path(csv_path)\n",
    "    \n",
    "#     #TODO: do the same for Detections \n",
    "    \n",
    "#     if (presence_file.exists() and force_refresh==False):\n",
    "#         print(\"File \"+ csv_name + \" already exists, moving on\")\n",
    "#         continue\n",
    "    \n",
    "    \n",
    "#     cache_detections_from_database(start_day, observ_period, num_observ_periods, detection_confidence_requirement)    \n",
    "#     detections_to_presence(num_observ_periods, start_day, num_intervals_per_hour, bee_ids_as_ferwar_format)\n",
    "#     detections_to_presence_locations(num_observ_periods, start_day, num_intervals_per_hour, bee_ids_as_ferwar_format)\n",
    "#     detections_to_presence_locations_front(num_observ_periods, start_day, num_intervals_per_hour, bee_ids_as_ferwar_format)\n",
    "#     detections_to_presence_locations_back(num_observ_periods, start_day, num_intervals_per_hour, bee_ids_as_ferwar_format)\n",
    "#     delete_detection_caches_for_date(start_day.strftime(\"%Y-%m-%d\")) "
   ]
  },
  {
   "cell_type": "markdown",
   "metadata": {},
   "source": [
    "### Creating a table with the death dates for the bees (by saving the last day alive for each one)"
   ]
  },
  {
   "cell_type": "code",
   "execution_count": null,
   "metadata": {},
   "outputs": [],
   "source": [
    "# Creating the last_day_alive file for the bees. Should not be required to run again unless the file got lost.\n",
    "cache_death_dates()"
   ]
  },
  {
   "cell_type": "markdown",
   "metadata": {},
   "source": [
    "### Creating \"2 days before death\" tables for all cached files"
   ]
  },
  {
   "cell_type": "code",
   "execution_count": null,
   "metadata": {},
   "outputs": [],
   "source": [
    "last_days_caches(num_observ_periods, num_intervals_per_hour, number_last_days)"
   ]
  },
  {
   "cell_type": "code",
   "execution_count": null,
   "metadata": {},
   "outputs": [],
   "source": [
    "# calculate_bee_lifespan()"
   ]
  },
  {
   "cell_type": "code",
   "execution_count": null,
   "metadata": {},
   "outputs": [],
   "source": []
  }
 ],
 "metadata": {
  "kernelspec": {
   "display_name": "Python 3",
   "language": "python",
   "name": "python3"
  }
 },
 "nbformat": 4,
 "nbformat_minor": 2
}
