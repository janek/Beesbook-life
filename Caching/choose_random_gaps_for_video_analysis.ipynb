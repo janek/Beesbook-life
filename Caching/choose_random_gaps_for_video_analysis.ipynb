{
 "cells": [
  {
   "cell_type": "code",
   "execution_count": 3,
   "metadata": {},
   "outputs": [],
   "source": [
    "import numpy as np\n",
    "import datetime\n",
    "from tqdm import tqdm\n",
    "import pandas as pd\n",
    "import pytz\n",
    "import random\n",
    "import seaborn as sns\n",
    "import sys\n",
    "from bb_behavior import db as bbdb;\n",
    "import bb_behavior\n",
    "# import bb_utils; meta = bb_utils.meta.BeeMetaInfo()\n",
    "sys.path.append('/home/mi/rrszynka/mnt/janek/Beesbook-janek/Python-modules/') #For bee_helpers, file_helpers and cache\n",
    "from bee_cache import Cache, CacheType, CacheFormat; c = Cache()\n",
    "# from file_heplers import create_gaps_cache_filename?\n",
    "\n",
    "%matplotlib inline"
   ]
  },
  {
   "cell_type": "markdown",
   "metadata": {},
   "source": [
    "#### Loads up gaps for each day, for conf 0.99 or 0.2. Removes exclude periods from the data (not finished), samples N gaps with seed 666 for video analysis."
   ]
  },
  {
   "cell_type": "code",
   "execution_count": null,
   "metadata": {},
   "outputs": [],
   "source": [
    "# detection_confidence_requirement = 0.99\n",
    "# gaps = c.load_multiple_day_caches(type=CacheType.gaps, detection_confidence_requirement=detection_confidence_requirement)\n",
    "# gaps_099 = pd.concat(gaps)\n",
    "# gaps_099.shape\n",
    "# gaps = gaps_099"
   ]
  },
  {
   "cell_type": "code",
   "execution_count": 6,
   "metadata": {},
   "outputs": [
    {
     "name": "stderr",
     "output_type": "stream",
     "text": [
      "100%|██████████| 62/62 [00:08<00:00,  7.37it/s]\n"
     ]
    },
    {
     "name": "stdout",
     "output_type": "stream",
     "text": [
      "Collected 60/62 per-day caches.\n"
     ]
    },
    {
     "data": {
      "text/plain": [
       "(886081, 18)"
      ]
     },
     "execution_count": 6,
     "metadata": {},
     "output_type": "execute_result"
    }
   ],
   "source": [
    "detection_confidence_requirement = 0.2\n",
    "gaps = c.load_multiple_day_caches(type=CacheType.gaps, detection_confidence_requirement=detection_confidence_requirement)\n",
    "gaps_02 = pd.concat(gaps)\n",
    "gaps_02.shape\n",
    "gaps = gaps_02"
   ]
  },
  {
   "cell_type": "code",
   "execution_count": null,
   "metadata": {},
   "outputs": [],
   "source": [
    "exclude_periods = [(datetime.datetime(2016,8,26,0,0,1), datetime.datetime(2016,8,30,23,59,59)),\n",
    "                   (datetime.datetime(2016,9,3,20,0,0), datetime.datetime(2016,9,5,23,59,59))]"
   ]
  },
  {
   "cell_type": "code",
   "execution_count": null,
   "metadata": {},
   "outputs": [],
   "source": [
    "# Make the exclusion\n",
    "for start, end in exclude_periods:\n",
    "    gaps = gaps[(gaps.exit < start) | (gaps.exit >= end)]"
   ]
  },
  {
   "cell_type": "code",
   "execution_count": null,
   "metadata": {},
   "outputs": [],
   "source": [
    "# Verify that there are less gaps in excluded periods \n",
    "# for i in range(20):\n",
    "#     print(gaps[gaps['exit'].dt.date == datetime.date(2016,8,17) + datetime.timedelta(days=i)].shape[0])"
   ]
  },
  {
   "cell_type": "code",
   "execution_count": 8,
   "metadata": {},
   "outputs": [],
   "source": [
    "seed = 666\n",
    "sample = gaps.sample(120, random_state=seed)\n",
    "conf_string = str(detection_confidence_requirement).replace('.','')\n",
    "c.save(sample, '120_random_gaps_unmasked_unfiltered_seed_' + str(seed) + '_conf_'+conf_string, format=CacheFormat.csv)"
   ]
  },
  {
   "cell_type": "code",
   "execution_count": null,
   "metadata": {},
   "outputs": [],
   "source": []
  },
  {
   "cell_type": "code",
   "execution_count": null,
   "metadata": {},
   "outputs": [],
   "source": []
  },
  {
   "cell_type": "code",
   "execution_count": null,
   "metadata": {},
   "outputs": [],
   "source": []
  },
  {
   "cell_type": "code",
   "execution_count": null,
   "metadata": {},
   "outputs": [],
   "source": []
  },
  {
   "cell_type": "code",
   "execution_count": 9,
   "metadata": {},
   "outputs": [
    {
     "name": "stderr",
     "output_type": "stream",
     "text": [
      "100%|██████████| 62/62 [00:15<00:00,  4.08it/s]"
     ]
    },
    {
     "name": "stdout",
     "output_type": "stream",
     "text": [
      "Collected 62/62 per-day caches.\n"
     ]
    },
    {
     "name": "stderr",
     "output_type": "stream",
     "text": [
      "\n"
     ]
    }
   ],
   "source": [
    "gaps9 = c.load_multiple_day_caches(type=CacheType.gaps, detection_confidence_requirement=0.99)"
   ]
  },
  {
   "cell_type": "code",
   "execution_count": 10,
   "metadata": {},
   "outputs": [
    {
     "name": "stderr",
     "output_type": "stream",
     "text": [
      "100%|██████████| 2/2 [00:00<00:00,  4.57it/s]"
     ]
    },
    {
     "name": "stdout",
     "output_type": "stream",
     "text": [
      "Collected 2/62 per-day caches.\n"
     ]
    },
    {
     "name": "stderr",
     "output_type": "stream",
     "text": [
      "\n"
     ]
    }
   ],
   "source": [
    "gaps2 = c.load_multiple_day_caches(type=CacheType.gaps, amount=2, detection_confidence_requirement=0.2)"
   ]
  },
  {
   "cell_type": "code",
   "execution_count": 13,
   "metadata": {},
   "outputs": [
    {
     "data": {
      "text/plain": [
       "bee_id                                                              9\n",
       "age                                                                23\n",
       "age_group                                                           4\n",
       "exit                                              2016-07-21 02:50:30\n",
       "entry                                             2016-07-21 03:20:00\n",
       "gap_duration                                          0 days 00:29:30\n",
       "exit_x                                                        96.9379\n",
       "exit_y                                                        137.138\n",
       "exit_frame                                       16251718629804470182\n",
       "exit_closest_detection_timestamp     2016-07-21 02:50:30.117294+00:00\n",
       "cam_id_exit                                                         2\n",
       "hive_side_exit                                                      1\n",
       "entry_x                                                       99.8718\n",
       "entry_y                                                        131.69\n",
       "entry_frame                                      14509012365319516500\n",
       "entry_closest_detection_timestamp    2016-07-21 03:20:24.695846+00:00\n",
       "cam_id_entry                                                        2\n",
       "hive_side_entry                                                     1\n",
       "Name: 1, dtype: object"
      ]
     },
     "execution_count": 13,
     "metadata": {},
     "output_type": "execute_result"
    }
   ],
   "source": [
    "gaps2[1].iloc[1]"
   ]
  },
  {
   "cell_type": "code",
   "execution_count": 14,
   "metadata": {},
   "outputs": [
    {
     "data": {
      "text/plain": [
       "bee_id                                                              9\n",
       "age                                                                23\n",
       "age_group                                                           4\n",
       "exit                                              2016-07-21 02:36:00\n",
       "entry                                             2016-07-21 03:20:00\n",
       "gap_duration                                          0 days 00:44:00\n",
       "exit_x                                                        212.753\n",
       "exit_y                                                        135.695\n",
       "exit_frame                                       16660262265227152921\n",
       "exit_closest_detection_timestamp     2016-07-21 02:36:00.071623+00:00\n",
       "cam_id_exit                                                         3\n",
       "hive_side_exit                                                      1\n",
       "entry_x                                                       99.8718\n",
       "entry_y                                                        131.69\n",
       "entry_frame                                      14509012365319516500\n",
       "entry_closest_detection_timestamp    2016-07-21 03:20:24.695846+00:00\n",
       "cam_id_entry                                                        2\n",
       "hive_side_entry                                                     1\n",
       "origin_for_exit                                              [0, 250]\n",
       "origin_for_entry                                             [0, 250]\n",
       "hiveexit_distance_for_exit                                    241.515\n",
       "hiveexit_distance_for_entry                                   154.828\n",
       "Name: 1, dtype: object"
      ]
     },
     "execution_count": 14,
     "metadata": {},
     "output_type": "execute_result"
    }
   ],
   "source": [
    "gaps9[1].iloc[1]"
   ]
  },
  {
   "cell_type": "code",
   "execution_count": null,
   "metadata": {},
   "outputs": [],
   "source": []
  }
 ],
 "metadata": {
  "kernelspec": {
   "display_name": "Python 3",
   "language": "python",
   "name": "python3"
  },
  "language_info": {
   "codemirror_mode": {
    "name": "ipython",
    "version": 3
   },
   "file_extension": ".py",
   "mimetype": "text/x-python",
   "name": "python",
   "nbconvert_exporter": "python",
   "pygments_lexer": "ipython3",
   "version": "3.5.2"
  }
 },
 "nbformat": 4,
 "nbformat_minor": 2
}
