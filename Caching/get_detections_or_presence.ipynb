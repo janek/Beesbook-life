{
 "cells": [
  {
   "cell_type": "code",
   "execution_count": 7,
   "metadata": {},
   "outputs": [],
   "source": [
    "import sys \n",
    "sys.path.append('../Python-modules/') #For bee_helpers and file_helpers \n",
    "from bee_helpers import get_alive_bees_for_day\n",
    "from file_helpers import delete_detection_caches_for_date, detections_to_presence, create_presence_cache_filename, create_presence_cache_filename, cache_location_prefix, cache_detections_from_database, cache_death_dates, last_days_caches, create_detections_cache_filename\n",
    "import datetime\n",
    "from pathlib import Path"
   ]
  },
  {
   "cell_type": "code",
   "execution_count": 8,
   "metadata": {},
   "outputs": [],
   "source": [
    "experiment_start_day = datetime.datetime(2016, 7, 20) # TODO: those are dates of first and last detections\n",
    "experiment_end_day = datetime.datetime(2016, 9, 19)   # consider making the period smaller\n",
    "\n",
    "datetime_start = datetime.datetime(2016, 8, 8)\n",
    "num_days_to_process = 20"
   ]
  },
  {
   "cell_type": "code",
   "execution_count": 9,
   "metadata": {},
   "outputs": [],
   "source": [
    "start_day = datetime_start"
   ]
  },
  {
   "cell_type": "code",
   "execution_count": null,
   "metadata": {},
   "outputs": [
    {
     "name": "stderr",
     "output_type": "stream",
     "text": [
      "100%|██████████| 24/24 [00:00<00:00, 8158.14it/s]\n",
      "  0%|          | 0/24 [00:00<?, ?it/s]"
     ]
    },
    {
     "name": "stdout",
     "output_type": "stream",
     "text": [
      "2016-08-08 00:00:00\n",
      "Beginning at 2016-08-08 00:00:00\n",
      "Saving to /home/mi/rrszynka/mnt/janek/caches/Detections/\n",
      "File DETECTIONS-2016-08-08_00:00:00.csv already exists, dropping\n",
      "File DETECTIONS-2016-08-08_01:00:00.csv already exists, dropping\n",
      "File DETECTIONS-2016-08-08_02:00:00.csv already exists, dropping\n",
      "File DETECTIONS-2016-08-08_03:00:00.csv already exists, dropping\n",
      "File DETECTIONS-2016-08-08_04:00:00.csv already exists, dropping\n",
      "File DETECTIONS-2016-08-08_05:00:00.csv already exists, dropping\n",
      "File DETECTIONS-2016-08-08_06:00:00.csv already exists, dropping\n",
      "File DETECTIONS-2016-08-08_07:00:00.csv already exists, dropping\n",
      "File DETECTIONS-2016-08-08_08:00:00.csv already exists, dropping\n",
      "File DETECTIONS-2016-08-08_09:00:00.csv already exists, dropping\n",
      "File DETECTIONS-2016-08-08_10:00:00.csv already exists, dropping\n",
      "File DETECTIONS-2016-08-08_11:00:00.csv already exists, dropping\n",
      "File DETECTIONS-2016-08-08_12:00:00.csv already exists, dropping\n",
      "File DETECTIONS-2016-08-08_13:00:00.csv already exists, dropping\n",
      "File DETECTIONS-2016-08-08_14:00:00.csv already exists, dropping\n",
      "File DETECTIONS-2016-08-08_15:00:00.csv already exists, dropping\n",
      "File DETECTIONS-2016-08-08_16:00:00.csv already exists, dropping\n",
      "File DETECTIONS-2016-08-08_17:00:00.csv already exists, dropping\n",
      "File DETECTIONS-2016-08-08_18:00:00.csv already exists, dropping\n",
      "File DETECTIONS-2016-08-08_19:00:00.csv already exists, dropping\n",
      "File DETECTIONS-2016-08-08_20:00:00.csv already exists, dropping\n",
      "File DETECTIONS-2016-08-08_21:00:00.csv already exists, dropping\n",
      "File DETECTIONS-2016-08-08_22:00:00.csv already exists, dropping\n",
      "File DETECTIONS-2016-08-08_23:00:00.csv already exists, dropping\n",
      "2016-08-09 00:00:00\n",
      "Beginning at 2016-08-09 00:00:00\n",
      "Saving to /home/mi/rrszynka/mnt/janek/caches/Detections/\n"
     ]
    },
    {
     "name": "stderr",
     "output_type": "stream",
     "text": [
      " 17%|█▋        | 4/24 [15:48<1:19:49, 239.46s/it]"
     ]
    }
   ],
   "source": [
    "# # CACHE DETECTIONS\n",
    "# for i in range(0, 20):\n",
    "#     day = start_day + datetime.timedelta(days=i)\n",
    "#     print(day)\n",
    "#     cache_detections_from_database(day) "
   ]
  },
  {
   "cell_type": "code",
   "execution_count": 10,
   "metadata": {
    "scrolled": true
   },
   "outputs": [
    {
     "name": "stderr",
     "output_type": "stream",
     "text": [
      "  0%|          | 0/24 [00:00<?, ?it/s]"
     ]
    },
    {
     "name": "stdout",
     "output_type": "stream",
     "text": [
      "HI\n",
      "File PRESENCE-counts-2016-08-08_00_num_hours_24_int_size_120_conf_02_cams_0123.csv already exists, exiting with no effect.\n",
      "HI\n"
     ]
    },
    {
     "name": "stderr",
     "output_type": "stream",
     "text": [
      "\n"
     ]
    },
    {
     "ename": "IndexError",
     "evalue": "list index out of range",
     "output_type": "error",
     "traceback": [
      "\u001b[0;31m---------------------------------------------------------------------------\u001b[0m",
      "\u001b[0;31mIndexError\u001b[0m                                Traceback (most recent call last)",
      "\u001b[0;32m<ipython-input-10-0f475d8d9095>\u001b[0m in \u001b[0;36m<module>\u001b[0;34m()\u001b[0m\n\u001b[1;32m     24\u001b[0m \u001b[0;34m\u001b[0m\u001b[0m\n\u001b[1;32m     25\u001b[0m     \u001b[0mbee_ids\u001b[0m \u001b[0;34m=\u001b[0m \u001b[0mlist\u001b[0m\u001b[0;34m(\u001b[0m\u001b[0mget_alive_bees_for_day\u001b[0m\u001b[0;34m(\u001b[0m\u001b[0mstart_day\u001b[0m\u001b[0;34m)\u001b[0m\u001b[0;34m.\u001b[0m\u001b[0mbee_id\u001b[0m\u001b[0;34m)\u001b[0m\u001b[0;34m\u001b[0m\u001b[0m\n\u001b[0;32m---> 26\u001b[0;31m     \u001b[0mdetections_to_presence\u001b[0m\u001b[0;34m(\u001b[0m\u001b[0mnum_observ_periods\u001b[0m\u001b[0;34m,\u001b[0m \u001b[0mstart_day\u001b[0m\u001b[0;34m,\u001b[0m \u001b[0mnum_intervals_per_hour\u001b[0m\u001b[0;34m,\u001b[0m \u001b[0mbee_ids\u001b[0m\u001b[0;34m,\u001b[0m \u001b[0mmethod\u001b[0m\u001b[0;34m=\u001b[0m\u001b[0;34m'counts'\u001b[0m\u001b[0;34m,\u001b[0m \u001b[0mdetection_confidence_requirement\u001b[0m\u001b[0;34m=\u001b[0m\u001b[0;36m0.2\u001b[0m\u001b[0;34m)\u001b[0m\u001b[0;34m\u001b[0m\u001b[0m\n\u001b[0m\u001b[1;32m     27\u001b[0m \u001b[0;31m#     try:\u001b[0m\u001b[0;34m\u001b[0m\u001b[0;34m\u001b[0m\u001b[0m\n\u001b[1;32m     28\u001b[0m \u001b[0;31m#         #TODO: check if Detection files are there - if not, better skip to next day\u001b[0m\u001b[0;34m\u001b[0m\u001b[0;34m\u001b[0m\u001b[0m\n",
      "\u001b[0;32m~/mnt/janek/Beesbook-janek/Python-modules/file_helpers.py\u001b[0m in \u001b[0;36mdetections_to_presence\u001b[0;34m(num_hours, datetime_start, num_intervals_per_hour, bee_ids, cams, method, detection_confidence_requirement, return_mode)\u001b[0m\n\u001b[1;32m    172\u001b[0m     \u001b[0;31m# Then read and concat them\u001b[0m\u001b[0;34m\u001b[0m\u001b[0;34m\u001b[0m\u001b[0m\n\u001b[1;32m    173\u001b[0m     \u001b[0;32mfor\u001b[0m \u001b[0mi\u001b[0m \u001b[0;32min\u001b[0m \u001b[0mtqdm\u001b[0m\u001b[0;34m(\u001b[0m\u001b[0mrange\u001b[0m\u001b[0;34m(\u001b[0m\u001b[0;36m0\u001b[0m\u001b[0;34m,\u001b[0m \u001b[0mnum_hours\u001b[0m\u001b[0;34m)\u001b[0m\u001b[0;34m)\u001b[0m\u001b[0;34m:\u001b[0m\u001b[0;34m\u001b[0m\u001b[0m\n\u001b[0;32m--> 174\u001b[0;31m         \u001b[0;34m(\u001b[0m\u001b[0mcsv_name\u001b[0m\u001b[0;34m,\u001b[0m \u001b[0mcsv_pathname\u001b[0m\u001b[0;34m)\u001b[0m \u001b[0;34m=\u001b[0m \u001b[0mfiles\u001b[0m\u001b[0;34m[\u001b[0m\u001b[0mi\u001b[0m\u001b[0;34m]\u001b[0m\u001b[0;34m\u001b[0m\u001b[0m\n\u001b[0m\u001b[1;32m    175\u001b[0m         detections_1h = pd.read_csv(csv_pathname,\n\u001b[1;32m    176\u001b[0m                                     \u001b[0mparse_dates\u001b[0m\u001b[0;34m=\u001b[0m\u001b[0;34m[\u001b[0m\u001b[0;34m'timestamp'\u001b[0m\u001b[0;34m]\u001b[0m\u001b[0;34m,\u001b[0m\u001b[0;34m\u001b[0m\u001b[0m\n",
      "\u001b[0;31mIndexError\u001b[0m: list index out of range"
     ]
    }
   ],
   "source": [
    "# TRANSFORM DETECTIONS TO PRESENCE \n",
    "force_refresh = False\n",
    "\n",
    "num_observ_periods = 24\n",
    "num_intervals_per_hour = 120 \n",
    "\n",
    "for i in range(num_days_to_process):\n",
    "    start_day = datetime_start+datetime.timedelta(days=i)\n",
    "   \n",
    "    if (start_day < experiment_start_day):\n",
    "        print(start_day, \" is before expertiment start day (\", experiment_start_day, \"), skipping!\")\n",
    "        continue\n",
    "\n",
    "    if (start_day > experiment_end_day):\n",
    "        print(start_day, \" is after expertiment end day (\", experiment_end_day, \"), quitting!\")\n",
    "        break\n",
    "    \n",
    "    (csv_name, csv_path) = create_presence_cache_filename(start_day)\n",
    "    presence_file = Path(csv_path)\n",
    "    \n",
    "    if (presence_file.exists() and force_refresh==False):\n",
    "        print(\"File \"+ csv_name + \" already exists, moving on\")\n",
    "        continue\n",
    "    \n",
    "    bee_ids = list(get_alive_bees_for_day(start_day).bee_id)\n",
    "    detections_to_presence(num_observ_periods, start_day, num_intervals_per_hour, bee_ids, method='counts', detection_confidence_requirement=0.2) \n",
    "#     try:        \n",
    "#         #TODO: check if Detection files are there - if not, better skip to next day \n",
    "#         detections_to_presence(num_observ_periods, start_day, num_intervals_per_hour, bee_ids, method='counts', detection_confidence_requirement=0.2)       \n",
    "#     except(FileNotFoundError):\n",
    "#         print(\"For \" + str(start_day) + \", some detection files were missing. Skipping that date.\")\n",
    "#         continue"
   ]
  },
  {
   "cell_type": "markdown",
   "metadata": {},
   "source": [
    "# for 50 bee_ids\n",
    "start: 16:13\n",
    "first tqdm (24/24) was done at 16:29\n",
    "file saved at 16:55\n",
    "\n",
    "40min\n",
    "\n",
    "next one saved 17:53 \n",
    "\n",
    "53min"
   ]
  },
  {
   "cell_type": "markdown",
   "metadata": {},
   "source": [
    "for all ids start: 13:26, first tqdm done 13:41"
   ]
  },
  {
   "cell_type": "code",
   "execution_count": null,
   "metadata": {},
   "outputs": [],
   "source": [
    "# force_refresh = False\n",
    "\n",
    "# for i in range(num_days_to_process):\n",
    "#     start_day = datetime_start+timedelta(days=i)\n",
    "   \n",
    "#     if (start_day < experiment_start_day):\n",
    "#         print(start_day, \" is before expertiment start day (\", experiment_start_day, \"), skipping!\")\n",
    "#         continue\n",
    "\n",
    "#     if (start_day > experiment_end_day):\n",
    "#         print(start_day, \" is after expertiment end day (\", experiment_end_day, \"), quitting!\")\n",
    "#         break\n",
    "\n",
    "    \n",
    "#     (csv_name, csv_path) = create_presence_cache_filename(num_observ_periods, start_day, num_intervals_per_hour)\n",
    "#     presence_file = Path(csv_path)\n",
    "    \n",
    "#     #TODO: do the same for Detections \n",
    "    \n",
    "#     if (presence_file.exists() and force_refresh==False):\n",
    "#         print(\"File \"+ csv_name + \" already exists, moving on\")\n",
    "#         continue\n",
    "    \n",
    "    \n",
    "#     cache_detections_from_database(start_day, observ_period, num_observ_periods, detection_confidence_requirement)    \n",
    "#     detections_to_presence(num_observ_periods, start_day, num_intervals_per_hour, bee_ids_as_ferwar_format)\n",
    "#     detections_to_presence_locations(num_observ_periods, start_day, num_intervals_per_hour, bee_ids_as_ferwar_format)\n",
    "#     detections_to_presence_locations_front(num_observ_periods, start_day, num_intervals_per_hour, bee_ids_as_ferwar_format)\n",
    "#     detections_to_presence_locations_back(num_observ_periods, start_day, num_intervals_per_hour, bee_ids_as_ferwar_format)\n",
    "#     delete_detection_caches_for_date(start_day.strftime(\"%Y-%m-%d\")) "
   ]
  },
  {
   "cell_type": "markdown",
   "metadata": {},
   "source": [
    "### Creating a table with the death dates for the bees (by saving the last day alive for each one)"
   ]
  },
  {
   "cell_type": "code",
   "execution_count": null,
   "metadata": {},
   "outputs": [],
   "source": [
    "# Creating the last_day_alive file for the bees. Should not be required to run again unless the file got lost.\n",
    "cache_death_dates()"
   ]
  },
  {
   "cell_type": "markdown",
   "metadata": {},
   "source": [
    "### Creating \"2 days before death\" tables for all cached files"
   ]
  },
  {
   "cell_type": "code",
   "execution_count": null,
   "metadata": {},
   "outputs": [],
   "source": [
    "last_days_caches(num_observ_periods, num_intervals_per_hour, number_last_days)"
   ]
  },
  {
   "cell_type": "code",
   "execution_count": null,
   "metadata": {},
   "outputs": [],
   "source": [
    "# calculate_bee_lifespan()"
   ]
  },
  {
   "cell_type": "code",
   "execution_count": null,
   "metadata": {},
   "outputs": [],
   "source": []
  }
 ],
 "metadata": {
  "kernelspec": {
   "display_name": "Python 3",
   "language": "python",
   "name": "python3"
  },
  "language_info": {
   "codemirror_mode": {
    "name": "ipython",
    "version": 3
   },
   "file_extension": ".py",
   "mimetype": "text/x-python",
   "name": "python",
   "nbconvert_exporter": "python",
   "pygments_lexer": "ipython3",
   "version": "3.5.2"
  }
 },
 "nbformat": 4,
 "nbformat_minor": 2
}
