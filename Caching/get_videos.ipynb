{
 "cells": [
  {
   "cell_type": "code",
   "execution_count": 82,
   "metadata": {},
   "outputs": [],
   "source": [
    "from bb_behavior import plot\n",
    "import bb_behavior\n",
    "import pandas as pd\n",
    "import os\n",
    "import sys\n",
    "sys.path.append('/home/mi/rrszynka/mnt/janek/Beesbook-janek/Python-modules/') #For bee_helpers, file_helpers and cache\n",
    "from bee_cache import Cache, CacheType, CacheFormat; c = Cache()\n",
    "import datetime\n",
    "import numpy as np"
   ]
  },
  {
   "cell_type": "code",
   "execution_count": 62,
   "metadata": {},
   "outputs": [],
   "source": [
    "det = c.load(\"DETECTIONS-2016-08-13_15:00:00\", type = CacheType.detections, format = CacheFormat.csv)"
   ]
  },
  {
   "cell_type": "code",
   "execution_count": 79,
   "metadata": {},
   "outputs": [],
   "source": [
    "samples = []\n",
    "\n",
    "for cam in range(4):\n",
    "    samples.append(det[det.cam_id==cam].head(1))\n",
    "    "
   ]
  },
  {
   "cell_type": "code",
   "execution_count": 91,
   "metadata": {},
   "outputs": [
    {
     "data": {
      "text/html": [
       "<div>\n",
       "<style scoped>\n",
       "    .dataframe tbody tr th:only-of-type {\n",
       "        vertical-align: middle;\n",
       "    }\n",
       "\n",
       "    .dataframe tbody tr th {\n",
       "        vertical-align: top;\n",
       "    }\n",
       "\n",
       "    .dataframe thead th {\n",
       "        text-align: right;\n",
       "    }\n",
       "</style>\n",
       "<table border=\"1\" class=\"dataframe\">\n",
       "  <thead>\n",
       "    <tr style=\"text-align: right;\">\n",
       "      <th></th>\n",
       "      <th>timestamp</th>\n",
       "      <th>frame_id</th>\n",
       "      <th>detection_idx</th>\n",
       "      <th>track_id</th>\n",
       "      <th>x_pos</th>\n",
       "      <th>y_pos</th>\n",
       "      <th>orientation</th>\n",
       "      <th>x_pos_hive</th>\n",
       "      <th>y_pos_hive</th>\n",
       "      <th>orientation_hive</th>\n",
       "      <th>bee_id</th>\n",
       "      <th>bee_id_confidence</th>\n",
       "      <th>cam_id</th>\n",
       "    </tr>\n",
       "    <tr>\n",
       "      <th>Unnamed: 0</th>\n",
       "      <th></th>\n",
       "      <th></th>\n",
       "      <th></th>\n",
       "      <th></th>\n",
       "      <th></th>\n",
       "      <th></th>\n",
       "      <th></th>\n",
       "      <th></th>\n",
       "      <th></th>\n",
       "      <th></th>\n",
       "      <th></th>\n",
       "      <th></th>\n",
       "      <th></th>\n",
       "    </tr>\n",
       "  </thead>\n",
       "  <tbody>\n",
       "    <tr>\n",
       "      <th>223</th>\n",
       "      <td>2016-08-13 15:00:00.284019</td>\n",
       "      <td>16074968420287169148</td>\n",
       "      <td>106</td>\n",
       "      <td>16758735140124590835</td>\n",
       "      <td>1263</td>\n",
       "      <td>2911</td>\n",
       "      <td>2.82338</td>\n",
       "      <td>181.367</td>\n",
       "      <td>153.632</td>\n",
       "      <td>1.25032</td>\n",
       "      <td>2606</td>\n",
       "      <td>0.992157</td>\n",
       "      <td>0</td>\n",
       "    </tr>\n",
       "  </tbody>\n",
       "</table>\n",
       "</div>"
      ],
      "text/plain": [
       "                            timestamp              frame_id  detection_idx  \\\n",
       "Unnamed: 0                                                                   \n",
       "223        2016-08-13 15:00:00.284019  16074968420287169148            106   \n",
       "\n",
       "                        track_id  x_pos  y_pos  orientation  x_pos_hive  \\\n",
       "Unnamed: 0                                                                \n",
       "223         16758735140124590835   1263   2911      2.82338     181.367   \n",
       "\n",
       "            y_pos_hive  orientation_hive  bee_id  bee_id_confidence  cam_id  \n",
       "Unnamed: 0                                                                   \n",
       "223            153.632           1.25032    2606           0.992157       0  "
      ]
     },
     "execution_count": 91,
     "metadata": {},
     "output_type": "execute_result"
    }
   ],
   "source": [
    "det[det.cam_id==0].head(1)"
   ]
  },
  {
   "cell_type": "code",
   "execution_count": 92,
   "metadata": {},
   "outputs": [
    {
     "data": {
      "text/html": [
       "<div>\n",
       "<style scoped>\n",
       "    .dataframe tbody tr th:only-of-type {\n",
       "        vertical-align: middle;\n",
       "    }\n",
       "\n",
       "    .dataframe tbody tr th {\n",
       "        vertical-align: top;\n",
       "    }\n",
       "\n",
       "    .dataframe thead th {\n",
       "        text-align: right;\n",
       "    }\n",
       "</style>\n",
       "<table border=\"1\" class=\"dataframe\">\n",
       "  <thead>\n",
       "    <tr style=\"text-align: right;\">\n",
       "      <th></th>\n",
       "      <th>timestamp</th>\n",
       "      <th>frame_id</th>\n",
       "      <th>detection_idx</th>\n",
       "      <th>track_id</th>\n",
       "      <th>x_pos</th>\n",
       "      <th>y_pos</th>\n",
       "      <th>orientation</th>\n",
       "      <th>x_pos_hive</th>\n",
       "      <th>y_pos_hive</th>\n",
       "      <th>orientation_hive</th>\n",
       "      <th>bee_id</th>\n",
       "      <th>bee_id_confidence</th>\n",
       "      <th>cam_id</th>\n",
       "    </tr>\n",
       "    <tr>\n",
       "      <th>Unnamed: 0</th>\n",
       "      <th></th>\n",
       "      <th></th>\n",
       "      <th></th>\n",
       "      <th></th>\n",
       "      <th></th>\n",
       "      <th></th>\n",
       "      <th></th>\n",
       "      <th></th>\n",
       "      <th></th>\n",
       "      <th></th>\n",
       "      <th></th>\n",
       "      <th></th>\n",
       "      <th></th>\n",
       "    </tr>\n",
       "  </thead>\n",
       "  <tbody>\n",
       "    <tr>\n",
       "      <th>301</th>\n",
       "      <td>2016-08-13 15:00:00.284020</td>\n",
       "      <td>16496697677197950303</td>\n",
       "      <td>173</td>\n",
       "      <td>13887109240630650413</td>\n",
       "      <td>2787</td>\n",
       "      <td>2677</td>\n",
       "      <td>-0.348283</td>\n",
       "      <td>180.895</td>\n",
       "      <td>153.585</td>\n",
       "      <td>1.19502</td>\n",
       "      <td>2606</td>\n",
       "      <td>1.0</td>\n",
       "      <td>1</td>\n",
       "    </tr>\n",
       "  </tbody>\n",
       "</table>\n",
       "</div>"
      ],
      "text/plain": [
       "                            timestamp              frame_id  detection_idx  \\\n",
       "Unnamed: 0                                                                   \n",
       "301        2016-08-13 15:00:00.284020  16496697677197950303            173   \n",
       "\n",
       "                        track_id  x_pos  y_pos  orientation  x_pos_hive  \\\n",
       "Unnamed: 0                                                                \n",
       "301         13887109240630650413   2787   2677    -0.348283     180.895   \n",
       "\n",
       "            y_pos_hive  orientation_hive  bee_id  bee_id_confidence  cam_id  \n",
       "Unnamed: 0                                                                   \n",
       "301            153.585           1.19502    2606                1.0       1  "
      ]
     },
     "execution_count": 92,
     "metadata": {},
     "output_type": "execute_result"
    }
   ],
   "source": [
    "det[det.cam_id==1].head(1)"
   ]
  },
  {
   "cell_type": "code",
   "execution_count": 93,
   "metadata": {},
   "outputs": [
    {
     "data": {
      "text/html": [
       "<div>\n",
       "<style scoped>\n",
       "    .dataframe tbody tr th:only-of-type {\n",
       "        vertical-align: middle;\n",
       "    }\n",
       "\n",
       "    .dataframe tbody tr th {\n",
       "        vertical-align: top;\n",
       "    }\n",
       "\n",
       "    .dataframe thead th {\n",
       "        text-align: right;\n",
       "    }\n",
       "</style>\n",
       "<table border=\"1\" class=\"dataframe\">\n",
       "  <thead>\n",
       "    <tr style=\"text-align: right;\">\n",
       "      <th></th>\n",
       "      <th>timestamp</th>\n",
       "      <th>frame_id</th>\n",
       "      <th>detection_idx</th>\n",
       "      <th>track_id</th>\n",
       "      <th>x_pos</th>\n",
       "      <th>y_pos</th>\n",
       "      <th>orientation</th>\n",
       "      <th>x_pos_hive</th>\n",
       "      <th>y_pos_hive</th>\n",
       "      <th>orientation_hive</th>\n",
       "      <th>bee_id</th>\n",
       "      <th>bee_id_confidence</th>\n",
       "      <th>cam_id</th>\n",
       "    </tr>\n",
       "    <tr>\n",
       "      <th>Unnamed: 0</th>\n",
       "      <th></th>\n",
       "      <th></th>\n",
       "      <th></th>\n",
       "      <th></th>\n",
       "      <th></th>\n",
       "      <th></th>\n",
       "      <th></th>\n",
       "      <th></th>\n",
       "      <th></th>\n",
       "      <th></th>\n",
       "      <th></th>\n",
       "      <th></th>\n",
       "      <th></th>\n",
       "    </tr>\n",
       "  </thead>\n",
       "  <tbody>\n",
       "    <tr>\n",
       "      <th>0</th>\n",
       "      <td>2016-08-13 15:00:00.243058</td>\n",
       "      <td>9751489668076630360</td>\n",
       "      <td>28</td>\n",
       "      <td>18147537044802308410</td>\n",
       "      <td>1549</td>\n",
       "      <td>625</td>\n",
       "      <td>-0.949905</td>\n",
       "      <td>32.7651</td>\n",
       "      <td>139.59</td>\n",
       "      <td>-2.52965</td>\n",
       "      <td>1201</td>\n",
       "      <td>1.0</td>\n",
       "      <td>2</td>\n",
       "    </tr>\n",
       "  </tbody>\n",
       "</table>\n",
       "</div>"
      ],
      "text/plain": [
       "                            timestamp             frame_id  detection_idx  \\\n",
       "Unnamed: 0                                                                  \n",
       "0          2016-08-13 15:00:00.243058  9751489668076630360             28   \n",
       "\n",
       "                        track_id  x_pos  y_pos  orientation  x_pos_hive  \\\n",
       "Unnamed: 0                                                                \n",
       "0           18147537044802308410   1549    625    -0.949905     32.7651   \n",
       "\n",
       "            y_pos_hive  orientation_hive  bee_id  bee_id_confidence  cam_id  \n",
       "Unnamed: 0                                                                   \n",
       "0               139.59          -2.52965    1201                1.0       2  "
      ]
     },
     "execution_count": 93,
     "metadata": {},
     "output_type": "execute_result"
    }
   ],
   "source": [
    "det[det.cam_id==2].head(1)"
   ]
  },
  {
   "cell_type": "code",
   "execution_count": 94,
   "metadata": {},
   "outputs": [
    {
     "data": {
      "text/html": [
       "<div>\n",
       "<style scoped>\n",
       "    .dataframe tbody tr th:only-of-type {\n",
       "        vertical-align: middle;\n",
       "    }\n",
       "\n",
       "    .dataframe tbody tr th {\n",
       "        vertical-align: top;\n",
       "    }\n",
       "\n",
       "    .dataframe thead th {\n",
       "        text-align: right;\n",
       "    }\n",
       "</style>\n",
       "<table border=\"1\" class=\"dataframe\">\n",
       "  <thead>\n",
       "    <tr style=\"text-align: right;\">\n",
       "      <th></th>\n",
       "      <th>timestamp</th>\n",
       "      <th>frame_id</th>\n",
       "      <th>detection_idx</th>\n",
       "      <th>track_id</th>\n",
       "      <th>x_pos</th>\n",
       "      <th>y_pos</th>\n",
       "      <th>orientation</th>\n",
       "      <th>x_pos_hive</th>\n",
       "      <th>y_pos_hive</th>\n",
       "      <th>orientation_hive</th>\n",
       "      <th>bee_id</th>\n",
       "      <th>bee_id_confidence</th>\n",
       "      <th>cam_id</th>\n",
       "    </tr>\n",
       "    <tr>\n",
       "      <th>Unnamed: 0</th>\n",
       "      <th></th>\n",
       "      <th></th>\n",
       "      <th></th>\n",
       "      <th></th>\n",
       "      <th></th>\n",
       "      <th></th>\n",
       "      <th></th>\n",
       "      <th></th>\n",
       "      <th></th>\n",
       "      <th></th>\n",
       "      <th></th>\n",
       "      <th></th>\n",
       "      <th></th>\n",
       "    </tr>\n",
       "  </thead>\n",
       "  <tbody>\n",
       "    <tr>\n",
       "      <th>133</th>\n",
       "      <td>2016-08-13 15:00:00.243060</td>\n",
       "      <td>10325762713383093507</td>\n",
       "      <td>91</td>\n",
       "      <td>12922585551012271045</td>\n",
       "      <td>1837</td>\n",
       "      <td>2339</td>\n",
       "      <td>0.634444</td>\n",
       "      <td>205.9</td>\n",
       "      <td>93.9387</td>\n",
       "      <td>2.22224</td>\n",
       "      <td>2689</td>\n",
       "      <td>1.0</td>\n",
       "      <td>3</td>\n",
       "    </tr>\n",
       "  </tbody>\n",
       "</table>\n",
       "</div>"
      ],
      "text/plain": [
       "                            timestamp              frame_id  detection_idx  \\\n",
       "Unnamed: 0                                                                   \n",
       "133        2016-08-13 15:00:00.243060  10325762713383093507             91   \n",
       "\n",
       "                        track_id  x_pos  y_pos  orientation  x_pos_hive  \\\n",
       "Unnamed: 0                                                                \n",
       "133         12922585551012271045   1837   2339     0.634444       205.9   \n",
       "\n",
       "            y_pos_hive  orientation_hive  bee_id  bee_id_confidence  cam_id  \n",
       "Unnamed: 0                                                                   \n",
       "133            93.9387           2.22224    2689                1.0       3  "
      ]
     },
     "execution_count": 94,
     "metadata": {},
     "output_type": "execute_result"
    }
   ],
   "source": [
    "det[det.cam_id==3].head(1)"
   ]
  },
  {
   "cell_type": "code",
   "execution_count": 97,
   "metadata": {},
   "outputs": [
    {
     "data": {
      "text/html": [
       "\n",
       "            <video style='margin: 0 auto;' width=\"600\" height=\"450\" controls>\n",
       "                <source src=\"/home/mi/rrszynka/mnt/janek/caches/Videos/16074968420287169148_2606.mp4?96705\" type=\"video/mp4\">\n",
       "            </video>\n",
       "            "
      ],
      "text/plain": [
       "<IPython.core.display.HTML object>"
      ]
     },
     "metadata": {},
     "output_type": "display_data"
    },
    {
     "data": {
      "text/html": [
       "\n",
       "            <video style='margin: 0 auto;' width=\"600\" height=\"450\" controls>\n",
       "                <source src=\"/home/mi/rrszynka/mnt/janek/caches/Videos/16496697677197950303_2606.mp4?77219\" type=\"video/mp4\">\n",
       "            </video>\n",
       "            "
      ],
      "text/plain": [
       "<IPython.core.display.HTML object>"
      ]
     },
     "metadata": {},
     "output_type": "display_data"
    },
    {
     "data": {
      "text/html": [
       "\n",
       "            <video style='margin: 0 auto;' width=\"600\" height=\"450\" controls>\n",
       "                <source src=\"/home/mi/rrszynka/mnt/janek/caches/Videos/9751489668076630360_1201.mp4?74147\" type=\"video/mp4\">\n",
       "            </video>\n",
       "            "
      ],
      "text/plain": [
       "<IPython.core.display.HTML object>"
      ]
     },
     "metadata": {},
     "output_type": "display_data"
    },
    {
     "data": {
      "text/html": [
       "\n",
       "            <video style='margin: 0 auto;' width=\"600\" height=\"450\" controls>\n",
       "                <source src=\"/home/mi/rrszynka/mnt/janek/caches/Videos/10325762713383093507_2689.mp4?68463\" type=\"video/mp4\">\n",
       "            </video>\n",
       "            "
      ],
      "text/plain": [
       "<IPython.core.display.HTML object>"
      ]
     },
     "metadata": {},
     "output_type": "display_data"
    }
   ],
   "source": [
    "in_data = [(2606, 16074968420287169148), (2606, 16496697677197950303), (1201, 9751489668076630360), (2689, 10325762713383093507)]\n",
    "\n",
    "\n",
    "for (bee, frame) in in_data:\n",
    "    video = plot.plot_bees(bee_ids=[4], \n",
    "                       frame_id=frame, frame_margin=10,\n",
    "                       path_alpha=None,\n",
    "                       plot_labels = True, plot_markers=True)\n",
    "    video.get_video(save_to_path='/home/mi/rrszynka/mnt/janek/caches/Videos/'+str(frame)+'_' + str(bee) + \".mp4\")"
   ]
  },
  {
   "cell_type": "code",
   "execution_count": null,
   "metadata": {},
   "outputs": [],
   "source": []
  },
  {
   "cell_type": "code",
   "execution_count": null,
   "metadata": {},
   "outputs": [],
   "source": [
    "    "
   ]
  },
  {
   "cell_type": "code",
   "execution_count": 45,
   "metadata": {},
   "outputs": [
    {
     "data": {
      "text/html": [
       "\n",
       "            <video style='margin: 0 auto;' width=\"600\" height=\"450\" controls>\n",
       "                <source src=\"/home/mi/rrszynka/mnt/janek/caches/Videos/test_cam3.mp4?56550\" type=\"video/mp4\">\n",
       "            </video>\n",
       "            "
      ],
      "text/plain": [
       "<IPython.core.display.HTML object>"
      ]
     },
     "metadata": {},
     "output_type": "display_data"
    },
    {
     "data": {
      "text/plain": [
       "<_io.BytesIO at 0x7f3d4eac4570>"
      ]
     },
     "execution_count": 45,
     "metadata": {},
     "output_type": "execute_result"
    }
   ],
   "source": []
  },
  {
   "cell_type": "code",
   "execution_count": 50,
   "metadata": {},
   "outputs": [
    {
     "data": {
      "text/plain": [
       "Decimal('9307872200162233439')"
      ]
     },
     "execution_count": 50,
     "metadata": {},
     "output_type": "execute_result"
    }
   ],
   "source": [
    "bee_id = 2460\n",
    "dt = datetime.datetime(2016, 8, 8, 13)\n",
    "def get_frame_id_for_bee_id(bee_id, dt):\n",
    "    for cam_id in range(4):\n",
    "        frames = bb_behavior.db.get_frames(cam_id, dt.timestamp(), dt.timestamp() + 5)\n",
    "        detections = bb_behavior.db.get_bee_detections(bee_id, frames=frames)\n",
    "        for d in detections:\n",
    "            if d is not None:\n",
    "                return d[1]\n",
    "get_frame_id_for_bee_id(bee_id, dt)"
   ]
  }
 ],
 "metadata": {
  "kernelspec": {
   "display_name": "Python 3",
   "language": "python",
   "name": "python3"
  },
  "language_info": {
   "codemirror_mode": {
    "name": "ipython",
    "version": 3
   },
   "file_extension": ".py",
   "mimetype": "text/x-python",
   "name": "python",
   "nbconvert_exporter": "python",
   "pygments_lexer": "ipython3",
   "version": "3.5.2"
  }
 },
 "nbformat": 4,
 "nbformat_minor": 2
}
