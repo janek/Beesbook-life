{
 "cells": [
  {
   "cell_type": "code",
   "execution_count": 2,
   "metadata": {},
   "outputs": [
    {
     "name": "stderr",
     "output_type": "stream",
     "text": [
      "/usr/local/lib/python3.5/dist-packages/psycopg2/__init__.py:144: UserWarning: The psycopg2 wheel package will be renamed from release 2.8; in order to keep installing from binary please use \"pip install psycopg2-binary\" instead. For details see: <http://initd.org/psycopg/docs/install.html#binary-install-from-pypi>.\n",
      "  \"\"\")\n"
     ]
    }
   ],
   "source": [
    "from bb_behavior import plot\n",
    "from bb_behavior import db as bbdb\n",
    "import bb_behavior\n",
    "import pandas as pd\n",
    "import os\n",
    "import sys\n",
    "sys.path.append('/home/mi/rrszynka/mnt/janek/Beesbook-janek/Python-modules/') #For bee_helpers, file_helpers and cache\n",
    "from bee_cache import Cache, CacheType, CacheFormat; c = Cache()\n",
    "import datetime\n",
    "\n",
    "import numpy as np\n",
    "from tqdm import tqdm"
   ]
  },
  {
   "cell_type": "code",
   "execution_count": 3,
   "metadata": {},
   "outputs": [],
   "source": [
    "gaps = c.load('with_coordinates', format = CacheFormat.hdf)"
   ]
  },
  {
   "cell_type": "code",
   "execution_count": 4,
   "metadata": {},
   "outputs": [
    {
     "data": {
      "text/html": [
       "<div>\n",
       "<style scoped>\n",
       "    .dataframe tbody tr th:only-of-type {\n",
       "        vertical-align: middle;\n",
       "    }\n",
       "\n",
       "    .dataframe tbody tr th {\n",
       "        vertical-align: top;\n",
       "    }\n",
       "\n",
       "    .dataframe thead th {\n",
       "        text-align: right;\n",
       "    }\n",
       "</style>\n",
       "<table border=\"1\" class=\"dataframe\">\n",
       "  <thead>\n",
       "    <tr style=\"text-align: right;\">\n",
       "      <th></th>\n",
       "      <th>bee_id</th>\n",
       "      <th>timestamp</th>\n",
       "      <th>x</th>\n",
       "      <th>y</th>\n",
       "      <th>cam_id</th>\n",
       "      <th>hive_side</th>\n",
       "    </tr>\n",
       "  </thead>\n",
       "  <tbody>\n",
       "    <tr>\n",
       "      <th>0</th>\n",
       "      <td>4</td>\n",
       "      <td>2016-07-30 22:39:30+00:00</td>\n",
       "      <td>131.927600</td>\n",
       "      <td>176.709489</td>\n",
       "      <td>2.0</td>\n",
       "      <td>1</td>\n",
       "    </tr>\n",
       "    <tr>\n",
       "      <th>1</th>\n",
       "      <td>4</td>\n",
       "      <td>2016-08-04 00:08:30+00:00</td>\n",
       "      <td>325.306436</td>\n",
       "      <td>149.979205</td>\n",
       "      <td>1.0</td>\n",
       "      <td>0</td>\n",
       "    </tr>\n",
       "    <tr>\n",
       "      <th>2</th>\n",
       "      <td>4</td>\n",
       "      <td>2016-08-04 01:07:00+00:00</td>\n",
       "      <td>326.047800</td>\n",
       "      <td>149.909267</td>\n",
       "      <td>1.0</td>\n",
       "      <td>0</td>\n",
       "    </tr>\n",
       "    <tr>\n",
       "      <th>3</th>\n",
       "      <td>4</td>\n",
       "      <td>2016-08-05 05:29:30+00:00</td>\n",
       "      <td>118.346444</td>\n",
       "      <td>21.785928</td>\n",
       "      <td>0.0</td>\n",
       "      <td>0</td>\n",
       "    </tr>\n",
       "    <tr>\n",
       "      <th>4</th>\n",
       "      <td>4</td>\n",
       "      <td>2016-08-05 23:38:00+00:00</td>\n",
       "      <td>333.792683</td>\n",
       "      <td>67.998315</td>\n",
       "      <td>1.0</td>\n",
       "      <td>0</td>\n",
       "    </tr>\n",
       "  </tbody>\n",
       "</table>\n",
       "</div>"
      ],
      "text/plain": [
       "   bee_id                 timestamp           x           y  cam_id  hive_side\n",
       "0       4 2016-07-30 22:39:30+00:00  131.927600  176.709489     2.0          1\n",
       "1       4 2016-08-04 00:08:30+00:00  325.306436  149.979205     1.0          0\n",
       "2       4 2016-08-04 01:07:00+00:00  326.047800  149.909267     1.0          0\n",
       "3       4 2016-08-05 05:29:30+00:00  118.346444   21.785928     0.0          0\n",
       "4       4 2016-08-05 23:38:00+00:00  333.792683   67.998315     1.0          0"
      ]
     },
     "execution_count": 4,
     "metadata": {},
     "output_type": "execute_result"
    }
   ],
   "source": [
    "gaps.head()"
   ]
  },
  {
   "cell_type": "code",
   "execution_count": 5,
   "metadata": {},
   "outputs": [],
   "source": [
    "#Add frame to the df \n",
    "gaps_sample = gaps.sample(15)"
   ]
  },
  {
   "cell_type": "code",
   "execution_count": 8,
   "metadata": {},
   "outputs": [
    {
     "data": {
      "text/html": [
       "<div>\n",
       "<style scoped>\n",
       "    .dataframe tbody tr th:only-of-type {\n",
       "        vertical-align: middle;\n",
       "    }\n",
       "\n",
       "    .dataframe tbody tr th {\n",
       "        vertical-align: top;\n",
       "    }\n",
       "\n",
       "    .dataframe thead th {\n",
       "        text-align: right;\n",
       "    }\n",
       "</style>\n",
       "<table border=\"1\" class=\"dataframe\">\n",
       "  <thead>\n",
       "    <tr style=\"text-align: right;\">\n",
       "      <th></th>\n",
       "      <th>bee_id</th>\n",
       "      <th>timestamp</th>\n",
       "      <th>x</th>\n",
       "      <th>y</th>\n",
       "      <th>cam_id</th>\n",
       "      <th>hive_side</th>\n",
       "    </tr>\n",
       "  </thead>\n",
       "  <tbody>\n",
       "    <tr>\n",
       "      <th>396689</th>\n",
       "      <td>1662</td>\n",
       "      <td>2016-08-15 08:09:30+00:00</td>\n",
       "      <td>327.324043</td>\n",
       "      <td>111.191891</td>\n",
       "      <td>1.0</td>\n",
       "      <td>0</td>\n",
       "    </tr>\n",
       "    <tr>\n",
       "      <th>1044084</th>\n",
       "      <td>3134</td>\n",
       "      <td>2016-08-28 16:41:30+00:00</td>\n",
       "      <td>107.839111</td>\n",
       "      <td>15.360502</td>\n",
       "      <td>2.0</td>\n",
       "      <td>1</td>\n",
       "    </tr>\n",
       "    <tr>\n",
       "      <th>63937</th>\n",
       "      <td>552</td>\n",
       "      <td>2016-08-11 19:49:30+00:00</td>\n",
       "      <td>24.045198</td>\n",
       "      <td>160.493156</td>\n",
       "      <td>2.0</td>\n",
       "      <td>1</td>\n",
       "    </tr>\n",
       "    <tr>\n",
       "      <th>837455</th>\n",
       "      <td>2572</td>\n",
       "      <td>2016-08-24 03:18:00+00:00</td>\n",
       "      <td>313.978822</td>\n",
       "      <td>157.594511</td>\n",
       "      <td>1.0</td>\n",
       "      <td>0</td>\n",
       "    </tr>\n",
       "    <tr>\n",
       "      <th>569398</th>\n",
       "      <td>1983</td>\n",
       "      <td>2016-07-29 15:32:30+00:00</td>\n",
       "      <td>285.913778</td>\n",
       "      <td>111.676622</td>\n",
       "      <td>3.0</td>\n",
       "      <td>1</td>\n",
       "    </tr>\n",
       "    <tr>\n",
       "      <th>759639</th>\n",
       "      <td>2433</td>\n",
       "      <td>2016-08-15 00:19:30+00:00</td>\n",
       "      <td>243.043133</td>\n",
       "      <td>54.439538</td>\n",
       "      <td>3.0</td>\n",
       "      <td>1</td>\n",
       "    </tr>\n",
       "    <tr>\n",
       "      <th>278159</th>\n",
       "      <td>1395</td>\n",
       "      <td>2016-07-23 07:15:30+00:00</td>\n",
       "      <td>117.049717</td>\n",
       "      <td>61.045365</td>\n",
       "      <td>2.0</td>\n",
       "      <td>1</td>\n",
       "    </tr>\n",
       "    <tr>\n",
       "      <th>41363</th>\n",
       "      <td>382</td>\n",
       "      <td>2016-07-25 04:25:00+00:00</td>\n",
       "      <td>46.205428</td>\n",
       "      <td>163.964837</td>\n",
       "      <td>2.0</td>\n",
       "      <td>1</td>\n",
       "    </tr>\n",
       "    <tr>\n",
       "      <th>458834</th>\n",
       "      <td>1776</td>\n",
       "      <td>2016-08-19 08:44:00+00:00</td>\n",
       "      <td>164.120932</td>\n",
       "      <td>123.950955</td>\n",
       "      <td>2.0</td>\n",
       "      <td>1</td>\n",
       "    </tr>\n",
       "    <tr>\n",
       "      <th>147192</th>\n",
       "      <td>986</td>\n",
       "      <td>2016-07-20 00:25:30+00:00</td>\n",
       "      <td>92.845905</td>\n",
       "      <td>109.536682</td>\n",
       "      <td>2.0</td>\n",
       "      <td>1</td>\n",
       "    </tr>\n",
       "    <tr>\n",
       "      <th>64084</th>\n",
       "      <td>552</td>\n",
       "      <td>2016-08-17 15:26:00+00:00</td>\n",
       "      <td>321.480571</td>\n",
       "      <td>103.219817</td>\n",
       "      <td>1.0</td>\n",
       "      <td>0</td>\n",
       "    </tr>\n",
       "    <tr>\n",
       "      <th>1054647</th>\n",
       "      <td>3160</td>\n",
       "      <td>2016-09-01 03:03:30+00:00</td>\n",
       "      <td>81.017634</td>\n",
       "      <td>95.619695</td>\n",
       "      <td>2.0</td>\n",
       "      <td>1</td>\n",
       "    </tr>\n",
       "    <tr>\n",
       "      <th>357333</th>\n",
       "      <td>1576</td>\n",
       "      <td>2016-07-24 12:23:00+00:00</td>\n",
       "      <td>289.827067</td>\n",
       "      <td>184.423578</td>\n",
       "      <td>1.0</td>\n",
       "      <td>0</td>\n",
       "    </tr>\n",
       "    <tr>\n",
       "      <th>113098</th>\n",
       "      <td>836</td>\n",
       "      <td>2016-07-20 15:49:30+00:00</td>\n",
       "      <td>107.295133</td>\n",
       "      <td>192.343089</td>\n",
       "      <td>2.0</td>\n",
       "      <td>1</td>\n",
       "    </tr>\n",
       "    <tr>\n",
       "      <th>592958</th>\n",
       "      <td>2030</td>\n",
       "      <td>2016-07-29 04:37:30+00:00</td>\n",
       "      <td>261.594135</td>\n",
       "      <td>102.404814</td>\n",
       "      <td>3.0</td>\n",
       "      <td>1</td>\n",
       "    </tr>\n",
       "  </tbody>\n",
       "</table>\n",
       "</div>"
      ],
      "text/plain": [
       "         bee_id                 timestamp           x           y  cam_id  \\\n",
       "396689     1662 2016-08-15 08:09:30+00:00  327.324043  111.191891     1.0   \n",
       "1044084    3134 2016-08-28 16:41:30+00:00  107.839111   15.360502     2.0   \n",
       "63937       552 2016-08-11 19:49:30+00:00   24.045198  160.493156     2.0   \n",
       "837455     2572 2016-08-24 03:18:00+00:00  313.978822  157.594511     1.0   \n",
       "569398     1983 2016-07-29 15:32:30+00:00  285.913778  111.676622     3.0   \n",
       "759639     2433 2016-08-15 00:19:30+00:00  243.043133   54.439538     3.0   \n",
       "278159     1395 2016-07-23 07:15:30+00:00  117.049717   61.045365     2.0   \n",
       "41363       382 2016-07-25 04:25:00+00:00   46.205428  163.964837     2.0   \n",
       "458834     1776 2016-08-19 08:44:00+00:00  164.120932  123.950955     2.0   \n",
       "147192      986 2016-07-20 00:25:30+00:00   92.845905  109.536682     2.0   \n",
       "64084       552 2016-08-17 15:26:00+00:00  321.480571  103.219817     1.0   \n",
       "1054647    3160 2016-09-01 03:03:30+00:00   81.017634   95.619695     2.0   \n",
       "357333     1576 2016-07-24 12:23:00+00:00  289.827067  184.423578     1.0   \n",
       "113098      836 2016-07-20 15:49:30+00:00  107.295133  192.343089     2.0   \n",
       "592958     2030 2016-07-29 04:37:30+00:00  261.594135  102.404814     3.0   \n",
       "\n",
       "         hive_side  \n",
       "396689           0  \n",
       "1044084          1  \n",
       "63937            1  \n",
       "837455           0  \n",
       "569398           1  \n",
       "759639           1  \n",
       "278159           1  \n",
       "41363            1  \n",
       "458834           1  \n",
       "147192           1  \n",
       "64084            0  \n",
       "1054647          1  \n",
       "357333           0  \n",
       "113098           1  \n",
       "592958           1  "
      ]
     },
     "execution_count": 8,
     "metadata": {},
     "output_type": "execute_result"
    }
   ],
   "source": [
    "gaps.sample(15)"
   ]
  },
  {
   "cell_type": "code",
   "execution_count": 11,
   "metadata": {
    "scrolled": true
   },
   "outputs": [],
   "source": [
    "frame_ids = gaps_sample.apply(process_row, axis=1)"
   ]
  },
  {
   "cell_type": "code",
   "execution_count": 12,
   "metadata": {},
   "outputs": [],
   "source": [
    "gaps_sample = gaps_sample.assign(frame_id=frame_ids).dropna()"
   ]
  },
  {
   "cell_type": "code",
   "execution_count": 13,
   "metadata": {},
   "outputs": [],
   "source": [
    "in_data = [(row.bee_id, row.frame_id, row.timestamp) for _, row in gaps_sample.iterrows()]"
   ]
  },
  {
   "cell_type": "code",
   "execution_count": 15,
   "metadata": {
    "scrolled": false
   },
   "outputs": [
    {
     "data": {
      "text/html": [
       "\n",
       "            <video style='margin: 0 auto;' width=\"600\" height=\"450\" controls>\n",
       "                <source src=\"/home/mi/rrszynka/mnt/janek/caches/Videos/14784819559172456734_228t2.mp4?37829\" type=\"video/mp4\">\n",
       "            </video>\n",
       "            "
      ],
      "text/plain": [
       "<IPython.core.display.HTML object>"
      ]
     },
     "metadata": {},
     "output_type": "display_data"
    },
    {
     "data": {
      "text/html": [
       "\n",
       "            <video style='margin: 0 auto;' width=\"600\" height=\"450\" controls>\n",
       "                <source src=\"/home/mi/rrszynka/mnt/janek/caches/Videos/18398190699932036461_287t2.mp4?13612\" type=\"video/mp4\">\n",
       "            </video>\n",
       "            "
      ],
      "text/plain": [
       "<IPython.core.display.HTML object>"
      ]
     },
     "metadata": {},
     "output_type": "display_data"
    },
    {
     "data": {
      "text/html": [
       "\n",
       "            <video style='margin: 0 auto;' width=\"600\" height=\"450\" controls>\n",
       "                <source src=\"/home/mi/rrszynka/mnt/janek/caches/Videos/9963884231270009965_1649t2.mp4?16958\" type=\"video/mp4\">\n",
       "            </video>\n",
       "            "
      ],
      "text/plain": [
       "<IPython.core.display.HTML object>"
      ]
     },
     "metadata": {},
     "output_type": "display_data"
    },
    {
     "data": {
      "text/html": [
       "\n",
       "            <video style='margin: 0 auto;' width=\"600\" height=\"450\" controls>\n",
       "                <source src=\"/home/mi/rrszynka/mnt/janek/caches/Videos/18386006897156929111_2609t2.mp4?58157\" type=\"video/mp4\">\n",
       "            </video>\n",
       "            "
      ],
      "text/plain": [
       "<IPython.core.display.HTML object>"
      ]
     },
     "metadata": {},
     "output_type": "display_data"
    },
    {
     "data": {
      "text/html": [
       "\n",
       "            <video style='margin: 0 auto;' width=\"600\" height=\"450\" controls>\n",
       "                <source src=\"/home/mi/rrszynka/mnt/janek/caches/Videos/11425855412703879483_1683t2.mp4?99690\" type=\"video/mp4\">\n",
       "            </video>\n",
       "            "
      ],
      "text/plain": [
       "<IPython.core.display.HTML object>"
      ]
     },
     "metadata": {},
     "output_type": "display_data"
    },
    {
     "data": {
      "text/html": [
       "\n",
       "            <video style='margin: 0 auto;' width=\"600\" height=\"450\" controls>\n",
       "                <source src=\"/home/mi/rrszynka/mnt/janek/caches/Videos/10631004132115022587_1550t2.mp4?76245\" type=\"video/mp4\">\n",
       "            </video>\n",
       "            "
      ],
      "text/plain": [
       "<IPython.core.display.HTML object>"
      ]
     },
     "metadata": {},
     "output_type": "display_data"
    },
    {
     "data": {
      "text/html": [
       "\n",
       "            <video style='margin: 0 auto;' width=\"600\" height=\"450\" controls>\n",
       "                <source src=\"/home/mi/rrszynka/mnt/janek/caches/Videos/13798318952984927797_463t2.mp4?14825\" type=\"video/mp4\">\n",
       "            </video>\n",
       "            "
      ],
      "text/plain": [
       "<IPython.core.display.HTML object>"
      ]
     },
     "metadata": {},
     "output_type": "display_data"
    },
    {
     "data": {
      "text/html": [
       "\n",
       "            <video style='margin: 0 auto;' width=\"600\" height=\"450\" controls>\n",
       "                <source src=\"/home/mi/rrszynka/mnt/janek/caches/Videos/15274620969982054559_582t2.mp4?9775\" type=\"video/mp4\">\n",
       "            </video>\n",
       "            "
      ],
      "text/plain": [
       "<IPython.core.display.HTML object>"
      ]
     },
     "metadata": {},
     "output_type": "display_data"
    },
    {
     "data": {
      "text/html": [
       "\n",
       "            <video style='margin: 0 auto;' width=\"600\" height=\"450\" controls>\n",
       "                <source src=\"/home/mi/rrszynka/mnt/janek/caches/Videos/11372988615604840990_2282t2.mp4?23338\" type=\"video/mp4\">\n",
       "            </video>\n",
       "            "
      ],
      "text/plain": [
       "<IPython.core.display.HTML object>"
      ]
     },
     "metadata": {},
     "output_type": "display_data"
    },
    {
     "data": {
      "text/html": [
       "\n",
       "            <video style='margin: 0 auto;' width=\"600\" height=\"450\" controls>\n",
       "                <source src=\"/home/mi/rrszynka/mnt/janek/caches/Videos/15464293010487853434_459t2.mp4?1924\" type=\"video/mp4\">\n",
       "            </video>\n",
       "            "
      ],
      "text/plain": [
       "<IPython.core.display.HTML object>"
      ]
     },
     "metadata": {},
     "output_type": "display_data"
    },
    {
     "data": {
      "text/html": [
       "\n",
       "            <video style='margin: 0 auto;' width=\"600\" height=\"450\" controls>\n",
       "                <source src=\"/home/mi/rrszynka/mnt/janek/caches/Videos/16907472261375988650_2031t2.mp4?96699\" type=\"video/mp4\">\n",
       "            </video>\n",
       "            "
      ],
      "text/plain": [
       "<IPython.core.display.HTML object>"
      ]
     },
     "metadata": {},
     "output_type": "display_data"
    },
    {
     "data": {
      "text/html": [
       "\n",
       "            <video style='margin: 0 auto;' width=\"600\" height=\"450\" controls>\n",
       "                <source src=\"/home/mi/rrszynka/mnt/janek/caches/Videos/15186057591377750919_1389t2.mp4?86716\" type=\"video/mp4\">\n",
       "            </video>\n",
       "            "
      ],
      "text/plain": [
       "<IPython.core.display.HTML object>"
      ]
     },
     "metadata": {},
     "output_type": "display_data"
    },
    {
     "data": {
      "text/html": [
       "\n",
       "            <video style='margin: 0 auto;' width=\"600\" height=\"450\" controls>\n",
       "                <source src=\"/home/mi/rrszynka/mnt/janek/caches/Videos/10101303178924000208_3162t2.mp4?19301\" type=\"video/mp4\">\n",
       "            </video>\n",
       "            "
      ],
      "text/plain": [
       "<IPython.core.display.HTML object>"
      ]
     },
     "metadata": {},
     "output_type": "display_data"
    }
   ],
   "source": [
    "for (bee, frame, timestamp) in in_data:\n",
    "    name = str(frame)+'_' + str(bee)\n",
    "    video = plot.plot_bees(bee_ids=[bee], \n",
    "                       frame_id=frame, frame_margin=20,\n",
    "                       path_alpha=None, bt_export=None, # '/home/mi/rrszynka/mnt/janek/caches/Videos/bt_export/'+name+\".json\",\n",
    "                       plot_labels = True, plot_markers=True)\n",
    "\n",
    "    for frame in video._frames:\n",
    "        frame._title = \"\\n exit: \" + str(timestamp)\n",
    "    \n",
    "    video._crop_margin = None\n",
    "    video.get_video(save_to_path='/home/mi/rrszynka/mnt/janek/caches/Videos/' + name + \"t2.mp4\")\n",
    "    \n",
    "#TODO:\n",
    "# - get a fullscreen vid? or are the small ones better? \n",
    "# - what's the size of fullscreen vs small?\n",
    "\n",
    "# - how do you get centered videos?\n",
    "# \"if the passed bee is not in the frame, it will be \"\n",
    "# if bt_export is off?"
   ]
  },
  {
   "cell_type": "code",
   "execution_count": null,
   "metadata": {},
   "outputs": [],
   "source": []
  },
  {
   "cell_type": "code",
   "execution_count": 11,
   "metadata": {},
   "outputs": [
    {
     "data": {
      "text/plain": [
       "2113"
      ]
     },
     "execution_count": 11,
     "metadata": {},
     "output_type": "execute_result"
    }
   ],
   "source": [
    "bee"
   ]
  },
  {
   "cell_type": "code",
   "execution_count": 19,
   "metadata": {},
   "outputs": [],
   "source": [
    "bee = 3006 \n",
    "frame = 12373576517183002035\n",
    "timestamp = datetime.datetime(2016, 8, 16, 4, 59, 30)"
   ]
  },
  {
   "cell_type": "code",
   "execution_count": 20,
   "metadata": {},
   "outputs": [],
   "source": [
    "name = str(frame)+'_' + str(bee)"
   ]
  },
  {
   "cell_type": "code",
   "execution_count": 21,
   "metadata": {},
   "outputs": [],
   "source": [
    "video = plot.plot_bees(bee_ids=[bee], \n",
    "                   frame_id=frame, frame_margin=10,\n",
    "                   path_alpha=None, bt_export=None,\n",
    "                   plot_labels = True, plot_markers=True)"
   ]
  },
  {
   "cell_type": "code",
   "execution_count": 22,
   "metadata": {},
   "outputs": [],
   "source": [
    "for frame in video._frames:\n",
    "    frame._title = \"\\ntest\""
   ]
  },
  {
   "cell_type": "code",
   "execution_count": 23,
   "metadata": {},
   "outputs": [],
   "source": []
  },
  {
   "cell_type": "code",
   "execution_count": 24,
   "metadata": {
    "scrolled": true
   },
   "outputs": [
    {
     "data": {
      "text/html": [
       "\n",
       "            <video style='margin: 0 auto;' width=\"600\" height=\"450\" controls>\n",
       "                <source src=\"/home/mi/rrszynka/mnt/janek/caches/Videos/12373576517183002035_3006-test.mp4?60380\" type=\"video/mp4\">\n",
       "            </video>\n",
       "            "
      ],
      "text/plain": [
       "<IPython.core.display.HTML object>"
      ]
     },
     "metadata": {},
     "output_type": "display_data"
    },
    {
     "data": {
      "text/plain": [
       "<_io.BytesIO at 0x7fce8a58efc0>"
      ]
     },
     "execution_count": 24,
     "metadata": {},
     "output_type": "execute_result"
    }
   ],
   "source": [
    "video.get_video(save_to_path='/home/mi/rrszynka/mnt/janek/caches/Videos/' + name + \"-test.mp4\")"
   ]
  },
  {
   "cell_type": "code",
   "execution_count": 10,
   "metadata": {},
   "outputs": [],
   "source": [
    "def process_row(row):\n",
    "    return get_frame_id_for_bee_id_and_timestamp(row['bee_id'], row['timestamp'])\n",
    "\n",
    "#TODO: analyze how this works \n",
    "def get_frame_id_for_bee_id_and_timestamp(bee_id, dt):\n",
    "    for cam_id in range(4): \n",
    "        frames = bbdb.get_frames(cam_id, dt.timestamp(), dt.timestamp() + 5)\n",
    "        if len(frames) == 0:\n",
    "            continue\n",
    "        detections = bbdb.get_bee_detections(bee_id, frames=frames)\n",
    "        for d in detections:\n",
    "            if d is not None:\n",
    "                return d[1]"
   ]
  },
  {
   "cell_type": "code",
   "execution_count": null,
   "metadata": {},
   "outputs": [],
   "source": [
    "det = c.load(\"DETECTIONS-2016-08-13_15:00:00\", type = CacheType.detections, format = CacheFormat.csv)"
   ]
  },
  {
   "cell_type": "code",
   "execution_count": null,
   "metadata": {},
   "outputs": [],
   "source": [
    "det[det.cam_id==0].head(1)"
   ]
  },
  {
   "cell_type": "code",
   "execution_count": null,
   "metadata": {},
   "outputs": [],
   "source": [
    "samples = []\n",
    "\n",
    "for cam in range(4):\n",
    "    samples.append(det[det.cam_id==cam].head(1))"
   ]
  }
 ],
 "metadata": {
  "kernelspec": {
   "display_name": "Python 3",
   "language": "python",
   "name": "python3"
  },
  "language_info": {
   "codemirror_mode": {
    "name": "ipython",
    "version": 3
   },
   "file_extension": ".py",
   "mimetype": "text/x-python",
   "name": "python",
   "nbconvert_exporter": "python",
   "pygments_lexer": "ipython3",
   "version": "3.5.2"
  }
 },
 "nbformat": 4,
 "nbformat_minor": 2
}
