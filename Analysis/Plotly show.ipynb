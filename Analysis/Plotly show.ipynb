{
 "cells": [
  {
   "cell_type": "code",
   "execution_count": 246,
   "metadata": {},
   "outputs": [],
   "source": [
    "import os\n",
    "if \"rrszynka\" not in os.getcwd():\n",
    "   raise Exception(\"Working locally - is this desired?\")\n",
    "import pandas as pd\n",
    "import numpy as np\n",
    "import seaborn as sns; sns.set()\n",
    "import datetime\n",
    "import matplotlib.pyplot as plt\n",
    "import sys\n",
    "sys.path.append(os.getcwd()+'/../Python-modules/') #For bee_helpers, file_helpers and cache\n",
    "from bee_cache import Cache, CacheType, CacheFormat; c = Cache()\n",
    "from bee_helpers import calc_trip_lengths, get_forager_bee_ids, get_random_bee_ids, get_all_bee_ids, get_alive_bees_for_day\n",
    "import bb_utils\n",
    "import random\n",
    "import plotly.plotly as py\n",
    "import plotly.graph_objs as go\n",
    "import numpy as np\n",
    "from ipywidgets import interact"
   ]
  },
  {
   "cell_type": "code",
   "execution_count": 247,
   "metadata": {},
   "outputs": [],
   "source": [
    "# Setup parameters \n",
    "datetime_start = datetime.datetime(2016,7,20)\n",
    "num_hours = 24\n",
    "num_intervals_per_hour = 120\n",
    "bee_ids = get_alive_bees_for_day(datetime_start).bee_id.tolist()"
   ]
  },
  {
   "cell_type": "code",
   "execution_count": 253,
   "metadata": {
    "scrolled": true
   },
   "outputs": [
    {
     "data": {
      "text/plain": [
       "True"
      ]
     },
     "execution_count": 253,
     "metadata": {},
     "output_type": "execute_result"
    }
   ],
   "source": [
    "# Get alive bees for the chosen day and filter other (dead) bees out of the presence table\n",
    "bees_alive_for_day = get_alive_bees_for_day(datetime_start)['bee_id'].values\n",
    "presence = c.load('PRESENCE-counts-2016-07-20_00_num_hours_24_int_size_120_conf_099_cams_0123', type=CacheType.presence, format=CacheFormat.csv)\n",
    "presence.index.name = 'bee_id'\n",
    "# Safety check\n",
    "presence.shape[0] == len(bees_alive_for_day)"
   ]
  },
  {
   "cell_type": "code",
   "execution_count": 254,
   "metadata": {},
   "outputs": [],
   "source": [
    "bee = 614 #random.choice(bees_alive_for_day)\n",
    "xs = np.arange(0,presence.shape[1])\n",
    "ys = presence.loc[bee]"
   ]
  },
  {
   "cell_type": "markdown",
   "metadata": {},
   "source": [
    "###  Optional filtering of values >90. This step changes everything above 90 to 90. "
   ]
  },
  {
   "cell_type": "code",
   "execution_count": null,
   "metadata": {},
   "outputs": [],
   "source": [
    "ys[ys>90] = 90"
   ]
  },
  {
   "cell_type": "markdown",
   "metadata": {},
   "source": [
    "### Version 1: Using rolling median only, with variable window size"
   ]
  },
  {
   "cell_type": "code",
   "execution_count": 238,
   "metadata": {},
   "outputs": [
    {
     "data": {
      "application/vnd.jupyter.widget-view+json": {
       "model_id": "9883e06a37384af8921ef7dd2fb85429",
       "version_major": 2,
       "version_minor": 0
      },
      "text/plain": [
       "FigureWidget({\n",
       "    'data': [{'marker': {'size': 3}, 'mode': 'markers', 'type': 'scatter', 'uid': '44566c55-0be…"
      ]
     },
     "metadata": {},
     "output_type": "display_data"
    }
   ],
   "source": [
    "fig = go.FigureWidget()\n",
    "scatt = fig.add_scatter(\n",
    "    mode='markers',\n",
    "    marker=dict(\n",
    "        size = 3\n",
    "    )\n",
    ")\n",
    "fig"
   ]
  },
  {
   "cell_type": "code",
   "execution_count": 239,
   "metadata": {},
   "outputs": [
    {
     "data": {
      "application/vnd.jupyter.widget-view+json": {
       "model_id": "0df316423e2f4469ae3985384897b2b2",
       "version_major": 2,
       "version_minor": 0
      },
      "text/plain": [
       "interactive(children=(IntSlider(value=1, description='a', max=500, min=1), Output()), _dom_classes=('widget-in…"
      ]
     },
     "metadata": {},
     "output_type": "display_data"
    }
   ],
   "source": [
    "@interact(a=(1, 500))\n",
    "def update(a=1):\n",
    "    with fig.batch_update():\n",
    "        ys_rolled = ys.rolling(a).median()\n",
    "        scatt.x=xs\n",
    "        scatt.y=ys_rolled"
   ]
  },
  {
   "cell_type": "markdown",
   "metadata": {},
   "source": [
    "### Version 2: Using threshold value only; "
   ]
  },
  {
   "cell_type": "code",
   "execution_count": 251,
   "metadata": {},
   "outputs": [
    {
     "data": {
      "application/vnd.jupyter.widget-view+json": {
       "model_id": "2e5621eae90040a8846d28af41a40e4c",
       "version_major": 2,
       "version_minor": 0
      },
      "text/plain": [
       "FigureWidget({\n",
       "    'data': [{'marker': {'size': 3}, 'mode': 'markers', 'type': 'scatter', 'uid': 'af08bdda-72e…"
      ]
     },
     "metadata": {},
     "output_type": "display_data"
    }
   ],
   "source": [
    "fig = go.FigureWidget()\n",
    "scatt = fig.add_scatter(\n",
    "    mode='markers',\n",
    "    marker=dict(\n",
    "        size = 3\n",
    "    )\n",
    ")\n",
    "fig"
   ]
  },
  {
   "cell_type": "code",
   "execution_count": 252,
   "metadata": {},
   "outputs": [
    {
     "data": {
      "application/vnd.jupyter.widget-view+json": {
       "model_id": "207c6416e4e24bd6a60f10b47f72b6b8",
       "version_major": 2,
       "version_minor": 0
      },
      "text/plain": [
       "interactive(children=(IntSlider(value=1, description='threshold', max=90), Output()), _dom_classes=('widget-in…"
      ]
     },
     "metadata": {},
     "output_type": "display_data"
    }
   ],
   "source": [
    "@interact(threshold=(0, 90))\n",
    "def update(threshold=1):\n",
    "    with fig.batch_update():\n",
    "        pts = ys.copy()\n",
    "        pts[pts>threshold] = 90\n",
    "        pts[pts<=threshold] = 0\n",
    "        scatt.x=xs\n",
    "        scatt.y=pts"
   ]
  },
  {
   "cell_type": "code",
   "execution_count": 241,
   "metadata": {},
   "outputs": [],
   "source": [
    "ys = presence.loc[bee]"
   ]
  },
  {
   "cell_type": "code",
   "execution_count": 180,
   "metadata": {},
   "outputs": [],
   "source": [
    "threshold = 20\n",
    "ys_filtered = ys\n",
    "ys_filtered[ys>threshold] = 90\n",
    "ys_filtered[ys<=threshold] = 0\n",
    "scatt.x=xs\n",
    "scatt.y=ys_filtered"
   ]
  },
  {
   "cell_type": "code",
   "execution_count": 232,
   "metadata": {},
   "outputs": [],
   "source": [
    "def score_to_0_or_90(presence_for_bee, threshold=50):\n",
    "    \n",
    "    return df"
   ]
  },
  {
   "cell_type": "code",
   "execution_count": 243,
   "metadata": {},
   "outputs": [],
   "source": [
    "# score_to_0_or_90(ys, threshold = 0)\n",
    "xxx = score_to_0_or_90(ys)"
   ]
  }
 ],
 "metadata": {
  "kernelspec": {
   "display_name": "Python 3",
   "language": "python",
   "name": "python3"
  },
  "language_info": {
   "codemirror_mode": {
    "name": "ipython",
    "version": 3
   },
   "file_extension": ".py",
   "mimetype": "text/x-python",
   "name": "python",
   "nbconvert_exporter": "python",
   "pygments_lexer": "ipython3",
   "version": "3.5.2"
  }
 },
 "nbformat": 4,
 "nbformat_minor": 2
}
