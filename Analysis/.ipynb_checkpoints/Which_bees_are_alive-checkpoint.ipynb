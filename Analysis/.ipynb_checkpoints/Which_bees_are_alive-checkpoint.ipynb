{
 "cells": [
  {
   "cell_type": "code",
   "execution_count": null,
   "metadata": {},
   "outputs": [],
   "source": [
    "import sys \n",
    "sys.path.append('../Python-modules/') #For bee_helpers and file_helpers \n",
    "from datetime import timedelta, datetime\n",
    "from pathlib import Path"
   ]
  },
  {
   "cell_type": "code",
   "execution_count": 1,
   "metadata": {},
   "outputs": [],
   "source": [
    "connect_str = \"\"\"dbname='beesbook' user='reader' host='tonic.imp.fu-berlin.de' password='' application_name='mehmed'\"\"\""
   ]
  },
  {
   "cell_type": "code",
   "execution_count": null,
   "metadata": {},
   "outputs": [],
   "source": [
    "print('Beginning at ' + datetime_start.strftime(\"%Y-%m-%d %H:%M:%S\"))\n",
    "print('Saving to ' + detections_cache_path)\n",
    "\n",
    "\n",
    "with psycopg2.connect(connect_str) as conn:\n",
    "    query = \"\"\"SET geqo_effort to 10;\n",
    "                SET max_parallel_workers_per_gather TO 8;\n",
    "                SET temp_buffers to \"32GB\";\n",
    "                SET work_mem to \"1GB\";\n",
    "                SET temp_tablespaces to \"ssdspace\";\n",
    "            SELECT * FROM alive_bees_2016\n",
    "           ;\"\"\"\n",
    "df = pd.read_sql_query(\n",
    "    query, conn,\n",
    "    params=(datetime_start, datetime_end, detection_confidence_requirement),\n",
    "    coerce_float=False)\n",
    "\n",
    "df.to_csv(filepath)\n",
    "datetime_start = datetime_end\n",
    "\n",
    "\n"
   ]
  }
 ],
 "metadata": {
  "kernelspec": {
   "display_name": "Python 3",
   "language": "python",
   "name": "python3"
  },
  "language_info": {
   "codemirror_mode": {
    "name": "ipython",
    "version": 3
   },
   "file_extension": ".py",
   "mimetype": "text/x-python",
   "name": "python",
   "nbconvert_exporter": "python",
   "pygments_lexer": "ipython3",
   "version": "3.5.2"
  }
 },
 "nbformat": 4,
 "nbformat_minor": 2
}
