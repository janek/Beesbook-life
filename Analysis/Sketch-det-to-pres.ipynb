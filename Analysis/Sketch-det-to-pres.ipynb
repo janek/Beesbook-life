{
 "cells": [
  {
   "cell_type": "code",
   "execution_count": 4,
   "metadata": {},
   "outputs": [],
   "source": [
    "import os\n",
    "if \"rrszynka\" not in os.getcwd():\n",
    "    raise Exception(\"Working locally - is this desired?\")\n",
    "import pandas as pd\n",
    "import numpy as np\n",
    "import seaborn as sns; sns.set()\n",
    "import datetime\n",
    "import matplotlib.pyplot as plt\n",
    "import sys\n",
    "sys.path.append('/home/mi/rrszynka/mnt/janek/Beesbook-janek/Python-modules/') #For bee_helpers, file_helpers and cache\n",
    "\n",
    "from bee_cache import Cache, CacheType, CacheFormat; c = Cache()\n",
    "from bee_helpers import calc_trip_lengths, get_forager_bee_ids, get_random_bee_ids, get_all_bee_ids, get_alive_bees_for_day\n",
    "from file_helpers import detections_to_presence\n",
    "import bb_utils\n",
    "import random"
   ]
  },
  {
   "cell_type": "code",
   "execution_count": 2,
   "metadata": {},
   "outputs": [],
   "source": [
    "datetime_start = datetime.datetime(2016,8,9)\n",
    "num_hours = 24\n",
    "num_intervals_per_hour = 120\n",
    "bee_ids = get_alive_bees_for_day(datetime_start.date()).bee_id.tolist()"
   ]
  },
  {
   "cell_type": "code",
   "execution_count": null,
   "metadata": {},
   "outputs": [
    {
     "name": "stderr",
     "output_type": "stream",
     "text": [
      "  0%|          | 0/24 [00:00<?, ?it/s]"
     ]
    },
    {
     "name": "stdout",
     "output_type": "stream",
     "text": [
      "Processing DETECTIONS-2016-08-09_00:00:00_conf_099.csv\n"
     ]
    },
    {
     "name": "stderr",
     "output_type": "stream",
     "text": [
      "  4%|▍         | 1/24 [00:09<03:29,  9.10s/it]"
     ]
    },
    {
     "name": "stdout",
     "output_type": "stream",
     "text": [
      "Processing DETECTIONS-2016-08-09_01:00:00_conf_099.csv\n"
     ]
    },
    {
     "name": "stderr",
     "output_type": "stream",
     "text": [
      "  8%|▊         | 2/24 [00:18<03:21,  9.18s/it]"
     ]
    },
    {
     "name": "stdout",
     "output_type": "stream",
     "text": [
      "Processing DETECTIONS-2016-08-09_02:00:00_conf_099.csv\n"
     ]
    },
    {
     "name": "stderr",
     "output_type": "stream",
     "text": [
      " 12%|█▎        | 3/24 [00:57<06:21, 18.18s/it]"
     ]
    },
    {
     "name": "stdout",
     "output_type": "stream",
     "text": [
      "Processing DETECTIONS-2016-08-09_03:00:00_conf_099.csv\n"
     ]
    },
    {
     "name": "stderr",
     "output_type": "stream",
     "text": [
      " 17%|█▋        | 4/24 [01:47<09:11, 27.55s/it]"
     ]
    },
    {
     "name": "stdout",
     "output_type": "stream",
     "text": [
      "Processing DETECTIONS-2016-08-09_04:00:00_conf_099.csv\n"
     ]
    },
    {
     "name": "stderr",
     "output_type": "stream",
     "text": [
      " 21%|██        | 5/24 [02:36<10:48, 34.13s/it]"
     ]
    },
    {
     "name": "stdout",
     "output_type": "stream",
     "text": [
      "Processing DETECTIONS-2016-08-09_05:00:00_conf_099.csv\n"
     ]
    }
   ],
   "source": [
    "df = detections_to_presence(num_hours, datetime_start, num_intervals_per_hour, bee_ids, method='counts', cams=[0,1], detection_confidence_requirement=0.99)"
   ]
  },
  {
   "cell_type": "code",
   "execution_count": null,
   "metadata": {},
   "outputs": [],
   "source": [
    "df = detections_to_presence(num_hours, datetime_start, num_intervals_per_hour, bee_ids, method='counts', cams=[1], detection_confidence_requirement=0.99)"
   ]
  },
  {
   "cell_type": "code",
   "execution_count": null,
   "metadata": {},
   "outputs": [],
   "source": [
    "df = detections_to_presence(num_hours, datetime_start, num_intervals_per_hour, bee_ids, method='counts', cams=[2,3], detection_confidence_requirement=0.99)"
   ]
  },
  {
   "cell_type": "code",
   "execution_count": null,
   "metadata": {},
   "outputs": [],
   "source": [
    "df = detections_to_presence(num_hours, datetime_start, num_intervals_per_hour, bee_ids, method='counts', cams=[2], detection_confidence_requirement=0.99)"
   ]
  },
  {
   "cell_type": "code",
   "execution_count": null,
   "metadata": {},
   "outputs": [],
   "source": [
    "df = detections_to_presence(num_hours, datetime_start, num_intervals_per_hour, bee_ids, method='counts', cams=[3], detection_confidence_requirement=0.99)"
   ]
  },
  {
   "cell_type": "code",
   "execution_count": 5,
   "metadata": {},
   "outputs": [
    {
     "name": "stderr",
     "output_type": "stream",
     "text": [
      "  0%|          | 0/1 [00:00<?, ?it/s]"
     ]
    },
    {
     "name": "stdout",
     "output_type": "stream",
     "text": [
      "Processing DETECTIONS-2016-08-09_00:00:00_conf_099.csv\n"
     ]
    },
    {
     "name": "stderr",
     "output_type": "stream",
     "text": [
      "100%|██████████| 1/1 [00:08<00:00,  8.79s/it]\n",
      "  3%|▎         | 4/120 [00:00<00:02, 38.97it/s]"
     ]
    },
    {
     "name": "stdout",
     "output_type": "stream",
     "text": [
      "Num. rows after concatenating: 958354\n"
     ]
    },
    {
     "name": "stderr",
     "output_type": "stream",
     "text": [
      "100%|██████████| 120/120 [00:02<00:00, 55.43it/s]\n"
     ]
    },
    {
     "name": "stdout",
     "output_type": "stream",
     "text": [
      "SAVED /home/mi/rrszynka/mnt/janek/caches/Presence/PRESENCE-counts-2016-08-09_00_num_hours_1_int_size_120_conf_099_cams_0.csv\n"
     ]
    }
   ],
   "source": [
    "#TODO: 2a. See if there is a diff between sum of cam0+1+2+3 and 01+23\n",
    "#TODO: 2. See why there's a difference between existing conf_099_untrusted and the sum of individual cams (which are 0 or 099, see #1)\n",
    "df = detections_to_presence(1, datetime_start, num_intervals_per_hour, bee_ids, method='counts', cams=[0], detection_confidence_requirement=0.99)"
   ]
  },
  {
   "cell_type": "code",
   "execution_count": null,
   "metadata": {},
   "outputs": [],
   "source": []
  }
 ],
 "metadata": {
  "kernelspec": {
   "display_name": "Python 3",
   "language": "python",
   "name": "python3"
  },
  "language_info": {
   "codemirror_mode": {
    "name": "ipython",
    "version": 3
   },
   "file_extension": ".py",
   "mimetype": "text/x-python",
   "name": "python",
   "nbconvert_exporter": "python",
   "pygments_lexer": "ipython3",
   "version": "3.5.2"
  }
 },
 "nbformat": 4,
 "nbformat_minor": 2
}
