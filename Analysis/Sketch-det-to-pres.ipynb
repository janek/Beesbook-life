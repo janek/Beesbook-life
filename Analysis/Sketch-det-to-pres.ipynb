{
 "cells": [
  {
   "cell_type": "code",
   "execution_count": 10,
   "metadata": {},
   "outputs": [],
   "source": [
    "import os\n",
    "if \"rrszynka\" not in os.getcwd():\n",
    "    raise Exception(\"Working locally - is this desired?\")\n",
    "import pandas as pd\n",
    "import numpy as np\n",
    "import seaborn as sns; sns.set()\n",
    "import datetime\n",
    "import matplotlib.pyplot as plt\n",
    "import sys\n",
    "sys.path.append('/home/mi/rrszynka/mnt/janek/Beesbook-janek/Python-modules/') #For bee_helpers, file_helpers and cache\n",
    "\n",
    "from bee_cache import Cache, CacheType, CacheFormat; c = Cache()\n",
    "from bee_helpers import calc_trip_lengths, get_forager_bee_ids, get_random_bee_ids, get_all_bee_ids, get_alive_bees_for_day\n",
    "from file_helpers import detections_to_presence\n",
    "import bb_utils\n",
    "import random"
   ]
  },
  {
   "cell_type": "code",
   "execution_count": 11,
   "metadata": {},
   "outputs": [],
   "source": [
    "datetime_start = datetime.datetime(2016,7,25)\n",
    "num_hours = 24\n",
    "num_intervals_per_hour = 120\n",
    "bee_ids = get_alive_bees_for_day(datetime_start.date()).bee_id.tolist()"
   ]
  },
  {
   "cell_type": "code",
   "execution_count": 13,
   "metadata": {},
   "outputs": [
    {
     "name": "stderr",
     "output_type": "stream",
     "text": [
      "100%|██████████| 24/24 [15:30<00:00, 38.86s/it]\n"
     ]
    },
    {
     "name": "stdout",
     "output_type": "stream",
     "text": [
      "Num. rows after concatenating: 45813528\n"
     ]
    },
    {
     "name": "stderr",
     "output_type": "stream",
     "text": [
      "100%|██████████| 2880/2880 [14:33<00:00,  3.12it/s]\n"
     ]
    },
    {
     "name": "stdout",
     "output_type": "stream",
     "text": [
      "SAVED /home/mi/rrszynka/mnt/janek/caches/Presence/PRESENCE-counts-2016-07-25_00_num_hours_24_int_size_120_conf_099_cams_01.csv\n"
     ]
    }
   ],
   "source": [
    "df = detections_to_presence(num_hours, datetime_start, num_intervals_per_hour, bee_ids, method='counts', cams=[0,1], detection_confidence_requirement=0.99)"
   ]
  },
  {
   "cell_type": "code",
   "execution_count": 12,
   "metadata": {},
   "outputs": [
    {
     "name": "stderr",
     "output_type": "stream",
     "text": [
      "100%|██████████| 2880/2880 [03:59<00:00, 12.03it/s]\n"
     ]
    },
    {
     "name": "stdout",
     "output_type": "stream",
     "text": [
      "SAVED /home/mi/rrszynka/mnt/janek/caches/Presence/PRESENCE-counts-2016-07-25_00_num_hours_24_int_size_120_conf_099_cams_1.csv\n"
     ]
    }
   ],
   "source": [
    "df = detections_to_presence(num_hours, datetime_start, num_intervals_per_hour, bee_ids, method='counts', cams=[1], detection_confidence_requirement=0.99)"
   ]
  },
  {
   "cell_type": "code",
   "execution_count": 14,
   "metadata": {},
   "outputs": [
    {
     "name": "stderr",
     "output_type": "stream",
     "text": [
      "100%|██████████| 24/24 [14:47<00:00, 38.37s/it]\n",
      "  0%|          | 0/2880 [00:00<?, ?it/s]"
     ]
    },
    {
     "name": "stdout",
     "output_type": "stream",
     "text": [
      "Num. rows after concatenating: 39978870\n"
     ]
    },
    {
     "name": "stderr",
     "output_type": "stream",
     "text": [
      "100%|██████████| 2880/2880 [13:16<00:00,  3.78it/s]\n"
     ]
    },
    {
     "name": "stdout",
     "output_type": "stream",
     "text": [
      "SAVED /home/mi/rrszynka/mnt/janek/caches/Presence/PRESENCE-counts-2016-07-25_00_num_hours_24_int_size_120_conf_099_cams_23.csv\n"
     ]
    }
   ],
   "source": [
    "df = detections_to_presence(num_hours, datetime_start, num_intervals_per_hour, bee_ids, method='counts', cams=[2,3], detection_confidence_requirement=0.99)"
   ]
  },
  {
   "cell_type": "code",
   "execution_count": 15,
   "metadata": {},
   "outputs": [
    {
     "name": "stderr",
     "output_type": "stream",
     "text": [
      "100%|██████████| 24/24 [15:05<00:00, 40.28s/it]\n",
      "  0%|          | 1/2880 [00:00<06:00,  8.00it/s]"
     ]
    },
    {
     "name": "stdout",
     "output_type": "stream",
     "text": [
      "Num. rows after concatenating: 27081304\n"
     ]
    },
    {
     "name": "stderr",
     "output_type": "stream",
     "text": [
      "100%|██████████| 2880/2880 [06:23<00:00,  7.51it/s]\n"
     ]
    },
    {
     "name": "stdout",
     "output_type": "stream",
     "text": [
      "SAVED /home/mi/rrszynka/mnt/janek/caches/Presence/PRESENCE-counts-2016-07-25_00_num_hours_24_int_size_120_conf_099_cams_2.csv\n"
     ]
    }
   ],
   "source": [
    "df = detections_to_presence(num_hours, datetime_start, num_intervals_per_hour, bee_ids, method='counts', cams=[2], detection_confidence_requirement=0.99)"
   ]
  },
  {
   "cell_type": "code",
   "execution_count": 16,
   "metadata": {},
   "outputs": [
    {
     "name": "stderr",
     "output_type": "stream",
     "text": [
      "100%|██████████| 24/24 [15:31<00:00, 39.96s/it]\n",
      "  0%|          | 3/2880 [00:00<02:09, 22.21it/s]"
     ]
    },
    {
     "name": "stdout",
     "output_type": "stream",
     "text": [
      "Num. rows after concatenating: 12897566\n"
     ]
    },
    {
     "name": "stderr",
     "output_type": "stream",
     "text": [
      "100%|██████████| 2880/2880 [02:15<00:00, 20.87it/s]\n"
     ]
    },
    {
     "name": "stdout",
     "output_type": "stream",
     "text": [
      "SAVED /home/mi/rrszynka/mnt/janek/caches/Presence/PRESENCE-counts-2016-07-25_00_num_hours_24_int_size_120_conf_099_cams_3.csv\n"
     ]
    }
   ],
   "source": [
    "df = detections_to_presence(num_hours, datetime_start, num_intervals_per_hour, bee_ids, method='counts', cams=[3], detection_confidence_requirement=0.99)"
   ]
  },
  {
   "cell_type": "code",
   "execution_count": 17,
   "metadata": {},
   "outputs": [
    {
     "name": "stderr",
     "output_type": "stream",
     "text": [
      "100%|██████████| 24/24 [15:33<00:00, 39.34s/it]\n",
      "  0%|          | 0/2880 [00:00<?, ?it/s]"
     ]
    },
    {
     "name": "stdout",
     "output_type": "stream",
     "text": [
      "Num. rows after concatenating: 85792398\n"
     ]
    },
    {
     "name": "stderr",
     "output_type": "stream",
     "text": [
      "100%|██████████| 2880/2880 [25:51<00:00,  1.84it/s]\n"
     ]
    },
    {
     "name": "stdout",
     "output_type": "stream",
     "text": [
      "SAVED /home/mi/rrszynka/mnt/janek/caches/Presence/PRESENCE-counts-2016-07-25_00_num_hours_24_int_size_120_conf_099_cams_0123.csv\n"
     ]
    }
   ],
   "source": [
    "df = detections_to_presence(num_hours, datetime_start, num_intervals_per_hour, bee_ids, method='counts', cams=[0,1,2,3], detection_confidence_requirement=0.99)"
   ]
  },
  {
   "cell_type": "code",
   "execution_count": 18,
   "metadata": {},
   "outputs": [
    {
     "name": "stderr",
     "output_type": "stream",
     "text": [
      "100%|██████████| 24/24 [14:50<00:00, 38.18s/it]\n",
      "  0%|          | 1/2880 [00:00<05:01,  9.54it/s]"
     ]
    },
    {
     "name": "stdout",
     "output_type": "stream",
     "text": [
      "Num. rows after concatenating: 23016786\n"
     ]
    },
    {
     "name": "stderr",
     "output_type": "stream",
     "text": [
      "100%|██████████| 2880/2880 [05:38<00:00,  8.37it/s]\n"
     ]
    },
    {
     "name": "stdout",
     "output_type": "stream",
     "text": [
      "SAVED /home/mi/rrszynka/mnt/janek/caches/Presence/PRESENCE-counts-2016-07-25_00_num_hours_24_int_size_120_conf_099_cams_0.csv\n"
     ]
    }
   ],
   "source": [
    "df = detections_to_presence(num_hours, datetime_start, num_intervals_per_hour, bee_ids, method='counts', cams=[0], detection_confidence_requirement=0.99)"
   ]
  },
  {
   "cell_type": "code",
   "execution_count": 19,
   "metadata": {},
   "outputs": [],
   "source": [
    "#TODO: 2a. See if there is a diff between sum of cam0+1+2+3 and 01+23\n",
    "#TODO: 2. See why there's a difference between existing conf_099_untrusted and the sum of individual cams (which are 0 or 099, see #1)\n"
   ]
  },
  {
   "cell_type": "code",
   "execution_count": null,
   "metadata": {},
   "outputs": [],
   "source": []
  }
 ],
 "metadata": {
  "kernelspec": {
   "display_name": "Python 3",
   "language": "python",
   "name": "python3"
  },
  "language_info": {
   "codemirror_mode": {
    "name": "ipython",
    "version": 3
   },
   "file_extension": ".py",
   "mimetype": "text/x-python",
   "name": "python",
   "nbconvert_exporter": "python",
   "pygments_lexer": "ipython3",
   "version": "3.5.2"
  }
 },
 "nbformat": 4,
 "nbformat_minor": 2
}
