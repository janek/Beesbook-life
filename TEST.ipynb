{
 "cells": [
  {
   "cell_type": "code",
   "execution_count": 7,
   "metadata": {},
   "outputs": [],
   "source": [
    "from datetime import timedelta, datetime\n",
    "import time\n",
    "from bee_helpers import p\n",
    "\n",
    "import bb_utils\n",
    "import bb_utils.meta\n",
    "import bb_utils.ids\n",
    "import bb_backend"
   ]
  },
  {
   "cell_type": "code",
   "execution_count": 14,
   "metadata": {},
   "outputs": [
    {
     "name": "stdout",
     "output_type": "stream",
     "text": [
      "Starting from 2016-08-23 00:00:00 with number of hours: 1\n",
      "\n",
      "Bin size for the trip lengths plot: 24 \n",
      "Number of intervals per hour: 40 \n",
      "Rolling win size: 3\n"
     ]
    }
   ],
   "source": [
    "#Parameters for loading data, currently using known date of 23th, august 2016)\n",
    "num_hours = 1\n",
    "datetime_start = datetime(2016, 8, 23)\n",
    "\n",
    "\n",
    "#Parameters for presenting data\n",
    "bin_size_in_hours = 24\n",
    "\n",
    "#Hyperparameters for the data wrangling process\n",
    "num_intervals_per_hour = 40\n",
    "rolling_window_size = 3\n",
    "\n",
    "print(\"Starting from\", datetime_start, \"with number of hours:\", num_hours)\n",
    "print(\"\\nBin size for the trip lengths plot:\", bin_size_in_hours, \"\\nNumber of intervals per hour:\", num_intervals_per_hour, \"\\nRolling win size:\", rolling_window_size)\n",
    "\n",
    "#(NOTE: First detections are on 20.07.2016, last are 19.09.2016 (3 months duration))"
   ]
  },
  {
   "cell_type": "code",
   "execution_count": 15,
   "metadata": {},
   "outputs": [],
   "source": [
    "#Getting a known forager group from manual labeling experiments\n",
    "meta = bb_utils.meta.BeeMetaInfo()\n",
    "\n",
    "group_id = 20\n",
    "\n",
    "bee_ids_as_beesbookid_format = list(map(bb_utils.ids.BeesbookID.from_dec_12, meta.get_foragergroup(group_id).dec12))\n",
    "bee_ids_from_group = map(lambda i: i.as_ferwar(), bee_ids_as_beesbookid_format) #as ferwar\n",
    "\n",
    "bee_ids_from_group = list(bee_ids_from_group)"
   ]
  },
  {
   "cell_type": "code",
   "execution_count": 16,
   "metadata": {},
   "outputs": [
    {
     "name": "stdout",
     "output_type": "stream",
     "text": [
      "Processing /mnt/storage/janek/2016-08-23_00:00:00.csv before the loop\n"
     ]
    },
    {
     "name": "stderr",
     "output_type": "stream",
     "text": [
      "/mnt/storage/janek/Beesbook-life/bee_helpers.py:54: FutureWarning: set_value is deprecated and will be removed in a future release. Please use .at[] or .iat[] accessors instead\n",
      "  presence_df.set_value(bee_row_number, interval, 1)\n"
     ]
    },
    {
     "name": "stdout",
     "output_type": "stream",
     "text": [
      "0 , "
     ]
    }
   ],
   "source": [
    "p(num_hours, datetime_start, num_intervals_per_hour, bee_ids_from_group)"
   ]
  },
  {
   "cell_type": "code",
   "execution_count": null,
   "metadata": {},
   "outputs": [],
   "source": []
  }
 ],
 "metadata": {
  "kernelspec": {
   "display_name": "Python 3",
   "language": "python",
   "name": "python3"
  },
  "language_info": {
   "codemirror_mode": {
    "name": "ipython",
    "version": 3
   },
   "file_extension": ".py",
   "mimetype": "text/x-python",
   "name": "python",
   "nbconvert_exporter": "python",
   "pygments_lexer": "ipython3",
   "version": "3.5.2"
  }
 },
 "nbformat": 4,
 "nbformat_minor": 2
}
