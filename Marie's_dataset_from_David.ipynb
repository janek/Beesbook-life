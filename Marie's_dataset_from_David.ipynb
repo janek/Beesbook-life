{
 "cells": [
  {
   "cell_type": "code",
   "execution_count": 39,
   "metadata": {},
   "outputs": [],
   "source": [
    "import pandas as pd\n",
    "import numpy as np\n",
    "\n",
    "\n",
    "import bb_utils\n",
    "import bb_utils.meta\n",
    "import bb_utils.ids\n",
    "import bb_backend"
   ]
  },
  {
   "cell_type": "code",
   "execution_count": 40,
   "metadata": {},
   "outputs": [
    {
     "name": "stdout",
     "output_type": "stream",
     "text": [
      "['attending', 'author', 'begin', 'begin_frame_id', 'begin_timestamp', 'cam_id', 'comment', 'dancer', 'duration', 'end', 'end_frame_id', 'end_timestamp', 'following', 'metadata_filename', 'recruit', 'trophallaxis', 'valid_filename', 'video_begin_timestamp', 'video_duration', 'video_end_timestamp', 'videoname', 'begin_datetime', 'video_begin_datetime', 'end_datetime', 'video_end_datetime', 'video_date', 'begin_time', 'begin_time_hours']\n"
     ]
    }
   ],
   "source": [
    "m = bb_utils.meta.BeeMetaInfo()\n",
    "\n",
    "foragers = pd.read_hdf(\"/home/janek/datasets/full_data_marie23.hdf\") #751 x 28\n",
    "print(list(foragers))"
   ]
  },
  {
   "cell_type": "markdown",
   "metadata": {},
   "source": [
    "### Get the list of values from \"recruit\" and filter out NaNs "
   ]
  },
  {
   "cell_type": "code",
   "execution_count": 41,
   "metadata": {},
   "outputs": [
    {
     "name": "stdout",
     "output_type": "stream",
     "text": [
      "(97, 2)\n"
     ]
    }
   ],
   "source": [
    "recruits = foragers[['recruit', 'video_date']]\n",
    "recruits = recruits.dropna()\n",
    "print(recruits.shape)"
   ]
  },
  {
   "cell_type": "markdown",
   "metadata": {},
   "source": [
    "### Get the list of values from \"dancer\" and filter out NaNs "
   ]
  },
  {
   "cell_type": "code",
   "execution_count": 42,
   "metadata": {},
   "outputs": [
    {
     "name": "stdout",
     "output_type": "stream",
     "text": [
      "(95, 2)\n"
     ]
    }
   ],
   "source": [
    "dancers = foragers[['dancer', 'video_date']]\n",
    "dancers = dancers.dropna()\n",
    "print(dancers.shape)\n",
    "# print(dancers)"
   ]
  },
  {
   "cell_type": "markdown",
   "metadata": {},
   "source": [
    "### Merge dancers and recruits (as suspected foragers), filter out duplicates"
   ]
  },
  {
   "cell_type": "code",
   "execution_count": 43,
   "metadata": {},
   "outputs": [
    {
     "name": "stdout",
     "output_type": "stream",
     "text": [
      "     dancer  recruit  video_date\n",
      "163     NaN    936.0  2016-08-23\n",
      "348     NaN    936.0  2016-08-23\n",
      "412     NaN   2022.0  2016-08-23\n",
      "437     NaN   2691.0  2016-08-23\n",
      "440     NaN   3069.0  2016-08-23\n",
      "443     NaN    936.0  2016-08-23\n",
      "445     NaN   2691.0  2016-08-23\n",
      "449     NaN   2854.0  2016-08-23\n",
      "450     NaN   2022.0  2016-08-23\n",
      "451     NaN   2854.0  2016-08-23\n",
      "454     NaN   2022.0  2016-08-23\n",
      "455     NaN    119.0  2016-08-23\n",
      "456     NaN   2854.0  2016-08-23\n",
      "457     NaN   2691.0  2016-08-23\n",
      "458     NaN   2691.0  2016-08-23\n",
      "461     NaN   2691.0  2016-08-23\n",
      "466     NaN   3069.0  2016-08-23\n",
      "468     NaN   3069.0  2016-08-23\n",
      "474     NaN    936.0  2016-08-23\n",
      "482     NaN    119.0  2016-08-23\n",
      "483     NaN   2772.0  2016-08-23\n",
      "488     NaN   2772.0  2016-08-23\n",
      "490     NaN   2508.0  2016-08-23\n",
      "495     NaN   3178.0  2016-08-23\n",
      "497     NaN   2772.0  2016-08-23\n",
      "503     NaN   2691.0  2016-08-23\n",
      "506     NaN   2772.0  2016-08-23\n",
      "511     NaN   3831.0  2016-08-23\n",
      "514     NaN    119.0  2016-08-23\n",
      "515     NaN   2772.0  2016-08-23\n",
      "..      ...      ...         ...\n",
      "573   918.0      NaN  2016-08-23\n",
      "587  2508.0      NaN  2016-08-23\n",
      "589  2854.0      NaN  2016-08-23\n",
      "591  2854.0      NaN  2016-08-23\n",
      "593  2854.0      NaN  2016-08-23\n",
      "594  2854.0      NaN  2016-08-23\n",
      "595   918.0      NaN  2016-08-23\n",
      "599  2508.0      NaN  2016-08-23\n",
      "602  2508.0      NaN  2016-08-23\n",
      "603  2508.0      NaN  2016-08-23\n",
      "605  2508.0      NaN  2016-08-23\n",
      "608  2508.0      NaN  2016-08-23\n",
      "616   918.0      NaN  2016-08-23\n",
      "621   936.0      NaN  2016-08-23\n",
      "627  2854.0      NaN  2016-08-23\n",
      "628   119.0      NaN  2016-08-23\n",
      "631   918.0      NaN  2016-08-23\n",
      "632  2854.0      NaN  2016-08-23\n",
      "634  2854.0      NaN  2016-08-23\n",
      "639  3831.0      NaN  2016-08-23\n",
      "647  3178.0      NaN  2016-08-23\n",
      "648  2854.0      NaN  2016-08-23\n",
      "676   936.0      NaN  2016-08-23\n",
      "682   936.0      NaN  2016-08-23\n",
      "751   918.0      NaN  2016-08-23\n",
      "752  2854.0      NaN  2016-08-23\n",
      "753  2508.0      NaN  2016-08-23\n",
      "754  2508.0      NaN  2016-08-23\n",
      "755  2508.0      NaN  2016-08-23\n",
      "756  2854.0      NaN  2016-08-23\n",
      "\n",
      "[192 rows x 3 columns]\n"
     ]
    }
   ],
   "source": [
    "foragers = recruits.append(dancers)\n",
    "# foragers = foragers.drop_duplicates()\n",
    "print(foragers)"
   ]
  },
  {
   "cell_type": "code",
   "execution_count": 38,
   "metadata": {},
   "outputs": [
    {
     "data": {
      "text/plain": [
       "[1799, 1593, 2106, 1662, 1180, 2984, 1197, 1714, 1471, 1232, 2031]"
      ]
     },
     "execution_count": 38,
     "metadata": {},
     "output_type": "execute_result"
    }
   ],
   "source": [
    "meta = bb_utils.meta.BeeMetaInfo()\n",
    "group_idx = 20\n",
    "group_ids = map(lambda i: i.as_ferwar(), \n",
    "                list(map(bb_utils.ids.BeesbookID.from_dec_12, meta.get_foragergroup(group_idx).dec12)))\n",
    "\n",
    "group_ids = list(group_ids)\n",
    "group_ids"
   ]
  },
  {
   "cell_type": "code",
   "execution_count": null,
   "metadata": {},
   "outputs": [],
   "source": [
    "\n",
    "# for b_id in group_ids:\n",
    "    "
   ]
  },
  {
   "cell_type": "code",
   "execution_count": 70,
   "metadata": {},
   "outputs": [],
   "source": [
    "rec_ser = foragers['recruit']\n",
    "rec_ser = rec_ser.dropna()\n",
    "recs = list(rec_ser)\n",
    "\n",
    "dan_ser = foragers['dancer']\n",
    "dan_ser = dan_ser.dropna()\n",
    "dancs = list(dan_ser)"
   ]
  },
  {
   "cell_type": "code",
   "execution_count": 73,
   "metadata": {},
   "outputs": [
    {
     "data": {
      "text/plain": [
       "0     False\n",
       "1     False\n",
       "2     False\n",
       "3     False\n",
       "4     False\n",
       "5     False\n",
       "6     False\n",
       "7     False\n",
       "8     False\n",
       "9     False\n",
       "10    False\n",
       "dtype: bool"
      ]
     },
     "execution_count": 73,
     "metadata": {},
     "output_type": "execute_result"
    }
   ],
   "source": [
    "ids_ser = pd.Series(group_ids)\n",
    "ids_ser.isin(recs)\n",
    "ids_ser.isin(dancs)"
   ]
  },
  {
   "cell_type": "code",
   "execution_count": null,
   "metadata": {},
   "outputs": [],
   "source": [
    "x"
   ]
  }
 ],
 "metadata": {
  "kernelspec": {
   "display_name": "Python 3",
   "language": "python",
   "name": "python3"
  },
  "language_info": {
   "codemirror_mode": {
    "name": "ipython",
    "version": 3
   },
   "file_extension": ".py",
   "mimetype": "text/x-python",
   "name": "python",
   "nbconvert_exporter": "python",
   "pygments_lexer": "ipython3",
   "version": "3.5.2"
  }
 },
 "nbformat": 4,
 "nbformat_minor": 2
}
