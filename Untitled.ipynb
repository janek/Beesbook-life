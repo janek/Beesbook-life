{
 "cells": [
  {
   "cell_type": "code",
   "execution_count": 12,
   "metadata": {},
   "outputs": [
    {
     "ename": "ImportError",
     "evalue": "No module named 'bee_hepers'",
     "output_type": "error",
     "traceback": [
      "\u001b[0;31m---------------------------------------------------------------------------\u001b[0m",
      "\u001b[0;31mImportError\u001b[0m                               Traceback (most recent call last)",
      "\u001b[0;32m<ipython-input-12-f12b1bee3784>\u001b[0m in \u001b[0;36m<module>\u001b[0;34m()\u001b[0m\n\u001b[1;32m     12\u001b[0m \u001b[0;32mfrom\u001b[0m \u001b[0mtqdm\u001b[0m \u001b[0;32mimport\u001b[0m \u001b[0mtqdm\u001b[0m\u001b[0;34m\u001b[0m\u001b[0m\n\u001b[1;32m     13\u001b[0m \u001b[0;32mfrom\u001b[0m \u001b[0mpathlib\u001b[0m \u001b[0;32mimport\u001b[0m \u001b[0mPath\u001b[0m\u001b[0;34m\u001b[0m\u001b[0m\n\u001b[0;32m---> 14\u001b[0;31m \u001b[0;32mfrom\u001b[0m \u001b[0mbee_hepers\u001b[0m \u001b[0;32mimport\u001b[0m \u001b[0mget_all_bee_ids\u001b[0m\u001b[0;34m\u001b[0m\u001b[0m\n\u001b[0m",
      "\u001b[0;31mImportError\u001b[0m: No module named 'bee_hepers'"
     ]
    }
   ],
   "source": [
    "import os, shutil\n",
    "import bb_utils\n",
    "import bb_utils.meta\n",
    "import bb_utils.ids\n",
    "import bb_backend\n",
    "from datetime import timedelta, datetime\n",
    "import time\n",
    "import psycopg2\n",
    "import psycopg2.extras\n",
    "import numpy as np\n",
    "import pandas as pd\n",
    "from tqdm import tqdm\n",
    "from pathlib import Path\n",
    "from bee_hepers import get_all_bee_ids"
   ]
  },
  {
   "cell_type": "code",
   "execution_count": 10,
   "metadata": {},
   "outputs": [],
   "source": [
    "def detections_to_presence_locations(num_hours, datetime_start, num_intervals_per_hour, bee_ids):\n",
    "    #TODO: add documentation-style comments\n",
    "    \n",
    "    \n",
    "    (csv_name, csv_path) = create_presence_cache_filename(num_hours, datetime_start, num_intervals_per_hour)\n",
    "    detections_cache_location_prefix = cache_location_prefix + \"Detections/\"\n",
    "    # Load first element before the loop, to have a table formatted nicely for appending\n",
    "    start_csv_name = \"DETECTIONS-\"+(datetime_start).strftime(\"%Y-%m-%d_%H:%M:%S\")+\".csv\"\n",
    "    print('Processing '+detections_cache_location_prefix+start_csv_name+' before the loop')\n",
    "\n",
    "    detections_df = pd.read_csv(detections_cache_location_prefix+start_csv_name, \n",
    "                                parse_dates=['timestamp'], \n",
    "                                usecols=['timestamp', 'bee_id', 'x_pos_hive', 'y_pos_hive', 'orientation'])\n",
    "\n",
    "    # Read and concat a number of hour-long csvs (note: this is because thekla memory crashes if attempting >16h at a time)\n",
    "    for i in tqdm(range(1, num_hours)):\n",
    "        csv_name = \"DETECTIONS-\" + (datetime_start + timedelta(hours=i)).strftime(\"%Y-%m-%d_%H:%M:%S\")+\".csv\"\n",
    "        print('Processing '+csv_name)\n",
    "        new_data = pd.read_csv(detections_cache_location_prefix+csv_name, \n",
    "                               parse_dates=['timestamp'], \n",
    "                               usecols=['timestamp', 'bee_id'])\n",
    "        \n",
    "        detections_df = pd.concat([detections_df, new_data])\n",
    "        print('Num. rows after appending: '+str(detections_df.shape[0])) \n",
    "\n",
    "    #interval length is the total observation period divided by total number of intervals\n",
    "    total_num_intervals = (num_intervals_per_hour*num_hours)\n",
    "    interval_length = timedelta(hours=num_hours) // (num_intervals_per_hour*num_hours)\n",
    "\n",
    "    # prepare dataframe with zeros in the shape [bees x total_num_intervals]\n",
    "    # append bee_ids from the left\n",
    "    intervals = pd.DataFrame(data=np.zeros([len(bee_ids),total_num_intervals])) \n",
    "    bee_ids = pd.DataFrame(data={'id': bee_ids})\n",
    "    presence_df = pd.concat([bee_ids, intervals], axis=1)\n",
    "    \n",
    "    #Iterate over intervals and over detections\n",
    "    #If a bee from bee_ids is detected within a given interval, mark the cell for that bee and interval with a '1'\n",
    "\n",
    "    interval_starttime = datetime_start\n",
    "    # print(\"Processing intervals: \")\n",
    "    for interval in tqdm(range(total_num_intervals)): \n",
    "        #choose detections for interval\n",
    "        interval_endtime = interval_starttime + interval_length\n",
    "        after_start = detections_df['timestamp'] >= interval_starttime \n",
    "        before_end = detections_df['timestamp'] < interval_endtime\n",
    "        interval_detections = detections_df[after_start & before_end]\n",
    "        bee_row_number = 0\n",
    "        for bee in presence_df['id']: \n",
    "            if bee in interval_detections['bee_id'].unique():\n",
    "                x_c = detections_df['x_pos_hive'][bee_row_number]\n",
    "                presence_df.set_value(bee_row_number, interval, x_c)\n",
    "            bee_row_number += 1 \n",
    "        interval_starttime = interval_endtime\n",
    "            \n",
    "    #Saving the ENCE dataframe, with 1's and 0's for bees present in a given interval\n",
    "    presence_df.to_csv(csv_path)\n",
    "    \n",
    "    print(\"SAVED\", csv_path)\n",
    "    return csv_path"
   ]
  },
  {
   "cell_type": "code",
   "execution_count": 11,
   "metadata": {},
   "outputs": [
    {
     "ename": "NameError",
     "evalue": "name 'get_all_bee_ids' is not defined",
     "output_type": "error",
     "traceback": [
      "\u001b[0;31m---------------------------------------------------------------------------\u001b[0m",
      "\u001b[0;31mNameError\u001b[0m                                 Traceback (most recent call last)",
      "\u001b[0;32m<ipython-input-11-2de852be3880>\u001b[0m in \u001b[0;36m<module>\u001b[0;34m()\u001b[0m\n\u001b[1;32m      1\u001b[0m \u001b[0;31m# Choose a subset of bees to analyze (e.g. all of them)\u001b[0m\u001b[0;34m\u001b[0m\u001b[0;34m\u001b[0m\u001b[0m\n\u001b[0;32m----> 2\u001b[0;31m \u001b[0;34m(\u001b[0m\u001b[0mbee_ids_as_ferwar_format\u001b[0m\u001b[0;34m,\u001b[0m \u001b[0mbee_ids_as_beesbookid_format\u001b[0m\u001b[0;34m)\u001b[0m \u001b[0;34m=\u001b[0m \u001b[0mget_all_bee_ids\u001b[0m\u001b[0;34m(\u001b[0m\u001b[0;34m)\u001b[0m\u001b[0;34m\u001b[0m\u001b[0m\n\u001b[0m\u001b[1;32m      3\u001b[0m \u001b[0;34m\u001b[0m\u001b[0m\n\u001b[1;32m      4\u001b[0m \u001b[0mdatetime_start\u001b[0m \u001b[0;34m=\u001b[0m \u001b[0mdatetime\u001b[0m\u001b[0;34m(\u001b[0m\u001b[0;36m2016\u001b[0m\u001b[0;34m,\u001b[0m \u001b[0;36m7\u001b[0m\u001b[0;34m,\u001b[0m \u001b[0;36m20\u001b[0m\u001b[0;34m)\u001b[0m\u001b[0;34m\u001b[0m\u001b[0m\n\u001b[1;32m      5\u001b[0m \u001b[0;34m\u001b[0m\u001b[0m\n",
      "\u001b[0;31mNameError\u001b[0m: name 'get_all_bee_ids' is not defined"
     ]
    }
   ],
   "source": [
    "# Choose a subset of bees to analyze (e.g. all of them)\n",
    "(bee_ids_as_ferwar_format, bee_ids_as_beesbookid_format) = get_all_bee_ids()\n",
    "\n",
    "datetime_start = datetime(2016, 7, 20)\n",
    "\n",
    "observ_period = timedelta(hours=1)\n",
    "num_observ_periods = 2 #hours in day\n",
    "\n",
    "location_prefix = '/mnt/storage/janek/caches/Detections/'\n",
    "\n",
    "detections_to_presence_location(num_observ_periods, start_day, num_intervals_per_hour, bee_ids_as_ferwar_format)"
   ]
  },
  {
   "cell_type": "code",
   "execution_count": null,
   "metadata": {},
   "outputs": [],
   "source": []
  },
  {
   "cell_type": "code",
   "execution_count": null,
   "metadata": {},
   "outputs": [],
   "source": []
  },
  {
   "cell_type": "code",
   "execution_count": null,
   "metadata": {},
   "outputs": [],
   "source": []
  }
 ],
 "metadata": {
  "kernelspec": {
   "display_name": "Python 3",
   "language": "python",
   "name": "python3"
  },
  "language_info": {
   "codemirror_mode": {
    "name": "ipython",
    "version": 3
   },
   "file_extension": ".py",
   "mimetype": "text/x-python",
   "name": "python",
   "nbconvert_exporter": "python",
   "pygments_lexer": "ipython3",
   "version": "3.5.2"
  }
 },
 "nbformat": 4,
 "nbformat_minor": 2
}
