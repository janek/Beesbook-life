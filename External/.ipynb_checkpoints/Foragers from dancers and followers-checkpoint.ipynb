{
 "cells": [
  {
   "cell_type": "code",
   "execution_count": 143,
   "metadata": {},
   "outputs": [],
   "source": [
    "import pandas as pd\n",
    "import numpy as np"
   ]
  },
  {
   "cell_type": "code",
   "execution_count": 150,
   "metadata": {},
   "outputs": [],
   "source": [
    "import bb_utils\n",
    "import bb_utils.meta\n",
    "from bb_utils.ids import BeesbookID"
   ]
  },
  {
   "cell_type": "code",
   "execution_count": 144,
   "metadata": {},
   "outputs": [],
   "source": [
    "dance_events = pd.read_csv(\"../../datasets/foragergroups/full_data_marie23.csv\", index_col=0) #751 x 28/29\n",
    "dance_events = dance_events[dance_events.following == True]\n",
    "# print(list(dance_events.columns))\n",
    "# dance_events"
   ]
  },
  {
   "cell_type": "markdown",
   "metadata": {},
   "source": [
    "### Get a list of dancers with the date of the dance"
   ]
  },
  {
   "cell_type": "markdown",
   "metadata": {},
   "source": [
    "`Dance_events` is 751 rows long. \n",
    "Filtering with filter 1: `dance_events = dance_events[dance_events.following == True]` will leave only 59 rows. \n",
    "Filtering with filter 2: `dropna(subset=['dancer'])` leaves only 95 rows. \n",
    "Filtering with both leaves 58 rows. \n",
    "\n",
    "Among those 58 rows, there are only 4 unique bee ids. \n",
    "If we leave out filter 1, we get 8 unique dancer ids."
   ]
  },
  {
   "cell_type": "code",
   "execution_count": 145,
   "metadata": {},
   "outputs": [],
   "source": [
    "dancers = dance_events[['dancer','video_date']]\n",
    "dancers = dancers.dropna()\n",
    "dancers['role'] = 'dancer'\n",
    "dancers.rename(columns = {'dancer' : 'bee_id'}, inplace=True) "
   ]
  },
  {
   "cell_type": "code",
   "execution_count": 146,
   "metadata": {},
   "outputs": [],
   "source": [
    "recruits = dance_events[['recruit','video_date']]\n",
    "recruits = recruits.dropna()\n",
    "recruits['role'] = 'recruit'\n",
    "recruits.rename(columns = {'recruit' : 'bee_id'}, inplace=True) "
   ]
  },
  {
   "cell_type": "code",
   "execution_count": 151,
   "metadata": {},
   "outputs": [],
   "source": [
    "foragers = dancers.append(recruits, sort=True)"
   ]
  },
  {
   "cell_type": "code",
   "execution_count": 154,
   "metadata": {},
   "outputs": [
    {
     "data": {
      "text/html": [
       "<div>\n",
       "<style scoped>\n",
       "    .dataframe tbody tr th:only-of-type {\n",
       "        vertical-align: middle;\n",
       "    }\n",
       "\n",
       "    .dataframe tbody tr th {\n",
       "        vertical-align: top;\n",
       "    }\n",
       "\n",
       "    .dataframe thead th {\n",
       "        text-align: right;\n",
       "    }\n",
       "</style>\n",
       "<table border=\"1\" class=\"dataframe\">\n",
       "  <thead>\n",
       "    <tr style=\"text-align: right;\">\n",
       "      <th></th>\n",
       "      <th>bee_id</th>\n",
       "      <th>role</th>\n",
       "      <th>video_date</th>\n",
       "    </tr>\n",
       "  </thead>\n",
       "  <tbody>\n",
       "    <tr>\n",
       "      <th>437</th>\n",
       "      <td>918.0</td>\n",
       "      <td>dancer</td>\n",
       "      <td>2016-08-23</td>\n",
       "    </tr>\n",
       "    <tr>\n",
       "      <th>461</th>\n",
       "      <td>2854.0</td>\n",
       "      <td>dancer</td>\n",
       "      <td>2016-08-23</td>\n",
       "    </tr>\n",
       "    <tr>\n",
       "      <th>474</th>\n",
       "      <td>119.0</td>\n",
       "      <td>dancer</td>\n",
       "      <td>2016-08-23</td>\n",
       "    </tr>\n",
       "    <tr>\n",
       "      <th>529</th>\n",
       "      <td>3831.0</td>\n",
       "      <td>dancer</td>\n",
       "      <td>2016-08-23</td>\n",
       "    </tr>\n",
       "    <tr>\n",
       "      <th>348</th>\n",
       "      <td>936.0</td>\n",
       "      <td>recruit</td>\n",
       "      <td>2016-08-23</td>\n",
       "    </tr>\n",
       "    <tr>\n",
       "      <th>437</th>\n",
       "      <td>2691.0</td>\n",
       "      <td>recruit</td>\n",
       "      <td>2016-08-23</td>\n",
       "    </tr>\n",
       "    <tr>\n",
       "      <th>449</th>\n",
       "      <td>2854.0</td>\n",
       "      <td>recruit</td>\n",
       "      <td>2016-08-23</td>\n",
       "    </tr>\n",
       "    <tr>\n",
       "      <th>450</th>\n",
       "      <td>2022.0</td>\n",
       "      <td>recruit</td>\n",
       "      <td>2016-08-23</td>\n",
       "    </tr>\n",
       "    <tr>\n",
       "      <th>455</th>\n",
       "      <td>119.0</td>\n",
       "      <td>recruit</td>\n",
       "      <td>2016-08-23</td>\n",
       "    </tr>\n",
       "    <tr>\n",
       "      <th>466</th>\n",
       "      <td>3069.0</td>\n",
       "      <td>recruit</td>\n",
       "      <td>2016-08-23</td>\n",
       "    </tr>\n",
       "    <tr>\n",
       "      <th>515</th>\n",
       "      <td>2772.0</td>\n",
       "      <td>recruit</td>\n",
       "      <td>2016-08-23</td>\n",
       "    </tr>\n",
       "    <tr>\n",
       "      <th>524</th>\n",
       "      <td>2508.0</td>\n",
       "      <td>recruit</td>\n",
       "      <td>2016-08-23</td>\n",
       "    </tr>\n",
       "    <tr>\n",
       "      <th>526</th>\n",
       "      <td>3178.0</td>\n",
       "      <td>recruit</td>\n",
       "      <td>2016-08-23</td>\n",
       "    </tr>\n",
       "  </tbody>\n",
       "</table>\n",
       "</div>"
      ],
      "text/plain": [
       "     bee_id     role  video_date\n",
       "437   918.0   dancer  2016-08-23\n",
       "461  2854.0   dancer  2016-08-23\n",
       "474   119.0   dancer  2016-08-23\n",
       "529  3831.0   dancer  2016-08-23\n",
       "348   936.0  recruit  2016-08-23\n",
       "437  2691.0  recruit  2016-08-23\n",
       "449  2854.0  recruit  2016-08-23\n",
       "450  2022.0  recruit  2016-08-23\n",
       "455   119.0  recruit  2016-08-23\n",
       "466  3069.0  recruit  2016-08-23\n",
       "515  2772.0  recruit  2016-08-23\n",
       "524  2508.0  recruit  2016-08-23\n",
       "526  3178.0  recruit  2016-08-23"
      ]
     },
     "execution_count": 154,
     "metadata": {},
     "output_type": "execute_result"
    }
   ],
   "source": [
    "foragers = foragers.drop_duplicates()\n",
    "foragers"
   ]
  },
  {
   "cell_type": "code",
   "execution_count": 163,
   "metadata": {},
   "outputs": [
    {
     "data": {
      "text/plain": [
       "437    1593\n",
       "461    1714\n",
       "474    1799\n",
       "529    2031\n",
       "348    2106\n",
       "437    2984\n",
       "449    1714\n",
       "450    1662\n",
       "455    1799\n",
       "466    1471\n",
       "515    1197\n",
       "524    1180\n",
       "526     710\n",
       "Name: bee_id, dtype: int64"
      ]
     },
     "execution_count": 163,
     "metadata": {},
     "output_type": "execute_result"
    }
   ],
   "source": [
    "foragers.bee_id = foragers.bee_id.astype(int)\n",
    "foragers.bee_id = foragers.bee_id.apply(lambda ID: bb_utils.ids.BeesbookID.from_dec_12(ID).as_ferwar())"
   ]
  },
  {
   "cell_type": "code",
   "execution_count": 160,
   "metadata": {},
   "outputs": [
    {
     "data": {
      "text/plain": [
       "numpy.float64"
      ]
     },
     "execution_count": 160,
     "metadata": {},
     "output_type": "execute_result"
    }
   ],
   "source": [
    "df.a = df.a.astype(float)\n"
   ]
  },
  {
   "cell_type": "code",
   "execution_count": 162,
   "metadata": {},
   "outputs": [
    {
     "data": {
      "text/plain": [
       "numpy.int64"
      ]
     },
     "execution_count": 162,
     "metadata": {},
     "output_type": "execute_result"
    }
   ],
   "source": []
  },
  {
   "cell_type": "code",
   "execution_count": null,
   "metadata": {},
   "outputs": [],
   "source": [
    "ID = 316\n",
    "lambda ID = bb_utils.ids.BeesbookID.from_dec_12(ID).as_ferwar()"
   ]
  },
  {
   "cell_type": "code",
   "execution_count": null,
   "metadata": {},
   "outputs": [],
   "source": [
    "# Future work:\n",
    "# compare dancers and followers agains each other,\n",
    "# maybe see if the length of the dance makes a difference?\n",
    "# what other features of this could be meaningful?"
   ]
  }
 ],
 "metadata": {
  "kernelspec": {
   "display_name": "Python 3",
   "language": "python",
   "name": "python3"
  },
  "language_info": {
   "codemirror_mode": {
    "name": "ipython",
    "version": 3
   },
   "file_extension": ".py",
   "mimetype": "text/x-python",
   "name": "python",
   "nbconvert_exporter": "python",
   "pygments_lexer": "ipython3",
   "version": "3.5.2"
  }
 },
 "nbformat": 4,
 "nbformat_minor": 2
}
