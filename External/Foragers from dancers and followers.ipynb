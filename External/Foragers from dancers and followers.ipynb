{
 "cells": [
  {
   "cell_type": "code",
   "execution_count": 143,
   "metadata": {},
   "outputs": [],
   "source": [
    "import pandas as pd\n",
    "import numpy as np"
   ]
  },
  {
   "cell_type": "code",
   "execution_count": 150,
   "metadata": {},
   "outputs": [],
   "source": [
    "import bb_utils\n",
    "import bb_utils.meta\n",
    "from bb_utils.ids import BeesbookID"
   ]
  },
  {
   "cell_type": "code",
   "execution_count": 164,
   "metadata": {},
   "outputs": [
    {
     "name": "stdout",
     "output_type": "stream",
     "text": [
      "['attending', 'author', 'begin', 'begin_frame_id', 'begin_timestamp', 'cam_id', 'comment', 'dancer', 'duration', 'end', 'end_frame_id', 'end_timestamp', 'following', 'metadata_filename', 'recruit', 'trophallaxis', 'valid_filename', 'video_begin_timestamp', 'video_duration', 'video_end_timestamp', 'videoname', 'begin_datetime', 'video_begin_datetime', 'end_datetime', 'video_end_datetime', 'video_date', 'begin_time', 'begin_time_hours']\n"
     ]
    }
   ],
   "source": [
    "dance_events = pd.read_csv(\"../../datasets/foragergroups/full_data_marie23.csv\", index_col=0) #751 x 28/29\n",
    "dance_events = dance_events[dance_events.following == True]\n",
    "print(list(dance_events.columns))"
   ]
  },
  {
   "cell_type": "markdown",
   "metadata": {},
   "source": [
    "### Get a list of dancers and recruits along with the date of the dance"
   ]
  },
  {
   "cell_type": "code",
   "execution_count": 165,
   "metadata": {},
   "outputs": [],
   "source": [
    "dancers = dance_events[['dancer','video_date']]\n",
    "dancers = dancers.dropna()\n",
    "dancers['role'] = 'dancer'\n",
    "dancers.rename(columns = {'dancer' : 'bee_id'}, inplace=True) "
   ]
  },
  {
   "cell_type": "code",
   "execution_count": 166,
   "metadata": {},
   "outputs": [],
   "source": [
    "recruits = dance_events[['recruit','video_date']]\n",
    "recruits = recruits.dropna()\n",
    "recruits['role'] = 'recruit'\n",
    "recruits.rename(columns = {'recruit' : 'bee_id'}, inplace=True) "
   ]
  },
  {
   "cell_type": "code",
   "execution_count": 151,
   "metadata": {},
   "outputs": [],
   "source": [
    "foragers = dancers.append(recruits, sort=True)\n",
    "foragers = foragers.drop_duplicates()\n",
    "foragers.bee_id = foragers.bee_id.astype(int)\n",
    "foragers.bee_id = foragers.bee_id.apply(lambda ID: bb_utils.ids.BeesbookID.from_dec_12(ID).as_ferwar())"
   ]
  },
  {
   "cell_type": "code",
   "execution_count": 167,
   "metadata": {},
   "outputs": [
    {
     "data": {
      "text/html": [
       "<div>\n",
       "<style scoped>\n",
       "    .dataframe tbody tr th:only-of-type {\n",
       "        vertical-align: middle;\n",
       "    }\n",
       "\n",
       "    .dataframe tbody tr th {\n",
       "        vertical-align: top;\n",
       "    }\n",
       "\n",
       "    .dataframe thead th {\n",
       "        text-align: right;\n",
       "    }\n",
       "</style>\n",
       "<table border=\"1\" class=\"dataframe\">\n",
       "  <thead>\n",
       "    <tr style=\"text-align: right;\">\n",
       "      <th></th>\n",
       "      <th>bee_id</th>\n",
       "      <th>role</th>\n",
       "      <th>video_date</th>\n",
       "    </tr>\n",
       "  </thead>\n",
       "  <tbody>\n",
       "    <tr>\n",
       "      <th>437</th>\n",
       "      <td>918</td>\n",
       "      <td>dancer</td>\n",
       "      <td>2016-08-23</td>\n",
       "    </tr>\n",
       "    <tr>\n",
       "      <th>461</th>\n",
       "      <td>2854</td>\n",
       "      <td>dancer</td>\n",
       "      <td>2016-08-23</td>\n",
       "    </tr>\n",
       "    <tr>\n",
       "      <th>474</th>\n",
       "      <td>119</td>\n",
       "      <td>dancer</td>\n",
       "      <td>2016-08-23</td>\n",
       "    </tr>\n",
       "    <tr>\n",
       "      <th>529</th>\n",
       "      <td>3831</td>\n",
       "      <td>dancer</td>\n",
       "      <td>2016-08-23</td>\n",
       "    </tr>\n",
       "    <tr>\n",
       "      <th>348</th>\n",
       "      <td>936</td>\n",
       "      <td>recruit</td>\n",
       "      <td>2016-08-23</td>\n",
       "    </tr>\n",
       "    <tr>\n",
       "      <th>437</th>\n",
       "      <td>2691</td>\n",
       "      <td>recruit</td>\n",
       "      <td>2016-08-23</td>\n",
       "    </tr>\n",
       "    <tr>\n",
       "      <th>449</th>\n",
       "      <td>2854</td>\n",
       "      <td>recruit</td>\n",
       "      <td>2016-08-23</td>\n",
       "    </tr>\n",
       "    <tr>\n",
       "      <th>450</th>\n",
       "      <td>2022</td>\n",
       "      <td>recruit</td>\n",
       "      <td>2016-08-23</td>\n",
       "    </tr>\n",
       "    <tr>\n",
       "      <th>455</th>\n",
       "      <td>119</td>\n",
       "      <td>recruit</td>\n",
       "      <td>2016-08-23</td>\n",
       "    </tr>\n",
       "    <tr>\n",
       "      <th>466</th>\n",
       "      <td>3069</td>\n",
       "      <td>recruit</td>\n",
       "      <td>2016-08-23</td>\n",
       "    </tr>\n",
       "    <tr>\n",
       "      <th>515</th>\n",
       "      <td>2772</td>\n",
       "      <td>recruit</td>\n",
       "      <td>2016-08-23</td>\n",
       "    </tr>\n",
       "    <tr>\n",
       "      <th>524</th>\n",
       "      <td>2508</td>\n",
       "      <td>recruit</td>\n",
       "      <td>2016-08-23</td>\n",
       "    </tr>\n",
       "    <tr>\n",
       "      <th>526</th>\n",
       "      <td>3178</td>\n",
       "      <td>recruit</td>\n",
       "      <td>2016-08-23</td>\n",
       "    </tr>\n",
       "  </tbody>\n",
       "</table>\n",
       "</div>"
      ],
      "text/plain": [
       "     bee_id     role  video_date\n",
       "437     918   dancer  2016-08-23\n",
       "461    2854   dancer  2016-08-23\n",
       "474     119   dancer  2016-08-23\n",
       "529    3831   dancer  2016-08-23\n",
       "348     936  recruit  2016-08-23\n",
       "437    2691  recruit  2016-08-23\n",
       "449    2854  recruit  2016-08-23\n",
       "450    2022  recruit  2016-08-23\n",
       "455     119  recruit  2016-08-23\n",
       "466    3069  recruit  2016-08-23\n",
       "515    2772  recruit  2016-08-23\n",
       "524    2508  recruit  2016-08-23\n",
       "526    3178  recruit  2016-08-23"
      ]
     },
     "execution_count": 167,
     "metadata": {},
     "output_type": "execute_result"
    }
   ],
   "source": [
    "foragers"
   ]
  },
  {
   "cell_type": "code",
   "execution_count": null,
   "metadata": {},
   "outputs": [],
   "source": [
    "# Future work: (nullified if we only get 13 bees from this anyway)\n",
    "# compare dancers and followers agains each other,\n",
    "# maybe see if the length of the dance makes a difference?\n",
    "# what other features of this could be meaningful?\n"
   ]
  }
 ],
 "metadata": {
  "kernelspec": {
   "display_name": "Python 3",
   "language": "python",
   "name": "python3"
  },
  "language_info": {
   "codemirror_mode": {
    "name": "ipython",
    "version": 3
   },
   "file_extension": ".py",
   "mimetype": "text/x-python",
   "name": "python",
   "nbconvert_exporter": "python",
   "pygments_lexer": "ipython3",
   "version": "3.5.2"
  }
 },
 "nbformat": 4,
 "nbformat_minor": 2
}
