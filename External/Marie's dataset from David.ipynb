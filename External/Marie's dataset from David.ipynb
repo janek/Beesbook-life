{
 "cells": [
  {
   "cell_type": "code",
   "execution_count": 1,
   "metadata": {},
   "outputs": [],
   "source": [
    "import pandas as pd\n",
    "import numpy as np"
   ]
  },
  {
   "cell_type": "code",
   "execution_count": 2,
   "metadata": {},
   "outputs": [
    {
     "name": "stdout",
     "output_type": "stream",
     "text": [
      "['attending', 'author', 'begin', 'begin_frame_id', 'begin_timestamp', 'cam_id', 'comment', 'dancer', 'duration', 'end', 'end_frame_id', 'end_timestamp', 'following', 'metadata_filename', 'recruit', 'trophallaxis', 'valid_filename', 'video_begin_timestamp', 'video_duration', 'video_end_timestamp', 'videoname', 'begin_datetime', 'video_begin_datetime', 'end_datetime', 'video_end_datetime', 'video_date', 'begin_time', 'begin_time_hours']\n"
     ]
    }
   ],
   "source": [
    "foragers = pd.read_hdf(\"datasets/full_data_marie23.hdf\") #751 x 28\n",
    "print(list(foragers))"
   ]
  },
  {
   "cell_type": "markdown",
   "metadata": {},
   "source": [
    "### Get the list of values from \"recruit\" and filter out NaNs "
   ]
  },
  {
   "cell_type": "code",
   "execution_count": 3,
   "metadata": {},
   "outputs": [
    {
     "name": "stdout",
     "output_type": "stream",
     "text": [
      "(97,)\n"
     ]
    }
   ],
   "source": [
    "recruits = foragers['recruit']\n",
    "recruits = recruits.dropna()\n",
    "print(recruits.shape)"
   ]
  },
  {
   "cell_type": "markdown",
   "metadata": {},
   "source": [
    "### Get the list of values from \"dancer\" and filter out NaNs "
   ]
  },
  {
   "cell_type": "code",
   "execution_count": 4,
   "metadata": {},
   "outputs": [
    {
     "name": "stdout",
     "output_type": "stream",
     "text": [
      "(95,)\n"
     ]
    }
   ],
   "source": [
    "dancers = foragers['dancer']\n",
    "dancers = dancers.dropna()\n",
    "print(dancers.shape)\n",
    "# print(dancers)"
   ]
  },
  {
   "cell_type": "markdown",
   "metadata": {},
   "source": [
    "### Merge dancers and recruits (as suspected foragers), filter out duplicates"
   ]
  },
  {
   "cell_type": "code",
   "execution_count": 5,
   "metadata": {},
   "outputs": [
    {
     "name": "stdout",
     "output_type": "stream",
     "text": [
      "163     936.0\n",
      "348     936.0\n",
      "412    2022.0\n",
      "437    2691.0\n",
      "440    3069.0\n",
      "443     936.0\n",
      "445    2691.0\n",
      "449    2854.0\n",
      "450    2022.0\n",
      "451    2854.0\n",
      "454    2022.0\n",
      "455     119.0\n",
      "456    2854.0\n",
      "457    2691.0\n",
      "458    2691.0\n",
      "461    2691.0\n",
      "466    3069.0\n",
      "468    3069.0\n",
      "474     936.0\n",
      "482     119.0\n",
      "483    2772.0\n",
      "488    2772.0\n",
      "490    2508.0\n",
      "495    3178.0\n",
      "497    2772.0\n",
      "503    2691.0\n",
      "506    2772.0\n",
      "511    3831.0\n",
      "514     119.0\n",
      "515    2772.0\n",
      "        ...  \n",
      "573     918.0\n",
      "587    2508.0\n",
      "589    2854.0\n",
      "591    2854.0\n",
      "593    2854.0\n",
      "594    2854.0\n",
      "595     918.0\n",
      "599    2508.0\n",
      "602    2508.0\n",
      "603    2508.0\n",
      "605    2508.0\n",
      "608    2508.0\n",
      "616     918.0\n",
      "621     936.0\n",
      "627    2854.0\n",
      "628     119.0\n",
      "631     918.0\n",
      "632    2854.0\n",
      "634    2854.0\n",
      "639    3831.0\n",
      "647    3178.0\n",
      "648    2854.0\n",
      "676     936.0\n",
      "682     936.0\n",
      "751     918.0\n",
      "752    2854.0\n",
      "753    2508.0\n",
      "754    2508.0\n",
      "755    2508.0\n",
      "756    2854.0\n",
      "Length: 192, dtype: float64\n"
     ]
    }
   ],
   "source": [
    "foragers = recruits.append(dancers)\n",
    "# foragers = foragers.drop_duplicates()\n",
    "print(foragers)"
   ]
  },
  {
   "cell_type": "code",
   "execution_count": null,
   "metadata": {},
   "outputs": [],
   "source": []
  }
 ],
 "metadata": {
  "kernelspec": {
   "display_name": "Python 3",
   "language": "python",
   "name": "python3"
  },
  "language_info": {
   "codemirror_mode": {
    "name": "ipython",
    "version": 3
   },
   "file_extension": ".py",
   "mimetype": "text/x-python",
   "name": "python",
   "nbconvert_exporter": "python",
   "pygments_lexer": "ipython3",
   "version": "3.5.2"
  }
 },
 "nbformat": 4,
 "nbformat_minor": 2
}
