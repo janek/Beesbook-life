{
 "cells": [
  {
   "cell_type": "code",
   "execution_count": 1,
   "metadata": {},
   "outputs": [],
   "source": [
    "%load_ext autoreload\n",
    "%autoreload 2"
   ]
  },
  {
   "cell_type": "code",
   "execution_count": 1,
   "metadata": {},
   "outputs": [
    {
     "name": "stderr",
     "output_type": "stream",
     "text": [
      "/usr/local/lib/python3.5/dist-packages/psycopg2/__init__.py:144: UserWarning: The psycopg2 wheel package will be renamed from release 2.8; in order to keep installing from binary please use \"pip install psycopg2-binary\" instead. For details see: <http://initd.org/psycopg/docs/install.html#binary-install-from-pypi>.\n",
      "  \"\"\")\n"
     ]
    }
   ],
   "source": [
    "%matplotlib inline\n",
    "\n",
    "import matplotlib.pyplot as plt\n",
    "import seaborn as sns\n",
    "import numpy as np\n",
    "import pandas as pd\n",
    "import pickle\n",
    "from numba import njit\n",
    "import psycopg2\n",
    "import psycopg2.extras\n",
    "from psycopg2 import sql\n",
    "from itertools import product\n",
    "from datetime import timedelta, datetime\n",
    "from skimage.filters import threshold_minimum, threshold_mean\n",
    "from scipy import stats\n",
    "from scipy.stats import norm\n",
    "import matplotlib.dates as mdates\n",
    "from tqdm import tqdm_notebook\n",
    "import os\n",
    "\n",
    "from distributed import worker_client\n",
    "\n",
    "import bb_utils\n",
    "import bb_utils.meta\n",
    "from bb_utils.ids import BeesbookID\n",
    "import bb_backend\n",
    "from bb_backend.api import FramePlotter, VideoPlotter\n",
    "from bb_backend.api import get_plot_coordinates, transform_axis_coordinates, get_image_origin\n",
    "\n",
    "bb_backend.api.server_adress = '127.0.0.1:8000'\n",
    "\n",
    "sns.set()"
   ]
  },
  {
   "cell_type": "code",
   "execution_count": 27,
   "metadata": {},
   "outputs": [],
   "source": [
    "import matplotlib\n",
    "import matplotlib.pyplot as plt\n",
    "import seaborn as sns\n",
    "import numpy as np\n",
    "import pandas as pd\n",
    "from datetime import timedelta, datetime, time\n",
    "\n",
    "# https://github.com/nebw/data_utils\n",
    "# from data_utils.visualization import bivariate_kdeplot\n",
    "\n",
    "# https://github.com/BioroboticsLab/bb_utils\n",
    "import bb_utils\n",
    "import bb_utils.meta\n",
    "import bb_utils.ids\n",
    "\n",
    "# https://github.com/BioroboticsLab/beesbook_backend\n",
    "import bb_backend\n",
    "from bb_backend.api import get_plot_coordinates, get_image_origin\n",
    "\n",
    "import seaborn as sns\n",
    "def setSnsStyle(style):\n",
    "    sns.set(style=style, font_scale=1.5)\n",
    "    font = {'family' : 'serif',\n",
    "       'weight' : 'normal',\n",
    "       'size'   : 36}\n",
    "    matplotlib.rc('font', **font)\n",
    "    matplotlib.rcParams['xtick.labelsize'] = 16\n",
    "    matplotlib.rcParams['ytick.labelsize'] = 16\n",
    "    matplotlib.rcParams['axes.titlesize'] = 16\n",
    "    matplotlib.rcParams['axes.labelsize'] = 16\n",
    "   \n",
    "%matplotlib inline\n",
    "%config InlineBackend.figure_format = 'svg'\n",
    "\n",
    "setSnsStyle(\"ticks\")"
   ]
  },
  {
   "cell_type": "code",
   "execution_count": 28,
   "metadata": {},
   "outputs": [],
   "source": [
    "connect_str = \"\"\"dbname='beesbook' \n",
    "                 user='reader' \n",
    "                 host='tonic.imp.fu-berlin.de' \n",
    "                 password='' \n",
    "                 application_name='sammelgruppen'\"\"\""
   ]
  },
  {
   "cell_type": "code",
   "execution_count": 4,
   "metadata": {},
   "outputs": [],
   "source": [
    "meta = bb_utils.meta.BeeMetaInfo()"
   ]
  },
  {
   "cell_type": "code",
   "execution_count": 5,
   "metadata": {},
   "outputs": [],
   "source": [
    "#flips certain images \n",
    "def transform_axis_coordinates(x, y, cam_id=None, year=2016):\n",
    "    origin = get_image_origin(cam_id, year)\n",
    "    if origin[0] == 1:\n",
    "        x = 3000 - x\n",
    "    if origin[1] == 0:\n",
    "        y = 4000 - y\n",
    "    return x, y"
   ]
  },
  {
   "cell_type": "code",
   "execution_count": 6,
   "metadata": {},
   "outputs": [],
   "source": [
    "#group_indices = (21, 8, 22, 23)\n",
    "group_indices = (11, 8, 23, 20) "
   ]
  },
  {
   "cell_type": "code",
   "execution_count": 7,
   "metadata": {},
   "outputs": [],
   "source": [
    "group_idx = group_indices[0] #11\n",
    "\n",
    "group_ids = map(lambda i: i.as_ferwar(), \n",
    "                list(map(bb_utils.ids.BeesbookID.from_dec_12, meta.get_foragergroup(group_idx).dec12)))\n",
    "group_ids = list(group_ids)"
   ]
  },
  {
   "cell_type": "code",
   "execution_count": 8,
   "metadata": {},
   "outputs": [],
   "source": [
    "# group_ids.size\n",
    "# meta.get_foragergroup(group_idx).dec12"
   ]
  },
  {
   "cell_type": "code",
   "execution_count": 25,
   "metadata": {},
   "outputs": [],
   "source": [
    "meta.get_foragergroup(3)"
   ]
  },
  {
   "cell_type": "code",
   "execution_count": null,
   "metadata": {},
   "outputs": [],
   "source": [
    "with psycopg2.connect(connect_str) as conn:\n",
    "    with conn.cursor() as cur:\n",
    "        cur.execute(\"\"\"SET geqo_effort to 10\"\"\")\n",
    "        cur.execute(\"\"\"SET max_parallel_workers_per_gather TO 12;\"\"\")\n",
    "        cur.execute(\"\"\"DROP MATERIALIZED VIEW IF EXISTS ben_subset;\"\"\")\n",
    "        cur.execute(\"\"\"\n",
    "            CREATE MATERIALIZED VIEW ben_subset AS\n",
    "               SELECT * FROM bb_detections A\n",
    "               WHERE\n",
    "                   A.timestamp >= %s\n",
    "                   AND A.timestamp <= %s\n",
    "                   AND A.bee_id_confidence >= %s;\"\"\",\n",
    "            (meta.get_foragergroup(group_idx).date,\n",
    "             meta.get_foragergroup(group_idx).date + timedelta(hours=24),\n",
    "             .9))\n",
    "        cur.execute(\"\"\"CREATE INDEX idx_subset_ts_bee_id_ben on ben_subset (timestamp, bee_id);\"\"\")"
   ]
  },
  {
   "cell_type": "code",
   "execution_count": null,
   "metadata": {},
   "outputs": [],
   "source": [
    "def get_interactions(ts_start, ts_end, max_dist=212.):   \n",
    "    connect_str = \"\"\"dbname='beesbook' \n",
    "                     user='reader' \n",
    "                     host='tonic.imp.fu-berlin.de' \n",
    "                     password='' \n",
    "                     application_name='sammelgruppen'\"\"\"\n",
    "    \n",
    "    query = \"\"\"\n",
    "    SELECT * FROM (\n",
    "       SELECT A.bee_id, A.detection_idx, B.bee_id, B.detection_idx, (|/((A.x_pos - B.x_pos) ^ 2 + (A.y_pos - B.y_pos) ^ 2)) as distance,\n",
    "               A.frame_id, A.cam_id, A.timestamp, A.x_pos as a_x, A.y_pos as a_y,\n",
    "               B.x_pos as B_x, B.y_pos as b_y\n",
    "       FROM ben_subset A\n",
    "       INNER JOIN ben_subset B ON A.frame_id = B.frame_id\n",
    "       WHERE\n",
    "           A.bee_id in %s\n",
    "           AND B.bee_id in %s\n",
    "           AND A.timestamp >= %s\n",
    "           AND A.timestamp <= %s\n",
    "           AND B.timestamp >= %s\n",
    "           AND B.timestamp <= %s\n",
    "           AND A.bee_id < B.bee_id\n",
    "       ) _subquery\n",
    "    WHERE distance < %s\n",
    "    ORDER BY timestamp ASC;\"\"\"\n",
    "    \n",
    "    with psycopg2.connect(connect_str) as conn:\n",
    "        with conn.cursor() as cur:\n",
    "            cur.execute(\"\"\"SET geqo_effort to 10\"\"\")\n",
    "            cur.execute(\"\"\"SET max_parallel_workers_per_gather TO 1;\"\"\")\n",
    "\n",
    "            interaction_df = pd.read_sql_query(\n",
    "                query, conn, \n",
    "                params=(tuple(group_ids), tuple(group_ids),\n",
    "                        ts_start, ts_end,\n",
    "                        ts_start, ts_end,\n",
    "                        max_dist),\n",
    "                coerce_float=False)\n",
    "            \n",
    "    return interaction_df"
   ]
  },
  {
   "cell_type": "code",
   "execution_count": null,
   "metadata": {},
   "outputs": [],
   "source": [
    "with psycopg2.connect(connect_str) as conn:\n",
    "    all_ids = pd.read_sql_query(\n",
    "        \"\"\"SELECT bee_id, COUNT(*) from ben_subset GROUP BY bee_id;\"\"\", conn)"
   ]
  },
  {
   "cell_type": "code",
   "execution_count": null,
   "metadata": {},
   "outputs": [],
   "source": [
    "all_ids.shape"
   ]
  },
  {
   "cell_type": "code",
   "execution_count": null,
   "metadata": {},
   "outputs": [],
   "source": [
    "sns.distplot(all_ids['count'])"
   ]
  },
  {
   "cell_type": "code",
   "execution_count": null,
   "metadata": {},
   "outputs": [],
   "source": [
    "sns.distplot(np.log(all_ids['count']), bins=25)"
   ]
  },
  {
   "cell_type": "code",
   "execution_count": null,
   "metadata": {},
   "outputs": [],
   "source": [
    "ages = np.array(list(map(lambda i: meta.get_age(i, meta.get_foragergroup(group_idx).date).days, \n",
    "                map(BeesbookID.from_ferwar, all_ids.bee_id))))"
   ]
  },
  {
   "cell_type": "code",
   "execution_count": null,
   "metadata": {},
   "outputs": [],
   "source": [
    "plt.figure(figsize=(12, 8))\n",
    "sns.swarmplot(ages, all_ids['count'].values, color=\"seagreen\", alpha=.75)\n",
    "ax = sns.boxplot(ages, all_ids['count'].values, color=\"seagreen\")\n",
    "_ = plt.setp(ax.artists, alpha=.5)\n",
    "plt.xlabel('Age in days')\n",
    "_ = plt.ylabel('Detections')"
   ]
  },
  {
   "cell_type": "code",
   "execution_count": null,
   "metadata": {},
   "outputs": [],
   "source": [
    "alive_threshold = np.exp(threshold_mean(np.log(all_ids['count'][:, None])))"
   ]
  },
  {
   "cell_type": "code",
   "execution_count": null,
   "metadata": {},
   "outputs": [],
   "source": [
    "#alive_threshold = all_ids['count'].values[is_dead].max()"
   ]
  },
  {
   "cell_type": "code",
   "execution_count": null,
   "metadata": {},
   "outputs": [],
   "source": [
    "is_dead = [a < alive_threshold for a in all_ids['count'].values]\n",
    "is_dead |= np.array([np.isnan(a) or a < 0 for a in ages])\n",
    "is_alive = np.logical_not(is_dead)"
   ]
  },
  {
   "cell_type": "code",
   "execution_count": null,
   "metadata": {},
   "outputs": [],
   "source": [
    "import seaborn as sns\n",
    "import matplotlib\n",
    "def setSnsStyle(style):\n",
    "    sns.set(style=style, font_scale=1.5)\n",
    "    font = {'family' : 'serif',\n",
    "       'weight' : 'normal',\n",
    "       'size'   : 16}\n",
    "    matplotlib.rc('font', **font)\n",
    "    matplotlib.rcParams['xtick.labelsize'] = 16\n",
    "    matplotlib.rcParams['ytick.labelsize'] = 16\n",
    "    matplotlib.rcParams['axes.titlesize'] = 16\n",
    "    matplotlib.rcParams['axes.labelsize'] = 16\n",
    "   \n",
    "%matplotlib inline\n",
    "%config InlineBackend.figure_format = 'svg'\n",
    "#%config InlineBackend.figure_format = 'retina'\n",
    "\n",
    "setSnsStyle(\"ticks\")"
   ]
  },
  {
   "cell_type": "code",
   "execution_count": null,
   "metadata": {},
   "outputs": [],
   "source": [
    "fig = plt.figure(figsize=(12, 8))\n",
    "sns.swarmplot(ages[is_alive].astype(np.int), all_ids['count'].values[is_alive], \n",
    "              color=\"seagreen\", alpha=.75)\n",
    "sns.swarmplot(ages[is_dead].astype(np.int), all_ids['count'].values[is_dead], \n",
    "              color=\"indianred\", alpha=.75)\n",
    "ax = sns.boxplot(ages[is_alive].astype(np.int), all_ids['count'].values[is_alive], \n",
    "                 color=\"seagreen\")\n",
    "_ = plt.setp(ax.artists, alpha=.5)\n",
    "plt.xlabel('Age in days')\n",
    "_ = plt.ylabel('Detections')\n",
    "fig.savefig('/home/ben/ssh/zedat-web/interactions/ages-{}.png'.format(group_idx),\n",
    "            bbox_inches='tight', pad_inches=0, dpi=300)"
   ]
  },
  {
   "cell_type": "code",
   "execution_count": null,
   "metadata": {},
   "outputs": [],
   "source": [
    "np.count_nonzero(is_alive), np.count_nonzero(is_dead)"
   ]
  },
  {
   "cell_type": "code",
   "execution_count": null,
   "metadata": {},
   "outputs": [],
   "source": [
    "plt.figure(figsize=(12, 8))\n",
    "sns.distplot(ages[is_alive], kde=False, fit=stats.halfnorm, bins=10, \n",
    "             fit_kws={'label': 'Half-normal distribution fit'})\n",
    "plt.xlim(0, max(ages[is_alive]) + 10)\n",
    "plt.legend()\n",
    "_ = plt.title('Age distribution')\n",
    "plt.savefig('/home/ben/ssh/zedat-web/interactions/agedist-{}.png'.format(group_idx),\n",
    "            bbox_inches='tight', pad_inches=0, dpi=300)"
   ]
  },
  {
   "cell_type": "code",
   "execution_count": null,
   "metadata": {},
   "outputs": [],
   "source": [
    "date = meta.get_foragergroup(group_idx).date"
   ]
  },
  {
   "cell_type": "code",
   "execution_count": null,
   "metadata": {},
   "outputs": [],
   "source": [
    "sorted_indices = np.argsort(ages)"
   ]
  },
  {
   "cell_type": "code",
   "execution_count": null,
   "metadata": {},
   "outputs": [],
   "source": [
    "all_ids = all_ids.loc[sorted_indices]"
   ]
  },
  {
   "cell_type": "code",
   "execution_count": null,
   "metadata": {},
   "outputs": [],
   "source": [
    "is_alive = is_alive[sorted_indices]\n",
    "is_dead = is_dead[sorted_indices]\n",
    "ages = ages[sorted_indices]"
   ]
  },
  {
   "cell_type": "code",
   "execution_count": null,
   "metadata": {},
   "outputs": [],
   "source": [
    "alive_ids = set(all_ids.bee_id.values[is_alive])\n",
    "np_alive_ids = np.array(all_ids.bee_id.values[is_alive])\n",
    "num_alive = np.count_nonzero(is_alive)"
   ]
  },
  {
   "cell_type": "code",
   "execution_count": null,
   "metadata": {},
   "outputs": [],
   "source": [
    "interaction_df = get_interactions(date + timedelta(hours=7), date + timedelta(hours=19)) #7AM to 7PM"
   ]
  },
  {
   "cell_type": "code",
   "execution_count": null,
   "metadata": {},
   "outputs": [],
   "source": [
    "interaction_df.head()"
   ]
  },
  {
   "cell_type": "code",
   "execution_count": null,
   "metadata": {},
   "outputs": [],
   "source": [
    "id_lookup = np.zeros(2 ** 12, dtype=np.int64)\n",
    "for seq_id, bee_id in enumerate(np_alive_ids):\n",
    "    id_lookup[bee_id] = seq_id"
   ]
  },
  {
   "cell_type": "code",
   "execution_count": null,
   "metadata": {},
   "outputs": [],
   "source": [
    "def transform_axis_coordinates(x, y, cam_id=None, year=2016):\n",
    "    origin = get_image_origin(cam_id, year)\n",
    "    if origin[0] == 1:\n",
    "        x = 3000 - x\n",
    "    if origin[1] == 0:\n",
    "        y = 4000 - y\n",
    "    return x, y"
   ]
  },
  {
   "cell_type": "code",
   "execution_count": null,
   "metadata": {},
   "outputs": [],
   "source": [
    "def plot_spatial_distribution(data, cam_ids, ax, max_sample_size=10000, bw=150):   \n",
    "    xs = []\n",
    "    ys = []\n",
    "    cs = []\n",
    "    ids = []\n",
    "    cam_data = pd.concat([data[data.cam_id == c] for c in cam_ids])\n",
    "    if len(cam_data) > 0:\n",
    "        cam_data = cam_data.sample(min(max_sample_size, len(cam_data)))\n",
    "        for cam_id in cam_ids:\n",
    "            if np.sum(data.cam_id.values == cam_id) > 0:\n",
    "                data_subset = cam_data[cam_data.cam_id==cam_id].copy()\n",
    "                x, y = get_plot_coordinates(data_subset.a_x, data_subset.a_y)\n",
    "                x, y = transform_axis_coordinates(x, y, cam_id)\n",
    "                if (cam_id % 2) != 0:\n",
    "                    x += 3000\n",
    "                xs += list(x)\n",
    "                ys += list(y)\n",
    "                cs += list(data_subset.bee_id.iloc[:, 0].map(id_map).values)\n",
    "\n",
    "                x, y = get_plot_coordinates(data_subset.b_x, data_subset.b_y)\n",
    "                x, y = transform_axis_coordinates(x, y, cam_id)\n",
    "                if (cam_id % 2) != 0:\n",
    "                    x += 3000\n",
    "                xs += list(x)\n",
    "                ys += list(y)\n",
    "                cs += list(data_subset.bee_id.iloc[:, 1].map(id_map).values)\n",
    "\n",
    "    x = xs\n",
    "    y = ys\n",
    "    c = cs\n",
    "    \n",
    "    bivariate_kdeplot(x, y, None, (0, 6000), (0, 4000), bw=.3, ax=ax, \n",
    "                      contourf_kws={'cmap': 'Greys', 'alpha': 0.5},\n",
    "                      scatter_kws={'c': [colors[i] for i in c], 'alpha': .75,\n",
    "                                   'edgecolors': 'none', 's': 10})"
   ]
  },
  {
   "cell_type": "code",
   "execution_count": null,
   "metadata": {},
   "outputs": [],
   "source": [
    "def plot_spatial_wrapper(data, side, group_idx, ax, fig, max_sample_size=10000):\n",
    "    assert side in ('right', 'left')\n",
    "    cam_ids = (0, 1) if side == 'right' else (2, 3)\n",
    "    plot_spatial_distribution(data, cam_ids, ax, max_sample_size=max_sample_size)\n",
    "    if side == 'right':\n",
    "        ax.arrow(6000-250, 150, 100, 0, fc=\"k\", ec=\"k\",\n",
    "                  head_width=25, linewidth=10)\n",
    "    else:\n",
    "        ax.arrow(250, 150, -100, 0, fc=\"k\", ec=\"k\",\n",
    "                  head_width=25, linewidth=10)\n",
    "    ax.set_title('{} comb side'.format(side))"
   ]
  },
  {
   "cell_type": "code",
   "execution_count": null,
   "metadata": {},
   "outputs": [],
   "source": [
    "plot_spatial_wrapper(group_interactions, 'right', group_idx, \n",
    "                     axes[0], fig, max_sample_size=1000)"
   ]
  },
  {
   "cell_type": "code",
   "execution_count": null,
   "metadata": {},
   "outputs": [],
   "source": [
    "idxs = np.array([id_lookup[i] for i in group_ids])"
   ]
  },
  {
   "cell_type": "code",
   "execution_count": null,
   "metadata": {},
   "outputs": [],
   "source": [
    "group_ids = set(group_ids)"
   ]
  },
  {
   "cell_type": "code",
   "execution_count": null,
   "metadata": {},
   "outputs": [],
   "source": [
    "interaction_df.cam_id.unique()"
   ]
  },
  {
   "cell_type": "code",
   "execution_count": null,
   "metadata": {},
   "outputs": [],
   "source": [
    "group_interactions = interaction_df[np.logical_and(\n",
    "    interaction_df.bee_id.iloc[:, 0].isin(group_ids).values,\n",
    "    interaction_df.bee_id.iloc[:, 1].isin(group_ids).values\n",
    ")]"
   ]
  },
  {
   "cell_type": "code",
   "execution_count": null,
   "metadata": {},
   "outputs": [],
   "source": [
    "group_interactions.cam_id.unique()"
   ]
  },
  {
   "cell_type": "code",
   "execution_count": null,
   "metadata": {},
   "outputs": [],
   "source": [
    "id_map = {}\n",
    "for idx, bee_id in enumerate(np.unique(np.concatenate([group_interactions.bee_id.iloc[:, 0], group_interactions.bee_id.iloc[:, 1]]))):\n",
    "    id_map[bee_id] = idx\n"
   ]
  },
  {
   "cell_type": "code",
   "execution_count": null,
   "metadata": {},
   "outputs": [],
   "source": [
    "colors = [plt.cm.Set2(float(i) / len(id_map)) for i in range(len(id_map))]"
   ]
  },
  {
   "cell_type": "markdown",
   "metadata": {},
   "source": [
    "### Interaction plots \n",
    "Are they useful to us? What exactly do they represent?"
   ]
  },
  {
   "cell_type": "code",
   "execution_count": null,
   "metadata": {},
   "outputs": [],
   "source": [
    "fig, axes = plt.subplots(nrows=2, figsize=(10, 14))\n",
    "\n",
    "plot_spatial_wrapper(group_interactions, 'right', group_idx, \n",
    "                     axes[0], fig, max_sample_size=1000)\n",
    "plot_spatial_wrapper(group_interactions, 'left', group_idx,\n",
    "                     axes[1], fig, max_sample_size=1000)\n",
    "\n",
    "colors = [plt.cm.Set2(float(i)/len(id_map)) for i in range(len(id_map))]\n",
    "for bee_id, c_idx in id_map.items():\n",
    "    axes[0].scatter(-1, c_idx, c=colors[c_idx], label=str(bee_id), \n",
    "                    edgecolors='none')\n",
    "axes[0].legend(loc='upper right')\n",
    "\n",
    "fig.suptitle('Forager group {} interactions ({}) - {}'.format(\n",
    "    group_idx, meta.get_foragergroup(group_idx).date.date(), 'during daytime'), \n",
    "    fontsize=18)\n",
    "\n",
    "fig.tight_layout(rect=[0, 0.03, 1, 0.985])\n",
    "\n",
    "plt.savefig(os.path.join('/home/ben/ssh/zedat-web/heatmaps_foragers/interactions_group_{}_{}.png'.format(\n",
    "    group_idx, 'day')))"
   ]
  },
  {
   "cell_type": "code",
   "execution_count": null,
   "metadata": {},
   "outputs": [],
   "source": []
  },
  {
   "cell_type": "code",
   "execution_count": null,
   "metadata": {},
   "outputs": [],
   "source": []
  }
 ],
 "metadata": {
  "kernelspec": {
   "display_name": "Python 3",
   "language": "python",
   "name": "python3"
  },
  "language_info": {
   "codemirror_mode": {
    "name": "ipython",
    "version": 3
   },
   "file_extension": ".py",
   "mimetype": "text/x-python",
   "name": "python",
   "nbconvert_exporter": "python",
   "pygments_lexer": "ipython3",
   "version": "3.5.2"
  }
 },
 "nbformat": 4,
 "nbformat_minor": 2
}
