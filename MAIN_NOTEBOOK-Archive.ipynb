{
 "cells": [
  {
   "cell_type": "markdown",
   "metadata": {},
   "source": [
    "## For each bee id, be able to provide the number of detections in the hive in the given timeslot."
   ]
  },
  {
   "cell_type": "code",
   "execution_count": 1,
   "metadata": {},
   "outputs": [
    {
     "name": "stderr",
     "output_type": "stream",
     "text": [
      "/usr/local/lib/python3.5/dist-packages/psycopg2/__init__.py:144: UserWarning: The psycopg2 wheel package will be renamed from release 2.8; in order to keep installing from binary please use \"pip install psycopg2-binary\" instead. For details see: <http://initd.org/psycopg/docs/install.html#binary-install-from-pypi>.\n",
      "  \"\"\")\n"
     ]
    }
   ],
   "source": [
    "%matplotlib inline\n",
    "\n",
    "import matplotlib.pyplot as plt\n",
    "import matplotlib\n",
    "import math\n",
    "import seaborn as sns\n",
    "import numpy as np\n",
    "import pandas as pd\n",
    "import psycopg2\n",
    "import psycopg2.extras\n",
    "from datetime import timedelta, datetime\n",
    "from bee_helpers import detections_to_presence\n",
    "import time\n",
    "\n",
    "import bb_utils\n",
    "import bb_utils.meta\n",
    "import bb_utils.ids\n",
    "import bb_backend\n",
    "from bb_backend.api import FramePlotter, VideoPlotter\n",
    "from bb_backend.api import get_plot_coordinates, transform_axis_coordinates, get_image_origin\n",
    "\n",
    "bb_backend.api.server_adress = 'localhost:8000'\n",
    "connect_str = \"\"\"dbname='beesbook' user='reader' host='tonic.imp.fu-berlin.de' \n",
    "                 password='' application_name='mehmed'\"\"\"\n",
    "\n",
    "meta = bb_utils.meta.BeeMetaInfo()"
   ]
  },
  {
   "cell_type": "markdown",
   "metadata": {},
   "source": [
    "### This is an archive of misunderstood code from the main notebook"
   ]
  },
  {
   "cell_type": "code",
   "execution_count": null,
   "metadata": {},
   "outputs": [],
   "source": [
    "flat_list = [item for sublist in rolled_trip_lenghs for item in sublist]\n",
    "flat_series = pd.Series(flat_list)\n",
    "\n",
    "plt.figure(figsize=(30,10))\n",
    "\n",
    "\n",
    "flat_series_filtered = flat_series[flat_series<20]\n",
    "flat_series.hist(bins=340)\n",
    "plt.title('Histogram of trip lengths, num_intvs = '+str(num_intervals_per_hour)+', roll_winsize = '+str(rolling_window_size)+'')"
   ]
  },
  {
   "cell_type": "code",
   "execution_count": null,
   "metadata": {},
   "outputs": [],
   "source": [
    "#use diff to identify entries (with 1) and exits (with -1)\n",
    "#(sum_of_abs / 2) gives us the presumed number of trips a bee takes \n",
    "diffed = rolled.diff(axis=1)\n",
    "diffed.iloc[:,0] = np.zeros([11,1]) #clean out a column of NaNs \n",
    "diffed.head()\n",
    "\n",
    "#a copy to be used to preview rolled + diffed presence \n",
    "#not actually used in further calculations (they are just based on 'diffed')\n",
    "presence_df_copy = presence_df\n",
    "presence_df_copy.iloc[:, 1:] = diffed \n",
    "\n",
    "trips_df = presence_df['id'] #for combining results in one table"
   ]
  },
  {
   "cell_type": "code",
   "execution_count": null,
   "metadata": {},
   "outputs": [],
   "source": [
    "presence_df_copy2 = presence_df_copy\n",
    "presence_df_copy2.iloc[:,0] = bee_days_since_birth\n",
    "presence_df_copy2.head()"
   ]
  },
  {
   "cell_type": "code",
   "execution_count": null,
   "metadata": {},
   "outputs": [],
   "source": [
    "#for loop config\n",
    "bin_starttime = datetime_start\n",
    "num_intervals_per_bin = num_intervals_per_hour*bin_size_in_hours\n",
    "total_num_bins = int(num_hours / bin_size_in_hours)\n",
    "\n",
    "print(\"num_intervals_per_bin: \", num_intervals_per_bin, \"total_num_bins: \", total_num_bins)\n",
    "for bin_nr in range(total_num_bins): \n",
    "    \n",
    "    start_index = bin_nr*num_intervals_per_bin\n",
    "    end_index = start_index + num_intervals_per_bin\n",
    "    \n",
    "    new_bin = diffed.iloc[:, start_index:end_index]\n",
    "    \n",
    "    #limit down to the right bin:\n",
    "    #read num_intervals_per_hour*bin_size_per_hour columns (as each column represents one interval)\n",
    "    \n",
    "    summed = new_bin.abs().sum(axis=1) / 2\n",
    "    summed.name = bin_nr\n",
    "    trips_df = pd.concat([trips_df,summed],axis=1) #add this interval to the trips table\n",
    "    #update loop index\n",
    "    \n",
    "\n",
    "# TODO:use a new variable instead of reusing it\n",
    "# Change values to amount per hour instead of per interval\n",
    "trips_df = trips_df * 3600 / num_intervals_per_hour"
   ]
  },
  {
   "cell_type": "code",
   "execution_count": null,
   "metadata": {},
   "outputs": [],
   "source": [
    "trips_ser = pd.Series(np.array(trips_df.mean(axis=0))[1:])\n",
    "trips_ser.plot(kind='bar')\n",
    "# trips_df"
   ]
  },
  {
   "cell_type": "code",
   "execution_count": null,
   "metadata": {},
   "outputs": [],
   "source": [
    "#saving (name still incomplete)\n",
    "date_string = (datetime_start).strftime(\"%Y-%m-%d_%H:%M:%S\")+\".csv\"\n",
    "trips_df.to_csv('/mnt/storage/janek/'+'TRIPS-'+date_string+'-'+'h'+'.csv')"
   ]
  },
  {
   "cell_type": "code",
   "execution_count": null,
   "metadata": {},
   "outputs": [],
   "source": [
    "#Create dataframe with age and amount of trips\n",
    "summed_age=pd.concat([pd.Series(bee_days_since_birth),summed],axis=1)\n",
    "summed_age.columns=['age','amount']\n",
    "summed_age"
   ]
  },
  {
   "cell_type": "code",
   "execution_count": null,
   "metadata": {},
   "outputs": [],
   "source": [
    "#Plot amount of trips relative to age of bee\n",
    "summed_age.plot(x='age',y='amount',style='o')"
   ]
  },
  {
   "cell_type": "code",
   "execution_count": null,
   "metadata": {},
   "outputs": [],
   "source": []
  }
 ],
 "metadata": {
  "kernelspec": {
   "display_name": "Python 3",
   "language": "python",
   "name": "python3"
  },
  "language_info": {
   "codemirror_mode": {
    "name": "ipython",
    "version": 3
   },
   "file_extension": ".py",
   "mimetype": "text/x-python",
   "name": "python",
   "nbconvert_exporter": "python",
   "pygments_lexer": "ipython3",
   "version": "3.5.2"
  }
 },
 "nbformat": 4,
 "nbformat_minor": 2
}
