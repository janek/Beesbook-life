{
 "cells": [
  {
   "cell_type": "code",
   "execution_count": 16,
   "metadata": {},
   "outputs": [],
   "source": [
    "from bb_behavior import plot\n",
    "from bb_behavior import db as bbdb\n",
    "import bb_behavior\n",
    "import pandas as pd\n",
    "import os\n",
    "import sys\n",
    "sys.path.append('/home/mi/rrszynka/mnt/janek/Beesbook-janek/Python-modules/') #For bee_helpers, file_helpers and cache\n",
    "from bee_cache import Cache, CacheType, CacheFormat; c = Cache()\n",
    "import datetime\n",
    "from bb_behavior import db as bbdb\n",
    "from skimage.morphology import rectangle, closing\n",
    "import datetime\n",
    "import numpy as np\n",
    "from tqdm import tqdm\n",
    "import random\n",
    "#%%"
   ]
  },
  {
   "cell_type": "code",
   "execution_count": 39,
   "metadata": {},
   "outputs": [],
   "source": [
    "detection_confidence_requirement = 0.99\n",
    "# detection_confidence_requirement = 0.2\n",
    "conf_string = str(detection_confidence_requirement).replace('.',\"\")\n",
    "interval_size = 30\n",
    "fps = 3\n",
    "\n",
    "loc = '/home/mi/rrszynka/mnt/janek/caches/Other/'\n",
    "\n",
    "# Get one of the pre-generated lists  \n",
    "gaps = pd.read_csv(loc+'120_random_gaps_unmasked_unfiltered_seed_666_conf_' + conf_string + '.csv', parse_dates=['entry', 'entry_closest_detection_timestamp', 'exit', 'exit_closest_detection_timestamp'])"
   ]
  },
  {
   "cell_type": "code",
   "execution_count": 34,
   "metadata": {},
   "outputs": [],
   "source": [
    "%%capture\n",
    "# Load presence files to be able to refer to them when generating vids \n",
    "presences = c.load_multiple_day_caches(detection_confidence_requirement=detection_confidence_requirement) # 0.99 / 0.2"
   ]
  },
  {
   "cell_type": "code",
   "execution_count": 35,
   "metadata": {},
   "outputs": [],
   "source": [
    "presences_bin = []\n",
    "for date, presence in presences:\n",
    "    presence_bin = binarize_presence(presence)\n",
    "    presences_bin.append((date, presence_bin))"
   ]
  },
  {
   "cell_type": "code",
   "execution_count": null,
   "metadata": {
    "scrolled": true
   },
   "outputs": [],
   "source": [
    "#TODO: from 120_random_gaps_unmasked_unfiltered_seed_666_conf_099, .iloc[14] doesn't work (something is nan)A"
   ]
  },
  {
   "cell_type": "code",
   "execution_count": 41,
   "metadata": {},
   "outputs": [],
   "source": [
    "row = gaps.iloc[17]\n",
    "# generate_presence_video(row)"
   ]
  },
  {
   "cell_type": "code",
   "execution_count": 42,
   "metadata": {},
   "outputs": [
    {
     "data": {
      "text/plain": [
       "Unnamed: 0                                                 7087\n",
       "age                                                          15\n",
       "age_group                                                     3\n",
       "bee_id                                                      993\n",
       "cam_id_entry                                                  2\n",
       "cam_id_exit                                                   2\n",
       "entry                                       2016-07-26 03:09:00\n",
       "entry_closest_detection_timestamp    2016-07-26 03:09:00.474956\n",
       "entry_frame                                17316603647305620768\n",
       "entry_x                                                 22.5931\n",
       "entry_y                                                 77.4607\n",
       "exit                                        2016-07-26 02:54:30\n",
       "exit_closest_detection_timestamp     2016-07-26 02:54:30.093554\n",
       "exit_frame                                 13130495958401725792\n",
       "exit_x                                                  6.95881\n",
       "exit_y                                                  70.3834\n",
       "gap_duration                          0 days 00:14:30.000000000\n",
       "hive_side_entry                                               1\n",
       "hive_side_exit                                                1\n",
       "hiveexit_distance_for_entry                             174.012\n",
       "hiveexit_distance_for_exit                              179.751\n",
       "origin_for_entry                                      [  0 250]\n",
       "origin_for_exit                                       [  0 250]\n",
       "Name: 17, dtype: object"
      ]
     },
     "execution_count": 42,
     "metadata": {},
     "output_type": "execute_result"
    }
   ],
   "source": [
    "row"
   ]
  },
  {
   "cell_type": "code",
   "execution_count": null,
   "metadata": {},
   "outputs": [],
   "source": []
  },
  {
   "cell_type": "code",
   "execution_count": 36,
   "metadata": {
    "scrolled": false
   },
   "outputs": [
    {
     "ename": "AttributeError",
     "evalue": "'Series' object has no attribute 'hiveexit_distance_for_exit'",
     "output_type": "error",
     "traceback": [
      "\u001b[0;31m---------------------------------------------------------------------------\u001b[0m",
      "\u001b[0;31mAttributeError\u001b[0m                            Traceback (most recent call last)",
      "\u001b[0;32m<ipython-input-36-28d06e992c81>\u001b[0m in \u001b[0;36m<module>\u001b[0;34m()\u001b[0m\n\u001b[1;32m      2\u001b[0m \u001b[0;32mfor\u001b[0m \u001b[0mi\u001b[0m\u001b[0;34m,\u001b[0m \u001b[0mrow\u001b[0m \u001b[0;32min\u001b[0m \u001b[0mgaps\u001b[0m\u001b[0;34m[\u001b[0m\u001b[0;34m:\u001b[0m\u001b[0;36m100\u001b[0m\u001b[0;34m]\u001b[0m\u001b[0;34m.\u001b[0m\u001b[0miterrows\u001b[0m\u001b[0;34m(\u001b[0m\u001b[0;34m)\u001b[0m\u001b[0;34m:\u001b[0m\u001b[0;34m\u001b[0m\u001b[0m\n\u001b[1;32m      3\u001b[0m     \u001b[0;32mtry\u001b[0m\u001b[0;34m:\u001b[0m\u001b[0;34m\u001b[0m\u001b[0m\n\u001b[0;32m----> 4\u001b[0;31m         \u001b[0mgenerate_presence_video\u001b[0m\u001b[0;34m(\u001b[0m\u001b[0mrow\u001b[0m\u001b[0;34m)\u001b[0m\u001b[0;34m\u001b[0m\u001b[0m\n\u001b[0m\u001b[1;32m      5\u001b[0m     \u001b[0;32mexcept\u001b[0m \u001b[0;34m(\u001b[0m\u001b[0mValueError\u001b[0m\u001b[0;34m,\u001b[0m \u001b[0mTypeError\u001b[0m\u001b[0;34m)\u001b[0m\u001b[0;34m:\u001b[0m\u001b[0;34m\u001b[0m\u001b[0m\n\u001b[1;32m      6\u001b[0m         \u001b[0mprint\u001b[0m\u001b[0;34m(\u001b[0m\u001b[0;34m'error, skip one'\u001b[0m\u001b[0;34m)\u001b[0m\u001b[0;34m\u001b[0m\u001b[0m\n",
      "\u001b[0;32m<ipython-input-31-ef3ea555c34e>\u001b[0m in \u001b[0;36mgenerate_presence_video\u001b[0;34m(row)\u001b[0m\n\u001b[1;32m      3\u001b[0m     \u001b[0mbee\u001b[0m\u001b[0;34m,\u001b[0m \u001b[0mtimestamp\u001b[0m\u001b[0;34m,\u001b[0m \u001b[0mframe\u001b[0m \u001b[0;34m=\u001b[0m \u001b[0mrow\u001b[0m\u001b[0;34m.\u001b[0m\u001b[0mbee_id\u001b[0m\u001b[0;34m,\u001b[0m \u001b[0mrow\u001b[0m\u001b[0;34m.\u001b[0m\u001b[0mexit\u001b[0m\u001b[0;34m,\u001b[0m \u001b[0mrow\u001b[0m\u001b[0;34m.\u001b[0m\u001b[0mexit_frame\u001b[0m\u001b[0;34m\u001b[0m\u001b[0m\n\u001b[1;32m      4\u001b[0m     \u001b[0mcam_id\u001b[0m \u001b[0;34m=\u001b[0m \u001b[0mrow\u001b[0m\u001b[0;34m.\u001b[0m\u001b[0mcam_id_exit\u001b[0m\u001b[0;34m\u001b[0m\u001b[0m\n\u001b[0;32m----> 5\u001b[0;31m     \u001b[0mdist\u001b[0m \u001b[0;34m=\u001b[0m \u001b[0mrow\u001b[0m\u001b[0;34m.\u001b[0m\u001b[0mhiveexit_distance_for_exit\u001b[0m\u001b[0;34m\u001b[0m\u001b[0m\n\u001b[0m\u001b[1;32m      6\u001b[0m     \u001b[0;31m# ASK: can this be used given hiccups? or just take days w/o hiccups?\u001b[0m\u001b[0;34m\u001b[0m\u001b[0;34m\u001b[0m\u001b[0m\n\u001b[1;32m      7\u001b[0m     \u001b[0minterval_margin\u001b[0m \u001b[0;34m=\u001b[0m \u001b[0;36m2\u001b[0m\u001b[0;34m\u001b[0m\u001b[0m\n",
      "\u001b[0;32m/usr/local/lib/python3.5/dist-packages/pandas/core/generic.py\u001b[0m in \u001b[0;36m__getattr__\u001b[0;34m(self, name)\u001b[0m\n\u001b[1;32m   4374\u001b[0m             \u001b[0;32mif\u001b[0m \u001b[0mself\u001b[0m\u001b[0;34m.\u001b[0m\u001b[0m_info_axis\u001b[0m\u001b[0;34m.\u001b[0m\u001b[0m_can_hold_identifiers_and_holds_name\u001b[0m\u001b[0;34m(\u001b[0m\u001b[0mname\u001b[0m\u001b[0;34m)\u001b[0m\u001b[0;34m:\u001b[0m\u001b[0;34m\u001b[0m\u001b[0m\n\u001b[1;32m   4375\u001b[0m                 \u001b[0;32mreturn\u001b[0m \u001b[0mself\u001b[0m\u001b[0;34m[\u001b[0m\u001b[0mname\u001b[0m\u001b[0;34m]\u001b[0m\u001b[0;34m\u001b[0m\u001b[0m\n\u001b[0;32m-> 4376\u001b[0;31m             \u001b[0;32mreturn\u001b[0m \u001b[0mobject\u001b[0m\u001b[0;34m.\u001b[0m\u001b[0m__getattribute__\u001b[0m\u001b[0;34m(\u001b[0m\u001b[0mself\u001b[0m\u001b[0;34m,\u001b[0m \u001b[0mname\u001b[0m\u001b[0;34m)\u001b[0m\u001b[0;34m\u001b[0m\u001b[0m\n\u001b[0m\u001b[1;32m   4377\u001b[0m \u001b[0;34m\u001b[0m\u001b[0m\n\u001b[1;32m   4378\u001b[0m     \u001b[0;32mdef\u001b[0m \u001b[0m__setattr__\u001b[0m\u001b[0;34m(\u001b[0m\u001b[0mself\u001b[0m\u001b[0;34m,\u001b[0m \u001b[0mname\u001b[0m\u001b[0;34m,\u001b[0m \u001b[0mvalue\u001b[0m\u001b[0;34m)\u001b[0m\u001b[0;34m:\u001b[0m\u001b[0;34m\u001b[0m\u001b[0m\n",
      "\u001b[0;31mAttributeError\u001b[0m: 'Series' object has no attribute 'hiveexit_distance_for_exit'"
     ]
    }
   ],
   "source": [
    "# GENERATE MUTLIPLE VIDEOS\n",
    "for i, row in gaps[:100].iterrows():\n",
    "    try:\n",
    "        generate_presence_video(row)\n",
    "    except (ValueError, TypeError):\n",
    "        print('error, skip one')\n",
    "        continue"
   ]
  },
  {
   "cell_type": "code",
   "execution_count": 21,
   "metadata": {},
   "outputs": [
    {
     "data": {
      "text/plain": [
       "(120, 23)"
      ]
     },
     "execution_count": 21,
     "metadata": {},
     "output_type": "execute_result"
    }
   ],
   "source": [
    "gaps.shape"
   ]
  },
  {
   "cell_type": "code",
   "execution_count": null,
   "metadata": {},
   "outputs": [],
   "source": []
  },
  {
   "cell_type": "code",
   "execution_count": null,
   "metadata": {},
   "outputs": [],
   "source": [
    "# Would be nice to see the presence(s) in context, I guess?"
   ]
  },
  {
   "cell_type": "code",
   "execution_count": null,
   "metadata": {},
   "outputs": [],
   "source": [
    "# plot_presence(presx)\n",
    "# plot_presence(presbin)"
   ]
  },
  {
   "cell_type": "code",
   "execution_count": 31,
   "metadata": {},
   "outputs": [],
   "source": [
    "#%% FUNCTIONS\n",
    "def generate_presence_video(row):\n",
    "    bee, timestamp, frame = row.bee_id, row.exit, row.exit_frame \n",
    "    cam_id = row.cam_id_exit\n",
    "    dist = row.hiveexit_distance_for_exit \n",
    "    # ASK: can this be used given hiccups? or just take days w/o hiccups?\n",
    "    interval_margin = 2\n",
    "    frames_per_interval = interval_size*fps\n",
    "    frame_margin = interval_margin*frames_per_interval #30s * 3FPS\n",
    "    name = str(bee)+'_random_exit'\n",
    "    path = '/home/mi/rrszynka/mnt/janek/caches/Videos/' + name + \".mp4\"\n",
    "    if os.path.isfile(path):\n",
    "        print(str(bee) + ' - ' + str(timestamp) + ' already exists, returning with no result.')\n",
    "        return\n",
    "    video = plot.plot_bees(bee_ids=[bee],\n",
    "                       frame_id=frame, frame_margin=frame_margin, # TEMP: should be frame_margin\n",
    "                       path_alpha=None, bt_export=None, # '/home/mi/rrszynka/mnt/janek/caches/Videos/bt_export/'+name+\".json\",\n",
    "                       plot_labels = True, plot_markers=True)\n",
    "\n",
    "    intervals = len(video._frames)/(interval_margin*2)\n",
    "\n",
    "    #TODO: check this conversion from timestamp to interval against the conversion that goes the other way\n",
    "    middle_timestamp = timestamp\n",
    "\n",
    "    secs = time_to_secs(middle_timestamp)\n",
    "    interval_index_mid = int(secs/30)\n",
    "    print(timestamp, interval_index_mid)\n",
    "    start_interval = interval_index_mid - interval_margin\n",
    "\n",
    "    _, presence_df = next(((d, p) for d , p in presences if d == timestamp.date()), None)\n",
    "    _, bin_presence_df = next(((d, p) for d , p in presences_bin if d == timestamp.date()), None)\n",
    "\n",
    "\n",
    "    pres_row = presence_df.loc[bee]\n",
    "    bin_pres_row = bin_presence_df.loc[bee]\n",
    "\n",
    "    for i, frame in enumerate(video._frames):\n",
    "        interval_index = (i // frames_per_interval)\n",
    "        #PRINT: pres_score, pres_bin, cam_id, bee_id (or save in file), exit_dist(would be nice)\n",
    "        frame._title = \"\\n c: \" + str(cam_id) +\", d:\" + str(int(dist)) + \",  s: \" + str(pres_row[start_interval + interval_index]) + \",  p: \" + str(bin_pres_row[start_interval + interval_index])\n",
    "    video._crop_margin = None\n",
    "    video.get_video(save_to_path='/home/mi/rrszynka/mnt/janek/caches/Videos/' + name + \".mp4\")"
   ]
  },
  {
   "cell_type": "code",
   "execution_count": 27,
   "metadata": {},
   "outputs": [],
   "source": [
    "def time_to_secs(time):\n",
    "    return time.hour * 3600 + time.minute * 60 + time.second\n",
    "\n",
    "    \n",
    "def binarize_presence(presence_for_day_df):\n",
    "    # TODO: running this on an already-binarized series will return all zeros,\n",
    "    # (and that's not what we want) - changing the threshold solves it, but try sth else\n",
    "\n",
    "    ys = presence_for_day_df.copy()\n",
    "    index = ys.index\n",
    "    if ys[ys>1].sum().sum() == 0:\n",
    "        #Consider this already binarized, make no changes\n",
    "        return ys\n",
    "\n",
    "    ys[ys>90] = 90\n",
    "    ys[ys>45] = 90\n",
    "    ys[ys<=45] = 0 #TODO: consult: what should the threshold be\n",
    "    ys[ys==90] = 1\n",
    "    ys = closing(ys, rectangle(1,15))\n",
    "    ys = pd.DataFrame(ys, index=index)\n",
    "    ys.index.name = 'bee_id'\n",
    "    return ys"
   ]
  },
  {
   "cell_type": "code",
   "execution_count": null,
   "metadata": {},
   "outputs": [],
   "source": []
  }
 ],
 "metadata": {
  "kernelspec": {
   "display_name": "Python 3",
   "language": "python",
   "name": "python3"
  },
  "language_info": {
   "codemirror_mode": {
    "name": "ipython",
    "version": 3
   },
   "file_extension": ".py",
   "mimetype": "text/x-python",
   "name": "python",
   "nbconvert_exporter": "python",
   "pygments_lexer": "ipython3",
   "version": "3.5.2"
  }
 },
 "nbformat": 4,
 "nbformat_minor": 2
}
