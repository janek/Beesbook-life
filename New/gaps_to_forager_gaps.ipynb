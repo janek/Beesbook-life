{
 "cells": [
  {
   "cell_type": "code",
   "execution_count": 15,
   "metadata": {},
   "outputs": [],
   "source": [
    "import numpy as np \n",
    "import datetime\n",
    "from tqdm import tqdm\n",
    "import pandas as pd\n",
    "import pytz\n",
    "import random\n",
    "import seaborn as sns\n",
    "import sys\n",
    "from bb_behavior import db as bbdb;\n",
    "import bb_behavior\n",
    "# import bb_utils; meta = bb_utils.meta.BeeMetaInfo()\n",
    "sys.path.append('/home/mi/rrszynka/mnt/janek/Beesbook-janek/Python-modules/') #For bee_helpers, file_helpers and cache\n",
    "from bee_cache import Cache, CacheType, CacheFormat; c = Cache()\n",
    "# from file_heplers import create_gaps_cache_filename?\n",
    "\n",
    "%matplotlib inline"
   ]
  },
  {
   "cell_type": "markdown",
   "metadata": {},
   "source": [
    "### Load gaps and load foragers"
   ]
  },
  {
   "cell_type": "code",
   "execution_count": 16,
   "metadata": {},
   "outputs": [],
   "source": [
    "%%capture\n",
    "detection_confidence_requirement = 0.99\n",
    "gaps_list = c.load_multiple_day_caches(type=CacheType.gaps, detection_confidence_requirement=detection_confidence_requirement)\n",
    "gaps_099 = pd.concat(gaps_list)\n",
    "gaps_099.shape"
   ]
  },
  {
   "cell_type": "code",
   "execution_count": 17,
   "metadata": {},
   "outputs": [
    {
     "data": {
      "text/html": [
       "<div>\n",
       "<style scoped>\n",
       "    .dataframe tbody tr th:only-of-type {\n",
       "        vertical-align: middle;\n",
       "    }\n",
       "\n",
       "    .dataframe tbody tr th {\n",
       "        vertical-align: top;\n",
       "    }\n",
       "\n",
       "    .dataframe thead th {\n",
       "        text-align: right;\n",
       "    }\n",
       "</style>\n",
       "<table border=\"1\" class=\"dataframe\">\n",
       "  <thead>\n",
       "    <tr style=\"text-align: right;\">\n",
       "      <th></th>\n",
       "      <th>age</th>\n",
       "      <th>age_group</th>\n",
       "      <th>bee_id</th>\n",
       "      <th>cam_id_entry</th>\n",
       "      <th>cam_id_exit</th>\n",
       "      <th>entry</th>\n",
       "      <th>entry_closest_detection_timestamp</th>\n",
       "      <th>entry_frame</th>\n",
       "      <th>entry_x</th>\n",
       "      <th>entry_y</th>\n",
       "      <th>...</th>\n",
       "      <th>exit_frame</th>\n",
       "      <th>exit_x</th>\n",
       "      <th>exit_y</th>\n",
       "      <th>gap_duration</th>\n",
       "      <th>hive_side_entry</th>\n",
       "      <th>hive_side_exit</th>\n",
       "      <th>hiveexit_distance_for_entry</th>\n",
       "      <th>hiveexit_distance_for_exit</th>\n",
       "      <th>origin_for_entry</th>\n",
       "      <th>origin_for_exit</th>\n",
       "    </tr>\n",
       "  </thead>\n",
       "  <tbody>\n",
       "    <tr>\n",
       "      <th>0</th>\n",
       "      <td>22.0</td>\n",
       "      <td>4</td>\n",
       "      <td>9</td>\n",
       "      <td>2</td>\n",
       "      <td>1</td>\n",
       "      <td>2016-07-20 00:33:00</td>\n",
       "      <td>2016-07-20 00:32:59.977641+00:00</td>\n",
       "      <td>14880238164766425437</td>\n",
       "      <td>122.80300</td>\n",
       "      <td>187.094000</td>\n",
       "      <td>...</td>\n",
       "      <td>13702865838643615097</td>\n",
       "      <td>199.19640</td>\n",
       "      <td>98.59793</td>\n",
       "      <td>00:17:00</td>\n",
       "      <td>1</td>\n",
       "      <td>0</td>\n",
       "      <td>137.977323</td>\n",
       "      <td>213.692098</td>\n",
       "      <td>[0, 250]</td>\n",
       "      <td>[350, 250]</td>\n",
       "    </tr>\n",
       "    <tr>\n",
       "      <th>1</th>\n",
       "      <td>22.0</td>\n",
       "      <td>4</td>\n",
       "      <td>9</td>\n",
       "      <td>2</td>\n",
       "      <td>2</td>\n",
       "      <td>2016-07-20 01:59:30</td>\n",
       "      <td>2016-07-20 01:59:51.957190+00:00</td>\n",
       "      <td>11567541266304058922</td>\n",
       "      <td>108.78270</td>\n",
       "      <td>68.064040</td>\n",
       "      <td>...</td>\n",
       "      <td>12106568033642885797</td>\n",
       "      <td>96.60740</td>\n",
       "      <td>96.23722</td>\n",
       "      <td>00:40:00</td>\n",
       "      <td>1</td>\n",
       "      <td>1</td>\n",
       "      <td>211.977285</td>\n",
       "      <td>181.592903</td>\n",
       "      <td>[0, 250]</td>\n",
       "      <td>[0, 250]</td>\n",
       "    </tr>\n",
       "    <tr>\n",
       "      <th>2</th>\n",
       "      <td>22.0</td>\n",
       "      <td>4</td>\n",
       "      <td>9</td>\n",
       "      <td>2</td>\n",
       "      <td>2</td>\n",
       "      <td>2016-07-20 02:39:00</td>\n",
       "      <td>2016-07-20 02:39:41.516951+00:00</td>\n",
       "      <td>10601541738319019908</td>\n",
       "      <td>85.51997</td>\n",
       "      <td>71.890962</td>\n",
       "      <td>...</td>\n",
       "      <td>10476775640806876996</td>\n",
       "      <td>79.40654</td>\n",
       "      <td>100.36070</td>\n",
       "      <td>00:32:00</td>\n",
       "      <td>1</td>\n",
       "      <td>1</td>\n",
       "      <td>197.576554</td>\n",
       "      <td>169.402830</td>\n",
       "      <td>[0, 250]</td>\n",
       "      <td>[0, 250]</td>\n",
       "    </tr>\n",
       "  </tbody>\n",
       "</table>\n",
       "<p>3 rows × 22 columns</p>\n",
       "</div>"
      ],
      "text/plain": [
       "    age  age_group  bee_id  cam_id_entry  cam_id_exit               entry  \\\n",
       "0  22.0          4       9             2            1 2016-07-20 00:33:00   \n",
       "1  22.0          4       9             2            2 2016-07-20 01:59:30   \n",
       "2  22.0          4       9             2            2 2016-07-20 02:39:00   \n",
       "\n",
       "  entry_closest_detection_timestamp           entry_frame    entry_x  \\\n",
       "0  2016-07-20 00:32:59.977641+00:00  14880238164766425437  122.80300   \n",
       "1  2016-07-20 01:59:51.957190+00:00  11567541266304058922  108.78270   \n",
       "2  2016-07-20 02:39:41.516951+00:00  10601541738319019908   85.51997   \n",
       "\n",
       "      entry_y       ...                   exit_frame     exit_x     exit_y  \\\n",
       "0  187.094000       ...         13702865838643615097  199.19640   98.59793   \n",
       "1   68.064040       ...         12106568033642885797   96.60740   96.23722   \n",
       "2   71.890962       ...         10476775640806876996   79.40654  100.36070   \n",
       "\n",
       "   gap_duration  hive_side_entry hive_side_exit  hiveexit_distance_for_entry  \\\n",
       "0      00:17:00                1              0                   137.977323   \n",
       "1      00:40:00                1              1                   211.977285   \n",
       "2      00:32:00                1              1                   197.576554   \n",
       "\n",
       "   hiveexit_distance_for_exit  origin_for_entry  origin_for_exit  \n",
       "0                  213.692098          [0, 250]       [350, 250]  \n",
       "1                  181.592903          [0, 250]         [0, 250]  \n",
       "2                  169.402830          [0, 250]         [0, 250]  \n",
       "\n",
       "[3 rows x 22 columns]"
      ]
     },
     "execution_count": 17,
     "metadata": {},
     "output_type": "execute_result"
    }
   ],
   "source": [
    "gaps_099.head(3)"
   ]
  },
  {
   "cell_type": "code",
   "execution_count": 31,
   "metadata": {},
   "outputs": [
    {
     "data": {
      "text/html": [
       "<div>\n",
       "<style scoped>\n",
       "    .dataframe tbody tr th:only-of-type {\n",
       "        vertical-align: middle;\n",
       "    }\n",
       "\n",
       "    .dataframe tbody tr th {\n",
       "        vertical-align: top;\n",
       "    }\n",
       "\n",
       "    .dataframe thead th {\n",
       "        text-align: right;\n",
       "    }\n",
       "</style>\n",
       "<table border=\"1\" class=\"dataframe\">\n",
       "  <thead>\n",
       "    <tr style=\"text-align: right;\">\n",
       "      <th></th>\n",
       "      <th>bee_id</th>\n",
       "      <th>group_id</th>\n",
       "      <th>date</th>\n",
       "      <th>location</th>\n",
       "    </tr>\n",
       "    <tr>\n",
       "      <th>bee_id</th>\n",
       "      <th></th>\n",
       "      <th></th>\n",
       "      <th></th>\n",
       "      <th></th>\n",
       "    </tr>\n",
       "  </thead>\n",
       "  <tbody>\n",
       "    <tr>\n",
       "      <th>769</th>\n",
       "      <td>769</td>\n",
       "      <td>1</td>\n",
       "      <td>2016-07-28</td>\n",
       "      <td>Stock-F1</td>\n",
       "    </tr>\n",
       "    <tr>\n",
       "      <th>818</th>\n",
       "      <td>818</td>\n",
       "      <td>1</td>\n",
       "      <td>2016-07-28</td>\n",
       "      <td>Stock-F1</td>\n",
       "    </tr>\n",
       "    <tr>\n",
       "      <th>319</th>\n",
       "      <td>319</td>\n",
       "      <td>1</td>\n",
       "      <td>2016-07-28</td>\n",
       "      <td>Stock-F1</td>\n",
       "    </tr>\n",
       "  </tbody>\n",
       "</table>\n",
       "</div>"
      ],
      "text/plain": [
       "        bee_id  group_id       date  location\n",
       "bee_id                                       \n",
       "769        769         1 2016-07-28  Stock-F1\n",
       "818        818         1 2016-07-28  Stock-F1\n",
       "319        319         1 2016-07-28  Stock-F1"
      ]
     },
     "execution_count": 31,
     "metadata": {},
     "output_type": "execute_result"
    }
   ],
   "source": [
    "known_foragers = c.load('foragers_from_groups')\n",
    "known_foragers.head(3)"
   ]
  },
  {
   "cell_type": "markdown",
   "metadata": {},
   "source": [
    "### Filter gaps, down to forager-gaps to trips"
   ]
  },
  {
   "cell_type": "markdown",
   "metadata": {},
   "source": [
    "1. From gaps to forager-gaps: only consider gaps for forager-date"
   ]
  },
  {
   "cell_type": "code",
   "execution_count": 49,
   "metadata": {},
   "outputs": [
    {
     "data": {
      "text/plain": [
       "(36875, 22)"
      ]
     },
     "execution_count": 49,
     "metadata": {},
     "output_type": "execute_result"
    }
   ],
   "source": [
    "# Pre-filtering from 1M to 36K so the below loop runs faster\n",
    "gaps = gaps_099[gaps_099.bee_id.isin(set(known_foragers.bee_id))]\n",
    "gaps.shape"
   ]
  },
  {
   "cell_type": "code",
   "execution_count": 50,
   "metadata": {},
   "outputs": [],
   "source": [
    "# for every forager-date, take only gaps for this date and this bee\n",
    "# collect all those subsets \n",
    "forager_gaps = []\n",
    "for _, row in known_foragers.iterrows():\n",
    "    bee = row.bee_id\n",
    "    date = row.date.to_pydatetime().date()\n",
    "        \n",
    "    df = gaps[gaps.bee_id == bee]\n",
    "    df = df[df.exit.dt.date == date]\n",
    "\n",
    "    gap_batch = gaps[(gaps.bee_id == bee) & (gaps.exit.dt.date == date)]\n",
    "    forager_gaps.append(gap_batch)\n",
    "fgaps_df = pd.concat(forager_gaps)"
   ]
  },
  {
   "cell_type": "code",
   "execution_count": 84,
   "metadata": {},
   "outputs": [
    {
     "data": {
      "text/plain": [
       "(6781, 22)"
      ]
     },
     "execution_count": 84,
     "metadata": {},
     "output_type": "execute_result"
    }
   ],
   "source": [
    "fgaps_df.shape"
   ]
  },
  {
   "cell_type": "markdown",
   "metadata": {},
   "source": [
    "2. Exclude periods: throw out problematic days"
   ]
  },
  {
   "cell_type": "code",
   "execution_count": 85,
   "metadata": {},
   "outputs": [],
   "source": [
    "#TODO: double check\n",
    "exclude_periods = [\n",
    "    (datetime.datetime(2016,7,19,0,0,1), datetime.datetime(2016,7,19,13,59,59)),\n",
    "    (datetime.datetime(2016,7,20,10,0,1), datetime.datetime(2016,7,20,10,59,59)),\n",
    "    (datetime.datetime(2016,7,22,11,0,1), datetime.datetime(2016,7,22,12,59,59)),\n",
    "    (datetime.datetime(2016,7,22,18,0,1), datetime.datetime(2016,7,25,8,59,59)),\n",
    "    (datetime.datetime(2016,7,25,13,0,1), datetime.datetime(2016,7,25,13,59,59)),\n",
    "    (datetime.datetime(2016,7,27,11,0,1), datetime.datetime(2016,7,27,11,59,59)),\n",
    "    (datetime.datetime(2016,7,27,13,0,1), datetime.datetime(2016,7,27,13,59,59)),\n",
    "    (datetime.datetime(2016,7,28,2,0,1), datetime.datetime(2016,7,28,2,59,59)),\n",
    "    (datetime.datetime(2016,7,29,6,0,1), datetime.datetime(2016,7,29,7,59,59)),\n",
    "    (datetime.datetime(2016,7,29,10,0,1), datetime.datetime(2016,7,29,13,59,59)),\n",
    "    (datetime.datetime(2016,8,3,11,0,1), datetime.datetime(2016,8,3,15,59,59)),\n",
    "    (datetime.datetime(2016,8,9,15,0,1), datetime.datetime(2016,8,12,10,59,59)),\n",
    "    (datetime.datetime(2016,8,15,13,0,1), datetime.datetime(2016,8,15,13,59,59)),\n",
    "    (datetime.datetime(2016,8,18,10,0,1), datetime.datetime(2016,8,18,11,59,59)),\n",
    "    (datetime.datetime(2016,8,19,7,0,1), datetime.datetime(2016,8,19,7,59,59)),\n",
    "    (datetime.datetime(2016,8,21,16,0,1), datetime.datetime(2016,8,21,16,59,59)),\n",
    "    (datetime.datetime(2016,8,23,6,0,1), datetime.datetime(2016,8,23,6,59,59)),\n",
    "    (datetime.datetime(2016,8,23,12,0,1), datetime.datetime(2016,8,23,12,59,59)),\n",
    "    (datetime.datetime(2016,8,26,8,0,1), datetime.datetime(2016,8,30,16,59,59)),\n",
    "    (datetime.datetime(2016,9,3,22,0,1), datetime.datetime(2016,9,5,9,59,59)),\n",
    "    (datetime.datetime(2016,9,9,6,0,1), datetime.datetime(2016,9,9,6,59,59)),\n",
    "    (datetime.datetime(2016,9,9,8,0,1), datetime.datetime(2016,9,9,8,59,59)),\n",
    "    (datetime.datetime(2016,9,12,12,0,1), datetime.datetime(2016,9,12,13,59,59)),\n",
    "    (datetime.datetime(2016,9,12,15,0,1), datetime.datetime(2016,9,12,15,59,59)),\n",
    "    (datetime.datetime(2016,9,14,13,0,1), datetime.datetime(2016,9,14,13,59,59)),\n",
    "    (datetime.datetime(2016,9,14,15,0,1), datetime.datetime(2016,9,14,15,59,59)),\n",
    "    (datetime.datetime(2016,9,19,16,0,1), datetime.datetime(2016,9,19,23,59,59))\n",
    "]"
   ]
  },
  {
   "cell_type": "code",
   "execution_count": 86,
   "metadata": {},
   "outputs": [
    {
     "data": {
      "text/plain": [
       "(5528, 22)"
      ]
     },
     "execution_count": 86,
     "metadata": {},
     "output_type": "execute_result"
    }
   ],
   "source": [
    "gaps_masked = fgaps_df\n",
    "for start, end in exclude_periods:\n",
    "    gaps_masked = gaps_masked[(gaps_masked.exit < start) | (gaps_masked.exit >= end)]\n",
    "gaps_masked.shape"
   ]
  },
  {
   "cell_type": "markdown",
   "metadata": {},
   "source": [
    "3. Exclude nighttime (only consider 6:00-18:00)"
   ]
  },
  {
   "cell_type": "code",
   "execution_count": 87,
   "metadata": {},
   "outputs": [
    {
     "data": {
      "text/plain": [
       "(3341, 22)"
      ]
     },
     "execution_count": 87,
     "metadata": {},
     "output_type": "execute_result"
    }
   ],
   "source": [
    "df = gaps_masked\n",
    "df = df[(df.exit.dt.hour > 6) & (df.exit.dt.hour < 18)]\n",
    "gaps_daytime = df\n",
    "gaps_daytime.shape"
   ]
  },
  {
   "cell_type": "markdown",
   "metadata": {},
   "source": [
    "4. Exclude youngsters (does not make sense, since we know for a fact they're old enough to forage - they were foraging)"
   ]
  },
  {
   "cell_type": "code",
   "execution_count": 88,
   "metadata": {},
   "outputs": [],
   "source": [
    "# df = gaps_daytime\n",
    "# df = df[df.age_group > 2]\n",
    "# gaps_no_youngsters = df\n",
    "# gaps_no_youngsters.shape"
   ]
  },
  {
   "cell_type": "markdown",
   "metadata": {},
   "source": [
    "5. Exclude trips starting far from the exit"
   ]
  },
  {
   "cell_type": "code",
   "execution_count": 89,
   "metadata": {},
   "outputs": [],
   "source": [
    "# TODO - tangent. Why are some 'origin-for-exits' NaNs?\n",
    "# gaps_daytime.hiveexit_distance_for_exit.isna().sum()\n",
    "# gaps_daytime.sample(100)[['entry_x','entry_y','hiveexit_distance_for_exit', 'origin_for_exit']]"
   ]
  },
  {
   "cell_type": "code",
   "execution_count": 90,
   "metadata": {},
   "outputs": [
    {
     "data": {
      "text/plain": [
       "(1416, 22)"
      ]
     },
     "execution_count": 90,
     "metadata": {},
     "output_type": "execute_result"
    }
   ],
   "source": [
    "# < 50: 15\n",
    "# < 100: 314\n",
    "# < 150: 1674\n",
    "df = gaps_daytime\n",
    "df = df[df.hiveexit_distance_for_exit < 150]\n",
    "df = df[df.hiveexit_distance_for_entry < 150]\n",
    "gaps_near_hiveexit = df\n",
    "gaps_near_hiveexit.shape"
   ]
  },
  {
   "cell_type": "code",
   "execution_count": 83,
   "metadata": {},
   "outputs": [],
   "source": [
    "c.save(df, 'gaps_from_foragers')"
   ]
  },
  {
   "cell_type": "code",
   "execution_count": null,
   "metadata": {},
   "outputs": [],
   "source": []
  },
  {
   "cell_type": "code",
   "execution_count": null,
   "metadata": {},
   "outputs": [],
   "source": []
  },
  {
   "cell_type": "code",
   "execution_count": null,
   "metadata": {},
   "outputs": [],
   "source": []
  },
  {
   "cell_type": "code",
   "execution_count": null,
   "metadata": {},
   "outputs": [],
   "source": []
  }
 ],
 "metadata": {
  "kernelspec": {
   "display_name": "Python 3",
   "language": "python",
   "name": "python3"
  },
  "language_info": {
   "codemirror_mode": {
    "name": "ipython",
    "version": 3
   },
   "file_extension": ".py",
   "mimetype": "text/x-python",
   "name": "python",
   "nbconvert_exporter": "python",
   "pygments_lexer": "ipython3",
   "version": "3.5.2"
  }
 },
 "nbformat": 4,
 "nbformat_minor": 2
}
