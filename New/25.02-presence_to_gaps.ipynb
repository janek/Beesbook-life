{
 "cells": [
  {
   "cell_type": "code",
   "execution_count": 47,
   "metadata": {
    "ExecuteTime": {
     "end_time": "2019-02-05T10:35:46.193532Z",
     "start_time": "2019-02-05T10:35:45.526868Z"
    }
   },
   "outputs": [],
   "source": [
    "import numpy as np\n",
    "import datetime\n",
    "from tqdm import tqdm\n",
    "import pandas as pd\n",
    "import pytz\n",
    "import random\n",
    "from concurrent.futures import ProcessPoolExecutor\n",
    "import seaborn as sns\n",
    "import sys\n",
    "from skimage.morphology import rectangle, closing\n",
    "from bb_behavior import db as bbdb;\n",
    "import bb_behavior\n",
    "import bb_utils\n",
    "sys.path.append('/home/mi/rrszynka/mnt/janek/Beesbook-janek/Python-modules/') #For bee_helpers, file_helpers and cache\n",
    "from bee_cache import Cache, CacheType, CacheFormat; c = Cache()\n",
    "\n",
    "%matplotlib inline"
   ]
  },
  {
   "cell_type": "code",
   "execution_count": 48,
   "metadata": {},
   "outputs": [],
   "source": [
    "detection_confidence_requirement = 0.2 # 0.2 // 0.99\n",
    "offset_from_middle_seconds = datetime.timedelta(seconds=60)\n",
    "meta = bb_utils.meta.BeeMetaInfo()"
   ]
  },
  {
   "cell_type": "code",
   "execution_count": 49,
   "metadata": {},
   "outputs": [
    {
     "name": "stderr",
     "output_type": "stream",
     "text": [
      "\n",
      "  0%|          | 0/62 [00:00<?, ?it/s]\u001b[A"
     ]
    },
    {
     "name": "stdout",
     "output_type": "stream",
     "text": [
      "loading PRESENCE-counts-2016-07-20_00_num_hours_24_int_size_120_conf_02_cams_0123.csv\n"
     ]
    },
    {
     "name": "stderr",
     "output_type": "stream",
     "text": [
      "\n",
      "  2%|▏         | 1/62 [00:01<01:07,  1.10s/it]\u001b[A"
     ]
    },
    {
     "name": "stdout",
     "output_type": "stream",
     "text": [
      "loading PRESENCE-counts-2016-07-21_00_num_hours_24_int_size_120_conf_02_cams_0123.csv\n"
     ]
    },
    {
     "name": "stderr",
     "output_type": "stream",
     "text": [
      "\n",
      "  3%|▎         | 2/62 [00:02<01:07,  1.13s/it]\u001b[A"
     ]
    },
    {
     "name": "stdout",
     "output_type": "stream",
     "text": [
      "loading PRESENCE-counts-2016-07-22_00_num_hours_24_int_size_120_conf_02_cams_0123.csv\n"
     ]
    },
    {
     "name": "stderr",
     "output_type": "stream",
     "text": [
      "\n",
      "  5%|▍         | 3/62 [00:03<01:08,  1.15s/it]\u001b[A"
     ]
    },
    {
     "name": "stdout",
     "output_type": "stream",
     "text": [
      "loading PRESENCE-counts-2016-07-23_00_num_hours_24_int_size_120_conf_02_cams_0123.csv\n"
     ]
    },
    {
     "name": "stderr",
     "output_type": "stream",
     "text": [
      "\n",
      "  6%|▋         | 4/62 [00:04<01:05,  1.13s/it]\u001b[A"
     ]
    },
    {
     "name": "stdout",
     "output_type": "stream",
     "text": [
      "loading PRESENCE-counts-2016-07-24_00_num_hours_24_int_size_120_conf_02_cams_0123.csv\n"
     ]
    },
    {
     "name": "stderr",
     "output_type": "stream",
     "text": [
      "\n",
      "  8%|▊         | 5/62 [00:05<01:03,  1.11s/it]\u001b[A"
     ]
    },
    {
     "name": "stdout",
     "output_type": "stream",
     "text": [
      "loading PRESENCE-counts-2016-07-25_00_num_hours_24_int_size_120_conf_02_cams_0123.csv\n"
     ]
    },
    {
     "name": "stderr",
     "output_type": "stream",
     "text": [
      "\n",
      " 10%|▉         | 6/62 [00:06<01:02,  1.12s/it]\u001b[A"
     ]
    },
    {
     "name": "stdout",
     "output_type": "stream",
     "text": [
      "loading PRESENCE-counts-2016-07-26_00_num_hours_24_int_size_120_conf_02_cams_0123.csv\n"
     ]
    },
    {
     "name": "stderr",
     "output_type": "stream",
     "text": [
      "\n",
      " 11%|█▏        | 7/62 [00:07<01:03,  1.15s/it]\u001b[A"
     ]
    },
    {
     "name": "stdout",
     "output_type": "stream",
     "text": [
      "loading PRESENCE-counts-2016-07-27_00_num_hours_24_int_size_120_conf_02_cams_0123.csv\n"
     ]
    },
    {
     "name": "stderr",
     "output_type": "stream",
     "text": [
      "\n",
      " 13%|█▎        | 8/62 [00:09<01:03,  1.18s/it]\u001b[A"
     ]
    },
    {
     "name": "stdout",
     "output_type": "stream",
     "text": [
      "loading PRESENCE-counts-2016-07-28_00_num_hours_24_int_size_120_conf_02_cams_0123.csv\n"
     ]
    },
    {
     "name": "stderr",
     "output_type": "stream",
     "text": [
      "\n",
      " 15%|█▍        | 9/62 [00:10<01:05,  1.23s/it]\u001b[A"
     ]
    },
    {
     "name": "stdout",
     "output_type": "stream",
     "text": [
      "loading PRESENCE-counts-2016-07-29_00_num_hours_24_int_size_120_conf_02_cams_0123.csv\n"
     ]
    },
    {
     "name": "stderr",
     "output_type": "stream",
     "text": [
      "\n",
      " 16%|█▌        | 10/62 [00:11<01:06,  1.28s/it]\u001b[A"
     ]
    },
    {
     "name": "stdout",
     "output_type": "stream",
     "text": [
      "loading PRESENCE-counts-2016-07-30_00_num_hours_24_int_size_120_conf_02_cams_0123.csv\n"
     ]
    },
    {
     "name": "stderr",
     "output_type": "stream",
     "text": [
      "\n",
      " 18%|█▊        | 11/62 [00:13<01:08,  1.34s/it]\u001b[A"
     ]
    },
    {
     "name": "stdout",
     "output_type": "stream",
     "text": [
      "loading PRESENCE-counts-2016-07-31_00_num_hours_24_int_size_120_conf_02_cams_0123.csv\n"
     ]
    },
    {
     "name": "stderr",
     "output_type": "stream",
     "text": [
      "\n",
      " 19%|█▉        | 12/62 [00:14<01:08,  1.36s/it]\u001b[A"
     ]
    },
    {
     "name": "stdout",
     "output_type": "stream",
     "text": [
      "loading PRESENCE-counts-2016-08-01_00_num_hours_24_int_size_120_conf_02_cams_0123.csv\n"
     ]
    },
    {
     "name": "stderr",
     "output_type": "stream",
     "text": [
      "\n",
      " 21%|██        | 13/62 [00:16<01:07,  1.37s/it]\u001b[A"
     ]
    },
    {
     "name": "stdout",
     "output_type": "stream",
     "text": [
      "loading PRESENCE-counts-2016-08-02_00_num_hours_24_int_size_120_conf_02_cams_0123.csv\n"
     ]
    },
    {
     "name": "stderr",
     "output_type": "stream",
     "text": [
      "\n",
      " 23%|██▎       | 14/62 [00:17<01:07,  1.40s/it]\u001b[A"
     ]
    },
    {
     "name": "stdout",
     "output_type": "stream",
     "text": [
      "loading PRESENCE-counts-2016-08-03_00_num_hours_24_int_size_120_conf_02_cams_0123.csv\n"
     ]
    },
    {
     "name": "stderr",
     "output_type": "stream",
     "text": [
      "\n",
      " 24%|██▍       | 15/62 [00:19<01:07,  1.43s/it]\u001b[A"
     ]
    },
    {
     "name": "stdout",
     "output_type": "stream",
     "text": [
      "loading PRESENCE-counts-2016-08-04_00_num_hours_24_int_size_120_conf_02_cams_0123.csv\n"
     ]
    },
    {
     "name": "stderr",
     "output_type": "stream",
     "text": [
      "\n",
      " 26%|██▌       | 16/62 [00:20<01:06,  1.45s/it]\u001b[A"
     ]
    },
    {
     "name": "stdout",
     "output_type": "stream",
     "text": [
      "loading PRESENCE-counts-2016-08-05_00_num_hours_24_int_size_120_conf_02_cams_0123.csv\n"
     ]
    },
    {
     "name": "stderr",
     "output_type": "stream",
     "text": [
      "\n",
      " 27%|██▋       | 17/62 [00:22<01:06,  1.47s/it]\u001b[A"
     ]
    },
    {
     "name": "stdout",
     "output_type": "stream",
     "text": [
      "loading PRESENCE-counts-2016-08-06_00_num_hours_24_int_size_120_conf_02_cams_0123.csv\n"
     ]
    },
    {
     "name": "stderr",
     "output_type": "stream",
     "text": [
      "\n",
      " 29%|██▉       | 18/62 [00:23<01:04,  1.46s/it]\u001b[A"
     ]
    },
    {
     "name": "stdout",
     "output_type": "stream",
     "text": [
      "loading PRESENCE-counts-2016-08-07_00_num_hours_24_int_size_120_conf_02_cams_0123.csv\n"
     ]
    },
    {
     "name": "stderr",
     "output_type": "stream",
     "text": [
      "\n",
      " 31%|███       | 19/62 [00:25<01:02,  1.44s/it]\u001b[A"
     ]
    },
    {
     "name": "stdout",
     "output_type": "stream",
     "text": [
      "loading PRESENCE-counts-2016-08-08_00_num_hours_24_int_size_120_conf_02_cams_0123.csv\n"
     ]
    },
    {
     "name": "stderr",
     "output_type": "stream",
     "text": [
      "\n",
      " 32%|███▏      | 20/62 [00:26<00:58,  1.40s/it]\u001b[A"
     ]
    },
    {
     "name": "stdout",
     "output_type": "stream",
     "text": [
      "loading PRESENCE-counts-2016-08-10_00_num_hours_24_int_size_120_conf_02_cams_0123.csv\n"
     ]
    },
    {
     "name": "stderr",
     "output_type": "stream",
     "text": [
      "\n",
      " 35%|███▌      | 22/62 [00:27<00:44,  1.12s/it]\u001b[A"
     ]
    },
    {
     "name": "stdout",
     "output_type": "stream",
     "text": [
      "loading PRESENCE-counts-2016-08-11_00_num_hours_24_int_size_120_conf_02_cams_0123.csv\n"
     ]
    },
    {
     "name": "stderr",
     "output_type": "stream",
     "text": [
      "\n",
      " 37%|███▋      | 23/62 [00:28<00:42,  1.08s/it]\u001b[A"
     ]
    },
    {
     "name": "stdout",
     "output_type": "stream",
     "text": [
      "loading PRESENCE-counts-2016-08-12_00_num_hours_24_int_size_120_conf_02_cams_0123.csv\n"
     ]
    },
    {
     "name": "stderr",
     "output_type": "stream",
     "text": [
      "\n",
      " 39%|███▊      | 24/62 [00:29<00:40,  1.08s/it]\u001b[A"
     ]
    },
    {
     "name": "stdout",
     "output_type": "stream",
     "text": [
      "loading PRESENCE-counts-2016-08-13_00_num_hours_24_int_size_120_conf_02_cams_0123.csv\n"
     ]
    },
    {
     "name": "stderr",
     "output_type": "stream",
     "text": [
      "\n",
      " 40%|████      | 25/62 [00:30<00:40,  1.11s/it]\u001b[A"
     ]
    },
    {
     "name": "stdout",
     "output_type": "stream",
     "text": [
      "loading PRESENCE-counts-2016-08-14_00_num_hours_24_int_size_120_conf_02_cams_0123.csv\n"
     ]
    },
    {
     "name": "stderr",
     "output_type": "stream",
     "text": [
      "\n",
      " 42%|████▏     | 26/62 [00:31<00:40,  1.12s/it]\u001b[A"
     ]
    },
    {
     "name": "stdout",
     "output_type": "stream",
     "text": [
      "loading PRESENCE-counts-2016-08-15_00_num_hours_24_int_size_120_conf_02_cams_0123.csv\n"
     ]
    },
    {
     "name": "stderr",
     "output_type": "stream",
     "text": [
      "\n",
      " 44%|████▎     | 27/62 [00:32<00:40,  1.15s/it]\u001b[A"
     ]
    },
    {
     "name": "stdout",
     "output_type": "stream",
     "text": [
      "loading PRESENCE-counts-2016-08-16_00_num_hours_24_int_size_120_conf_02_cams_0123.csv\n"
     ]
    },
    {
     "name": "stderr",
     "output_type": "stream",
     "text": [
      "\n",
      " 45%|████▌     | 28/62 [00:34<00:40,  1.19s/it]\u001b[A"
     ]
    },
    {
     "name": "stdout",
     "output_type": "stream",
     "text": [
      "loading PRESENCE-counts-2016-08-18_00_num_hours_24_int_size_120_conf_02_cams_0123.csv\n"
     ]
    },
    {
     "name": "stderr",
     "output_type": "stream",
     "text": [
      "\n",
      " 48%|████▊     | 30/62 [00:35<00:32,  1.02s/it]\u001b[A"
     ]
    },
    {
     "name": "stdout",
     "output_type": "stream",
     "text": [
      "loading PRESENCE-counts-2016-08-19_00_num_hours_24_int_size_120_conf_02_cams_0123.csv\n"
     ]
    },
    {
     "name": "stderr",
     "output_type": "stream",
     "text": [
      "\n",
      " 50%|█████     | 31/62 [00:36<00:32,  1.06s/it]\u001b[A"
     ]
    },
    {
     "name": "stdout",
     "output_type": "stream",
     "text": [
      "loading PRESENCE-counts-2016-08-20_00_num_hours_24_int_size_120_conf_02_cams_0123.csv\n"
     ]
    },
    {
     "name": "stderr",
     "output_type": "stream",
     "text": [
      "\n",
      " 52%|█████▏    | 32/62 [00:37<00:31,  1.05s/it]\u001b[A"
     ]
    },
    {
     "name": "stdout",
     "output_type": "stream",
     "text": [
      "loading PRESENCE-counts-2016-08-21_00_num_hours_24_int_size_120_conf_02_cams_0123.csv\n"
     ]
    },
    {
     "name": "stderr",
     "output_type": "stream",
     "text": [
      "\n",
      " 53%|█████▎    | 33/62 [00:38<00:29,  1.02s/it]\u001b[A"
     ]
    },
    {
     "name": "stdout",
     "output_type": "stream",
     "text": [
      "loading PRESENCE-counts-2016-08-22_00_num_hours_24_int_size_120_conf_02_cams_0123.csv\n"
     ]
    },
    {
     "name": "stderr",
     "output_type": "stream",
     "text": [
      "\n",
      " 55%|█████▍    | 34/62 [00:39<00:28,  1.03s/it]\u001b[A"
     ]
    },
    {
     "name": "stdout",
     "output_type": "stream",
     "text": [
      "loading PRESENCE-counts-2016-08-23_00_num_hours_24_int_size_120_conf_02_cams_0123.csv\n"
     ]
    },
    {
     "name": "stderr",
     "output_type": "stream",
     "text": [
      "\n",
      " 56%|█████▋    | 35/62 [00:40<00:27,  1.02s/it]\u001b[A"
     ]
    },
    {
     "name": "stdout",
     "output_type": "stream",
     "text": [
      "loading PRESENCE-counts-2016-08-24_00_num_hours_24_int_size_120_conf_02_cams_0123.csv\n"
     ]
    },
    {
     "name": "stderr",
     "output_type": "stream",
     "text": [
      "\n",
      " 58%|█████▊    | 36/62 [00:41<00:26,  1.02s/it]\u001b[A"
     ]
    },
    {
     "name": "stdout",
     "output_type": "stream",
     "text": [
      "loading PRESENCE-counts-2016-08-25_00_num_hours_24_int_size_120_conf_02_cams_0123.csv\n"
     ]
    },
    {
     "name": "stderr",
     "output_type": "stream",
     "text": [
      "\n",
      " 60%|█████▉    | 37/62 [00:42<00:24,  1.02it/s]\u001b[A"
     ]
    },
    {
     "name": "stdout",
     "output_type": "stream",
     "text": [
      "loading PRESENCE-counts-2016-08-26_00_num_hours_24_int_size_120_conf_02_cams_0123.csv\n"
     ]
    },
    {
     "name": "stderr",
     "output_type": "stream",
     "text": [
      "\n",
      " 61%|██████▏   | 38/62 [00:43<00:21,  1.11it/s]\u001b[A"
     ]
    },
    {
     "name": "stdout",
     "output_type": "stream",
     "text": [
      "loading PRESENCE-counts-2016-08-27_00_num_hours_24_int_size_120_conf_02_cams_0123.csv\n"
     ]
    },
    {
     "name": "stderr",
     "output_type": "stream",
     "text": [
      "\n",
      " 63%|██████▎   | 39/62 [00:43<00:18,  1.22it/s]\u001b[A"
     ]
    },
    {
     "name": "stdout",
     "output_type": "stream",
     "text": [
      "loading PRESENCE-counts-2016-08-28_00_num_hours_24_int_size_120_conf_02_cams_0123.csv\n"
     ]
    },
    {
     "name": "stderr",
     "output_type": "stream",
     "text": [
      "\n",
      " 65%|██████▍   | 40/62 [00:44<00:16,  1.34it/s]\u001b[A"
     ]
    },
    {
     "name": "stdout",
     "output_type": "stream",
     "text": [
      "loading PRESENCE-counts-2016-08-29_00_num_hours_24_int_size_120_conf_02_cams_0123.csv\n"
     ]
    },
    {
     "name": "stderr",
     "output_type": "stream",
     "text": [
      "\n",
      " 66%|██████▌   | 41/62 [00:44<00:12,  1.65it/s]\u001b[A"
     ]
    },
    {
     "name": "stdout",
     "output_type": "stream",
     "text": [
      "loading PRESENCE-counts-2016-08-30_00_num_hours_24_int_size_120_conf_02_cams_0123.csv\n"
     ]
    },
    {
     "name": "stderr",
     "output_type": "stream",
     "text": [
      "\n",
      " 68%|██████▊   | 42/62 [00:45<00:10,  1.97it/s]\u001b[A"
     ]
    },
    {
     "name": "stdout",
     "output_type": "stream",
     "text": [
      "loading PRESENCE-counts-2016-08-31_00_num_hours_24_int_size_120_conf_02_cams_0123.csv\n"
     ]
    },
    {
     "name": "stderr",
     "output_type": "stream",
     "text": [
      "\n",
      " 69%|██████▉   | 43/62 [00:45<00:09,  1.99it/s]\u001b[A"
     ]
    },
    {
     "name": "stdout",
     "output_type": "stream",
     "text": [
      "loading PRESENCE-counts-2016-09-01_00_num_hours_24_int_size_120_conf_02_cams_0123.csv\n"
     ]
    },
    {
     "name": "stderr",
     "output_type": "stream",
     "text": [
      "\n",
      " 71%|███████   | 44/62 [00:46<00:09,  1.97it/s]\u001b[A"
     ]
    },
    {
     "name": "stdout",
     "output_type": "stream",
     "text": [
      "loading PRESENCE-counts-2016-09-02_00_num_hours_24_int_size_120_conf_02_cams_0123.csv\n"
     ]
    },
    {
     "name": "stderr",
     "output_type": "stream",
     "text": [
      "\n",
      " 73%|███████▎  | 45/62 [00:46<00:08,  2.07it/s]\u001b[A"
     ]
    },
    {
     "name": "stdout",
     "output_type": "stream",
     "text": [
      "loading PRESENCE-counts-2016-09-03_00_num_hours_24_int_size_120_conf_02_cams_0123.csv\n"
     ]
    },
    {
     "name": "stderr",
     "output_type": "stream",
     "text": [
      "\n",
      " 74%|███████▍  | 46/62 [00:46<00:07,  2.20it/s]\u001b[A"
     ]
    },
    {
     "name": "stdout",
     "output_type": "stream",
     "text": [
      "loading PRESENCE-counts-2016-09-04_00_num_hours_24_int_size_120_conf_02_cams_0123.csv\n"
     ]
    },
    {
     "name": "stderr",
     "output_type": "stream",
     "text": [
      "\n",
      " 76%|███████▌  | 47/62 [00:47<00:06,  2.41it/s]\u001b[A"
     ]
    },
    {
     "name": "stdout",
     "output_type": "stream",
     "text": [
      "loading PRESENCE-counts-2016-09-05_00_num_hours_24_int_size_120_conf_02_cams_0123.csv\n"
     ]
    },
    {
     "name": "stderr",
     "output_type": "stream",
     "text": [
      "\n",
      " 77%|███████▋  | 48/62 [00:47<00:05,  2.52it/s]\u001b[A"
     ]
    },
    {
     "name": "stdout",
     "output_type": "stream",
     "text": [
      "loading PRESENCE-counts-2016-09-06_00_num_hours_24_int_size_120_conf_02_cams_0123.csv\n"
     ]
    },
    {
     "name": "stderr",
     "output_type": "stream",
     "text": [
      "\n",
      " 79%|███████▉  | 49/62 [00:47<00:04,  2.64it/s]\u001b[A"
     ]
    },
    {
     "name": "stdout",
     "output_type": "stream",
     "text": [
      "loading PRESENCE-counts-2016-09-07_00_num_hours_24_int_size_120_conf_02_cams_0123.csv\n"
     ]
    },
    {
     "name": "stderr",
     "output_type": "stream",
     "text": [
      "\n",
      " 81%|████████  | 50/62 [00:48<00:04,  2.91it/s]\u001b[A"
     ]
    },
    {
     "name": "stdout",
     "output_type": "stream",
     "text": [
      "loading PRESENCE-counts-2016-09-08_00_num_hours_24_int_size_120_conf_02_cams_0123.csv\n"
     ]
    },
    {
     "name": "stderr",
     "output_type": "stream",
     "text": [
      "\n",
      " 82%|████████▏ | 51/62 [00:48<00:03,  3.08it/s]\u001b[A\n",
      " 84%|████████▍ | 52/62 [00:48<00:02,  3.55it/s]\u001b[A"
     ]
    },
    {
     "name": "stdout",
     "output_type": "stream",
     "text": [
      "loading PRESENCE-counts-2016-09-09_00_num_hours_24_int_size_120_conf_02_cams_0123.csv\n",
      "loading PRESENCE-counts-2016-09-10_00_num_hours_24_int_size_120_conf_02_cams_0123.csv\n"
     ]
    },
    {
     "name": "stderr",
     "output_type": "stream",
     "text": [
      "\n",
      " 85%|████████▌ | 53/62 [00:48<00:02,  3.90it/s]\u001b[A\n",
      " 87%|████████▋ | 54/62 [00:48<00:01,  4.23it/s]\u001b[A"
     ]
    },
    {
     "name": "stdout",
     "output_type": "stream",
     "text": [
      "loading PRESENCE-counts-2016-09-11_00_num_hours_24_int_size_120_conf_02_cams_0123.csv\n",
      "loading PRESENCE-counts-2016-09-12_00_num_hours_24_int_size_120_conf_02_cams_0123.csv\n"
     ]
    },
    {
     "name": "stderr",
     "output_type": "stream",
     "text": [
      "\n",
      " 89%|████████▊ | 55/62 [00:49<00:01,  4.85it/s]\u001b[A\n",
      " 90%|█████████ | 56/62 [00:49<00:01,  5.33it/s]\u001b[A"
     ]
    },
    {
     "name": "stdout",
     "output_type": "stream",
     "text": [
      "loading PRESENCE-counts-2016-09-13_00_num_hours_24_int_size_120_conf_02_cams_0123.csv\n",
      "loading PRESENCE-counts-2016-09-14_00_num_hours_24_int_size_120_conf_02_cams_0123.csv\n"
     ]
    },
    {
     "name": "stderr",
     "output_type": "stream",
     "text": [
      "\n",
      " 92%|█████████▏| 57/62 [00:49<00:00,  5.63it/s]\u001b[A\n",
      " 94%|█████████▎| 58/62 [00:49<00:00,  6.47it/s]\u001b[A"
     ]
    },
    {
     "name": "stdout",
     "output_type": "stream",
     "text": [
      "loading PRESENCE-counts-2016-09-15_00_num_hours_24_int_size_120_conf_02_cams_0123.csv\n",
      "loading PRESENCE-counts-2016-09-16_00_num_hours_24_int_size_120_conf_02_cams_0123.csv\n",
      "loading PRESENCE-counts-2016-09-17_00_num_hours_24_int_size_120_conf_02_cams_0123.csv\n"
     ]
    },
    {
     "name": "stderr",
     "output_type": "stream",
     "text": [
      "\n",
      " 97%|█████████▋| 60/62 [00:49<00:00,  7.65it/s]\u001b[A\n",
      "100%|██████████| 62/62 [00:49<00:00,  9.10it/s]\u001b[A"
     ]
    },
    {
     "name": "stdout",
     "output_type": "stream",
     "text": [
      "loading PRESENCE-counts-2016-09-18_00_num_hours_24_int_size_120_conf_02_cams_0123.csv\n",
      "loading PRESENCE-counts-2016-09-19_00_num_hours_24_int_size_120_conf_02_cams_0123.csv\n",
      "Collected 60/62 per-day caches.\n"
     ]
    }
   ],
   "source": [
    "presences = c.load_multiple_day_caches(detection_confidence_requirement=detection_confidence_requirement) # 0.99 / 0.2"
   ]
  },
  {
   "cell_type": "code",
   "execution_count": null,
   "metadata": {
    "scrolled": false
   },
   "outputs": [
    {
     "name": "stderr",
     "output_type": "stream",
     "text": [
      "\n",
      "  0%|          | 0/60 [00:00<?, ?it/s]\u001b[A\n",
      "\n",
      "  0%|          | 0/2 [00:00<?, ?it/s]\u001b[A\u001b[A\n",
      "\n",
      " 50%|█████     | 1/2 [00:08<00:08,  8.76s/it]\u001b[A\u001b[A\n",
      "\n",
      "100%|██████████| 2/2 [00:14<00:00,  7.72s/it]\u001b[A\u001b[A\n",
      "\n",
      "  0%|          | 0/2 [00:00<?, ?it/s]\u001b[A\u001b[A\n",
      "\n",
      "100%|██████████| 2/2 [00:00<00:00, 47.24it/s]\u001b[A\u001b[A\n",
      "  2%|▏         | 1/60 [00:26<25:46, 26.22s/it]\u001b[A\n",
      "\n",
      "  0%|          | 0/2 [00:00<?, ?it/s]\u001b[A\u001b[A\n",
      "\n",
      " 50%|█████     | 1/2 [00:09<00:09,  9.47s/it]\u001b[A\u001b[A\n",
      "\n",
      "100%|██████████| 2/2 [00:15<00:00,  8.35s/it]\u001b[A\u001b[A\n",
      "\n",
      "  0%|          | 0/2 [00:00<?, ?it/s]\u001b[A\u001b[A\n",
      "\n",
      "100%|██████████| 2/2 [00:00<00:00, 43.80it/s]\u001b[A\u001b[A\n",
      "  3%|▎         | 2/60 [00:54<26:00, 26.90s/it]\u001b[A\n",
      "\n",
      "  0%|          | 0/2 [00:00<?, ?it/s]\u001b[A\u001b[A\n",
      "\n",
      " 50%|█████     | 1/2 [00:09<00:09,  9.75s/it]\u001b[A\u001b[A\n",
      "\n",
      "100%|██████████| 2/2 [00:15<00:00,  8.66s/it]\u001b[A\u001b[A\n",
      "\n",
      "  0%|          | 0/2 [00:00<?, ?it/s]\u001b[A\u001b[A\n",
      "\n",
      "100%|██████████| 2/2 [00:00<00:00, 36.24it/s]\u001b[A\u001b[A\n",
      "  5%|▌         | 3/60 [01:25<26:37, 28.03s/it]\u001b[A\n",
      "\n",
      "  0%|          | 0/2 [00:00<?, ?it/s]\u001b[A\u001b[A\n",
      "\n",
      " 50%|█████     | 1/2 [00:47<00:47, 47.20s/it]\u001b[A\u001b[A\n",
      "\n",
      "100%|██████████| 2/2 [01:06<00:00, 38.68s/it]\u001b[A\u001b[A\n",
      "\n",
      "  0%|          | 0/2 [00:00<?, ?it/s]\u001b[A\u001b[A\n",
      "\n",
      "100%|██████████| 2/2 [00:00<00:00, 34.32it/s]\u001b[A\u001b[A\n",
      "  7%|▋         | 4/60 [02:48<41:42, 44.68s/it]\u001b[A\n",
      "\n",
      "  0%|          | 0/2 [00:00<?, ?it/s]\u001b[A\u001b[A\n",
      "\n",
      " 50%|█████     | 1/2 [00:47<00:47, 47.49s/it]\u001b[A\u001b[A\n",
      "\n",
      "100%|██████████| 2/2 [01:07<00:00, 39.15s/it]\u001b[A\u001b[A\n",
      "\n",
      "  0%|          | 0/2 [00:00<?, ?it/s]\u001b[A\u001b[A\n",
      "\n",
      "100%|██████████| 2/2 [00:00<00:00, 34.52it/s]\u001b[A\u001b[A\n",
      "  8%|▊         | 5/60 [04:13<51:56, 56.67s/it]\u001b[A\n",
      "\n",
      "  0%|          | 0/2 [00:00<?, ?it/s]\u001b[A\u001b[A\n",
      "\n",
      " 50%|█████     | 1/2 [00:40<00:40, 40.24s/it]\u001b[A\u001b[A\n",
      "\n",
      "100%|██████████| 2/2 [00:58<00:00, 33.54s/it]\u001b[A\u001b[A\n",
      "\n",
      "  0%|          | 0/2 [00:00<?, ?it/s]\u001b[A\u001b[A\n",
      "\n",
      "100%|██████████| 2/2 [00:00<00:00, 41.95it/s]\u001b[A\u001b[A\n",
      " 10%|█         | 6/60 [05:25<55:09, 61.29s/it]\u001b[A\n",
      "\n",
      "  0%|          | 0/2 [00:00<?, ?it/s]\u001b[A\u001b[A\n",
      "\n",
      " 50%|█████     | 1/2 [00:37<00:37, 37.63s/it]\u001b[A\u001b[A\n",
      "\n",
      "100%|██████████| 2/2 [00:54<00:00, 31.47s/it]\u001b[A\u001b[A\n",
      "\n",
      "  0%|          | 0/2 [00:00<?, ?it/s]\u001b[A\u001b[A\n",
      "\n",
      "100%|██████████| 2/2 [00:00<00:00, 45.28it/s]\u001b[A\u001b[A\n",
      " 12%|█▏        | 7/60 [06:33<55:45, 63.13s/it]\u001b[A\n",
      "\n",
      "  0%|          | 0/2 [00:00<?, ?it/s]\u001b[A\u001b[A\n",
      "\n",
      " 50%|█████     | 1/2 [00:41<00:41, 41.86s/it]\u001b[A\u001b[A\n",
      "\n",
      "100%|██████████| 2/2 [01:00<00:00, 34.84s/it]\u001b[A\u001b[A\n",
      "\n",
      "  0%|          | 0/2 [00:00<?, ?it/s]\u001b[A\u001b[A\n",
      "\n",
      "100%|██████████| 2/2 [00:00<00:00, 42.29it/s]\u001b[A\u001b[A\n",
      " 13%|█▎        | 8/60 [07:47<57:38, 66.52s/it]\u001b[A\n",
      "\n",
      "  0%|          | 0/2 [00:00<?, ?it/s]\u001b[A\u001b[A\n",
      "\n",
      " 50%|█████     | 1/2 [00:47<00:47, 47.57s/it]\u001b[A\u001b[A\n",
      "\n",
      "100%|██████████| 2/2 [01:07<00:00, 39.40s/it]\u001b[A\u001b[A\n",
      "\n",
      "  0%|          | 0/2 [00:00<?, ?it/s]\u001b[A\u001b[A\n",
      "\n",
      "100%|██████████| 2/2 [00:00<00:00, 37.93it/s]\u001b[A\u001b[A\n",
      " 15%|█▌        | 9/60 [09:11<1:00:58, 71.73s/it]\u001b[A\n",
      "\n",
      "  0%|          | 0/2 [00:00<?, ?it/s]\u001b[A\u001b[A\n",
      "\n",
      " 50%|█████     | 1/2 [00:47<00:47, 47.87s/it]\u001b[A\u001b[A\n",
      "\n",
      "100%|██████████| 2/2 [01:09<00:00, 39.92s/it]\u001b[A\u001b[A\n",
      "\n",
      "  0%|          | 0/2 [00:00<?, ?it/s]\u001b[A\u001b[A\n",
      "\n",
      "100%|██████████| 2/2 [00:00<00:00, 37.34it/s]\u001b[A\u001b[A\n",
      " 17%|█▋        | 10/60 [10:36<1:03:10, 75.81s/it]\u001b[A\n",
      "\n",
      "  0%|          | 0/2 [00:00<?, ?it/s]\u001b[A\u001b[A\n",
      "\n",
      " 50%|█████     | 1/2 [00:52<00:52, 52.48s/it]\u001b[A\u001b[A\n",
      "\n",
      "100%|██████████| 2/2 [01:17<00:00, 44.36s/it]\u001b[A\u001b[A\n",
      "\n",
      "  0%|          | 0/2 [00:00<?, ?it/s]\u001b[A\u001b[A\n",
      "\n",
      "100%|██████████| 2/2 [00:00<00:00, 34.17it/s]\u001b[A\u001b[A\n",
      " 18%|█▊        | 11/60 [12:12<1:06:45, 81.74s/it]\u001b[A\n",
      "\n",
      "  0%|          | 0/2 [00:00<?, ?it/s]\u001b[A\u001b[A\n",
      "\n",
      " 50%|█████     | 1/2 [00:55<00:55, 55.13s/it]\u001b[A\u001b[A\n",
      "\n",
      "100%|██████████| 2/2 [01:21<00:00, 46.58s/it]\u001b[A\u001b[A\n",
      "\n",
      "  0%|          | 0/2 [00:00<?, ?it/s]\u001b[A\u001b[A\n",
      "\n",
      "100%|██████████| 2/2 [00:00<00:00, 33.41it/s]\u001b[A\u001b[A\n",
      " 20%|██        | 12/60 [13:52<1:09:46, 87.21s/it]\u001b[A\n",
      "\n",
      "  0%|          | 0/2 [00:00<?, ?it/s]\u001b[A\u001b[A\n",
      "\n",
      " 50%|█████     | 1/2 [00:52<00:52, 52.22s/it]\u001b[A\u001b[A\n",
      "\n",
      "100%|██████████| 2/2 [01:16<00:00, 43.74s/it]\u001b[A\u001b[A\n",
      "\n",
      "  0%|          | 0/2 [00:00<?, ?it/s]\u001b[A\u001b[A\n",
      "\n",
      "100%|██████████| 2/2 [00:00<00:00, 34.12it/s]\u001b[A\u001b[A\n",
      " 22%|██▏       | 13/60 [15:26<1:09:57, 89.30s/it]\u001b[A\n",
      "\n",
      "  0%|          | 0/2 [00:00<?, ?it/s]\u001b[A\u001b[A\n",
      "\n",
      " 50%|█████     | 1/2 [00:52<00:52, 52.77s/it]\u001b[A\u001b[A\n",
      "\n",
      "100%|██████████| 2/2 [01:17<00:00, 44.34s/it]\u001b[A\u001b[A\n",
      "\n",
      "  0%|          | 0/2 [00:00<?, ?it/s]\u001b[A\u001b[A\n",
      "\n",
      "100%|██████████| 2/2 [00:00<00:00, 33.68it/s]\u001b[A\u001b[A\n",
      " 23%|██▎       | 14/60 [17:02<1:10:00, 91.31s/it]\u001b[A\n",
      "\n",
      "  0%|          | 0/2 [00:00<?, ?it/s]\u001b[A\u001b[A\n",
      "\n",
      " 50%|█████     | 1/2 [00:50<00:50, 50.57s/it]\u001b[A\u001b[A\n",
      "\n",
      "100%|██████████| 2/2 [01:12<00:00, 42.05s/it]\u001b[A\u001b[A\n",
      "\n",
      "  0%|          | 0/2 [00:00<?, ?it/s]\u001b[A\u001b[A\n",
      "\n",
      "100%|██████████| 2/2 [00:00<00:00, 33.96it/s]\u001b[A\u001b[A\n",
      " 25%|██▌       | 15/60 [18:33<1:08:22, 91.17s/it]\u001b[A\n",
      "\n",
      "  0%|          | 0/2 [00:00<?, ?it/s]\u001b[A\u001b[A\n",
      "\n",
      " 50%|█████     | 1/2 [00:49<00:49, 49.16s/it]\u001b[A\u001b[A\n",
      "\n",
      "100%|██████████| 2/2 [01:11<00:00, 41.13s/it]\u001b[A\u001b[A\n",
      "\n",
      "  0%|          | 0/2 [00:00<?, ?it/s]\u001b[A\u001b[A\n",
      "\n",
      "100%|██████████| 2/2 [00:00<00:00, 35.68it/s]\u001b[A\u001b[A\n",
      " 27%|██▋       | 16/60 [20:02<1:06:19, 90.45s/it]\u001b[A\n",
      "\n",
      "  0%|          | 0/2 [00:00<?, ?it/s]\u001b[A\u001b[A\n",
      "\n",
      " 50%|█████     | 1/2 [00:44<00:44, 44.84s/it]\u001b[A\u001b[A\n",
      "\n",
      "100%|██████████| 2/2 [01:05<00:00, 37.51s/it]\u001b[A\u001b[A\n",
      "\n",
      "  0%|          | 0/2 [00:00<?, ?it/s]\u001b[A\u001b[A\n",
      "\n",
      "100%|██████████| 2/2 [00:00<00:00, 39.58it/s]\u001b[A\u001b[A\n",
      " 28%|██▊       | 17/60 [21:22<1:02:39, 87.43s/it]\u001b[A\n",
      "\n",
      "  0%|          | 0/2 [00:00<?, ?it/s]\u001b[A\u001b[A\n",
      "\n",
      " 50%|█████     | 1/2 [00:44<00:44, 44.83s/it]\u001b[A\u001b[A\n",
      "\n",
      "100%|██████████| 2/2 [01:05<00:00, 37.64s/it]\u001b[A\u001b[A\n",
      "\n",
      "  0%|          | 0/2 [00:00<?, ?it/s]\u001b[A\u001b[A\n",
      "\n",
      "100%|██████████| 2/2 [00:00<00:00, 40.12it/s]\u001b[A\u001b[A\n",
      " 30%|███       | 18/60 [22:42<59:43, 85.33s/it]  \u001b[A\n",
      "\n",
      "  0%|          | 0/2 [00:00<?, ?it/s]\u001b[A\u001b[A\n",
      "\n",
      " 50%|█████     | 1/2 [00:44<00:44, 44.71s/it]\u001b[A\u001b[A\n",
      "\n",
      "100%|██████████| 2/2 [01:05<00:00, 37.51s/it]\u001b[A\u001b[A\n",
      "\n",
      "  0%|          | 0/2 [00:00<?, ?it/s]\u001b[A\u001b[A\n",
      "\n",
      "100%|██████████| 2/2 [00:00<00:00, 40.09it/s]\u001b[A\u001b[A\n",
      " 32%|███▏      | 19/60 [24:02<57:09, 83.66s/it]\u001b[A\n",
      "\n",
      "  0%|          | 0/2 [00:00<?, ?it/s]\u001b[A\u001b[A\n",
      "\n",
      " 50%|█████     | 1/2 [00:39<00:39, 39.31s/it]\u001b[A\u001b[A\n",
      "\n",
      "100%|██████████| 2/2 [00:57<00:00, 32.83s/it]\u001b[A\u001b[A\n",
      "\n",
      "  0%|          | 0/2 [00:00<?, ?it/s]\u001b[A\u001b[A\n",
      "\n",
      "100%|██████████| 2/2 [00:00<00:00, 44.47it/s]\u001b[A\u001b[A\n",
      " 33%|███▎      | 20/60 [25:11<52:52, 79.32s/it]\u001b[A\n",
      "\n",
      "  0%|          | 0/2 [00:00<?, ?it/s]\u001b[A\u001b[A"
     ]
    }
   ],
   "source": [
    "gaps_list = []\n",
    "for (date, presence) in tqdm(presences):\n",
    "    npdate = np.datetime64(date)\n",
    "    gaps = make_gaps_for_presence(presence, date)\n",
    "    gaps_list.append((date, gaps))"
   ]
  },
  {
   "cell_type": "code",
   "execution_count": null,
   "metadata": {},
   "outputs": [],
   "source": [
    "len(gaps_list)"
   ]
  },
  {
   "cell_type": "code",
   "execution_count": 44,
   "metadata": {},
   "outputs": [
    {
     "name": "stdout",
     "output_type": "stream",
     "text": [
      "2016-07-20\n",
      "2016-07-21\n"
     ]
    }
   ],
   "source": [
    "conf_string = str(detection_confidence_requirement).replace('.','')\n",
    "for date, gaps in gaps_list:\n",
    "    print(date)\n",
    "    c.save(gaps, 'GAPS-'+str(date)+'_conf_'+conf_string, type=CacheType.gaps)"
   ]
  },
  {
   "cell_type": "code",
   "execution_count": 45,
   "metadata": {},
   "outputs": [],
   "source": [
    "conf_string = str(detection_confidence_requirement).replace('.','')\n",
    "aa = c.load('TESTGAPS-'+str(date)+'_conf_'+conf_string, type=CacheType.gaps)"
   ]
  },
  {
   "cell_type": "code",
   "execution_count": 46,
   "metadata": {},
   "outputs": [
    {
     "data": {
      "text/plain": [
       "bee_id                                                              9\n",
       "age                                                                23\n",
       "age_group                                                           4\n",
       "exit                                              2016-07-21 01:37:00\n",
       "entry                                             2016-07-21 01:59:30\n",
       "gap_duration                                          0 days 00:22:30\n",
       "exit_x                                                        214.994\n",
       "exit_y                                                        89.4874\n",
       "exit_frame                                       12042659669240907892\n",
       "exit_closest_detection_timestamp     2016-07-21 01:37:00.079138+00:00\n",
       "cam_id_exit                                                         3\n",
       "hive_side_exit                                                      1\n",
       "entry_x                                                       221.637\n",
       "entry_y                                                       100.934\n",
       "entry_frame                                      16002255732548838565\n",
       "entry_closest_detection_timestamp    2016-07-21 01:59:46.111038+00:00\n",
       "cam_id_entry                                                        3\n",
       "hive_side_entry                                                     1\n",
       "origin_for_exit                                              [0, 250]\n",
       "origin_for_entry                                             [0, 250]\n",
       "hiveexit_distance_for_exit                                    268.303\n",
       "hiveexit_distance_for_entry                                   267.103\n",
       "Name: 0, dtype: object"
      ]
     },
     "execution_count": 46,
     "metadata": {},
     "output_type": "execute_result"
    }
   ],
   "source": [
    "aa.iloc[0]"
   ]
  },
  {
   "cell_type": "code",
   "execution_count": 29,
   "metadata": {},
   "outputs": [],
   "source": [
    "gapsees=[]\n",
    "for d, p in presences:\n",
    "    gapsees.append(c.load('GAPS-'+str(date)+'_conf_'+conf_string, type=CacheType.gaps))"
   ]
  },
  {
   "cell_type": "code",
   "execution_count": null,
   "metadata": {},
   "outputs": [],
   "source": [
    "gapsees[50]"
   ]
  },
  {
   "cell_type": "code",
   "execution_count": null,
   "metadata": {},
   "outputs": [],
   "source": [
    "for presence in presences:\n",
    "    c.load('GAPS-'+str(date)+'_conf_'+conf_string, type=CacheType.gaps)"
   ]
  },
  {
   "cell_type": "code",
   "execution_count": 13,
   "metadata": {},
   "outputs": [],
   "source": [
    "def make_gaps_for_presence(presence, date):\n",
    "    # 1. Binarize presence\n",
    "    presence_bin = binarize_presence(presence)\n",
    "    \n",
    "    # 2. Detect gaps in presence (binarized)\n",
    "    gaps = []\n",
    "    for bee, bin_row in presence_bin.iterrows():\n",
    "        row = presence.loc[bee]\n",
    "        diff = np.diff(bin_row)\n",
    "        exits = np.where(diff == -1)[0]\n",
    "        entries = np.where(diff == 1)[0]\n",
    "\n",
    "        if len(exits) == 0 or len(entries) == 0:\n",
    "            continue\n",
    "\n",
    "        # if first entry is before firs exit, start with second entry\n",
    "        if entries[0] < exits[0]:\n",
    "            entries = entries[1:]\n",
    "            if len(entries) == 0:\n",
    "                continue\n",
    "\n",
    "        for exit, entry in zip(exits, entries):\n",
    "            duration = (entry - exit)\n",
    "            gaps.append((bee, exit, entry, duration))\n",
    "            \n",
    "    npdate = np.datetime64(date)\n",
    "    gaps = pd.DataFrame(gaps)\n",
    "    gaps.columns = ['bee_id', 'exit', 'entry', 'gap_duration']\n",
    "    gaps.exit = gaps.exit.apply(interval_to_timepoint_for_current_date)\n",
    "    gaps.entry = gaps.entry.apply(interval_to_timepoint_for_current_date)\n",
    "    gaps.gap_duration = gaps.gap_duration.apply(lambda intervals: pd.Timedelta(minutes=intervals / 2))\n",
    "    gaps.exit = gaps.exit.apply(to_datetime)\n",
    "    gaps.entry = gaps.entry.apply(to_datetime)\n",
    "    gaps['age'] = gaps.apply(row_to_age, axis=1)\n",
    "    gaps = gaps.dropna() #TODO: some ages are nan, which and why? (or just discard)\n",
    "    gaps['age_group'] = gaps.age.apply(lambda age: int(age) // 5) # Why does this throw warning?\n",
    "    gaps = gaps[['bee_id', 'age', 'age_group', 'exit', 'entry', 'gap_duration']]\n",
    "\n",
    "    # Add location, frame, cam and hive side information\n",
    "    for mode in tqdm(['exit', 'entry']):\n",
    "        new_info = make_dataframe_for_exits_entries(gaps, mode)\n",
    "        gaps = pd.merge(gaps, new_info, on=['bee_id', mode])\n",
    "\n",
    "    gaps['origin_for_exit'] = gaps.apply(origin_for_exit, axis=1)\n",
    "    gaps['origin_for_entry'] = gaps.apply(origin_for_entry, axis=1)\n",
    "    \n",
    "    # Calculate breakpoint distances\n",
    "    for mode in tqdm(['exit', 'entry']):\n",
    "        origin_x = [x for (x,y) in gaps['origin_for_'+mode]]\n",
    "        origin_y = [y for (x,y) in gaps['origin_for_'+mode]]\n",
    "\n",
    "        diff_x = gaps[mode+'_x'] - origin_x\n",
    "        diff_y = gaps[mode+'_y'] - origin_y\n",
    "\n",
    "        d = pd.Series(np.linalg.norm([diff_x, diff_y], axis=0))\n",
    "\n",
    "        gaps['hiveexit_distance_for_' + mode] = d\n",
    "    \n",
    "    return gaps   "
   ]
  },
  {
   "cell_type": "code",
   "execution_count": null,
   "metadata": {},
   "outputs": [],
   "source": []
  },
  {
   "cell_type": "code",
   "execution_count": null,
   "metadata": {},
   "outputs": [],
   "source": []
  },
  {
   "cell_type": "code",
   "execution_count": null,
   "metadata": {},
   "outputs": [],
   "source": []
  },
  {
   "cell_type": "code",
   "execution_count": null,
   "metadata": {},
   "outputs": [],
   "source": []
  },
  {
   "cell_type": "code",
   "execution_count": null,
   "metadata": {},
   "outputs": [],
   "source": []
  },
  {
   "cell_type": "code",
   "execution_count": null,
   "metadata": {},
   "outputs": [],
   "source": []
  },
  {
   "cell_type": "code",
   "execution_count": null,
   "metadata": {},
   "outputs": [],
   "source": [
    "#TODO: save (hdf/pkl/csv?)"
   ]
  },
  {
   "cell_type": "markdown",
   "metadata": {},
   "source": [
    "### Functions"
   ]
  },
  {
   "cell_type": "code",
   "execution_count": 1,
   "metadata": {},
   "outputs": [],
   "source": [
    "def make_dataframe_for_exits_entries(gaps, mode):\n",
    "    # Transform into a dict \n",
    "    gaps_dict = {}\n",
    "    for bee in gaps.bee_id.unique():\n",
    "        tsx = gaps[gaps.bee_id==bee][mode]\n",
    "        gaps_dict[int(bee)] = tsx\n",
    "\n",
    "    \n",
    "    subset = gaps_dict #gaps_head_dict // gaps_dict // bee_exits_dict\n",
    "    all_data = []\n",
    "\n",
    "    with ProcessPoolExecutor(max_workers=16) as pool:\n",
    "        items = list(subset.items()) # list of tuples \n",
    "        items = [(bee_id, timestamp, mode) for (bee_id, timestamp) in items]\n",
    "        for sub_df in pool.map(get_data_for_bee_id_timestamps, items):\n",
    "            all_data += sub_df\n",
    "            \n",
    "    all_data = [row for row in all_data if row != None]\n",
    "    all_data_df = pd.DataFrame(all_data, columns=[\"bee_id\", mode, mode+\"_x\", mode+\"_y\", mode+'_frame', mode+'_closest_detection_timestamp', \"cam_id_\"+mode])\n",
    "\n",
    "    def to_hive_side(cam_id):\n",
    "        if cam_id is None or pd.isnull(cam_id):\n",
    "            return 2\n",
    "        return cam_id // 2\n",
    "    \n",
    "    all_data_df['hive_side_'+mode] = all_data_df['cam_id_'+mode].apply(to_hive_side).astype(np.int)\n",
    "\n",
    "    \n",
    "    return all_data_df"
   ]
  },
  {
   "cell_type": "code",
   "execution_count": 2,
   "metadata": {},
   "outputs": [],
   "source": [
    "def get_data_for_bee_id_timestamps(args):\n",
    "    bee_id, timestamps, mode = args\n",
    "    offset = offset_from_middle_seconds\n",
    "    \n",
    "    with bb_behavior.db.DatabaseCursorContext() as cursor:\n",
    "        cursor.execute(\"PREPARE fetch_cam_id AS \"\n",
    "                       \"SELECT cam_id, x_pos_hive, y_pos_hive, frame_id, timestamp, ABS(EXTRACT(epoch FROM (timestamp - $4))) as diff FROM bb_detections_2016_stitched \"\n",
    "                       \"WHERE bee_id = $1 \"\n",
    "                       \"AND timestamp >= $2 and timestamp <= $3 \"\n",
    "                       \"ORDER BY diff ASC \"\n",
    "                       \"LIMIT 10 \"\n",
    "                      )\n",
    "        \n",
    "        def fetch_cam_id_and_location(bee_id, ts, cursor):\n",
    "            cursor.execute(\"EXECUTE fetch_cam_id(%s, %s, %s, %s)\", (bee_id, ts - offset, ts + offset, ts))\n",
    "            data = cursor.fetchall()\n",
    "            if data is None or len(data) == 0:\n",
    "                return None\n",
    "            \n",
    "            any_cam_id = data[0][0]\n",
    "            locations = np.array([d[1:3] for d in data if d[0] == any_cam_id])\n",
    "            \n",
    "            frame_id = data[0][3]\n",
    "            timestamp = data[0][4]\n",
    "            \n",
    "            \n",
    "            return bee_id, ts, np.mean(locations, axis=0)[0], np.mean(locations, axis=0)[1], frame_id, timestamp, any_cam_id\n",
    "        \n",
    "\n",
    "        results = []\n",
    "        for ts in timestamps:\n",
    "            results.append(fetch_cam_id_and_location(bee_id, ts, cursor))\n",
    "        return results"
   ]
  },
  {
   "cell_type": "code",
   "execution_count": 3,
   "metadata": {},
   "outputs": [],
   "source": [
    "#From pres_to_gaps\n",
    "def binarize_presence(presence_for_day_df):\n",
    "    # TODO: running this on an already-binarized series will return all zeros,\n",
    "    # (and that's not what we want) - changing the threshold solves it, but try sth else\n",
    "\n",
    "    ys = presence_for_day_df.copy()\n",
    "    index = ys.index\n",
    "    if ys[ys>1].sum().sum() == 0:\n",
    "        #Consider this already binarized, make no changes\n",
    "        return ys\n",
    "\n",
    "    ys[ys>90] = 90\n",
    "    ys[ys>45] = 90\n",
    "    ys[ys<=45] = 0 #TODO: consult: what should the threshold be\n",
    "    ys[ys==90] = 1\n",
    "    ys = closing(ys, rectangle(1,15))\n",
    "    ys = pd.DataFrame(ys, index=index)\n",
    "    ys.index.name = 'bee_id'\n",
    "    return ys\n",
    "\n",
    "#%%\n",
    "def plot_presence(a):\n",
    "    plt.figure(figsize=(26,7))\n",
    "    plt.title(\"Presence\")\n",
    "    axes = plt.gca()\n",
    "    plt.scatter(np.arange(0,len(a)), a, s=3)\n",
    "\n",
    "#%%\n",
    "def get_frame_id_for_timestamp_for_current_bee(dt):\n",
    "    bee_id = int(bee)\n",
    "    get_frame_id_for_bee_id_and_timestamp(bee_id, dt)\n",
    "\n",
    "#%%\n",
    "def get_frame_id_from_row(row):\n",
    "    bee_id = row.bee\n",
    "    dt = row.exit\n",
    "    return get_frame_id_for_bee_id_and_timestamp(bee_id, dt)\n",
    "\n",
    "#%%\n",
    "def interval_to_timepoint_for_current_date(interval_number):\n",
    "    # Date must already be np.datetime64, so as not to convert here (executed for every row)\n",
    "    return npdate + np.timedelta64(int(interval_number)*30, 's')\n",
    "\n",
    "#%%\n",
    "def row_to_age(row):\n",
    "    bb_id = bb_utils.ids.BeesbookID.from_dec_9(row.bee_id)\n",
    "    age = meta.get_age(bb_id, row.exit).days\n",
    "    return age\n",
    "\n",
    "#%%\n",
    "def origin_for_exit(row):\n",
    "    origin = np.array([0, 250]) if row['hive_side_exit'] == 1 else np.array([350, 250])\n",
    "    return origin\n",
    "\n",
    "#%%\n",
    "def origin_for_entry(row):\n",
    "    origin = np.array([0, 250]) if row['hive_side_entry'] == 1 else np.array([350, 250])\n",
    "    return origin\n"
   ]
  },
  {
   "cell_type": "code",
   "execution_count": 4,
   "metadata": {},
   "outputs": [],
   "source": [
    "#Unused here, potentially useful elsewhere \n",
    "def to_datetime(ts):\n",
    "    if ts.tzinfo is None or ts.tzinfo.utcoffset(ts) is None:\n",
    "        return ts\n",
    "    else:\n",
    "        return pytz.UTC.localize(pd.Timestamp(ts).to_pydatetime(), pytz.UTC)"
   ]
  },
  {
   "cell_type": "code",
   "execution_count": null,
   "metadata": {},
   "outputs": [],
   "source": []
  },
  {
   "cell_type": "code",
   "execution_count": null,
   "metadata": {},
   "outputs": [],
   "source": []
  }
 ],
 "metadata": {
  "kernelspec": {
   "display_name": "Python 3",
   "language": "python",
   "name": "python3"
  },
  "language_info": {
   "codemirror_mode": {
    "name": "ipython",
    "version": 3
   },
   "file_extension": ".py",
   "mimetype": "text/x-python",
   "name": "python",
   "nbconvert_exporter": "python",
   "pygments_lexer": "ipython3",
   "version": "3.5.2"
  },
  "toc": {
   "nav_menu": {},
   "number_sections": true,
   "sideBar": true,
   "skip_h1_title": false,
   "title_cell": "Table of Contents",
   "title_sidebar": "Contents",
   "toc_cell": false,
   "toc_position": {},
   "toc_section_display": true,
   "toc_window_display": false
  }
 },
 "nbformat": 4,
 "nbformat_minor": 2
}
