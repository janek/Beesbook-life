{
 "cells": [
  {
   "cell_type": "code",
   "execution_count": 10,
   "metadata": {},
   "outputs": [],
   "source": [
    "from file_helpers import cache_detections_from_database, delete_detection_caches_for_date\n",
    "from bee_helpers import create_presence_cache_filename, detections_to_presence, get_all_bee_ids\n",
    "from datetime import timedelta, datetime\n",
    "from pathlib import Path"
   ]
  },
  {
   "cell_type": "code",
   "execution_count": 11,
   "metadata": {},
   "outputs": [],
   "source": [
    "datetime_start = datetime(2016, 9, 25)\n",
    "num_days_to_process = 30"
   ]
  },
  {
   "cell_type": "code",
   "execution_count": 12,
   "metadata": {},
   "outputs": [],
   "source": [
    "observ_period = timedelta(hours=1)\n",
    "num_observ_periods = 24 #hours in day\n",
    "detection_confidence_requirement = 0.99 #note: 0.99 is pretty high\n",
    "num_intervals_per_hour = 60\n",
    "\n",
    "location_prefix = '/mnt/storage/janek/caches/Detections/'"
   ]
  },
  {
   "cell_type": "code",
   "execution_count": 13,
   "metadata": {},
   "outputs": [],
   "source": [
    "# Choose a subset of bees to analyze (e.g. all of them)\n",
    "(bee_ids_as_ferwar_format, bee_ids_as_beesbookid_format) = get_all_bee_ids()"
   ]
  },
  {
   "cell_type": "code",
   "execution_count": null,
   "metadata": {},
   "outputs": [
    {
     "name": "stderr",
     "output_type": "stream",
     "text": [
      " 21%|██        | 5/24 [00:00<00:00, 41.24it/s]"
     ]
    },
    {
     "name": "stdout",
     "output_type": "stream",
     "text": [
      "File PRESENCE-2016-09-25_00_num_hours_24_int_size_60.csv already exists, dropping\n",
      "Beginning at 2016-09-26 00:00:00\n",
      "Getting hour #0, beginning at 2016-09-26_00:00:00\n",
      "Getting the data took: 0:00:00\n",
      "Saving the csv took: 0:00:00\n",
      "Getting hour #1, beginning at 2016-09-26_01:00:00\n",
      "Getting the data took: 0:00:00\n",
      "Saving the csv took: 0:00:00\n",
      "Getting hour #2, beginning at 2016-09-26_02:00:00\n",
      "Getting the data took: 0:00:00\n",
      "Saving the csv took: 0:00:00\n",
      "Getting hour #3, beginning at 2016-09-26_03:00:00\n",
      "Getting the data took: 0:00:00\n",
      "Saving the csv took: 0:00:00\n",
      "Getting hour #4, beginning at 2016-09-26_04:00:00\n",
      "Getting the data took: 0:00:00\n",
      "Saving the csv took: 0:00:00\n",
      "Getting hour #5, beginning at 2016-09-26_05:00:00\n",
      "Getting the data took: 0:00:00\n",
      "Saving the csv took: 0:00:00\n",
      "Getting hour #6, beginning at 2016-09-26_06:00:00\n",
      "Getting the data took: 0:00:00\n",
      "Saving the csv took: 0:00:00\n"
     ]
    },
    {
     "name": "stderr",
     "output_type": "stream",
     "text": [
      " 54%|█████▍    | 13/24 [00:00<00:00, 38.29it/s]"
     ]
    },
    {
     "name": "stdout",
     "output_type": "stream",
     "text": [
      "Getting hour #7, beginning at 2016-09-26_07:00:00\n",
      "Getting the data took: 0:00:00\n",
      "Saving the csv took: 0:00:00\n",
      "Getting hour #8, beginning at 2016-09-26_08:00:00\n",
      "Getting the data took: 0:00:00\n",
      "Saving the csv took: 0:00:00\n",
      "Getting hour #9, beginning at 2016-09-26_09:00:00\n",
      "Getting the data took: 0:00:00\n",
      "Saving the csv took: 0:00:00\n",
      "Getting hour #10, beginning at 2016-09-26_10:00:00\n",
      "Getting the data took: 0:00:00\n",
      "Saving the csv took: 0:00:00\n",
      "Getting hour #11, beginning at 2016-09-26_11:00:00\n",
      "Getting the data took: 0:00:00\n",
      "Saving the csv took: 0:00:00\n",
      "Getting hour #12, beginning at 2016-09-26_12:00:00\n",
      "Getting the data took: 0:00:00\n",
      "Saving the csv took: 0:00:00\n",
      "Getting hour #13, beginning at 2016-09-26_13:00:00\n",
      "Getting the data took: 0:00:00\n",
      "Saving the csv took: 0:00:00\n",
      "Getting hour #14, beginning at 2016-09-26_14:00:00\n",
      "Getting the data took: 0:00:00\n",
      "Saving the csv took: 0:00:00\n",
      "Getting hour #15, beginning at 2016-09-26_15:00:00\n",
      "Getting the data took: 0:00:00\n"
     ]
    },
    {
     "name": "stderr",
     "output_type": "stream",
     "text": [
      "100%|██████████| 24/24 [00:00<00:00, 41.20it/s]\n",
      "  0%|          | 0/23 [00:00<?, ?it/s]"
     ]
    },
    {
     "name": "stdout",
     "output_type": "stream",
     "text": [
      "Saving the csv took: 0:00:00\n",
      "Getting hour #16, beginning at 2016-09-26_16:00:00\n",
      "Getting the data took: 0:00:00\n",
      "Saving the csv took: 0:00:00\n",
      "Getting hour #17, beginning at 2016-09-26_17:00:00\n",
      "Getting the data took: 0:00:00\n",
      "Saving the csv took: 0:00:00\n",
      "Getting hour #18, beginning at 2016-09-26_18:00:00\n",
      "Getting the data took: 0:00:00\n",
      "Saving the csv took: 0:00:00\n",
      "Getting hour #19, beginning at 2016-09-26_19:00:00\n",
      "Getting the data took: 0:00:00\n",
      "Saving the csv took: 0:00:00\n",
      "Getting hour #20, beginning at 2016-09-26_20:00:00\n",
      "Getting the data took: 0:00:00\n",
      "Saving the csv took: 0:00:00\n",
      "Getting hour #21, beginning at 2016-09-26_21:00:00\n",
      "Getting the data took: 0:00:00\n",
      "Saving the csv took: 0:00:00\n",
      "Getting hour #22, beginning at 2016-09-26_22:00:00\n",
      "Getting the data took: 0:00:00\n",
      "Saving the csv took: 0:00:00\n",
      "Getting hour #23, beginning at 2016-09-26_23:00:00\n",
      "Getting the data took: 0:00:00\n",
      "Saving the csv took: 0:00:00\n",
      "Processing /mnt/storage/janek/caches/Detections/DETECTIONS-2016-09-26_00:00:00.csv before the loop\n",
      "Processing DETECTIONS-2016-09-26_01:00:00.csv\n",
      "Num. rows after appending: 0\n",
      "Processing DETECTIONS-2016-09-26_02:00:00.csv\n",
      "Num. rows after appending: 0\n",
      "Processing DETECTIONS-2016-09-26_03:00:00.csv\n",
      "Num. rows after appending: 0\n",
      "Processing DETECTIONS-2016-09-26_04:00:00.csv\n",
      "Num. rows after appending: 0\n",
      "Processing DETECTIONS-2016-09-26_05:00:00.csv\n",
      "Num. rows after appending: 0\n",
      "Processing DETECTIONS-2016-09-26_06:00:00.csv\n",
      "Num. rows after appending: 0\n",
      "Processing DETECTIONS-2016-09-26_07:00:00.csv\n"
     ]
    },
    {
     "name": "stderr",
     "output_type": "stream",
     "text": [
      "100%|██████████| 23/23 [00:00<00:00, 293.19it/s]\n",
      "  0%|          | 1/1440 [00:00<05:13,  4.59it/s]"
     ]
    },
    {
     "name": "stdout",
     "output_type": "stream",
     "text": [
      "Num. rows after appending: 0\n",
      "Processing DETECTIONS-2016-09-26_08:00:00.csv\n",
      "Num. rows after appending: 0\n",
      "Processing DETECTIONS-2016-09-26_09:00:00.csv\n",
      "Num. rows after appending: 0\n",
      "Processing DETECTIONS-2016-09-26_10:00:00.csv\n",
      "Num. rows after appending: 0\n",
      "Processing DETECTIONS-2016-09-26_11:00:00.csv\n",
      "Num. rows after appending: 0\n",
      "Processing DETECTIONS-2016-09-26_12:00:00.csv\n",
      "Num. rows after appending: 0\n",
      "Processing DETECTIONS-2016-09-26_13:00:00.csv\n",
      "Num. rows after appending: 0\n",
      "Processing DETECTIONS-2016-09-26_14:00:00.csv\n",
      "Num. rows after appending: 0\n",
      "Processing DETECTIONS-2016-09-26_15:00:00.csv\n",
      "Num. rows after appending: 0\n",
      "Processing DETECTIONS-2016-09-26_16:00:00.csv\n",
      "Num. rows after appending: 0\n",
      "Processing DETECTIONS-2016-09-26_17:00:00.csv\n",
      "Num. rows after appending: 0\n",
      "Processing DETECTIONS-2016-09-26_18:00:00.csv\n",
      "Num. rows after appending: 0\n",
      "Processing DETECTIONS-2016-09-26_19:00:00.csv\n",
      "Num. rows after appending: 0\n",
      "Processing DETECTIONS-2016-09-26_20:00:00.csv\n",
      "Num. rows after appending: 0\n",
      "Processing DETECTIONS-2016-09-26_21:00:00.csv\n",
      "Num. rows after appending: 0\n",
      "Processing DETECTIONS-2016-09-26_22:00:00.csv\n",
      "Num. rows after appending: 0\n",
      "Processing DETECTIONS-2016-09-26_23:00:00.csv\n",
      "Num. rows after appending: 0\n"
     ]
    },
    {
     "name": "stderr",
     "output_type": "stream",
     "text": [
      "100%|██████████| 1440/1440 [05:17<00:00,  4.53it/s]\n"
     ]
    },
    {
     "name": "stdout",
     "output_type": "stream",
     "text": [
      "SAVED /mnt/storage/janek/caches/Presence/PRESENCE-2016-09-26_00_num_hours_24_int_size_60.csv\n"
     ]
    },
    {
     "name": "stderr",
     "output_type": "stream",
     "text": [
      " 21%|██        | 5/24 [00:00<00:00, 41.25it/s]"
     ]
    },
    {
     "name": "stdout",
     "output_type": "stream",
     "text": [
      "Removing DETECTIONS-2016-09-26_09:00:00.csv\n",
      "Removing DETECTIONS-2016-09-26_16:00:00.csv\n",
      "Removing DETECTIONS-2016-09-26_18:00:00.csv\n",
      "Removing DETECTIONS-2016-09-26_20:00:00.csv\n",
      "Removing DETECTIONS-2016-09-26_21:00:00.csv\n",
      "Removing DETECTIONS-2016-09-26_01:00:00.csv\n",
      "Removing DETECTIONS-2016-09-26_11:00:00.csv\n",
      "Removing DETECTIONS-2016-09-26_15:00:00.csv\n",
      "Removing DETECTIONS-2016-09-26_03:00:00.csv\n",
      "Removing DETECTIONS-2016-09-26_00:00:00.csv\n",
      "Removing DETECTIONS-2016-09-26_17:00:00.csv\n",
      "Removing DETECTIONS-2016-09-26_23:00:00.csv\n",
      "Removing DETECTIONS-2016-09-26_08:00:00.csv\n",
      "Removing DETECTIONS-2016-09-26_06:00:00.csv\n",
      "Removing DETECTIONS-2016-09-26_19:00:00.csv\n",
      "Removing DETECTIONS-2016-09-26_02:00:00.csv\n",
      "Removing DETECTIONS-2016-09-26_22:00:00.csv\n",
      "Removing DETECTIONS-2016-09-26_12:00:00.csv\n",
      "Removing DETECTIONS-2016-09-26_05:00:00.csv\n",
      "Removing DETECTIONS-2016-09-26_13:00:00.csv\n",
      "Removing DETECTIONS-2016-09-26_07:00:00.csv\n",
      "Removing DETECTIONS-2016-09-26_14:00:00.csv\n",
      "Removing DETECTIONS-2016-09-26_04:00:00.csv\n",
      "Removing DETECTIONS-2016-09-26_10:00:00.csv\n",
      "Beginning at 2016-09-27 00:00:00\n",
      "Getting hour #0, beginning at 2016-09-27_00:00:00\n",
      "Getting the data took: 0:00:00\n",
      "Saving the csv took: 0:00:00\n",
      "Getting hour #1, beginning at 2016-09-27_01:00:00\n",
      "Getting the data took: 0:00:00\n",
      "Saving the csv took: 0:00:00\n",
      "Getting hour #2, beginning at 2016-09-27_02:00:00\n",
      "Getting the data took: 0:00:00\n",
      "Saving the csv took: 0:00:00\n",
      "Getting hour #3, beginning at 2016-09-27_03:00:00\n",
      "Getting the data took: 0:00:00\n",
      "Saving the csv took: 0:00:00\n",
      "Getting hour #4, beginning at 2016-09-27_04:00:00\n",
      "Getting the data took: 0:00:00\n",
      "Saving the csv took: 0:00:00\n",
      "Getting hour #5, beginning at 2016-09-27_05:00:00\n",
      "Getting the data took: 0:00:00\n",
      "Saving the csv took: 0:00:00\n",
      "Getting hour #6, beginning at 2016-09-27_06:00:00\n"
     ]
    },
    {
     "name": "stderr",
     "output_type": "stream",
     "text": [
      " 62%|██████▎   | 15/24 [00:00<00:00, 43.20it/s]"
     ]
    },
    {
     "name": "stdout",
     "output_type": "stream",
     "text": [
      "Getting the data took: 0:00:00\n",
      "Saving the csv took: 0:00:00\n",
      "Getting hour #7, beginning at 2016-09-27_07:00:00\n",
      "Getting the data took: 0:00:00\n",
      "Saving the csv took: 0:00:00\n",
      "Getting hour #8, beginning at 2016-09-27_08:00:00\n",
      "Getting the data took: 0:00:00\n",
      "Saving the csv took: 0:00:00\n",
      "Getting hour #9, beginning at 2016-09-27_09:00:00\n",
      "Getting the data took: 0:00:00\n",
      "Saving the csv took: 0:00:00\n",
      "Getting hour #10, beginning at 2016-09-27_10:00:00\n",
      "Getting the data took: 0:00:00\n",
      "Saving the csv took: 0:00:00\n",
      "Getting hour #11, beginning at 2016-09-27_11:00:00\n",
      "Getting the data took: 0:00:00\n",
      "Saving the csv took: 0:00:00\n",
      "Getting hour #12, beginning at 2016-09-27_12:00:00\n",
      "Getting the data took: 0:00:00\n",
      "Saving the csv took: 0:00:00\n",
      "Getting hour #13, beginning at 2016-09-27_13:00:00\n",
      "Getting the data took: 0:00:00\n",
      "Saving the csv took: 0:00:00\n",
      "Getting hour #14, beginning at 2016-09-27_14:00:00\n",
      "Getting the data took: 0:00:00\n",
      "Saving the csv took: 0:00:00\n",
      "Getting hour #15, beginning at 2016-09-27_15:00:00\n"
     ]
    },
    {
     "name": "stderr",
     "output_type": "stream",
     "text": [
      "100%|██████████| 24/24 [00:00<00:00, 42.56it/s]"
     ]
    },
    {
     "name": "stdout",
     "output_type": "stream",
     "text": [
      "Getting the data took: 0:00:00\n",
      "Saving the csv took: 0:00:00\n",
      "Getting hour #16, beginning at 2016-09-27_16:00:00\n",
      "Getting the data took: 0:00:00\n",
      "Saving the csv took: 0:00:00\n",
      "Getting hour #17, beginning at 2016-09-27_17:00:00\n",
      "Getting the data took: 0:00:00\n",
      "Saving the csv took: 0:00:00\n",
      "Getting hour #18, beginning at 2016-09-27_18:00:00\n",
      "Getting the data took: 0:00:00\n",
      "Saving the csv took: 0:00:00\n",
      "Getting hour #19, beginning at 2016-09-27_19:00:00\n",
      "Getting the data took: 0:00:00\n",
      "Saving the csv took: 0:00:00\n",
      "Getting hour #20, beginning at 2016-09-27_20:00:00\n",
      "Getting the data took: 0:00:00\n",
      "Saving the csv took: 0:00:00\n",
      "Getting hour #21, beginning at 2016-09-27_21:00:00\n",
      "Getting the data took: 0:00:00\n",
      "Saving the csv took: 0:00:00\n",
      "Getting hour #22, beginning at 2016-09-27_22:00:00\n",
      "Getting the data took: 0:00:00\n",
      "Saving the csv took: 0:00:00\n",
      "Getting hour #23, beginning at 2016-09-27_23:00:00\n",
      "Getting the data took: 0:00:00\n",
      "Saving the csv took: 0:00:00\n",
      "Processing /mnt/storage/janek/caches/Detections/DETECTIONS-2016-09-27_00:00:00.csv before the loop\n"
     ]
    },
    {
     "name": "stderr",
     "output_type": "stream",
     "text": [
      "\n",
      "100%|██████████| 23/23 [00:00<00:00, 296.07it/s]\n",
      "  0%|          | 1/1440 [00:00<05:10,  4.64it/s]"
     ]
    },
    {
     "name": "stdout",
     "output_type": "stream",
     "text": [
      "Processing DETECTIONS-2016-09-27_01:00:00.csv\n",
      "Num. rows after appending: 0\n",
      "Processing DETECTIONS-2016-09-27_02:00:00.csv\n",
      "Num. rows after appending: 0\n",
      "Processing DETECTIONS-2016-09-27_03:00:00.csv\n",
      "Num. rows after appending: 0\n",
      "Processing DETECTIONS-2016-09-27_04:00:00.csv\n",
      "Num. rows after appending: 0\n",
      "Processing DETECTIONS-2016-09-27_05:00:00.csv\n",
      "Num. rows after appending: 0\n",
      "Processing DETECTIONS-2016-09-27_06:00:00.csv\n",
      "Num. rows after appending: 0\n",
      "Processing DETECTIONS-2016-09-27_07:00:00.csv\n",
      "Num. rows after appending: 0\n",
      "Processing DETECTIONS-2016-09-27_08:00:00.csv\n",
      "Num. rows after appending: 0\n",
      "Processing DETECTIONS-2016-09-27_09:00:00.csv\n",
      "Num. rows after appending: 0\n",
      "Processing DETECTIONS-2016-09-27_10:00:00.csv\n",
      "Num. rows after appending: 0\n",
      "Processing DETECTIONS-2016-09-27_11:00:00.csv\n",
      "Num. rows after appending: 0\n",
      "Processing DETECTIONS-2016-09-27_12:00:00.csv\n",
      "Num. rows after appending: 0\n",
      "Processing DETECTIONS-2016-09-27_13:00:00.csv\n",
      "Num. rows after appending: 0\n",
      "Processing DETECTIONS-2016-09-27_14:00:00.csv\n",
      "Num. rows after appending: 0\n",
      "Processing DETECTIONS-2016-09-27_15:00:00.csv\n",
      "Num. rows after appending: 0\n",
      "Processing DETECTIONS-2016-09-27_16:00:00.csv\n",
      "Num. rows after appending: 0\n",
      "Processing DETECTIONS-2016-09-27_17:00:00.csv\n",
      "Num. rows after appending: 0\n",
      "Processing DETECTIONS-2016-09-27_18:00:00.csv\n",
      "Num. rows after appending: 0\n",
      "Processing DETECTIONS-2016-09-27_19:00:00.csv\n",
      "Num. rows after appending: 0\n",
      "Processing DETECTIONS-2016-09-27_20:00:00.csv\n",
      "Num. rows after appending: 0\n",
      "Processing DETECTIONS-2016-09-27_21:00:00.csv\n",
      "Num. rows after appending: 0\n",
      "Processing DETECTIONS-2016-09-27_22:00:00.csv\n",
      "Num. rows after appending: 0\n",
      "Processing DETECTIONS-2016-09-27_23:00:00.csv\n",
      "Num. rows after appending: 0\n"
     ]
    },
    {
     "name": "stderr",
     "output_type": "stream",
     "text": [
      " 97%|█████████▋| 1402/1440 [05:08<00:08,  4.54it/s]"
     ]
    }
   ],
   "source": [
    "for i in range(num_days_to_process):\n",
    "    start_day = datetime_start+timedelta(days=i)\n",
    "    \n",
    "    (csv_name, csv_path) = create_presence_cache_filename(num_observ_periods, start_day, num_intervals_per_hour)\n",
    "    file = Path(csv_path)\n",
    "    if file.exists():\n",
    "        print(\"File \"+ csv_name + \" already exists, dropping\")\n",
    "        continue\n",
    "    \n",
    "    cache_detections_from_database(start_day, observ_period, num_observ_periods, detection_confidence_requirement)\n",
    "    detections_to_presence(num_observ_periods, start_day, num_intervals_per_hour, bee_ids_as_ferwar_format)\n",
    "    delete_detection_caches_for_date(start_day.strftime(\"%Y-%m-%d\")) "
   ]
  },
  {
   "cell_type": "code",
   "execution_count": null,
   "metadata": {},
   "outputs": [],
   "source": []
  }
 ],
 "metadata": {
  "kernelspec": {
   "display_name": "Python 3",
   "language": "python",
   "name": "python3"
  },
  "language_info": {
   "codemirror_mode": {
    "name": "ipython",
    "version": 3
   },
   "file_extension": ".py",
   "mimetype": "text/x-python",
   "name": "python",
   "nbconvert_exporter": "python",
   "pygments_lexer": "ipython3",
   "version": "3.5.2"
  }
 },
 "nbformat": 4,
 "nbformat_minor": 2
}
