{
 "cells": [
  {
   "cell_type": "code",
   "execution_count": 1,
   "metadata": {},
   "outputs": [
    {
     "name": "stderr",
     "output_type": "stream",
     "text": [
      "/usr/local/lib/python3.5/dist-packages/psycopg2/__init__.py:144: UserWarning: The psycopg2 wheel package will be renamed from release 2.8; in order to keep installing from binary please use \"pip install psycopg2-binary\" instead. For details see: <http://initd.org/psycopg/docs/install.html#binary-install-from-pypi>.\n",
      "  \"\"\")\n"
     ]
    }
   ],
   "source": [
    "from file_helpers import cache_detections_from_database, delete_detection_caches_for_date\n",
    "from bee_helpers import create_presence_cache_filename, detections_to_presence, get_all_bee_ids\n",
    "from datetime import timedelta, datetime\n",
    "from pathlib import Path"
   ]
  },
  {
   "cell_type": "code",
   "execution_count": 2,
   "metadata": {},
   "outputs": [],
   "source": [
    "experiment_start_day = datetime(2016, 7, 20) # TODO: those are dates of first and last detections\n",
    "experiment_end_day = datetime(2016, 9, 19)   # consider making the period smaller\n",
    "\n",
    "datetime_start = datetime(2016, 7, 15)\n",
    "num_days_to_process = 100"
   ]
  },
  {
   "cell_type": "code",
   "execution_count": 3,
   "metadata": {},
   "outputs": [],
   "source": [
    "observ_period = timedelta(hours=1)\n",
    "num_observ_periods = 24 #hours in day\n",
    "detection_confidence_requirement = 0.99 #note: 0.99 is pretty high\n",
    "num_intervals_per_hour = 60\n",
    "\n",
    "location_prefix = '/mnt/storage/janek/caches/Detections/'"
   ]
  },
  {
   "cell_type": "code",
   "execution_count": 4,
   "metadata": {},
   "outputs": [],
   "source": [
    "# Choose a subset of bees to analyze (e.g. all of them)\n",
    "(bee_ids_as_ferwar_format, bee_ids_as_beesbookid_format) = get_all_bee_ids()"
   ]
  },
  {
   "cell_type": "code",
   "execution_count": null,
   "metadata": {},
   "outputs": [
    {
     "name": "stderr",
     "output_type": "stream",
     "text": [
      "100%|██████████| 24/24 [00:00<00:00, 1116.16it/s]"
     ]
    },
    {
     "name": "stdout",
     "output_type": "stream",
     "text": [
      "2016-07-15 00:00:00  is before expertiment start day ( 2016-07-20 00:00:00 ), skipping!\n",
      "2016-07-16 00:00:00  is before expertiment start day ( 2016-07-20 00:00:00 ), skipping!\n",
      "2016-07-17 00:00:00  is before expertiment start day ( 2016-07-20 00:00:00 ), skipping!\n",
      "2016-07-18 00:00:00  is before expertiment start day ( 2016-07-20 00:00:00 ), skipping!\n",
      "2016-07-19 00:00:00  is before expertiment start day ( 2016-07-20 00:00:00 ), skipping!\n",
      "Beginning at 2016-07-20 00:00:00\n",
      "File 2016-07-20_00:00:00.csv already exists, dropping\n",
      "File 2016-07-20_01:00:00.csv already exists, dropping\n",
      "File 2016-07-20_02:00:00.csv already exists, dropping\n",
      "File 2016-07-20_03:00:00.csv already exists, dropping\n",
      "File 2016-07-20_04:00:00.csv already exists, dropping\n",
      "File 2016-07-20_05:00:00.csv already exists, dropping\n",
      "File 2016-07-20_06:00:00.csv already exists, dropping\n",
      "File 2016-07-20_07:00:00.csv already exists, dropping\n",
      "File 2016-07-20_08:00:00.csv already exists, dropping\n",
      "File 2016-07-20_09:00:00.csv already exists, dropping\n",
      "File 2016-07-20_10:00:00.csv already exists, dropping\n",
      "File 2016-07-20_11:00:00.csv already exists, dropping\n",
      "File 2016-07-20_12:00:00.csv already exists, dropping\n",
      "File 2016-07-20_13:00:00.csv already exists, dropping\n",
      "File 2016-07-20_14:00:00.csv already exists, dropping\n",
      "File 2016-07-20_15:00:00.csv already exists, dropping\n",
      "File 2016-07-20_16:00:00.csv already exists, dropping\n",
      "File 2016-07-20_17:00:00.csv already exists, dropping\n",
      "File 2016-07-20_18:00:00.csv already exists, dropping\n",
      "File 2016-07-20_19:00:00.csv already exists, dropping\n",
      "File 2016-07-20_20:00:00.csv already exists, dropping\n",
      "File 2016-07-20_21:00:00.csv already exists, dropping\n",
      "File 2016-07-20_22:00:00.csv already exists, dropping\n",
      "File 2016-07-20_23:00:00.csv already exists, dropping\n",
      "Processing /mnt/storage/janek/caches/Detections/DETECTIONS-2016-07-20_00:00:00.csv before the loop\n"
     ]
    },
    {
     "name": "stderr",
     "output_type": "stream",
     "text": [
      "\n",
      "  0%|          | 0/23 [00:00<?, ?it/s]"
     ]
    },
    {
     "name": "stdout",
     "output_type": "stream",
     "text": [
      "Processing DETECTIONS-2016-07-20_01:00:00.csv\n"
     ]
    },
    {
     "name": "stderr",
     "output_type": "stream",
     "text": [
      "  4%|▍         | 1/23 [00:06<02:23,  6.54s/it]"
     ]
    },
    {
     "name": "stdout",
     "output_type": "stream",
     "text": [
      "Num. rows after appending: 7639279\n",
      "Processing DETECTIONS-2016-07-20_02:00:00.csv\n"
     ]
    },
    {
     "name": "stderr",
     "output_type": "stream",
     "text": [
      "  9%|▊         | 2/23 [00:13<02:18,  6.61s/it]"
     ]
    },
    {
     "name": "stdout",
     "output_type": "stream",
     "text": [
      "Num. rows after appending: 11540901\n",
      "Processing DETECTIONS-2016-07-20_03:00:00.csv\n"
     ]
    },
    {
     "name": "stderr",
     "output_type": "stream",
     "text": [
      " 13%|█▎        | 3/23 [00:19<02:13,  6.66s/it]"
     ]
    },
    {
     "name": "stdout",
     "output_type": "stream",
     "text": [
      "Num. rows after appending: 15457128\n",
      "Processing DETECTIONS-2016-07-20_04:00:00.csv\n"
     ]
    },
    {
     "name": "stderr",
     "output_type": "stream",
     "text": [
      " 17%|█▋        | 4/23 [00:27<02:10,  6.85s/it]"
     ]
    },
    {
     "name": "stdout",
     "output_type": "stream",
     "text": [
      "Num. rows after appending: 19748071\n",
      "Processing DETECTIONS-2016-07-20_05:00:00.csv\n"
     ]
    },
    {
     "name": "stderr",
     "output_type": "stream",
     "text": [
      " 22%|██▏       | 5/23 [01:12<04:22, 14.56s/it]"
     ]
    },
    {
     "name": "stdout",
     "output_type": "stream",
     "text": [
      "Num. rows after appending: 24080595\n",
      "Processing DETECTIONS-2016-07-20_06:00:00.csv\n"
     ]
    },
    {
     "name": "stderr",
     "output_type": "stream",
     "text": [
      " 26%|██▌       | 6/23 [01:59<05:39, 19.98s/it]"
     ]
    },
    {
     "name": "stdout",
     "output_type": "stream",
     "text": [
      "Num. rows after appending: 28544054\n",
      "Processing DETECTIONS-2016-07-20_07:00:00.csv\n"
     ]
    },
    {
     "name": "stderr",
     "output_type": "stream",
     "text": [
      " 30%|███       | 7/23 [02:48<06:24, 24.01s/it]"
     ]
    },
    {
     "name": "stdout",
     "output_type": "stream",
     "text": [
      "Num. rows after appending: 33083828\n",
      "Processing DETECTIONS-2016-07-20_08:00:00.csv\n"
     ]
    },
    {
     "name": "stderr",
     "output_type": "stream",
     "text": [
      " 35%|███▍      | 8/23 [03:36<06:45, 27.05s/it]"
     ]
    },
    {
     "name": "stdout",
     "output_type": "stream",
     "text": [
      "Num. rows after appending: 37648145\n",
      "Processing DETECTIONS-2016-07-20_09:00:00.csv\n"
     ]
    },
    {
     "name": "stderr",
     "output_type": "stream",
     "text": [
      " 39%|███▉      | 9/23 [04:24<06:50, 29.35s/it]"
     ]
    },
    {
     "name": "stdout",
     "output_type": "stream",
     "text": [
      "Num. rows after appending: 42193254\n",
      "Processing DETECTIONS-2016-07-20_10:00:00.csv\n"
     ]
    },
    {
     "name": "stderr",
     "output_type": "stream",
     "text": [
      " 43%|████▎     | 10/23 [05:04<06:36, 30.47s/it]"
     ]
    },
    {
     "name": "stdout",
     "output_type": "stream",
     "text": [
      "Num. rows after appending: 45935097\n",
      "Processing DETECTIONS-2016-07-20_11:00:00.csv\n"
     ]
    },
    {
     "name": "stderr",
     "output_type": "stream",
     "text": [
      " 48%|████▊     | 11/23 [05:57<06:29, 32.49s/it]"
     ]
    },
    {
     "name": "stdout",
     "output_type": "stream",
     "text": [
      "Num. rows after appending: 50940660\n",
      "Processing DETECTIONS-2016-07-20_12:00:00.csv\n"
     ]
    },
    {
     "name": "stderr",
     "output_type": "stream",
     "text": [
      " 52%|█████▏    | 12/23 [06:46<06:12, 33.86s/it]"
     ]
    },
    {
     "name": "stdout",
     "output_type": "stream",
     "text": [
      "Num. rows after appending: 55742085\n",
      "Processing DETECTIONS-2016-07-20_13:00:00.csv\n"
     ]
    },
    {
     "name": "stderr",
     "output_type": "stream",
     "text": [
      " 57%|█████▋    | 13/23 [07:34<05:49, 34.96s/it]"
     ]
    },
    {
     "name": "stdout",
     "output_type": "stream",
     "text": [
      "Num. rows after appending: 60468214\n",
      "Processing DETECTIONS-2016-07-20_14:00:00.csv\n"
     ]
    },
    {
     "name": "stderr",
     "output_type": "stream",
     "text": [
      " 61%|██████    | 14/23 [08:12<05:16, 35.20s/it]"
     ]
    },
    {
     "name": "stdout",
     "output_type": "stream",
     "text": [
      "Num. rows after appending: 64233747\n",
      "Processing DETECTIONS-2016-07-20_15:00:00.csv\n"
     ]
    },
    {
     "name": "stderr",
     "output_type": "stream",
     "text": [
      " 65%|██████▌   | 15/23 [08:56<04:46, 35.75s/it]"
     ]
    },
    {
     "name": "stdout",
     "output_type": "stream",
     "text": [
      "Num. rows after appending: 68473178\n",
      "Processing DETECTIONS-2016-07-20_16:00:00.csv\n"
     ]
    },
    {
     "name": "stderr",
     "output_type": "stream",
     "text": [
      " 70%|██████▉   | 16/23 [09:42<04:15, 36.43s/it]"
     ]
    },
    {
     "name": "stdout",
     "output_type": "stream",
     "text": [
      "Num. rows after appending: 72871035\n",
      "Processing DETECTIONS-2016-07-20_17:00:00.csv\n"
     ]
    },
    {
     "name": "stderr",
     "output_type": "stream",
     "text": [
      " 74%|███████▍  | 17/23 [10:29<03:42, 37.01s/it]"
     ]
    },
    {
     "name": "stdout",
     "output_type": "stream",
     "text": [
      "Num. rows after appending: 77226458\n",
      "Processing DETECTIONS-2016-07-20_18:00:00.csv\n"
     ]
    },
    {
     "name": "stderr",
     "output_type": "stream",
     "text": [
      " 78%|███████▊  | 18/23 [11:12<03:06, 37.38s/it]"
     ]
    },
    {
     "name": "stdout",
     "output_type": "stream",
     "text": [
      "Num. rows after appending: 81261160\n",
      "Processing DETECTIONS-2016-07-20_19:00:00.csv\n"
     ]
    },
    {
     "name": "stderr",
     "output_type": "stream",
     "text": [
      " 83%|████████▎ | 19/23 [11:55<02:30, 37.67s/it]"
     ]
    },
    {
     "name": "stdout",
     "output_type": "stream",
     "text": [
      "Num. rows after appending: 85252098\n",
      "Processing DETECTIONS-2016-07-20_20:00:00.csv\n"
     ]
    }
   ],
   "source": [
    "force_refresh = True\n",
    "\n",
    "for i in range(num_days_to_process):\n",
    "    start_day = datetime_start+timedelta(days=i)\n",
    "   \n",
    "    if (start_day < experiment_start_day):\n",
    "        print(start_day, \" is before expertiment start day (\", experiment_start_day, \"), skipping!\")\n",
    "        continue\n",
    "\n",
    "    if (start_day > experiment_end_day):\n",
    "        print(start_day, \" is after expertiment end day (\", experiment_end_day, \"), quitting!\")\n",
    "        break\n",
    "\n",
    "    \n",
    "    (csv_name, csv_path) = create_presence_cache_filename(num_observ_periods, start_day, num_intervals_per_hour)\n",
    "    file = Path(csv_path)\n",
    "    \n",
    "    if (file.exists() and force_refresh==False):\n",
    "        print(\"File \"+ csv_name + \" already exists, dropping\")\n",
    "        continue\n",
    "    \n",
    "    \n",
    "    \n",
    "    cache_detections_from_database(start_day, observ_period, num_observ_periods, detection_confidence_requirement)\n",
    "    detections_to_presence(num_observ_periods, start_day, num_intervals_per_hour, bee_ids_as_ferwar_format)\n",
    "    delete_detection_caches_for_date(start_day.strftime(\"%Y-%m-%d\")) "
   ]
  },
  {
   "cell_type": "code",
   "execution_count": null,
   "metadata": {},
   "outputs": [],
   "source": []
  }
 ],
 "metadata": {
  "kernelspec": {
   "display_name": "Python 3",
   "language": "python",
   "name": "python3"
  },
  "language_info": {
   "codemirror_mode": {
    "name": "ipython",
    "version": 3
   },
   "file_extension": ".py",
   "mimetype": "text/x-python",
   "name": "python",
   "nbconvert_exporter": "python",
   "pygments_lexer": "ipython3",
   "version": "3.5.2"
  }
 },
 "nbformat": 4,
 "nbformat_minor": 2
}
