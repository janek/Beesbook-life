{
 "cells": [
  {
   "cell_type": "code",
   "execution_count": 1,
   "metadata": {},
   "outputs": [
    {
     "name": "stderr",
     "output_type": "stream",
     "text": [
      "/usr/local/lib/python3.5/dist-packages/psycopg2/__init__.py:144: UserWarning: The psycopg2 wheel package will be renamed from release 2.8; in order to keep installing from binary please use \"pip install psycopg2-binary\" instead. For details see: <http://initd.org/psycopg/docs/install.html#binary-install-from-pypi>.\n",
      "  \"\"\")\n"
     ]
    }
   ],
   "source": [
    "%matplotlib inline\n",
    "\n",
    "import matplotlib.pyplot as plt\n",
    "import matplotlib\n",
    "import seaborn as sns\n",
    "import numpy as np\n",
    "import pandas as pd\n",
    "import psycopg2\n",
    "import psycopg2.extras\n",
    "from datetime import timedelta, datetime\n",
    "import time\n",
    "\n",
    "import bb_utils\n",
    "import bb_utils.meta\n",
    "import bb_utils.ids\n",
    "import bb_backend\n",
    "from bb_backend.api import FramePlotter, VideoPlotter\n",
    "from bb_backend.api import get_plot_coordinates, transform_axis_coordinates, get_image_origin\n",
    "\n",
    "bb_backend.api.server_adress = 'localhost:8000'\n",
    "connect_str = \"\"\"dbname='beesbook' user='reader' host='tonic.imp.fu-berlin.de' \n",
    "                 password='' application_name='mehmed'\"\"\""
   ]
  },
  {
   "cell_type": "code",
   "execution_count": 2,
   "metadata": {},
   "outputs": [
    {
     "name": "stdout",
     "output_type": "stream",
     "text": [
      "Beginning at 2016-08-23 12:00:00\n"
     ]
    }
   ],
   "source": [
    "observ_period = timedelta(hours=1)\n",
    "datetime_start = datetime(2016, 8, 23, 12)\n",
    "\n",
    "#(First detections are on 20.07.2016, last are 19.09.2016 (3 months duration))\n",
    "print('Beginning at '+datetime_start.strftime(\"%Y-%m-%d %H:%M:%S\"))"
   ]
  },
  {
   "cell_type": "code",
   "execution_count": null,
   "metadata": {},
   "outputs": [
    {
     "name": "stdout",
     "output_type": "stream",
     "text": [
      "Getting hour #0, beginning at 2016-08-23_12:00:00\n",
      "Getting the data took:\n",
      "0:00:46\n",
      "Saving the csv took:\n",
      "0:00:47\n",
      "Getting hour #1, beginning at 2016-08-23_13:00:00\n",
      "Getting the data took:\n",
      "0:00:50\n",
      "Saving the csv took:\n",
      "0:00:55\n",
      "Getting hour #2, beginning at 2016-08-23_14:00:00\n",
      "Getting the data took:\n",
      "0:00:53\n",
      "Saving the csv took:\n",
      "0:00:57\n",
      "Getting hour #3, beginning at 2016-08-23_15:00:00\n",
      "Getting the data took:\n",
      "0:00:52\n",
      "Saving the csv took:\n",
      "0:00:52\n",
      "Getting hour #4, beginning at 2016-08-23_16:00:00\n",
      "Getting the data took:\n",
      "0:00:55\n",
      "Saving the csv took:\n",
      "0:00:55\n",
      "Getting hour #5, beginning at 2016-08-23_17:00:00\n",
      "Getting the data took:\n",
      "0:00:54\n",
      "Saving the csv took:\n",
      "0:00:57\n",
      "Getting hour #6, beginning at 2016-08-23_18:00:00\n",
      "Getting the data took:\n",
      "0:00:54\n"
     ]
    }
   ],
   "source": [
    "for i in range(0,12):\n",
    "    datetime_end = datetime_start + observ_period\n",
    "    datetime_str = datetime_start.strftime(\"%Y-%m-%d_%H:%M:%S\")\n",
    "    \n",
    "    print('Getting hour #'+str(i)+', beginning at '+datetime_str)\n",
    "    start = time.time()\n",
    "    with psycopg2.connect(connect_str) as conn:\n",
    "        query = \"\"\"SELECT * FROM bb_detections\n",
    "               WHERE timestamp >= %s AND\n",
    "                     timestamp < %s AND\n",
    "                     bee_id_confidence >= %s\n",
    "               ;\"\"\"\n",
    "    df = pd.read_sql_query(\n",
    "        query, conn, \n",
    "        params=(datetime_start, datetime_end, 0.99), #note: high confidence requirement\n",
    "        coerce_float=False)\n",
    "\n",
    "    end = time.time()\n",
    "    secs_elapsed = end - start\n",
    "\n",
    "    m, s = divmod(secs_elapsed, 60)\n",
    "    h, m = divmod(m, 60)\n",
    "    print('Getting the data took:')\n",
    "    print('%d:%02d:%02d'% (h, m, s))\n",
    "    \n",
    "    start = time.time()\n",
    "    df.to_csv('/mnt/storage/janek/'+datetime_str+'.csv')\n",
    "    datetime_start = datetime_end\n",
    "    \n",
    "    end = time.time()\n",
    "    secs_elapsed = end - start\n",
    "\n",
    "    m, s = divmod(secs_elapsed, 60)\n",
    "    h, m = divmod(m, 60)\n",
    "    print('Saving the csv took:')\n",
    "    print('%d:%02d:%02d'% (h, m, s))"
   ]
  },
  {
   "cell_type": "code",
   "execution_count": null,
   "metadata": {},
   "outputs": [],
   "source": []
  }
 ],
 "metadata": {
  "kernelspec": {
   "display_name": "Python 3",
   "language": "python",
   "name": "python3"
  },
  "language_info": {
   "codemirror_mode": {
    "name": "ipython",
    "version": 3
   },
   "file_extension": ".py",
   "mimetype": "text/x-python",
   "name": "python",
   "nbconvert_exporter": "python",
   "pygments_lexer": "ipython3",
   "version": "3.5.2"
  }
 },
 "nbformat": 4,
 "nbformat_minor": 2
}
